{
 "cells": [
  {
   "cell_type": "code",
   "execution_count": null,
   "metadata": {},
   "outputs": [],
   "source": [
    "3 | Editing and Navigating\n",
    "++++++++++++++++++++++++++++++++++++++++++++++++++++++++++++++++++++++++++++++++++\n",
    "Editing\n",
    "+++++++++++++++++++++++++++++++++++++++++++++++++++++++++++++++++++++++++++++++++++++\n",
    "PyCharm has powerful features for code editing. In this section, we will see the most \n",
    "important features, but you can see all of them in the manual.Column Selection and \n",
    "Multiple Carets As with many modern editors, PyCharm has support for column selection\n",
    "and multiple carets.\n",
    "+++++++++++++++++++++++++++++++++++++++++++++++++++++++++++++++++++++++++++++++++++++\n",
    "Because column selection is implemented as a mode,\n",
    "we need to toggle it by going to Edit → Column Selection Mode ( ⌘ -S-, S-A-\n",
    "Insert). If column mode is switched on, any selection made with either the\n",
    "keyboard or mouse will be a rectangular grid"
   ]
  },
  {
   "cell_type": "code",
   "execution_count": null,
   "metadata": {},
   "outputs": [],
   "source": []
  },
  {
   "cell_type": "code",
   "execution_count": null,
   "metadata": {},
   "outputs": [],
   "source": [
    "Once the grid is selected, we can use most commands that work on selected text, such as \n",
    "editing in-place, and search and replace. We can select a column of text quickly without \n",
    "switching to column selection mode by pressing \n",
    "\n",
    "Alt and selecting the text by dragging the mouse pointer.\n",
    "++++++++++++++++++++++++++++++++++++++++++++++++++++++++++++++++++++++++++++++++++++\n",
    "We can also have multiple, independent carets. We create a caret with Shift-Alt-Click on \n",
    "the position of the new caret. Once the new caret has been created, we can perform most \n",
    "editing actions. \n",
    "+++++++++++++++++++++++++++++++++++++++++++++++++++++++++++++++++++++++++++++++++++++\n",
    "==========================================================================\n",
    "Multiple carets are particularly good when we want to perform multiple operations on blocks of codes that\n",
    "have a similar structure. In the following example, I created four carets to\n",
    "edit the class of both div and label . I’d need to search and replace twice to\n",
    "accomplish the same thing."
   ]
  },
  {
   "cell_type": "code",
   "execution_count": null,
   "metadata": {},
   "outputs": [],
   "source": [
    "A quick way to create multiple carets is by searching. We can select multiple\n",
    "occurrences of a word under the caret by going to Edit → Find → Add\n",
    "Selection for Next Occurrence (C-g). In the following example, the caret started on the \n",
    "first note variable (on the second line). I selected the next notes by typing C-g five \n",
    "times."
   ]
  },
  {
   "cell_type": "code",
   "execution_count": null,
   "metadata": {},
   "outputs": [],
   "source": [
    "Select Words\n",
    "++++++++++++++++++++++++++++++++++++++++++++++++++++++++++++++++++++++++++++++++\n",
    "================================================================================\n",
    "A quick way to select (and unselect) expressions by scope is by using Select Word at Caret\n",
    "( ⌥ - ↑ , C-w) and Unselect Word at Caret ( ⌥ - ↓ , C-w). When called once, Select Word at\n",
    "Caret will select the next symbol under the caret. Successive calls will extend the \n",
    "selection scope. The following example shows the result of calling Select Word at Caret \n",
    "successively."
   ]
  },
  {
   "cell_type": "code",
   "execution_count": null,
   "metadata": {},
   "outputs": [],
   "source": [
    "It’s a much faster way to select blocks of code than using the regular Shift and\n",
    "arrow keys.\n",
    "+++++++++++++++++++++++++++++++++++++++++++++++++++++++++++++++++++++++++++++++++++++\n",
    "======================================================================================\n",
    "Line Editing\n",
    "+++++++++++++++++++++++++++++++++++++++++++++++++++++++++++++++++++++++++++++++++++++\n",
    "=========================================================================================\n",
    "We can delete a whole line with ( ⌘ -Delete, C-y), duplicate it with Edit →Duplicate Line \n",
    "( ⌘ -d, C-d), and move it up or down with Code → Move Line Up (S- ⌥ - ↑ , S-A- ↑ ) and \n",
    "Code → Move Line Down (S- ⌥ - ↓ , S-A- ↓ ),respectively. \n",
    "+++++++++++++++++++++++++++++++++++++++++++++++++++++++++++++++++++++++++++++++++++++\n",
    "=========================================================================================\n",
    "More interestingly, we can move an entire code block up or down with Code → Move Statement \n",
    "Up ( ⌘ -S- ↑ , S-C- ↑ ) and Code → Move Statement Down ( ⌘ -S- ↓ , S-C- ↓ ). It works with \n",
    "blocks of code from a single line to entire functions, methods, or classes. \n",
    "+++++++++++++++++++++++++++++++++++++++++++++++++++++++++++++++++++++++++++++++++++++\n",
    "=======================================================================================\n",
    "In the following example, I move the code block starting with for up a line:"
   ]
  },
  {
   "cell_type": "code",
   "execution_count": null,
   "metadata": {},
   "outputs": [],
   "source": [
    "The action Edit → Join Lines (S-C-j) must be one of the biggest time-savers in PyCharm. \n",
    "I cannot tell you how much time I spent joining lines manually before I discovered this \n",
    "action. The beauty is that Join Lines is smart and knows when characters need to be \n",
    "removed or added to make the code valid.\n",
    "+++++++++++++++++++++++++++++++++++++++++++++++++++++++++++++++++++++++++++++++++++++++\n",
    "=======================================================================================\n",
    "Join Lines also works with string literals:\n",
    "+++++++++++++++++++++++++++++++++++++++++++++++++++++++++++++++++++++++++++++++++++++++++\n",
    "========================================================================================\n",
    "Find Code\n",
    "PyCharm has many options that help you find things in the source code.\n",
    "The most basic are, as expected, find (Edit → Find → Find. . . ( ⌘ -f, C-f)) and replace \n",
    "(Edit → Find → Replace. . . ( ⌘ -r, C-r))"
   ]
  },
  {
   "cell_type": "code",
   "execution_count": null,
   "metadata": {},
   "outputs": [],
   "source": [
    "While searching, we can include past searches by clicking on the search icon on the left, \n",
    "activate multiline search, activate case sensitive search, use regular expressions, search \n",
    "for words, or search only in comments or literals.\n",
    "+++++++++++++++++++++++++++++++++++++++++++++++++++++++++++++++++++++++++++++++++++++++\n",
    "=====================================================================================\n",
    "The Replace action has similar options. In addition, we can use Preserve Case to preserve \n",
    "the case of the replacement’s first letter (for example, if we replace NoteSeq with note\n",
    "sequence , the result will be Notesequence ) and replace items in the selected text.\n",
    "++++++++++++++++++++++++++++++++++++++++++++++++++++++++++++++++++++++++++++++++++++++\n",
    "We can also replace all items at once (Replace all) or one by one (Replace) while skipping \n",
    "the items we don’t want to replace (Exclude).\n",
    "\n",
    "=======================================================================================\n",
    "Page No:-30"
   ]
  },
  {
   "cell_type": "code",
   "execution_count": null,
   "metadata": {},
   "outputs": [],
   "source": [
    "We can also see all matches at once by clicking on the Find All ( ⌥ -F, A-F) button:\n",
    "+++++++++++++++++++++++++++++++++++++++++++++++++++++++++++++++++++++++++++++++++++++++\n",
    "=======================================================================================\n",
    "PyCharm keeps the last item searched in case we need it. We can go to the next or previous \n",
    "match with Edit → Find → Find Next / Move to Next Occurrence ( ⌘ -g, F) and Edit → Find → Find Previous / Move to Previous\n",
    "Occurrence ( ⌘ -S-g, S-F), respectively, even if we dismissed the find/replace dialog.\n",
    "++++++++++++++++++++++++++++++++++++++++++++++++++++++++++++++++++++++++++++++++++++++++\n",
    "========================================================================================\n",
    "One of my favorites features is the ability to see where a function or method is being \n",
    "called (Edit → Find → Find Usages). In the section Refactoring, we can see how it can be \n",
    "used for refactoring."
   ]
  },
  {
   "cell_type": "code",
   "execution_count": null,
   "metadata": {},
   "outputs": [],
   "source": [
    "Code Folding and Regions\n",
    "+++++++++++++++++++++++++++++++++++++++++++++++++++++++++++++++++++++++++++++++++\n",
    "In PyCharm, we can fold blocks such as classes, methods, and functions, and we can also \n",
    "create our own foldable regions. PyCharm will fold some items such as file headers and \n",
    "imports by default, and we can change this behavior in\n",
    "++++++++++++++++++++++++++++++++++++++++++++++++++++++++++++++++++++++++++++++++++++++++\n",
    "======================================================================================\n",
    "Settings → Editor → General → Code Folding. I like to have documentation\n",
    "strings folded by default as well:"
   ]
  },
  {
   "cell_type": "code",
   "execution_count": null,
   "metadata": {},
   "outputs": [],
   "source": [
    "Unless you have lived in the woods for the past twenty years and used butterflies to write \n",
    "programs, you know how code folding works—you click on the - (minus) button to fold a code \n",
    "block and click on the + (plus) button to expand it.\n",
    "================================================================================\n",
    "++++++++++++++++++++++++++++++++++++++++++++++++++++++++++++++++++++++++++++++++++++\n",
    "We can also fold or expand a code block by going to Code → Folding →Collapse ( ⌘ -,-, C-,-) and Code → Folding → Expand ( ⌘ -+, C-+), respectively.\n",
    "We can fold or expand all code blocks by going to Code → Folding → Collapse\n",
    "+++++++++++++++++++++++++++++++++++++++++++++++++++++++++++++++++++++++++++++++++++++++++\n",
    "All ( ⌘ -S–, S-C–) and Code → Folding → Expand All ( ⌘ -S-+, S-C-+) and\n",
    "fold and expand the docstrings by going to Code → Folding → Collapse doc\n",
    "comments and Code → Folding → Expand doc comments.\n",
    "Finally, we can fold an arbitrary code selection by going to Code → Folding →\n",
    "Fold Selection / Remove Region ( ⌘ -., C-.)."
   ]
  },
  {
   "cell_type": "code",
   "execution_count": null,
   "metadata": {},
   "outputs": [],
   "source": [
    "After that, PyCharm will create a region for the code selected, and it will be available \n",
    "as a regular code block:\n",
    "++++++++++++++++++++++++++++++++++++++++++++++++++++++++++++++++++++++++++++++++++++++++\n",
    "When some code is folded, we can hover the mouse over the ellipses to see the content of \n",
    "the folded region without needing to unfold it:\n",
    "++++++++++++++++++++++++++++++++++++++++++++++++++++++++++++++++++++++++++++++++++++++++\n",
    "Another way to create custom regions is by surrounding a code block with\n",
    "#region <description> and #endregion :"
   ]
  },
  {
   "cell_type": "code",
   "execution_count": null,
   "metadata": {},
   "outputs": [],
   "source": [
    "This will create a foldable region, and it will show the region description\n",
    "when we fold it:\n",
    "We can navigate to a custom region in a file by going to Navigate → Custom\n",
    "Folding. . . ( ⌘ - ⌥ -., A-C-.) and choosing the region description. Sadly, there’s\n",
    "no way to list all regions in a project.\n",
    "=================================Page No-35==========================================="
   ]
  },
  {
   "cell_type": "code",
   "execution_count": null,
   "metadata": {},
   "outputs": [],
   "source": [
    "TODO Items\n",
    "########################################################################################\n",
    "Some programmers like to add TODO items as comments in the source code. PyCharm has \n",
    "support to quickly find and filter these items. We can define our TODO keywords in \n",
    "Settings → Editor → TODO. In the following\n",
    "++++++++++++++++++++++++++++++++++++++++++++++++++++++++++++++++++++++++++++++++++++++++\n",
    "=========================================================================================\n",
    "example, I defined the keywords todo , fixme , and feature . We can also define\n",
    "filters to show only the items we are interested in.\n",
    "++++++++++++++++++++++++++++++++++++++++++++++++++++++++++++++++++++++++++++++++\n",
    "When we create a new filter, we can define the pattern and the color scheme.In the \n",
    "following example, I created a red color scheme that is different from the default blue \n",
    "one:"
   ]
  },
  {
   "cell_type": "code",
   "execution_count": null,
   "metadata": {},
   "outputs": [],
   "source": [
    "We can see the TODOs by going to View → Tool Windows → TODO ( ⌘ -, A-\n",
    ") and select whether we want to see the TODOs for the whole project, for\n",
    "the current file, or in a particular scope."
   ]
  },
  {
   "cell_type": "code",
   "execution_count": null,
   "metadata": {},
   "outputs": [],
   "source": [
    "We can filter the TODOs by clicking on the filter tool. We can click on the TODO item to \n",
    "jump to that place in the source code.\n",
    "++++++++++++++++++++++++++++++++++++++++++++++++++++++++++++++++++++++++++++++++++++++++++\n",
    "======================================================================================\n",
    "Tidying Up the Code\n",
    "+++++++++++++++++++++++++++++++++++++++++++++++++++++++++++++++++++++++++++++++++++++++++\n",
    "======================================================================================\n",
    "The action Edit → Fill Paragraph will redistribute the line breaks in the current paragraph\n",
    "to fill the maximum line width ( by default in PyCharm, see section Initial \n",
    "Configuration). It works with comments,strings, and text files. In the following example, \n",
    "we can see the comments before and after being filled."
   ]
  },
  {
   "cell_type": "code",
   "execution_count": null,
   "metadata": {},
   "outputs": [],
   "source": [
    "I don’t need to tell you how important indentation is in Python. PyCharm makes it really \n",
    "easy to deal with indentation; we select the code and type Tab to indent and Shift-Tab to \n",
    "unindent one level. Some people like spaces; others like tabs. We can fix badly indented \n",
    "code quickly by going to Edit →Convert Indents → To Spaces or Edit → Convert Indents → \n",
    "To Tabs and we can Code → Auto-Indent Lines ( ⌥ -C-i, A-C-i):"
   ]
  },
  {
   "cell_type": "code",
   "execution_count": null,
   "metadata": {},
   "outputs": [],
   "source": [
    "To be honest, I don’t use Auto-Indent Lines much because PyCharm has something much more \n",
    "powerful. The action Code → Reformat Code. . . ( ⌘ -⌥ -l, A-C-l) will fix the code to \n",
    "match the current style. \n",
    "+++++++++++++++++++++++++++++++++++++++++++++++++++++++++++++++++++++++++++++++++\n",
    "When we call this action, it will open a dialog asking for the scope where the formatting will be\n",
    "done. We can choose the current file, the selected text, all files in the project,\n",
    "and even the code that has changed since the last commit."
   ]
  },
  {
   "cell_type": "code",
   "execution_count": null,
   "metadata": {},
   "outputs": [],
   "source": [
    "If you click the option “Do not show this dialog in the future,” the reformat code dialog \n",
    "will not be shown ever again. This option can be restored in\n",
    "++++++++++++++++++++++++++++++++++++++++++++++++++++++++++++++++++++++++++++++++++++++++\n",
    "=======================================================================================\n",
    "Settings → Editor → General.\n",
    "Sometimes, it is necessary to format the code in a nonstandard way. A classical example is \n",
    "the list of url patterns in Django urls.py . It looks too weird if we use the default \n",
    "indentation. \n",
    "+++++++++++++++++++++++++++++++++++++++++++++++++++++++++++++++++++++++++++++++++++++++\n",
    "=======================================================================================\n",
    "We can tell PyCharm to leave the formatting of a block of code alone. We need to make \n",
    "sure that “Enable formatter markers in comments” is selected in \n",
    "Settings → Editor → Code Style:"
   ]
  },
  {
   "cell_type": "code",
   "execution_count": null,
   "metadata": {},
   "outputs": [],
   "source": [
    "Then we surround the code block with @formatter:off and @formatter:on,inside comments:\n",
    "++++++++++++++++++++++++++++++++++++++++++++++++++++++++++++++++++++++++++++++++++++++\n",
    "======================================================================================\n",
    "Lens Mode\n",
    "+++++++++++++++++++++++++++++++++++++++++++++++++++++++++++++++++++++++++++++++++\n",
    "On the right, with the scrollbar, we have the validation sidebar. It shows warning and \n",
    "error strips:\n",
    "When we hover the mouse over the warning and error strips, PyCharm shows a fragment of the \n",
    "code annotated with the appropriate message. It’s very useful to see problems in the code \n",
    "without having to scroll back and forth.\n",
    "++++++++++++++++++++++++++++++++++++++++++++++++++++++++++++++++++++++++++++++++++++++++\n",
    "======================================================================================\n",
    "Miscellaneous\n",
    "+++++++++++++++++++++++++++++++++++++++++++++++++++++++++++++++++++++++++++++++++++++++\n",
    "========================================================================================\n",
    "As with any modern editor, PyCharm has the usual copy and paste commands. In addition, it \n",
    "keeps a history of copied items that we can access at Edit → Paste from History. . . \n",
    "( ⌘ -S-v, S-C-v). It opens a window where we can choose the item to paste by either typing \n",
    "or double clicking the number on the left. \n",
    "+++++++++++++++++++++++++++++++++++++++++++++++++++++++++++++++++++++++++++++++++++++\n",
    "====================================================================================\n",
    "PyCharm keeps five items in the clipboard, although we can change this in \n",
    "Settings → Editor → General."
   ]
  },
  {
   "cell_type": "code",
   "execution_count": null,
   "metadata": {},
   "outputs": [],
   "source": [
    "Although PyCharm is a project-oriented IDE, we can open files outside the current project \n",
    "by going to File → Open. . .. It will show the tab in a different color, to emphasize that\n",
    "the file is not part of the project. As usual, we can change the color in \n",
    "Settings → Appearance & Behavior → File Colors."
   ]
  },
  {
   "cell_type": "code",
   "execution_count": null,
   "metadata": {},
   "outputs": [],
   "source": [
    "Sometimes, we are focused deeply in fixing a class, method, or function whose name and \n",
    "signature is not visible on the screen. The action View →Context Info (S-C-q, A-q) shows \n",
    "this information painlessly, without making us scroll to the beginning of the declaration:"
   ]
  },
  {
   "cell_type": "code",
   "execution_count": null,
   "metadata": {},
   "outputs": [],
   "source": [
    "Shortcuts\n",
    "++++++++++++++++++++++++++++++++++++++++++++++++++++++++++++++++++++++++++++++++++++++++\n",
    "=========================================================================================\n",
    "PyCharm is no Vim, but you can do a lot by using only the keyboard.We can assign shortcuts \n",
    "to hundreds of actions in Settings → Appearance & Behavior → Keymap. I change the default \n",
    "keymap heavily to suit my preferences, and I recommend you do the same. \n",
    "++++++++++++++++++++++++++++++++++++++++++++++++++++++++++++++++++++++++++++++++++++++\n",
    "=======================================================================================\n",
    "Check the official Mac and the Windows/Linux reference cards for the default shortcuts.\n",
    "To add a new shortcut, we go to Settings → Appearance & Behavior → Keymap\n",
    "and select the desired action. The search box is very handy for narrowing down the actions.\n",
    "In the following example, I will assign the shortcut ⌘ -y to the Paste command.\n",
    "++++++++++++++++++++++++++++++++++++++++++++++++++++++++++++++++++++++++++++++++++++++\n",
    "======================================================================================\n",
    "We can also find an action by searching for a shortcut:\n",
    "+++++++++++++++++++++++++++++++++++++++++++++++++++++++++++++++++++++++++++++++++++++++\n",
    "========================================================================================\n",
    "When we double-click an action, we can add a keyboard or mouse shortcut,or an abbreviation.\n",
    "+++++++++++++++++++++++++++++++++++++++++++++++++++++++++++++++++++++++++++++++++++++\n",
    "Shortcuts\n",
    "44To enter a new shortcut, we type the keystroke on the input widget and PyCharm will \n",
    "recognize it. We can also enter emacs-like shortcuts with two strokes such as C-c C-n.\n",
    "Now, we can run the action Paste with either ⌘ -v or C-y:We can also define mouse \n",
    "shortcuts such as Control-Click. PyCharm has shortcuts that use a middle button, which \n",
    "some laptops lack. On the Mac,we can use something like BetterTouchTool to emulate the \n",
    "middle button,but I prefer to remap the PyCharm keys that use the middle button.\n",
    "++++++++++++++++++++++++++++++++++++++++++++++++++++++++++++++++++++++++++++++++++++++++\n",
    "=========================================================================================\n",
    "In PyCharm , abbreviations are metadata that are attached to a keyboard or mouse shortcut.\n",
    "These metadata can be used in the Search Everywhere feature (see Search Everywhere). It’s\n",
    "a useful feature if you find yourself searching for an action but can’t remember its name \n",
    "or it has a name similar to other actions. For example, we can define an abbreviation named “end\n",
    "caret” for the action “Move Caret to Code Block End.”"
   ]
  },
  {
   "cell_type": "code",
   "execution_count": null,
   "metadata": {},
   "outputs": [],
   "source": [
    "And now we can search for “end caret” on Search Everywhere.PyCharm assigns lots of actions \n",
    "to function keys such as F and F. As you probably know, the top keys on the Mac work as \n",
    "media keys by default and as function keys by pressing the Fn key. We can swap this \n",
    "behavior in System Preferences → Keyboard."
   ]
  },
  {
   "cell_type": "code",
   "execution_count": null,
   "metadata": {},
   "outputs": [],
   "source": [
    "I like to be able to control the sound volume and change the brightness without having to \n",
    "reach for the Fn key, but I also like to use the function keys while programming without \n",
    "reaching for the Fn key (I’m lazy; what can I say?). I use Palua to switch between the \n",
    "media and function keys. You can switch with a global key or you can configure Palua to \n",
    "switch automatically when using a specific application. I use the media keys for all \n",
    "applications (the default) and configure Palua to use the Function keys for Xcode and\n",
    "PyCharm.\n",
    "+++++++++++++++++++++++++++++++++++++++++++++++++++++++++++++++++++++++++++++++++++\n",
    "======================================================================================\n",
    "On Windows and Linux the way the Function keys work will depend on the computer model you \n",
    "have. On Windows, you can use AutoHotKey to remap your keys; the command \n",
    "IfWinActive applies shortcuts to specific applications. On Linux, you can use AutoKey, \n",
    "xbindkeys, or good ol’ XModmap, depending on your needs."
   ]
  },
  {
   "cell_type": "code",
   "execution_count": null,
   "metadata": {},
   "outputs": [],
   "source": [
    "Finding Your Way in the Source Code\n",
    "++++++++++++++++++++++++++++++++++++++++++++++++++++++++++++++++++++++++++++++++++++++\n",
    "=======================================================================================\n",
    "PyCharm’s power starts when you master its navigation commands. It allows you to go \n",
    "quickly to classes, methods, functions, files, and variables. To jump to the declaration \n",
    "of a symbol under the cursor, go to Navigate → Declaration ( ⌘ -b, C-b) or ( ⌘ -Click, \n",
    "C-Click). You can navigate back and forward with Navigate → Back ( ⌘ -[, A-C-Left) and \n",
    "Navigate → Forward ( ⌘ -], A-C-Right),respectively.\n",
    "+++++++++++++++++++++++++++++++++++++++++++++++++++++++++++++++++++++++++++++++++++++\n",
    "=====================================================================================\n",
    "For example, in the following example, we want to see the definition for MIDIFile.PyCharm \n",
    "jumps to its declaration even if it’s defined in a file in a separate package. After \n",
    "reading its definition, we can go back to the original source code with Navigate → Back.\n",
    "This allows us to get acquainted with a new code base very quickly."
   ]
  },
  {
   "cell_type": "code",
   "execution_count": null,
   "metadata": {},
   "outputs": [],
   "source": [
    "The mechanism to navigate to a class, file, or symbol is very similar, although\n",
    "every type of navigation has a different command and shortcut. To navigate\n",
    "to a class, file, or symbol, we go to Navigate → Class. . . ( ⌘ -o, C-n), Navigate\n",
    "→ File. . . ( ⌘ -S-o, S-C-n), and Navigate → Symbol. . . ( ⌘ - ⌥ -o, S-A-C-n),\n",
    "respectively.\n",
    "========================================================================================\n",
    "+++++++++++++++++++++++++++++++++++++++++++++++++++++++++++++++++++++++++++++++++++++++\n",
    "When using these navigation actions, we are presented with a dialog where we can type a \n",
    "substring and choose to include items outside the project and filter the results. For \n",
    "instance, if we search for the substring “midi” in the Navigate → Class. . . action, \n",
    "PyCharm will show all classes with this string.\n",
    "++++++++++++++++++++++++++++++++++++++++++++++++++++++++++++++++++++++++++++++++++++\n",
    "========================================================================================\n",
    "In large projects, it may be useful to filter the types of files we are searching.\n",
    "We can do this by clicking on the funnel icon and clicking on the types of\n",
    "files we want to remove from the search. In the following example, we are\n",
    "trying to find the Python method render , but there are too many related\n",
    "results in JavaScript:\n",
    "=====================================Page No 49======================================"
   ]
  },
  {
   "cell_type": "code",
   "execution_count": null,
   "metadata": {},
   "outputs": [],
   "source": [
    "After we filter JavaScript from the search, it’s easier to find the Python\n",
    "method we want:\n",
    "================================================================================\n",
    "When navigating to files, we can enter part of the filename, including the file extension.\n",
    "For instance, if we want to open a JavaScript file in a Django project but don’t remember \n",
    "its name (it happens to me all the time), we can search for .js ."
   ]
  },
  {
   "cell_type": "code",
   "execution_count": null,
   "metadata": {},
   "outputs": [],
   "source": [
    "These features allow us to navigate the source code very quickly. Suppose we are working \n",
    "on a Django project and want to see how the function render is implemented. We go to \n",
    "Navigate → Symbol. . ., type “render,” and pick the first option (we can see it’s defined \n",
    "in django.shortcuts ).\n",
    "+++++++++++++++++++++++++++++++++++++++++++++++++++++++++++++++++++++++++++++++++\n",
    "===================================================================================\n",
    "The Navigation Bar is useful to quickly see where a file is located in the directory \n",
    "structure (in our example, django.shortcuts is defined on django/django/shortcuts.py ).\n",
    "We can show the Navigation Bar quickly with Navigate → Jump to the\n",
    "Navigation Bar ( ⌘ - ↑ , A-Home), if it’s hidden.\n",
    "Starting with PyCharm ., there’s a new feature called Search Everywhere\n",
    "that combines all these navigation commands in one. See section Search\n",
    "Everywhere for more details."
   ]
  },
  {
   "cell_type": "code",
   "execution_count": null,
   "metadata": {},
   "outputs": [],
   "source": [
    "===================================================================================="
   ]
  },
  {
   "cell_type": "code",
   "execution_count": null,
   "metadata": {},
   "outputs": [],
   "source": [
    "Finding Commands\n",
    "PyCharm has loads of commands and options. Although this is what makes it so powerful and \n",
    "useful, it’s easy to feel overwhelmed with so many commands."
   ]
  }
 ],
 "metadata": {
  "kernelspec": {
   "display_name": "Python 3",
   "language": "python",
   "name": "python3"
  },
  "language_info": {
   "codemirror_mode": {
    "name": "ipython",
    "version": 3
   },
   "file_extension": ".py",
   "mimetype": "text/x-python",
   "name": "python",
   "nbconvert_exporter": "python",
   "pygments_lexer": "ipython3",
   "version": "3.7.6"
  }
 },
 "nbformat": 4,
 "nbformat_minor": 4
}
