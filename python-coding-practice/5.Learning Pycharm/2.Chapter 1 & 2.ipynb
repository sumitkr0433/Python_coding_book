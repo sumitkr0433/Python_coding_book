{
 "cells": [
  {
   "cell_type": "code",
   "execution_count": null,
   "metadata": {},
   "outputs": [],
   "source": [
    "1 | Introduction\n",
    "##################################################################################################################\n",
    "Why Should I Use PyCharm?\n",
    "==================================================================================================================\n",
    "I know how productive we can be with our favorite editor. I’ve been using Emacs for more than fifteen years and, \n",
    "at one point, I used it to read my email, browse the web, and make coffee.(Haven’t we all?) But today I find that \n",
    "I’m more productive using the right tool for the right job.\n",
    "#################################################################################################################\n",
    "Powerful editors like Emacs and Vim are fantastic. I find it puzzling, for instance, that some editors and IDEs \n",
    "perform basic operations such as search and replace awkwardly, whereas Vim and Emacs get it just right.\n",
    "#################################################################################################################"
   ]
  },
  {
   "cell_type": "code",
   "execution_count": null,
   "metadata": {},
   "outputs": [],
   "source": [
    "And yet a search for terms like “Vim as a Python IDE” or “Emacs as a Python IDE” returns hundreds of thousands of \n",
    "links, which shows that people want features such as smart completion, code navigation,and project support.In fact,\n",
    "one of the most popular articles on my website explains how to configure Emacs as a Python IDE, even if it’s old \n",
    "and hopelessly out-of-date."
   ]
  },
  {
   "cell_type": "code",
   "execution_count": null,
   "metadata": {},
   "outputs": [],
   "source": [
    "PyCharm is the most popular IDE for Python, and it’s packed with great features such as unsurpassed code \n",
    "completion and inspection, an advanced debugger, and support for web programming and frameworks such as Django and \n",
    "Flask.In this book, I’m using PyCharm 4.0.4 Professional Edition."
   ]
  },
  {
   "cell_type": "code",
   "execution_count": null,
   "metadata": {},
   "outputs": [],
   "source": [
    "=================================================================================================================="
   ]
  },
  {
   "cell_type": "code",
   "execution_count": null,
   "metadata": {},
   "outputs": [],
   "source": [
    "2 | Getting Started\n",
    "==========================================================================================\n",
    "Initial Configuration\n",
    "When you start PyCharm for the first time, it asks what keymap and theme you want to use. \n",
    "I use the default Mac OS X keymap and customize the shortcuts I want (see Shortcuts).\n",
    "You can click on “Click to show preview” to see how the theme will look."
   ]
  },
  {
   "cell_type": "code",
   "execution_count": null,
   "metadata": {},
   "outputs": [],
   "source": [
    "We can also preview the color schemes by selecting one in “Editor colors and\n",
    "fonts.”If this is the first time you are using PyCharm, and you don’t have a configuration\n",
    "to import, you may want to click on Configure in the welcome screen to set up some basic \n",
    "settings.\n",
    "=========================================================================================\n",
    "The next screen allows us to set preferences, install plugins, and import and\n",
    "export settings. We want to click on Preferences:\n",
    "########################################################################################\n",
    "I like to show the line numbers and method separators (Settings → Editor →\n",
    "General → Appearance)."
   ]
  },
  {
   "cell_type": "code",
   "execution_count": null,
   "metadata": {},
   "outputs": [],
   "source": [
    "We have two ways to change the way PyCharm looks. One is by changing the whole IDE theme. \n",
    "It controls how things such as the toolbar, dialogs, and sidebar will look. The other is \n",
    "by changing the editor color scheme.\n",
    "########################################################################################\n",
    "########################################################################################\n",
    "To set the IDE theme, we go to Settings → Appearance & Behavior → Appearance and choose \n",
    "the appropriate theme. On the Mac, there are only two themes: \n",
    "#########################################################################################    \n",
    "Default and Darcula. We can’t customize them; they are hardcoded in\n",
    "PyCharm."
   ]
  },
  {
   "cell_type": "code",
   "execution_count": null,
   "metadata": {},
   "outputs": [],
   "source": [
    "Darcula is a nice dark theme, whereas Default has the standard grayish look and a white \n",
    "background for the editor. I’ll use the standard theme in this book because black on \n",
    "white tends to look better on different devices, sizes, and resolutions (for instance, \n",
    "dark images don’t look good on the Kindle).\n",
    "The Darcula look and feel:"
   ]
  },
  {
   "cell_type": "code",
   "execution_count": null,
   "metadata": {},
   "outputs": [],
   "source": [
    "To set the editor color scheme, we go to Settings → Editor → Colors & Fonts\n",
    "and pick a scheme. Unlike IDE themes, we can use the built-in configuration to make very \n",
    "specific changes to a scheme. We can control how different programming elements such as \n",
    "keywords and strings look.\n",
    "#####################################################################################\n",
    "######################################################################################\n",
    "My advice is not to be afraid to change the colors to something you like. You can export\n",
    "your settings in case you need to reinstall PyCharm or use it in another computer.\n",
    "Also, there are dozens of themes available on the Internet such as IDEA color\n",
    "and pycharm-themes."
   ]
  },
  {
   "cell_type": "code",
   "execution_count": null,
   "metadata": {},
   "outputs": [],
   "source": [
    "IDE themes and color schemes are independent of each other. We can have a dark IDE such as \n",
    "like Darcula with a light editor scheme or vice versa. The following is the Default theme \n",
    "with the Darcula color scheme (Darcula is the name of both an IDE theme and a color \n",
    "scheme):"
   ]
  },
  {
   "cell_type": "code",
   "execution_count": null,
   "metadata": {},
   "outputs": [],
   "source": [
    "The font type and size is another thing you may want to change (Settings →\n",
    "Editor → Colors & Fonts → Font)"
   ]
  },
  {
   "cell_type": "code",
   "execution_count": null,
   "metadata": {},
   "outputs": [],
   "source": [
    "PyCharm’s default interface is very clean. By default it doesn’t show the Toolbar and Tool\n",
    "buttons (in previous versions they were shown by default),and you can unhide them in the \n",
    "View menu. You can also hide the Status and Navigation bars if you want to have an even \n",
    "cleaner interface."
   ]
  },
  {
   "cell_type": "code",
   "execution_count": null,
   "metadata": {},
   "outputs": [],
   "source": [
    "PyCharm uses 120 characters per line instead of the recommended . You\n",
    "can change that in Settings → Editor → Code Style.\n",
    "Another thing you may want to change is the color that highlights the\n",
    "current line in Settings → Editor → Colors & Fonts on the impossible-to-guess"
   ]
  },
  {
   "cell_type": "code",
   "execution_count": null,
   "metadata": {},
   "outputs": [],
   "source": [
    "Caret row:\n",
    "#######################################################################################\n",
    "These are the basic configurations before starting to work. The next step is to tell \n",
    "PyCharm what Python interpreter you want to use. Because the choice of interpreters will \n",
    "probably be coupled with a specific project (that is, we can have Project A using Python \n",
    "2.7 and Project B using Python .), it makes sense to see how to deal with new and \n",
    "existing projects. We’ll also see how to isolate Python projects by creating separate \n",
    "environments with virtualenv ."
   ]
  },
  {
   "cell_type": "code",
   "execution_count": null,
   "metadata": {},
   "outputs": [],
   "source": [
    "=========================================================================================="
   ]
  },
  {
   "cell_type": "code",
   "execution_count": null,
   "metadata": {},
   "outputs": [],
   "source": [
    "Working with Projects\n",
    "++++++++++++++++++++++++++++++++++++++++++++++++++++++++++++++++++++++++++++++++++++++\n",
    "========================================================================================\n",
    "As with other IDEs, PyCharm is based on projects; everything happens in the scope of a \n",
    "project. However, unlike other IDEs, project creation and management in PyCharm couldn’t \n",
    "be easier. In PyCharm, a project is a directory with source code and a directory named \n",
    ".idea . \n",
    "=========================================================================================\n",
    "++++++++++++++++++++++++++++++++++++++++++++++++++++++++++++++++++++++++++++++++++++++++\n",
    "PyCharm stores all necessary metadata in this directory, and you never need to worry about\n",
    "its existence. Therefore, from our perspective, a project is just a directory\n",
    "with Python code.\n",
    "+++++++++++++++++++++++++++++++++++++++++++++++++++++++++++++++++++++++++++++++++++++++++\n",
    "======================================================================================\n",
    "The PyCharm manual recommends putting the .idea directory under version control, with the \n",
    "exception of the workspace.xml file, which should be ignored by the version control system. This file contains your individual\n",
    "workspace preferences. We can explicitly create a new project (File → New Project) or open \n",
    "an existing directory as a project (File → Open). When we open an existing directory, \n",
    "PyCharm will automatically create the .idea directory if it doesn’t exist, turning the \n",
    "directory into a project. There are no default keyboard shortcuts for these commands, but \n",
    "we can create our own if we want (see Shortcuts).\n",
    "++++++++++++++++++++++++++++++++++++++++++++++++++++++++++++++++++++++++++++++++++\n",
    "Page NO 17"
   ]
  },
  {
   "cell_type": "code",
   "execution_count": null,
   "metadata": {},
   "outputs": [],
   "source": [
    "We create a new project in PyCharm in File → New Project. We can assign a project name and\n",
    "location and select a project type and interpreter.PyCharm has templates for many project \n",
    "types such as Django, Google AppEngine, Pyramid, Flask, and Web2Py."
   ]
  },
  {
   "cell_type": "code",
   "execution_count": null,
   "metadata": {},
   "outputs": [],
   "source": [
    "In the following example, we’ll create a new Django project. PyCharm will automatically \n",
    "install Django (it works similarly for Flask and Pyramid).Select the project type and add \n",
    "the project location, template folder,application name and select the template language."
   ]
  },
  {
   "cell_type": "code",
   "execution_count": null,
   "metadata": {},
   "outputs": [],
   "source": [
    "Create a new virtualenv by clicking on the “settings” icon on the right. Set\n",
    "the environment’s name and location (PyCharm tries to guess the default\n",
    "location) and base Python interpreter:"
   ]
  },
  {
   "cell_type": "code",
   "execution_count": null,
   "metadata": {},
   "outputs": [],
   "source": [
    "Select the new environment on the Interpreter list and click on the Create button.\n",
    "=======================================================================================\n",
    "++++++++++++++++++++++++++++++++++++++++++++++++++++++++++++++++++++++++++++++++++++++++\n",
    "PyCharm will create boilerplate code for projects automatically. We could achieve the same \n",
    "effect by using the framework’s tool, such as Django’s django-manager.py or Pyramid’s \n",
    "pcreate , but it’s super quick to do it from the IDE itself. Conversely, if you are using \n",
    "custom templates, I’d recommend creating projects on the command line and opening them on \n",
    "PyCharm afterward"
   ]
  },
  {
   "cell_type": "code",
   "execution_count": null,
   "metadata": {},
   "outputs": [],
   "source": [
    "Virtualenv and Packages\n",
    "+++++++++++++++++++++++++++++++++++++++++++++++++++++++++++++++++++++++++++++++++++\n",
    "====================================================================================\n",
    "We need to tell PyCharm what Python interpreter we want to use because we can have a \n",
    "different interpreter for each project. PyCharm will use this information to index all \n",
    "available libraries and for code completion,code analysis, and other features. \n",
    "++++++++++++++++++++++++++++++++++++++++++++++++++++++++++++++++++++++++++++++++++++++++\n",
    "========================================================================================\n",
    "A good practice is to have one virtual environment for each project. To set up the Python \n",
    "interpreter for the current project, go to Settings → Project: <project name> → Project \n",
    "Interpreter and click on the + button to use an existing virtualenv , or click on the\n",
    "“settings” icon on the right to create a new environment."
   ]
  },
  {
   "cell_type": "code",
   "execution_count": null,
   "metadata": {},
   "outputs": [],
   "source": [
    "We can create either a new environment or add a local or remote one:\n",
    "++++++++++++++++++++++++++++++++++++++++++++++++++++++++++++++++++++++++++++++++++++++\n",
    "=====================================================================================\n",
    "Creating new virtual environments is straightforward and identical when wecreate a new \n",
    "project (see Working with Projects); we can give it a name and location,choose a base \n",
    "interpreter, and make it available to all projects.\n",
    "++++++++++++++++++++++++++++++++++++++++++++++++++++++++++++++++++++++++++++++++++\n",
    "=======================================================================================\n",
    "We can quickly search, read the description, and install Python packages from PyCharm. \n",
    "This is nothing we couldn’t do in the terminal, but it’s very convenient to be able to \n",
    "search for packages without leaving the IDE. As expected, the packages will be installed \n",
    "in the selected interpreter’s path.\n",
    "We can see a package’s description and select a specific version to install."
   ]
  },
  {
   "cell_type": "code",
   "execution_count": null,
   "metadata": {},
   "outputs": [],
   "source": [
    "Some packages may take a while to install, especially if they need to be compiled.PyCharm \n",
    "runs the installation in background and we can see what is happening by clicking in the \n",
    "status bar:\n",
    "++++++++++++++++++++++++++++++++++++++++++++++++++++++++++++++++++++++++++++++++++++++++\n",
    "PyCharm will recognize requirement.txt files and offer to install the packages if they are \n",
    "not installed."
   ]
  },
  {
   "cell_type": "code",
   "execution_count": null,
   "metadata": {},
   "outputs": [],
   "source": [
    "When we click on “Install requirements,” all packages will be already selected,so we just \n",
    "need to click on the Install button:\n",
    "====================================================================================\n",
    "Page NO 24"
   ]
  }
 ],
 "metadata": {
  "kernelspec": {
   "display_name": "Python 3",
   "language": "python",
   "name": "python3"
  },
  "language_info": {
   "codemirror_mode": {
    "name": "ipython",
    "version": 3
   },
   "file_extension": ".py",
   "mimetype": "text/x-python",
   "name": "python",
   "nbconvert_exporter": "python",
   "pygments_lexer": "ipython3",
   "version": "3.7.6"
  }
 },
 "nbformat": 4,
 "nbformat_minor": 4
}
