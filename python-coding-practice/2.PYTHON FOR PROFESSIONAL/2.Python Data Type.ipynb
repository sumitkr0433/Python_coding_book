{
 "cells": [
  {
   "cell_type": "code",
   "execution_count": null,
   "metadata": {},
   "outputs": [],
   "source": [
    "Chapter 2: Python Data Types"
   ]
  },
  {
   "cell_type": "code",
   "execution_count": null,
   "metadata": {},
   "outputs": [],
   "source": [
    "Data types are nothing but variables you use to reserve some space in memory. Python \n",
    "variables do not need an explicit declaration to reserve memory space. \n",
    "The declaration happens automatically when you assign a value to a variable"
   ]
  },
  {
   "cell_type": "code",
   "execution_count": null,
   "metadata": {},
   "outputs": [],
   "source": [
    "Section 2.1: String Data Type\n",
    "    \n",
    "String are identified as a contiguous set of characters represented in the quotation marks.\n",
    "Python allows for either pairs of single or double quotes. Strings are immutable sequence data type, i.e each time one makes any changes\n",
    "to a string, completely new string object is created.\n",
    "a_str = 'Hello World'  \n",
    "print(a_str)          #output will be whole string. Hello World\n",
    "print(a_str[0])       #output will be first character. H\n",
    "print(a_str[0:5])    #output will be first five characters. Hello"
   ]
  },
  {
   "cell_type": "code",
   "execution_count": null,
   "metadata": {},
   "outputs": [],
   "source": [
    "Section 2.2: Set Data Types\n",
    "Sets are unordered collections of unique objects, there are two types of set:\n",
    "1. Sets - They are mutable and new elements can be added once sets are defined\n",
    "basket = {'apple', 'orange', 'apple', 'pear', 'orange', 'banana'}\n",
    "print(basket)\n",
    "# duplicates will be removed\n",
    "> {'orange', 'banana', 'pear', 'apple'}\n",
    "a = set('abracadabra')\n",
    "print(a)\n",
    "# unique letters in a\n",
    "> {'a', 'r', 'b', 'c', 'd'}\n",
    "a.add('z')\n",
    "print(a)\n",
    "> {'a', 'c', 'r', 'b', 'z', 'd'}"
   ]
  },
  {
   "cell_type": "code",
   "execution_count": null,
   "metadata": {},
   "outputs": [],
   "source": [
    "2. Frozen Sets - They are immutable and new elements cannot added after its defined.\n",
    "b = frozenset('asdfagsa')\n",
    "print(b)\n",
    "> frozenset({'f', 'g', 'd', 'a', 's'})\n",
    "cities = frozenset([\"Frankfurt\", \"Basel\",\"Freiburg\"])\n",
    "print(cities)\n",
    "> frozenset({'Frankfurt', 'Basel', 'Freiburg'})"
   ]
  },
  {
   "cell_type": "code",
   "execution_count": null,
   "metadata": {},
   "outputs": [],
   "source": [
    "Section 2.3: Numbers data type\n",
    "Numbers have four types in Python. Int, float, complex, and long.\n",
    "int_num = 10\n",
    "#int value\n",
    "float_num = 10.2\n",
    "#float value\n",
    "complex_num = 3.14j\n",
    "#complex value\n",
    "long_num = 1234567L\n",
    "#long value"
   ]
  },
  {
   "cell_type": "code",
   "execution_count": null,
   "metadata": {},
   "outputs": [],
   "source": [
    "Section 2.4: List Data Type\n",
    "A list contains items separated by commas and enclosed within square brackets [].lists are almost similar to arrays\n",
    "in C. One difference is that all the items belonging to a list can be of different data type.\n",
    "list = [123,'abcd',10.2,'d']\n",
    "#can be an array of any data type or single data type.\n",
    "list1 = ['hello','world']\n",
    "print(list)\n",
    "#will output whole list. [123,'abcd',10.2,'d']\n",
    "print(list[0:2])\n",
    "#will output first two element of list. [123,'abcd']\n",
    "print(list1 * 2)\n",
    "#will gave list1 two times. ['hello','world','hello','world']\n",
    "print(list + list1)\n",
    "#will gave concatenation of both the lists.\n",
    "[123,'abcd',10.2,'d','hello','world']"
   ]
  },
  {
   "cell_type": "code",
   "execution_count": null,
   "metadata": {},
   "outputs": [],
   "source": [
    "Section 2.5: Dictionary Data Type\n",
    "Dictionary consists of key-value pairs. It is enclosed by curly braces {} and values can be assigned and accessed\n",
    "using square brackets[].\n",
    "dic={'name':'red','age':10}\n",
    "print(dic)\n",
    "#will output all the key-value pairs. {'name':'red','age':10}\n",
    "print(dic['name'])\n",
    "#will output only value with 'name' key. 'red'\n",
    "print(dic.values())\n",
    "#will output list of values in dic. ['red',10]\n",
    "print(dic.keys())\n",
    "#will output list of keys. ['name','age']"
   ]
  },
  {
   "cell_type": "code",
   "execution_count": null,
   "metadata": {},
   "outputs": [],
   "source": [
    "Section 2.6: Tuple Data Type\n",
    "Lists are enclosed in brackets [ ] and their elements and size can be changed, while tuples are enclosed in\n",
    "parentheses ( ) and cannot be updated. Tuples are immutable.\n",
    "tuple = (123,'hello')\n",
    "tuple1 = ('world')\n",
    "print(tuple)\n",
    "#will output whole tuple. (123,'hello')\n",
    "print(tuple[0])\n",
    "#will output first value. (123)\n",
    "print(tuple + tuple1)\n",
    "#will output (123,'hello','world')\n",
    "tuple[1]='update'\n",
    "#this will give you error."
   ]
  }
 ],
 "metadata": {
  "kernelspec": {
   "display_name": "Python 3",
   "language": "python",
   "name": "python3"
  },
  "language_info": {
   "codemirror_mode": {
    "name": "ipython",
    "version": 3
   },
   "file_extension": ".py",
   "mimetype": "text/x-python",
   "name": "python",
   "nbconvert_exporter": "python",
   "pygments_lexer": "ipython3",
   "version": "3.7.6"
  }
 },
 "nbformat": 4,
 "nbformat_minor": 4
}
