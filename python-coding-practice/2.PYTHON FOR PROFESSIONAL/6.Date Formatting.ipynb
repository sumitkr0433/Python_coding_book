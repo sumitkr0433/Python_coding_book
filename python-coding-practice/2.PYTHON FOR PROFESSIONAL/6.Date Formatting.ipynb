{
 "cells": [
  {
   "cell_type": "code",
   "execution_count": null,
   "metadata": {},
   "outputs": [],
   "source": [
    "Chapter 6: Date Formatting"
   ]
  },
  {
   "cell_type": "code",
   "execution_count": null,
   "metadata": {},
   "outputs": [],
   "source": [
    "Section 6.1: Time between two date-times\n",
    "from datetime import datetime\n",
    "a = datetime(2016,10,06,0,0,0)\n",
    "b = datetime(2016,10,01,23,59,59)\n",
    "a-b\n",
    "# datetime.timedelta(4, 1)\n",
    "(a-b).days\n",
    "# 4\n",
    "(a-b).total_seconds()\n",
    "# 518399.0"
   ]
  },
  {
   "cell_type": "code",
   "execution_count": null,
   "metadata": {},
   "outputs": [],
   "source": [
    "Section 6.2: Outputting datetime object to string\n",
    "Uses C standard format codes.\n",
    "from datetime import datetime\n",
    "datetime_for_string = datetime(2016,10,1,0,0)\n",
    "datetime_string_format = '%b %d %Y, %H:%M:%S'\n",
    "datetime.strftime(datetime_for_string,datetime_string_format)\n",
    "# Oct 01 2016, 00:00:00"
   ]
  },
  {
   "cell_type": "code",
   "execution_count": null,
   "metadata": {},
   "outputs": [],
   "source": [
    "Section 6.3: Parsing string to datetime object\n",
    "Uses C standard format codes.\n",
    "from datetime import datetime\n",
    "datetime_string = 'Oct 1 2016, 00:00:00'\n",
    "datetime_string_format = '%b %d %Y, %H:%M:%S'\n",
    "datetime.strptime(datetime_string, datetime_string_format)\n",
    "# datetime.datetime(2016, 10, 1, 0, 0)s"
   ]
  }
 ],
 "metadata": {
  "kernelspec": {
   "display_name": "Python 3",
   "language": "python",
   "name": "python3"
  },
  "language_info": {
   "codemirror_mode": {
    "name": "ipython",
    "version": 3
   },
   "file_extension": ".py",
   "mimetype": "text/x-python",
   "name": "python",
   "nbconvert_exporter": "python",
   "pygments_lexer": "ipython3",
   "version": "3.7.6"
  }
 },
 "nbformat": 4,
 "nbformat_minor": 4
}
