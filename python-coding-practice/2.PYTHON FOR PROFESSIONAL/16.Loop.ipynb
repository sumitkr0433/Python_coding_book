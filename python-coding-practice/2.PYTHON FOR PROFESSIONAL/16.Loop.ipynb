{
 "cells": [
  {
   "cell_type": "code",
   "execution_count": null,
   "metadata": {},
   "outputs": [],
   "source": [
    "Chapter 16: Loops"
   ]
  },
  {
   "cell_type": "code",
   "execution_count": null,
   "metadata": {},
   "outputs": [],
   "source": [
    "Parameter                                                        Details\n",
    "boolean expression expression that can be evaluated in a boolean context, e.g. x < 10\n",
    "variable                        variable name for the current element from the iterable\n",
    "iterable                        anything that implements iterations\n",
    "\n",
    "######################################################################################\n",
    "As one of the most basic functions in programming, loops are an important piece to nearly\n",
    "every programming language. \n",
    "Loops enable developers to set certain portions of their code to repeat through a \n",
    "number of loops which are referred to as iterations. This topic covers using multiple \n",
    "types of loops and applications of loops in Python."
   ]
  },
  {
   "cell_type": "code",
   "execution_count": null,
   "metadata": {},
   "outputs": [],
   "source": [
    "Section 16.1: Break and Continue in Loops\n",
    "break statement\n",
    "When a break statement executes inside a loop, control flow \"breaks\" out of the loop immediately:\n",
    "i = 0\n",
    "while i < 7:\n",
    "print(i)\n",
    "if i == 4:\n",
    "print(\"Breaking from loop\")\n",
    "break\n",
    "i += 1"
   ]
  },
  {
   "cell_type": "code",
   "execution_count": null,
   "metadata": {},
   "outputs": [],
   "source": [
    "The loop conditional will not be evaluated after the break statement is executed. Note that break statements are\n",
    "only allowed inside loops, syntactically. A break statement inside a function cannot be used to terminate loops that\n",
    "called that function.\n",
    "Executing the following prints every digit until number 4 when the break statement is met and the loop stops:\n",
    "0\n",
    "1\n",
    "2\n",
    "3\n",
    "4\n",
    "Breaking from loop"
   ]
  },
  {
   "cell_type": "code",
   "execution_count": null,
   "metadata": {},
   "outputs": [],
   "source": [
    "break statements can also be used inside for loops, the other looping construct provided by Python:\n",
    "for i in (0, 1, 2, 3, 4):\n",
    "print(i)\n",
    "if i == 2:\n",
    "break\n",
    "Executing this loop now prints:\n",
    "0\n",
    "1\n",
    "2\n",
    "Note that 3 and 4 are not printed since the loop has ended."
   ]
  },
  {
   "cell_type": "code",
   "execution_count": null,
   "metadata": {},
   "outputs": [],
   "source": [
    "If a loop has an else clause, it does not execute when the loop is terminated through a break statement.\n",
    "continue statement\n",
    "A continue statement will skip to the next iteration of the loop bypassing the rest of the current block but\n",
    "continuing the loop. As with break , continue can only appear inside loops:\n",
    "for i in (0, 1, 2, 3, 4, 5):\n",
    "if i == 2 or i == 4:\n",
    "continue\n",
    "print(i)\n",
    "0\n",
    "1\n",
    "3\n",
    "5\n",
    "Note that 2 and 4 aren't printed, this is because continue goes to the next iteration instead of continuing on to\n",
    "print(i) when i == 2 or i == 4 ."
   ]
  },
  {
   "cell_type": "code",
   "execution_count": null,
   "metadata": {},
   "outputs": [],
   "source": [
    "ested Loops\n",
    "break and continue only operate on a single level of loop. The following example will only break out of the inner\n",
    "for loop, not the outer while loop:\n",
    "while True:\n",
    "for i in range(1,5):\n",
    "if i == 2:\n",
    "break\n",
    "# Will only break out of the inner loop!\n",
    "Python doesn't have the ability to break out of multiple levels of loop at once -- if this behavior is desired,\n",
    "refactoring one or more loops into a function and replacing break with return may be the way to go."
   ]
  },
  {
   "cell_type": "code",
   "execution_count": null,
   "metadata": {},
   "outputs": [],
   "source": [
    "Use return from within a function as a break\n",
    "The return statement exits from a function, without executing the code that comes after it.\n",
    "If you have a loop inside a function, using return from inside that loop is equivalent to having a break as the rest of\n",
    "the code of the loop is not executed (note that any code after the loop is not executed either):\n",
    "def break_loop():\n",
    "for i in range(1, 5):\n",
    "if (i == 2):\n",
    "return(i)\n",
    "print(i)\n",
    "return(5)\n",
    "If you have nested loops, the return statement will break all loops:\n",
    "def break_all():\n",
    "for j in range(1, 5):\n",
    "for i in range(1,4):\n",
    "if i*j == 6:\n",
    "return(i)\n",
    "print(i*j)\n",
    "will output:\n",
    "    \n",
    "    \n",
    "1.# 1*1\n",
    "2.# 1*2\n",
    "3.# 1*3\n",
    "4.# 1*4\n",
    "5.# 2*1\n",
    "6.# 2*2\n",
    "return because 2*3 = 6, the remaining iterations of both loops are not executed"
   ]
  },
  {
   "cell_type": "code",
   "execution_count": null,
   "metadata": {},
   "outputs": [],
   "source": [
    "Section 16.2: For loops\n",
    "    \n",
    "#####################################################################################\n",
    "for loops iterate over a collection of items, such as list or dict , and run a block of \n",
    "code with each element from the collection.\n",
    "\n",
    "######################################################################################\n",
    "for i in [0, 1, 2, 3, 4]:\n",
    "    print(i)\n",
    "\n",
    "######################################################################################\n",
    "The above for loop iterates over a list of numbers.\n",
    "Each iteration sets the value of i to the next element of the list. So first it will be 0 , then 1 , then 2 , etc. The output\n",
    "will be as follow:\n",
    "0\n",
    "1\n",
    "2\n",
    "3\n",
    "4\n",
    "\n",
    "#################################################################################\n",
    "range is a function that returns a series of numbers under an iterable form, thus it can\n",
    "be used in for loops:\n",
    "\n",
    "#####################################################################################\n",
    "for i in range(5):\n",
    "    print(i)\n",
    "\n",
    "#####################################################################################\n",
    "gives the exact same result as the first for loop. Note that 5 is not printed as the range\n",
    "here is the first five\n",
    "numbers counting from 0 .\n",
    "\n",
    "#####################################################################################\n",
    "Iterable objects and iterators\n",
    "for loop can iterate on any iterable object which is an object which defines a __getitem__\n",
    "or a __iter__ function.The __iter__ function returns an iterator, which is an object with \n",
    "a next function that is used to access the next element of the iterable."
   ]
  },
  {
   "cell_type": "code",
   "execution_count": null,
   "metadata": {},
   "outputs": [],
   "source": [
    "Section 16.3: Iterating over lists\n",
    "    \n",
    "############################################################################\n",
    "To iterate through a list you can use for :\n",
    "    \n",
    "##################################################################################\n",
    "for x in ['one', 'two', 'three', 'four']:\n",
    "print(x)\n",
    "\n",
    "################################################################\n",
    "This will print out the elements of the list:\n",
    "one\n",
    "two\n",
    "three\n",
    "four"
   ]
  }
 ],
 "metadata": {
  "kernelspec": {
   "display_name": "Python 3",
   "language": "python",
   "name": "python3"
  },
  "language_info": {
   "codemirror_mode": {
    "name": "ipython",
    "version": 3
   },
   "file_extension": ".py",
   "mimetype": "text/x-python",
   "name": "python",
   "nbconvert_exporter": "python",
   "pygments_lexer": "ipython3",
   "version": "3.7.6"
  }
 },
 "nbformat": 4,
 "nbformat_minor": 4
}
