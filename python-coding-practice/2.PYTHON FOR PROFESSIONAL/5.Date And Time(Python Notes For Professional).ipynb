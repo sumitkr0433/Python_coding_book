{
 "cells": [
  {
   "cell_type": "markdown",
   "metadata": {},
   "source": [
    "# 5.Date and Time"
   ]
  },
  {
   "cell_type": "markdown",
   "metadata": {},
   "source": [
    "Section 5.1: Parsing a string into a timezone aware datetime object\n",
    "\n",
    "##############################################################################\n",
    "Python 3.2+ has support for %z format when parsing a string into a datetime object.\n",
    "UTC offset in the form +HHMM or -HHMM (empty string if the object is naive).\n",
    "Python 3.x Version\n",
    "≥ 3.2\n",
    "\n",
    "\n",
    "++++++++++++++++++++++++++++++++++++++++++++++++++\n",
    "=================================================\n",
    "\n",
    "import datetime\n",
    "dt = datetime.datetime.strptime(\"2016-04-15T08:27:18-0500\",\"%Y-%m-%dT%H:%M:%S%z\")"
   ]
  },
  {
   "cell_type": "code",
   "execution_count": 2,
   "metadata": {},
   "outputs": [
    {
     "name": "stdout",
     "output_type": "stream",
     "text": [
      "2016-04-15 08:27:18-05:00\n"
     ]
    }
   ],
   "source": [
    "For other versions of Python, you can use an external library such as dateutil,which makes\n",
    "parsing a string with timezone into a datetime object is quick.\n",
    "####################################################################################\n",
    "import dateutil.parser\n",
    "dt = dateutil.parser.parse(\"2016-04-15T08:27:18-0500\")\n",
    "The dt variable is now a datetime object with the following value:\n",
    "datetime.datetime(2016, 4, 15, 8, 27, 18, tzinfo=tzoffset(None, -18000))"
   ]
  },
  {
   "cell_type": "markdown",
   "metadata": {},
   "source": [
    "Section 5.2: Constructing timezone-aware datetimes\n",
    "+++++++++++++++++++++++++++++++++++++++++++++++++++++++++++++++++++++++++++++++++++++++++\n",
    "\n",
    "By default all datetime objects are naive. To make them timezone-aware, you must attach a tzinfo object, which provides the UTC offset and timezone abbreviation as a function of date and time.\n",
    "\n",
    "++++++++++++++++++++++++++++++++++++++++++++++++++\n",
    "==================================================\n",
    "\n",
    "Fixed Offset Time Zones\n",
    "+++++++++++++++++++++++++++++++++++++++++++++++++++++++++++++++++++++++++++++++++++++++++\n",
    "For time zones that are a fixed offset from UTC, in Python 3.2+, the datetime module provides the timezone class,a concrete implementation of tzinfo , which takes a timedelta and an (optional) name parameter:\n",
    "\n",
    "++++++++++++++++++++++++++++++++++++++++++++++++++\n",
    "==================================================\n",
    "Python 3.x Version\n",
    "≥ 3.2\n",
    "from datetime import datetime, timedelta, timezone\n",
    "JST = timezone(timedelta(hours=+9))\n",
    "dt = datetime(2015, 1, 1, 12, 0, 0, tzinfo=JST)\n",
    "print(dt)\n",
    "\n",
    "# 2015-01-01 12:00:00+09:00\n",
    "print(dt.tzname())\n",
    "\n",
    "# UTC+09:00\n",
    "dt = datetime(2015, 1, 1, 12, 0, 0, tzinfo=timezone(timedelta(hours=9), 'JST'))\n",
    "print(dt.tzname)\n",
    "\n",
    "# 'JST"
   ]
  },
  {
   "cell_type": "code",
   "execution_count": 16,
   "metadata": {},
   "outputs": [
    {
     "name": "stdout",
     "output_type": "stream",
     "text": [
      "2016-04-15 08:27:18-05:00\n"
     ]
    }
   ],
   "source": [
    "from datetime import datetime, timedelta\n",
    "import pytz\n",
    "PT = pytz.timezone('Asia/Kolkata')\n",
    "#print(PT)\n",
    "dt_pdt = PT.localize(datetime(2021, 4, 1, 0, 30))\n",
    "print(dt)\n",
    "##########################\n"
   ]
  },
  {
   "cell_type": "code",
   "execution_count": 18,
   "metadata": {},
   "outputs": [
    {
     "name": "stdout",
     "output_type": "stream",
     "text": [
      "UTC : 2021-02-11 09:42:50.877201+00:00\n"
     ]
    }
   ],
   "source": [
    "from datetime import datetime\n",
    "from pytz import timezone\n",
    "\n",
    "fmt = \"%Y-%m-%d %H:%M:%S %Z%z\"\n",
    "\n",
    "# get the current time in UTC\n",
    "now_utc = datetime.now(timezone('utc'))\n",
    "print('UTC :', now_utc)\n",
    "\n",
    "# # Convert this to EST\n",
    "# now_est = now_utc.astimezone(timezone('US/Eastern'))\n",
    "# print('EST :', now_est)\n",
    "\n",
    "# now_berlin = now_utc.astimezone(timezone('Europe/Berlin'))\n",
    "# print('Berlin:', now_berlin)\n",
    "\n",
    "# now_london = now_utc.astimezone(timezone('Europe/London'))\n",
    "# print('London:', now_london)\n",
    "\n",
    "# now_Kolkata = now_utc.astimezone(timezone('Asia/Kolkata'))\n",
    "# print('Kolkata:', now_Kolkata)\n",
    "\n",
    "# now_Shanghai = now_utc.astimezone(timezone('Asia/Shanghai'))\n",
    "# print('Shanghai:',now_Shanghai)\n",
    "\n",
    "# now_Sydney = now_utc.astimezone(timezone('Australia/Sydney'))\n",
    "# print('Sydney:',now_Sydney)\n",
    "\n",
    "# now_Johannesburg = now_utc.astimezone(timezone('Africa/Johannesburg'))\n",
    "# print('Johannesburg:',now_Johannesburg)"
   ]
  },
  {
   "cell_type": "code",
   "execution_count": null,
   "metadata": {},
   "outputs": [],
   "source": [
    "For Python versions before 3.2, it is necessary to use a third party library, such as \n",
    "dateutil . dateutil provides an equivalent class, tzoffset,which (as of version 2.5.3) \n",
    "takes arguments of the form dateutil.tz.tzoffset(tzname, offset) , where offset is \n",
    "specified in seconds:\n",
    "    \n",
    "###################################################################################\n",
    "Python 3.x Version\n",
    "< 3.2\n",
    "\n",
    "Python 2.x Version\n",
    "< 2.7\n",
    "#################################################################################\n",
    "from datetime import datetime, timedelta\n",
    "from dateutil import tz\n",
    "JST = tz.tzoffset('JST', 9 * 3600) # 3600 seconds per hour\n",
    "dt = datetime(2015, 1, 1, 12, 0, tzinfo=JST)\n",
    "print(dt)\n",
    "# 2015-01-01 12:00:00+09:00\n",
    "print(dt.tzname)\n",
    "# 'JST'"
   ]
  },
  {
   "cell_type": "code",
   "execution_count": null,
   "metadata": {},
   "outputs": [],
   "source": [
    "Zones with daylight savings time\n",
    "\n",
    "##############################################################################\n",
    "For zones with daylight savings time, python standard libraries do not provide a standard \n",
    "class, so it is necessary to use a third party library. pytz and dateutil are popular \n",
    "libraries providing time zone classes.\n",
    "\n",
    "##################################################################################\n",
    "In addition to static time zones, dateutil provides time zone classes that use daylight \n",
    "savings time (see the documentation for the tz module). You can use the tz.gettz() method \n",
    "to get a time zone object, which can then be passed directly to the datetime constructor:\n",
    "    \n",
    "######################################################################################\n",
    "from datetime import datetime\n",
    "from dateutil import tz\n",
    "local = tz.gettz() # Local time\n",
    "PT = tz.gettz('US/Pacific') # Pacific time\n",
    "dt_l = datetime(2015, 1, 1, 12, tzinfo=local) # I am in EST\n",
    "dt_pst = datetime(2015, 1, 1, 12, tzinfo=PT)\n",
    "dt_pdt = datetime(2015, 7, 1, 12, tzinfo=PT) # DST is handled automatically\n",
    "print(dt_l)\n",
    "# 2015-01-01 12:00:00-05:00\n",
    "print(dt_pst)\n",
    "# 2015-01-01 12:00:00-08:00\n",
    "print(dt_pdt)\n",
    "# 2015-07-01 12:00:00-07:00\n",
    "\n",
    "########################################################################################\n",
    "CAUTION: As of version 2.5.3, dateutil does not handle ambiguous datetimes correctly, and \n",
    "will always default to the later date. There is no way to construct an object with a \n",
    "dateutil timezone representing, for example 2015-11-01 1:30 EDT-4 , since this is during a\n",
    "daylight savings time transition.\n",
    "\n",
    "All edge cases are handled properly when using pytz , but pytz time zones should not be directly attached to time\n",
    "zones through the constructor. Instead, a pytz time zone should be attached using the time zone's localize\n",
    "method:\n",
    "    \n",
    "###################################################################################\n",
    "from datetime import datetime, timedelta\n",
    "import pytz\n",
    "PT = pytz.timezone('US/Pacific')\n",
    "dt_pst = PT.localize(datetime(2015, 1, 1, 12))\n",
    "dt_pdt = PT.localize(datetime(2015, 11, 1, 0, 30))\n",
    "print(dt_pst)\n",
    "# 2015-01-01 12:00:00-08:00\n",
    "print(dt_pdt)\n",
    "# 2015-11-01 00:30:00-07:00\n",
    "Be aware that if you perform datetime arithmetic on a pytz -aware time zone, you must \n",
    "either perform the calculations in UTC (if you want absolute elapsed time), or you must \n",
    "call normalize() on the result"
   ]
  },
  {
   "cell_type": "code",
   "execution_count": null,
   "metadata": {},
   "outputs": [],
   "source": [
    "Section 5.3: Computing time differences\n",
    "    \n",
    "###################################################################################\n",
    "the timedelta module comes in handy to compute differences between times:\n",
    "    \n",
    "#############################################################################\n",
    "from datetime import datetime, timedelta\n",
    "now = datetime.now()\n",
    "then = datetime(2016, 5, 23)\n",
    "# datetime.datetime(2016, 05, 23, 0, 0, 0)\n",
    "Specifying time is optional when creating a new datetime object\n",
    "delta = now-then\n",
    "delta is of type timedelta\n",
    "print(delta.days)\n",
    "# 60\n",
    "print(delta.seconds)\n",
    "# 40826\n",
    "\n",
    "#####################################################################################\n",
    "To get n day's after and n day's before date we could use:\n",
    "n day's after date:\n",
    "\n",
    "def get_n_days_after_date(date_format=\"%d %B %Y\", add_days=120):\n",
    "    date_n_days_after = datetime.datetime.now() + timedelta(days=add_days)\n",
    "    return date_n_days_after.strftime(date_format)\n",
    "\n",
    "##################################################################################\n",
    "n day's before date:\n",
    "\n",
    "\n",
    "def get_n_days_before_date(self, date_format=\"%d %B %Y\", days_before=120):\n",
    "    date_n_days_ago = datetime.datetime.now() - timedelta(days=days_before)\n",
    "    return date_n_days_ago.strftime(date_format)\n",
    "\n",
    "##################################################################################"
   ]
  },
  {
   "cell_type": "code",
   "execution_count": null,
   "metadata": {},
   "outputs": [],
   "source": [
    "Section 5.5: Switching between time zones\n",
    "    \n",
    "####################################################################################\n",
    "To switch between time zones, you need datetime objects that are timezone-aware.\n",
    "\n",
    "################################################################################\n",
    "from datetime import datetime\n",
    "from dateutil import tz\n",
    "utc = tz.tzutc()\n",
    "local = tz.tzlocal()\n",
    "utc_now = datetime.utcnow()\n",
    "utc_now # Not timezone-aware.\n",
    "utc_now = utc_now.replace(tzinfo=utc)\n",
    "utc_now # Timezone-aware.\n",
    "local_now = utc_now.astimezone(local)\n",
    "local_now # Converted to local time."
   ]
  },
  {
   "cell_type": "code",
   "execution_count": null,
   "metadata": {},
   "outputs": [],
   "source": [
    "Section 5.6: Simple date arithmetic\n",
    "    \n",
    "#################################################################################\n",
    "Dates don't exist in isolation. It is common that you will need to find the amount of time \n",
    "between dates or determine what the date will be tomorrow. This can be accomplished using \n",
    "timedelta objects\n",
    "\n",
    "##################################################################################\n",
    "import datetime\n",
    "today = datetime.date.today()\n",
    "print('Today:', today)\n",
    "yesterday = today - datetime.timedelta(days=1)\n",
    "print('Yesterday:', yesterday)\n",
    "tomorrow = today + datetime.timedelta(days=1)\n",
    "print('Tomorrow:', tomorrow)\n",
    "print('Time between tomorrow and yesterday:', tomorrow - yesterday)\n",
    "\n",
    "This will produce results similar to:\n",
    "Today: 2016-04-15\n",
    "Yesterday: 2016-04-14\n",
    "Tomorrow: 2016-04-16\n",
    "Difference between tomorrow and yesterday: 2 days, 0:00:00"
   ]
  },
  {
   "cell_type": "code",
   "execution_count": null,
   "metadata": {},
   "outputs": [],
   "source": [
    "Section 5.7: Converting timestamp to datetime\n",
    "The datetime module can convert a POSIX timestamp to a ITC datetime object.\n",
    "The Epoch is January 1st, 1970 midnight.\n",
    "import time\n",
    "from datetime import datetime\n",
    "seconds_since_epoch=time.time()\n",
    "#1469182681.709\n",
    "utc_date=datetime.utcfromtimestamp(seconds_since_epoch) #datetime.datetime(2016, 7, 22, 10, 18, 1,\n",
    "709000)"
   ]
  },
  {
   "cell_type": "code",
   "execution_count": null,
   "metadata": {},
   "outputs": [],
   "source": [
    "Section 5.12: Fuzzy datetime parsing (extracting datetime out\n",
    "of a text)\n",
    "    \n",
    "#########################################################################################\n",
    "It is possible to extract a date out of a text using the dateutil parser in a \"fuzzy\" mode,\n",
    "where components of the string not recognized as being part of a date are ignored.\n",
    "\n",
    "#################################################################################\n",
    "from dateutil.parser import parse\n",
    "dt = parse(\"Today is January 1, 2047 at 8:21:00AM\", fuzzy=True)\n",
    "print(dt)\n",
    "dt is now a datetime object and you would see datetime.datetime(2047, 1, 1, 8, 21) printed."
   ]
  },
  {
   "cell_type": "code",
   "execution_count": null,
   "metadata": {},
   "outputs": [],
   "source": [
    "Section 5.13: Iterate over dates\n",
    "\n",
    "######################################################################################\n",
    "Sometimes you want to iterate over a range of dates from a start date to some end date. \n",
    "You can do it using datetime library and timedelta object:\n",
    "\n",
    "###############################################################################    \n",
    "import datetime\n",
    "# The size of each step in days\n",
    "day_delta = datetime.timedelta(days=1)\n",
    "start_date = datetime.date.today()\n",
    "end_date = start_date + 7*day_delta\n",
    "for i in range((end_date - start_date).days):\n",
    "print(start_date + i*day_delta)\n",
    "\n",
    "################################################################################\n",
    "Which produces:\n",
    "2016-07-21\n",
    "2016-07-22\n",
    "2016-07-23\n",
    "2016-07-24\n",
    "2016-07-25\n",
    "2016-07-26\n",
    "2016-07-27"
   ]
  },
  {
   "cell_type": "code",
   "execution_count": 3,
   "metadata": {},
   "outputs": [
    {
     "name": "stdout",
     "output_type": "stream",
     "text": [
      "2016-04-15 08:27:18-05:00\n"
     ]
    }
   ],
   "source": [
    "import datetime\n",
    "dt = datetime.datetime.strptime(\"2016-04-15T08:27:18-0500\", \"%Y-%m-%dT%H:%M:%S%z\")\n",
    "print(dt)"
   ]
  },
  {
   "cell_type": "code",
   "execution_count": null,
   "metadata": {},
   "outputs": [],
   "source": []
  }
 ],
 "metadata": {
  "kernelspec": {
   "display_name": "Python 3",
   "language": "python",
   "name": "python3"
  },
  "language_info": {
   "codemirror_mode": {
    "name": "ipython",
    "version": 3
   },
   "file_extension": ".py",
   "mimetype": "text/x-python",
   "name": "python",
   "nbconvert_exporter": "python",
   "pygments_lexer": "ipython3",
   "version": "3.7.6"
  }
 },
 "nbformat": 4,
 "nbformat_minor": 4
}
