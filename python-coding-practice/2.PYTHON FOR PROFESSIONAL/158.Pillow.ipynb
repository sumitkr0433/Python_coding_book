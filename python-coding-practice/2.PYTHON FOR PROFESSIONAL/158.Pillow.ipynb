{
 "cells": [
  {
   "cell_type": "code",
   "execution_count": null,
   "metadata": {},
   "outputs": [],
   "source": [
    "Chapter 158: Pillow"
   ]
  },
  {
   "cell_type": "code",
   "execution_count": null,
   "metadata": {},
   "outputs": [],
   "source": [
    "Section 158.1: Read Image File\n",
    "from PIL import Image\n",
    "im = Image.open(\"Image.bmp\")"
   ]
  },
  {
   "cell_type": "code",
   "execution_count": null,
   "metadata": {},
   "outputs": [],
   "source": [
    "Section 158.2: Convert files to JPEG\n",
    "from __future__ import print_function\n",
    "import os, sys\n",
    "from PIL import Image\n",
    "for infile in sys.argv[1:]:\n",
    "f, e = os.path.splitext(infile)\n",
    "outfile = f + \".jpg\"\n",
    "if infile != outfile:\n",
    "try:\n",
    "Image.open(infile).save(outfile)\n",
    "except IOError:\n",
    "print(\"cannot convert\", infile)"
   ]
  }
 ],
 "metadata": {
  "kernelspec": {
   "display_name": "Python 3",
   "language": "python",
   "name": "python3"
  },
  "language_info": {
   "codemirror_mode": {
    "name": "ipython",
    "version": 3
   },
   "file_extension": ".py",
   "mimetype": "text/x-python",
   "name": "python",
   "nbconvert_exporter": "python",
   "pygments_lexer": "ipython3",
   "version": "3.7.6"
  }
 },
 "nbformat": 4,
 "nbformat_minor": 4
}
