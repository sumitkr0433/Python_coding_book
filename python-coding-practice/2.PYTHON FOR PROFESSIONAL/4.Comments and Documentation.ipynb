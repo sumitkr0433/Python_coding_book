{
 "cells": [
  {
   "cell_type": "code",
   "execution_count": null,
   "metadata": {},
   "outputs": [],
   "source": [
    "Chapter 4: Comments and Documentation"
   ]
  },
  {
   "cell_type": "code",
   "execution_count": null,
   "metadata": {},
   "outputs": [],
   "source": [
    "Section 4.1: Single line, inline and multiline comments\n",
    "Comments are used to explain code when the basic code itself isn't clear.\n",
    "Python ignores comments, and so will not execute code in there, or raise syntax errors for plain English sentences.\n",
    "Single-line comments begin with the hash character ( # ) and are terminated by the end of line.\n",
    "Single line comment:\n",
    "# This is a single line comment in Python\n",
    "Inline comment:\n",
    "print(\"Hello World\")\n",
    "# This line prints \"Hello World\"\n",
    "Comments spanning multiple lines have \"\"\" or ''' on either end. This is the same as a multiline string, but\n",
    "they can be used as comments:\n",
    "\"\"\"\n",
    "This type of comment spans multiple lines.\n",
    "These are mostly used for documentation of functions, classes and modules.\n",
    "\"\"\""
   ]
  },
  {
   "cell_type": "code",
   "execution_count": null,
   "metadata": {},
   "outputs": [],
   "source": [
    "Section 4.2: Programmatically accessing docstrings\n",
    "Docstrings are - unlike regular comments - stored as an attribute of the function they document, meaning that you\n",
    "can access them programmatically.\n",
    "An example function\n",
    "def func():\n",
    "\"\"\"This is a function that does nothing at all\"\"\"\n",
    "return\n",
    "The docstring can be accessed using the __doc__ attribute:\n",
    "print(func.__doc__)\n",
    "This is a function that does nothing at all\n",
    "help(func)\n",
    "Help on function func in module __main__ :\n",
    "func()\n",
    "This is a function that does nothing at all\n",
    "Another example function\n",
    "function.__doc__ is just the actual docstring as a string, while the help function provides general information\n",
    "about a function, including the docstring. Here's a more helpful example:\n",
    "def greet(name, greeting=\"Hello\"):\n",
    "\"\"\"Print a greeting to the user `name`\n",
    "Optional parameter `greeting` can change what they're greeted with.\"\"\"\n",
    "print(\"{} {}\".format(greeting, name))\n",
    "help(greet)\n",
    "Help on function greet in module __main__ :\n",
    "greet(name, greeting='Hello')\n",
    "Print a greeting to the user name\n",
    "Optional parameter greeting can change what they're greeted with."
   ]
  },
  {
   "cell_type": "code",
   "execution_count": null,
   "metadata": {},
   "outputs": [],
   "source": [
    "Advantages of docstrings over regular comments\n",
    "Just putting no docstring or a regular comment in a function makes it a lot less helpful.\n",
    "def greet(name, greeting=\"Hello\"):\n",
    "# Print a greeting to the user `name`\n",
    "# Optional parameter `greeting` can change what they're greeted with.\n",
    "print(\"{} {}\".format(greeting, name))\n",
    "print(greet.__doc__)\n",
    "None\n",
    "help(greet)\n",
    "Help on function greet in module main:\n",
    "greet(name, greeting='Hello')"
   ]
  },
  {
   "cell_type": "code",
   "execution_count": null,
   "metadata": {},
   "outputs": [],
   "source": [
    "Section 4.3: Write documentation using docstrings\n",
    "A docstring is a multi-line comment used to document modules, classes, functions and methods. It has to be the\n",
    "first statement of the component it describes.\n",
    "def hello(name):\n",
    "\"\"\"Greet someone.\n",
    "Print a greeting (\"Hello\") for the person with the given name.\n",
    "\"\"\"\n",
    "print(\"Hello \"+name)\n",
    "class Greeter:\n",
    "\"\"\"An object used to greet people.\n",
    "It contains multiple greeting functions for several languages\n",
    "and times of the day.\n",
    "\"\"\"\n",
    "The value of the docstring can be accessed within the program and is - for example - used by the help command."
   ]
  },
  {
   "cell_type": "code",
   "execution_count": null,
   "metadata": {},
   "outputs": [],
   "source": [
    "Syntax conventions\n",
    "PEP 257\n",
    "PEP 257 defines a syntax standard for docstring comments. It basically allows two types:\n",
    "One-line Docstrings:\n",
    "According to PEP 257, they should be used with short and simple functions. Everything is placed in one line, e.g:\n",
    "def hello():\n",
    "\"\"\"Say hello to your friends.\"\"\"\n",
    "print(\"Hello my friends!\")\n",
    "The docstring shall end with a period, the verb should be in the imperative form.\n",
    "Multi-line Docstrings:\n",
    "Multi-line docstring should be used for longer, more complex functions, modules or classes.\n",
    "def hello(name, language=\"en\"):\n",
    "\"\"\"Say hello to a person.\n",
    "Arguments:\n",
    "name: the name of the person\n",
    "language: the language in which the person should be greeted\n",
    "\"\"\"\n",
    "print(greeting[language]+\" \"+name)\n",
    "They start with a short summary (equivalent to the content of a one-line docstring) which can be on the same line\n",
    "as the quotation marks or on the next line, give additional detail and list parameters and return values.\n",
    "Note PEP 257 defines what information should be given within a docstring, it doesn't define in which format it\n",
    "should be given. This was the reason for other parties and documentation parsing tools to specify their own\n",
    "standards for documentation, some of which are listed below and in this question."
   ]
  },
  {
   "cell_type": "code",
   "execution_count": null,
   "metadata": {},
   "outputs": [],
   "source": [
    "Sphinx\n",
    "Sphinx is a tool to generate HTML based documentation for Python projects based on docstrings. Its markup\n",
    "language used is reStructuredText. They define their own standards for documentation, pythonhosted.org hosts a\n",
    "very good description of them. The Sphinx format is for example used by the pyCharm IDE.\n",
    "A function would be documented like this using the Sphinx/reStructuredText format:\n",
    "def hello(name, language=\"en\"):\n",
    "\"\"\"Say hello to a person.\n",
    ":param name: the name of the person\n",
    ":type name: str\n",
    ":param language: the language in which the person should be greeted\n",
    ":type language: str\n",
    ":return: a number\n",
    ":rtype: int\n",
    "\"\"\"\n",
    "print(greeting[language]+\" \"+name)\n",
    "return 4"
   ]
  },
  {
   "cell_type": "code",
   "execution_count": null,
   "metadata": {},
   "outputs": [],
   "source": [
    "Google Python Style Guide\n",
    "Google has published Google Python Style Guide which defines coding conventions for Python, including\n",
    "documentation comments. In comparison to the Sphinx/reST many people say that documentation according to\n",
    "Google's guidelines is better human-readable.\n",
    "The pythonhosted.org page mentioned above also provides some examples for good documentation according to\n",
    "the Google Style Guide.\n",
    "Using the Napoleon plugin, Sphinx can also parse documentation in the Google Style Guide-compliant format.\n",
    "A function would be documented like this using the Google Style Guide format:\n",
    "def hello(name, language=\"en\"):\n",
    "\"\"\"Say hello to a person.\n",
    "Args:\n",
    "name: the name of the person as string\n",
    "language: the language code string\n",
    "Returns:\n",
    "A number.\n",
    "\"\"\"\n",
    "print(greeting[language]+\" \"+name)\n",
    "return 4"
   ]
  }
 ],
 "metadata": {
  "kernelspec": {
   "display_name": "Python 3",
   "language": "python",
   "name": "python3"
  },
  "language_info": {
   "codemirror_mode": {
    "name": "ipython",
    "version": 3
   },
   "file_extension": ".py",
   "mimetype": "text/x-python",
   "name": "python",
   "nbconvert_exporter": "python",
   "pygments_lexer": "ipython3",
   "version": "3.7.6"
  }
 },
 "nbformat": 4,
 "nbformat_minor": 4
}
