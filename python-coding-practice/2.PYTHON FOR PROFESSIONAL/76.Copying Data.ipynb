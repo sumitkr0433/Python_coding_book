{
 "cells": [
  {
   "cell_type": "code",
   "execution_count": null,
   "metadata": {},
   "outputs": [],
   "source": [
    "Chapter 76: Copying data"
   ]
  },
  {
   "cell_type": "code",
   "execution_count": null,
   "metadata": {},
   "outputs": [],
   "source": [
    "Section 76.1: Copy a dictionary\n",
    "A dictionary object has the method copy . It performs a shallow copy of the dictionary.\n",
    ">>> d1 = {1:[]}\n",
    ">>> d2 = d1.copy()\n",
    ">>> d1 is d2\n",
    "False\n",
    ">>> d1[1] is d2[1]\n",
    "True"
   ]
  },
  {
   "cell_type": "code",
   "execution_count": null,
   "metadata": {},
   "outputs": [],
   "source": [
    "Section 76.2: Performing a shallow copy\n",
    "A shallow copy is a copy of a collection without performing a copy of its elements.\n",
    ">>> import copy\n",
    ">>> c = [[1,2]]\n",
    ">>> d = copy.copy(c)\n",
    ">>> c is d\n",
    "False\n",
    ">>> c[0] is d[0]\n",
    "True"
   ]
  },
  {
   "cell_type": "code",
   "execution_count": null,
   "metadata": {},
   "outputs": [],
   "source": [
    "Section 76.3: Performing a deep copy\n",
    "If you have nested lists, it is desirable to clone the nested lists as well. This action is called deep copy.\n",
    ">>> import copy\n",
    ">>> c = [[1,2]]\n",
    ">>> d = copy.deepcopy(c)\n",
    ">>> c is d\n",
    "False\n",
    ">>> c[0] is d[0]\n",
    "False"
   ]
  },
  {
   "cell_type": "code",
   "execution_count": null,
   "metadata": {},
   "outputs": [],
   "source": [
    "Section 76.4: Performing a shallow copy of a list\n",
    "You can create shallow copies of lists using slices.\n",
    ">>> l1 = [1,2,3]\n",
    ">>> l2 = l1[:]\n",
    ">>> l2\n",
    "[1,2,3]\n",
    ">>> l1 is l2\n",
    "False"
   ]
  },
  {
   "cell_type": "code",
   "execution_count": null,
   "metadata": {},
   "outputs": [],
   "source": [
    "Section 76.5: Copy a set\n",
    "Sets also have a copy method. You can use this method to perform a shallow copy.\n",
    ">>> s1 = {()}\n",
    ">>> s2 = s1.copy()\n",
    ">>> s1 is s2\n",
    "False\n",
    ">>> s2.add(3)\n",
    ">>> s1\n",
    "{[]}\n",
    ">>> s2\n",
    "{3,[]}"
   ]
  },
  {
   "cell_type": "code",
   "execution_count": null,
   "metadata": {},
   "outputs": [],
   "source": []
  }
 ],
 "metadata": {
  "kernelspec": {
   "display_name": "Python 3",
   "language": "python",
   "name": "python3"
  },
  "language_info": {
   "codemirror_mode": {
    "name": "ipython",
    "version": 3
   },
   "file_extension": ".py",
   "mimetype": "text/x-python",
   "name": "python",
   "nbconvert_exporter": "python",
   "pygments_lexer": "ipython3",
   "version": "3.7.6"
  }
 },
 "nbformat": 4,
 "nbformat_minor": 4
}
