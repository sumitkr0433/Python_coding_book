{
 "cells": [
  {
   "cell_type": "markdown",
   "metadata": {},
   "source": [
    "json"
   ]
  },
  {
   "cell_type": "code",
   "execution_count": null,
   "metadata": {},
   "outputs": [],
   "source": [
    "# API:\n",
    "\n",
    "API → Application Programming Interface\n",
    "The main objective of API is two applications can communicate with each other. API allows \n",
    "external agent to communicate (integrate and exchange information) with our application.\n",
    "In Simple way: 'Methods of communication between software components'"
   ]
  },
  {
   "cell_type": "code",
   "execution_count": null,
   "metadata": {},
   "outputs": [],
   "source": [
    "Eg1:\n",
    "By using API a java application can communicate with python application. Bookmyshow \n",
    "application can communicate with Payment \n",
    "gateway application to complete our booking.\n",
    "Eg2: Authentication with Facebook\n",
    "Note: Interface of communication between the user and application is nothing but API. The user can be Human user, an android \n",
    "app or desktop application etc"
   ]
  },
  {
   "cell_type": "code",
   "execution_count": null,
   "metadata": {},
   "outputs": [],
   "source": [
    "Web API/Web Service:\n",
    "The interface of communication between the user and application over the web by using HTTP is nothing but Web API."
   ]
  },
  {
   "cell_type": "markdown",
   "metadata": {},
   "source": [
    "# REST: Representational State Transfer:\n",
    "\n",
    "• Representational State Transfer(REST) is an architectural style for designing loosely coupled applications over HTTP.\n",
    "• It defines several Rules/Guide Lines to develop Web APIs/Web Services\n",
    "• By using REST, we can develop web APIs very easily in concise way.\n",
    "• Hence REST is the most popular Architecture to develop Web Services."
   ]
  },
  {
   "cell_type": "code",
   "execution_count": null,
   "metadata": {},
   "outputs": [],
   "source": [
    "5.RESTFul API:\n",
    "\n",
    "==========================================================================================\n",
    "The API which is developed by using REST Architecture is nothing but RESTFul API. \n",
    "i.e interface between the user and application where API implements REST Architecture.\n",
    "Note: REST is basically an architecture where as RESTFul API is an API that implements REST"
   ]
  },
  {
   "cell_type": "markdown",
   "metadata": {},
   "source": [
    "# The main objective of web APIs is interoperability. \n",
    "\n",
    "=======================================================================================\n",
    "ie different applications can communicate with each other irrespective  of develop language and platform. The common \n",
    "communication language is: HTTP The common message format is: XML/JSON"
   ]
  },
  {
   "cell_type": "code",
   "execution_count": null,
   "metadata": {},
   "outputs": [],
   "source": [
    "The main advantage of JSON over XML is, it is Machine Friendly and Human Friendly Form.\n",
    "Reading our xml data is called parsing."
   ]
  },
  {
   "cell_type": "markdown",
   "metadata": {},
   "source": [
    "# HTTP Verbs:\n",
    "\n",
    "=========================================================================================\n",
    "HTTP Verbs represent the type of operation what we required. Based on requirement we have to use the corresponding HTTP verb.\n",
    "The following are various HTTP Verbs.\n",
    "\n",
    "=========================================================================================\n",
    "1) GET → To get one/more existing resources \n",
    "2) POST → To create a new resource \n",
    "3) PUT → To update an existing resource like update all fields of employee\n",
    "4) PATCH → To perform partial updation of an existing resource like updating only salary of employee \n",
    "5) DELETE → To delete an existing resource.\n",
    "\n",
    "====================================================================================================================================================================================\n",
    "Note: These are only important HTTP Verbs. The following are not that much important verbs.\n",
    "\n",
    "=========================================================================================\n",
    "• OPTIONS\n",
    "• HEAD\n",
    "• CONNECT\n",
    "• TRACE\n",
    "• LOCK\n",
    "• MOVE\n",
    "• PROFIND etc"
   ]
  },
  {
   "cell_type": "code",
   "execution_count": null,
   "metadata": {},
   "outputs": [],
   "source": [
    "HTTP Verbs vs Database CRUD Operations:\n",
    "C (CREATE) → POST R (RETRIEVE/READ) → GET U (UPDATE) → PUT/PATCH D (DELETE) → DELETE"
   ]
  },
  {
   "cell_type": "markdown",
   "metadata": {},
   "source": [
    "# 15.Types of Web Services:\n",
    "\n",
    "1) SOAP Based WebServices 2) RESTful WebServices\n",
    "\n",
    "==========================================================================================\n",
    "\n",
    "Rest Api\n",
    "\n",
    "====================================================================================\n",
    "➢ REST stands for Representational State Transfer.\n",
    "➢ It means that each unique URL is a represention of some object.\n",
    "➢ We can get contents of this object by using HTTP GET, we can modify by using PUT/PATCH and we can delete by using DELETE.\n",
    "➢ We can create by using POST.\n",
    "➢ Most of the times RESTful web service will provide data in the form of JSON, parsing is not difficult.\n",
    "➢ Hence this type of web services are faster when compared with SOAP based Web Services.\n",
    "➢ Transfer of JSON Data over the network requires less bandwidth.\n",
    "\n",
    "===============================================================================\n",
    "SOAP: Simple Object Access Protocol.\n",
    ">SOAP is an XML based protocol for accessing web services.\n",
    ">To describe SOAP based web services we have to use a special language: WSDL (Web Service Description Language).\n",
    ">SOAP based web services are more secured. We can consume by using\n",
    ">RPC Method calls. These web services can provide support for multiple protocols like HTTP, SMTP, FTP etc\n"
   ]
  },
  {
   "cell_type": "code",
   "execution_count": null,
   "metadata": {},
   "outputs": [],
   "source": [
    "Limitation of REST API \n",
    "\n",
    "========================================================================================\n",
    "1).It is less secured.\n",
    "2).It provide support only for the protocols which can provide URI, mostly HTTP\n",
    "\n",
    "Note:Because of ligth weight, high performance, less bandwidth requirements, easy \n",
    "development, human understandable message format, this type of web services are most \n",
    "commonly used type of web services\n",
    "\n",
    "========================================================================================\n",
    "Limited for Saop\n",
    "\n",
    "===================================================================================\n",
    "1) SOAP Based web services will always provide data only in XML format.Parsing of this XML \n",
    "data is very slow,which creates performance problems.\n",
    "2).Transfter of XML data over network requires more bandwidth.\n",
    "3).Implementing SOAP Based Web Services is very difficult.\n",
    "\n",
    "====================================================================================\n",
    "Note:\n",
    "Because of heavy weight, less performance and more bandwidth requirements, SOAP based web \n",
    "services are not commonly used these days."
   ]
  },
  {
   "cell_type": "markdown",
   "metadata": {},
   "source": [
    "# Python Function Definition\n",
    "\n",
    "=========================================================================================\n",
    "def employee_data_view(request):\n",
    "\n",
    "    #Python Dictionary\n",
    "    employee_data=\n",
    "    {\n",
    "        'eno':100,\n",
    "        'ename':'Sunny Leone',\n",
    "        'esal':1000,'eaddr':'Hyderabad'\n",
    "}\n",
    "resp='<h1>Employee No:{}<br>Employee Name:{}<br>Employee Salary:{}<br>EmployeeAddress:{}</h1>'.format(employee_data['eno'],employee_data['ename'],employee_data['esal'],employee_ata['eaddr'])\n",
    "return HttpResponse(resp)"
   ]
  },
  {
   "cell_type": "code",
   "execution_count": null,
   "metadata": {},
   "outputs": [],
   "source": [
    "Django View Function to send HTTPResponse with JSON\n",
    "module: json\n",
    "This module contains dumps() function to convert python dictionary to json object.(serialization)\n",
    "=================================================================================================================\n",
    "Import json\n",
    "def employee_data_jsonview(request):\n",
    "    employee_data=\n",
    "    {\n",
    "    'eno':100,'\n",
    "    ename':'Sunny Leone',\n",
    "    'esal':1000,'\n",
    "    eaddr':'Hyderabad'\n",
    "    } \n",
    "json_data=json.dumps(employee_data)\n",
    "===================================================================================================================\n",
    "Note: This way of sending JSON response is very old. Newer versions of Django dprovided a special class JsonResponse."
   ]
  },
  {
   "cell_type": "code",
   "execution_count": null,
   "metadata": {},
   "outputs": [],
   "source": [
    "# 1.JSON Module"
   ]
  },
  {
   "cell_type": "markdown",
   "metadata": {},
   "source": [
    "# 3.Module Used:----import json"
   ]
  },
  {
   "cell_type": "markdown",
   "metadata": {},
   "source": [
    "# 4.Function or Method Used"
   ]
  },
  {
   "cell_type": "code",
   "execution_count": null,
   "metadata": {},
   "outputs": [],
   "source": [
    "dump()--->"
   ]
  },
  {
   "cell_type": "code",
   "execution_count": null,
   "metadata": {},
   "outputs": [],
   "source": [
    "load()---->"
   ]
  },
  {
   "cell_type": "markdown",
   "metadata": {},
   "source": [
    "# 5.(49.1)Encodes the data stored in d into JSON and stores it in a file (replace filename with the actual name of the file)"
   ]
  },
  {
   "cell_type": "code",
   "execution_count": 2,
   "metadata": {},
   "outputs": [],
   "source": [
    "import json\n",
    "#Dictionary Creation\n",
    "d = {'foo': 'bar','alice': 1,'wonderland': [1, 2, 3]}\n",
    "#With open commands we have defined the two paramnter filename and and the mode we open\n",
    "with open(\"filename\", 'w+') as f:\n",
    "    #.Using the \n",
    "    json.dump(d, f)"
   ]
  },
  {
   "cell_type": "markdown",
   "metadata": {},
   "source": [
    "# 6. (49.2)Retrieving data from a file"
   ]
  },
  {
   "cell_type": "code",
   "execution_count": 4,
   "metadata": {},
   "outputs": [
    {
     "name": "stdout",
     "output_type": "stream",
     "text": [
      "{'foo': 'bar', 'alice': 1, 'wonderland': [1, 2, 3]}\n"
     ]
    }
   ],
   "source": [
    "import json\n",
    "with open(\"filename\", 'r') as f:\n",
    "#Converting to Python Dictionary by using the Load Function       \n",
    "    d = json.load(f)\n",
    "    print(d)"
   ]
  },
  {
   "cell_type": "markdown",
   "metadata": {},
   "source": [
    "# 7.(49.3).Formatting JSON output\n",
    "Let's say we have the following data:\n",
    ">>> data = {\"cats\": [{\"name\": \"Tubbs\", \"color\": \"white\"}, {\"name\": \"Pepper\", \"color\": \"black\"}]}"
   ]
  },
  {
   "cell_type": "code",
   "execution_count": 8,
   "metadata": {
    "scrolled": false
   },
   "outputs": [
    {
     "name": "stdout",
     "output_type": "stream",
     "text": [
      "{\"cats\": [{\"name\": \"Tubbs\", \"color\": \"white\"}, {\"name\": \"Pepper\", \"color\": \"black\"}]}\n"
     ]
    }
   ],
   "source": [
    "#.Dictionary\n",
    "data = {\"cats\": [{\"name\": \"Tubbs\", \"color\": \"white\"}, {\"name\": \"Pepper\", \"color\": \"black\"}]}\n",
    "#.Converting into json data \n",
    "print(json.dumps(data))"
   ]
  },
  {
   "cell_type": "markdown",
   "metadata": {},
   "source": [
    "# 8.Setting indentation to get prettier output\n",
    "If we want pretty printing, we can set an indent size:"
   ]
  },
  {
   "cell_type": "code",
   "execution_count": 9,
   "metadata": {},
   "outputs": [
    {
     "name": "stdout",
     "output_type": "stream",
     "text": [
      "{\n",
      "  \"cats\": [\n",
      "    {\n",
      "      \"name\": \"Tubbs\",\n",
      "      \"color\": \"white\"\n",
      "    },\n",
      "    {\n",
      "      \"name\": \"Pepper\",\n",
      "      \"color\": \"black\"\n",
      "    }\n",
      "  ]\n",
      "}\n"
     ]
    }
   ],
   "source": [
    "#.Dictionary\n",
    "data = {\"cats\": [{\"name\": \"Tubbs\", \"color\": \"white\"}, {\"name\": \"Pepper\", \"color\": \"black\"}]}\n",
    "#.Converting into json data \n",
    "print(json.dumps(data, indent=2))\n",
    "#Page 275"
   ]
  },
  {
   "cell_type": "markdown",
   "metadata": {},
   "source": [
    "# 9.Sorting keys alphabetically to get consistent output\n",
    "By default the order of keys in the output is undefined. We can get them in alphabetical order to make sure we\n",
    "always get the same output:"
   ]
  },
  {
   "cell_type": "code",
   "execution_count": 10,
   "metadata": {},
   "outputs": [
    {
     "name": "stdout",
     "output_type": "stream",
     "text": [
      "{\"cats\": [{\"color\": \"white\", \"name\": \"Tubbs\"}, {\"color\": \"black\", \"name\": \"Pepper\"}]}\n"
     ]
    }
   ],
   "source": [
    "#.Dictionary\n",
    "data = {\"cats\": [{\"name\": \"Tubbs\", \"color\": \"white\"}, {\"name\": \"Pepper\", \"color\": \"black\"}]}\n",
    "#.Converting into json data \n",
    "print(json.dumps(data, sort_keys=True))"
   ]
  },
  {
   "cell_type": "markdown",
   "metadata": {},
   "source": [
    "# 10.Getting rid of whitespace to get compact output\n",
    "We might want to get rid of the unnecessary spaces, which is done by setting separator strings different from the\n",
    "default ', ' and ': ':"
   ]
  },
  {
   "cell_type": "code",
   "execution_count": 11,
   "metadata": {},
   "outputs": [
    {
     "name": "stdout",
     "output_type": "stream",
     "text": [
      "{\"cats\":[{\"name\":\"Tubbs\",\"color\":\"white\"},{\"name\":\"Pepper\",\"color\":\"black\"}]}\n"
     ]
    }
   ],
   "source": [
    "#.Dictionary\n",
    "data = {\"cats\": [{\"name\": \"Tubbs\", \"color\": \"white\"}, {\"name\": \"Pepper\", \"color\": \"black\"}]}\n",
    "#.Converting into json data and using the separator: inspite of ,\n",
    "print(json.dumps(data, separators=(',', ':')))"
   ]
  },
  {
   "cell_type": "markdown",
   "metadata": {},
   "source": [
    "# 11. 49.4: `load` vs `loads`, `dump` vs `dumps`\n",
    "The json module contains functions for both reading and writing to and from unicode strings, and reading and\n",
    "writing to and from files. These are differentiated by a trailing s in the function name. In these examples we use a\n",
    "StringIO object, but the same functions would apply for any file-like object."
   ]
  },
  {
   "cell_type": "code",
   "execution_count": null,
   "metadata": {},
   "outputs": [],
   "source": [
    "#.we use the string-based functions:\n",
    "import json\n",
    "data = {u\"foo\": u\"bar\", u\"baz\": []}\n",
    "#converting the dictionary to json format\n",
    "json_string = json.dumps(data)\n",
    "# u'{\"foo\": \"bar\", \"baz\": []}'\n",
    "#Again converting the json into dict function\n",
    "json.loads(json_string)\n",
    "# {u\"foo\": u\"bar\", u\"baz\": []}"
   ]
  },
  {
   "cell_type": "code",
   "execution_count": null,
   "metadata": {},
   "outputs": [],
   "source": [
    "And here we use the file-based functions:\n",
    "\n",
    "###################################################################    \n",
    "import json\n",
    "from io import StringIO\n",
    "json_file = StringIO()\n",
    "data = {u\"foo\": u\"bar\", u\"baz\": []}\n",
    "json.dump(data, json_file)\n",
    "json_file.seek(0) # Seek back to the start of the file before reading\n",
    "json_file_content = json_file.read()\n",
    "# u'{\"foo\": \"bar\", \"baz\": []}'\n",
    "json_file.seek(0) # Seek back to the start of the file before reading\n",
    "json.load(json_file)\n",
    "# {u\"foo\": u\"bar\", u\"baz\": []}"
   ]
  },
  {
   "cell_type": "code",
   "execution_count": null,
   "metadata": {},
   "outputs": [],
   "source": [
    "As you can see the main difference is that when dumping json data you must pass the file \n",
    "handle to the function, as opposed to capturing the return value. \n",
    "Also worth noting is that you must seek to the start of the file before reading or writing, in order to avoid data corruption. When opening a file the cursor is placed at position 0 , so the below\n",
    "would also work:"
   ]
  },
  {
   "cell_type": "code",
   "execution_count": null,
   "metadata": {},
   "outputs": [],
   "source": [
    "import json\n",
    "json_file_path = './data.json'\n",
    "data = {u\"foo\": u\"bar\", u\"baz\": []}\n",
    "with open(json_file_path, 'w') as json_file:\n",
    "json.dump(data, json_file)\n",
    "\n",
    "\n",
    "with open(json_file_path) as json_file:\n",
    "json_file_content = json_file.read()\n",
    "# u'{\"foo\": \"bar\", \"baz\": []}'\n",
    "\n",
    "##############################################################\n",
    "\n",
    "with open(json_file_path) as json_file:\n",
    "json.load(json_file)\n",
    "# {u\"foo\": u\"bar\", u\"baz\": []}\n",
    "\n",
    "############################################################################\n",
    "Having both ways of dealing with json data allows you to idiomatically and efficiently \n",
    "work with formats which build upon json, such as pyspark 's json-per-line:\n",
    "\n",
    "# loading from a file\n",
    "data = [json.loads(line) for line in open(file_path).splitlines()]\n",
    "\n",
    "# dumping to a file\n",
    "with open(file_path, 'w') as json_file:\n",
    "for item in data:\n",
    "json.dump(item, json_file)\n",
    "json_file.write('\\n')"
   ]
  },
  {
   "cell_type": "markdown",
   "metadata": {},
   "source": [
    "# 49.5: Calling `json.tool` from the command line to pretty-print JSON output\n",
    "\n",
    "########################################################################\n",
    "Given some JSON file \"foo.json\" like:-\n",
    "\n",
    "{\"foo\": {\"bar\": {\"baz\": 1}}}\n",
    "\n",
    "we can call the module directly from the command line (passing the filename as an argument) to pretty-print it:\n",
    "\n",
    "#################################################################\n",
    "$ python -m json.tool foo.json\n",
    "{\n",
    "\"foo\": {\n",
    "\"bar\": {\n",
    "\"baz\": 1\n",
    "}\n",
    "}\n",
    "}\n",
    "The module will also take input from STDOUT, so (in Bash) we equally could do:\n",
    "$ cat foo.json | python -m json.tool"
   ]
  },
  {
   "cell_type": "code",
   "execution_count": null,
   "metadata": {},
   "outputs": [],
   "source": [
    "49.6: JSON encoding custom objects\n",
    "If we just try the following:\n",
    "    \n",
    "###########################################################################\n",
    "import json\n",
    "from datetime import datetime\n",
    "data = {'datetime': datetime(2016, 9, 26, 4, 44, 0)}\n",
    "print(json.dumps(data))\n",
    "\n",
    "we get an error saying TypeError: datetime.datetime(2016, 9, 26, 4, 44) is not JSON \n",
    "serializable .\n",
    "To be able to serialize the datetime object properly, we need to write custom code for \n",
    "how to convert it:\n",
    "    \n",
    "#######################################################################\n",
    "class DatetimeJSONEncoder(json.JSONEncoder):\n",
    "    def default(self, obj):\n",
    "        try:\n",
    "            return obj.isoformat()\n",
    "        except AttributeError:\n",
    "        # obj has no isoformat method; let the builtin JSON encoder handle it\n",
    "            return super(DatetimeJSONEncoder, self).default(obj)\n",
    "\n",
    "and then use this encoder class instead of json.dumps :\n",
    "\n",
    "encoder = DatetimeJSONEncoder()\n",
    "print(encoder.encode(data))\n",
    "# prints {\"datetime\": \"2016-09-26T04:44:00\"}"
   ]
  },
  {
   "cell_type": "code",
   "execution_count": null,
   "metadata": {},
   "outputs": [],
   "source": [
    "49.7: Creating JSON from Python dict\n",
    "    \n",
    "############################################################\n",
    "\n",
    "import json\n",
    "d = {\n",
    "'foo': 'bar',\n",
    "'alice': 1,\n",
    "'wonderland': [1, 2, 3]\n",
    "}\n",
    "json.dumps(d)\n",
    "\n",
    "########################################################################\n",
    "The above snippet will return the following:\n",
    "'{\"wonderland\": [1, 2, 3], \"foo\": \"bar\", \"alice\": 1}'"
   ]
  },
  {
   "cell_type": "markdown",
   "metadata": {},
   "source": [
    "# 49.8: Creating Python dict from JSON\n",
    "\n",
    "##########################################################################   \n",
    "import json\n",
    "s = '{\"wonderland\": [1, 2, 3], \"foo\": \"bar\", \"alice\": 1}'\n",
    "json.loads(s)\n",
    "\n",
    "##################################################################ssss\n",
    "The above snippet will return the following:\n",
    "{u'alice': 1, u'foo': u'bar', u'wonderland': [1, 2, 3]}"
   ]
  },
  {
   "cell_type": "code",
   "execution_count": null,
   "metadata": {},
   "outputs": [],
   "source": [
    "Python Application to communicate with Django Application:\n",
    "===============================================================================================================\n",
    "From python if we want to send http request we should go for requests module.\n",
    "Pip install requests\n",
    "\n",
    "=======================================================================================================================\n",
    "import requests\n",
    "BASE_URL='http://127.0.0.1:8000/'\n",
    "ENDPOINT='apijson'\n",
    "r =requests.get(BASE_URL+ENDPOINT)\n",
    "# converting to dictionary\n",
    "data=r.json() \n",
    "6) print('Employee Number:',data['eno'])\n",
    "7) print('Employee Name:',data['ename'])\n",
    "8) print('Employee Salary:',data['esal'])\n",
    "9) print('Employee Address:',data['eaddr'])\n",
    "\n",
    "=========================================================================================================================\n",
    "import requests\n",
    "BASE_URL='http://127.0.0.1:8000/'\n",
    "ENDPOINT='apijson'\n",
    "r =requests.post(BASE_URL+ENDPOINT)\n",
    "data=r.json() # converting to dictionary\n",
    "6) print('Employee Number:',data['eno'])\n",
    "7) print('Employee Name:',data['ename'])\n",
    "8) print('Employee Salary:',data['esal'])\n",
    "9) print('Employee Address:',data['eaddr'])\n",
    "\n",
    "==========================================================================================================================\n",
    "import requests\n",
    "BASE_URL='http://127.0.0.1:8000/'\n",
    "ENDPOINT='apijson'\n",
    "r =requests.put(BASE_URL+ENDPOINT)\n",
    "data=r.json() # converting to dictionary\n",
    "6) print('Employee Number:',data['eno'])\n",
    "7) print('Employee Name:',data['ename'])\n",
    "8) print('Employee Salary:',data['esal'])\n",
    "9) print('Employee Address:',data['eaddr'])\n",
    "=====================================================================================================================\n",
    "import requests\n",
    "BASE_URL='http://127.0.0.1:8000/'\n",
    "ENDPOINT='apijson'\n",
    "r =requests.put(BASE_URL+ENDPOINT)\n",
    "data=r.json() # converting to dictionary\n",
    "6) print('Employee Number:',data['eno'])\n",
    "7) print('Employee Name:',data['ename'])\n",
    "8) print('Employee Salary:',data['esal'])\n",
    "9) print('Employee Address:',data['eaddr'])"
   ]
  },
  {
   "cell_type": "code",
   "execution_count": null,
   "metadata": {},
   "outputs": [],
   "source": [
    "HTTPie Module:\n",
    "We can use this module to send http request from command prompt.We can install as follows\n",
    "\n",
    "pip install httpie\n",
    "\n",
    "We can http request as follows:\n",
    "\n",
    "    \n",
    "1) C:\\Users\\LENOVO>http http://127.0.0.1:8000\n",
    "2) HTTP/1.0 200 OK\n",
    "3) Content-Length: 72\n",
    "4) Content-Type: application/json\n",
    "5) Date: Thu, 13 Dec 2018 10:17:54 GMT 6) Server: WSGIServer/0.2 CPython/3.6.5 7) X-Frame-Options: SAMEORIGIN 8)\n",
    "9) {\n",
    "10) \"eaddr\": \"Hyderabad\",\n",
    "11) \"ename\": \"Sunny\", 12) \"eno\": 100,\n",
    "13) \"esal\": 1000\n",
    "14) }"
   ]
  },
  {
   "cell_type": "code",
   "execution_count": null,
   "metadata": {},
   "outputs": [],
   "source": []
  },
  {
   "cell_type": "markdown",
   "metadata": {},
   "source": [
    "# Name the different tools used to send Http Requests?\n",
    "We will use the following different kinds of tools to compose and send\n",
    "HTTP requests and visualize the responses throughout our book:\n",
    "Command-line tools\n",
    "GUI tools\n",
    "Python code\n",
    "Web browser\n",
    "JavaScript code\n"
   ]
  },
  {
   "cell_type": "code",
   "execution_count": null,
   "metadata": {},
   "outputs": [],
   "source": [
    "Curl, also known as cURL, is a very popular open source command-linetool and library that \n",
    "allows us to easily transfer data.We can use the curl command-line tool to easily compose \n",
    "and send HTTP requests and check their responses.\n",
    "\n",
    "\n",
    "Linux:-\tWindows:-\n",
    "In Linux or macOS, you can open a Terminal and start using curl from the command line.\n",
    "In Windows, you have two options. You can work with curl in CommandPrompt or you can decide to install curl \n",
    "as part of the Cygwin package installation option and execute it from the Cygwin terminal.\n",
    "\n"
   ]
  },
  {
   "cell_type": "code",
   "execution_count": null,
   "metadata": {},
   "outputs": [],
   "source": [
    "Q(4):What Is Postman?\n",
    "Postman is a very popular API testing suite GUI tool that\tallows us to easily compose and send HTTP requests, among \n",
    "other features. Postman is available as a standalone app in Linux, macOS, and Windows.\n",
    "\n",
    "=============================================================================================================================\n",
    "Q(5):What is STOPLIGHT?\n",
    "Stoplight is a very useful GUI tool that focuses on helping architects and developers to model complex APIs.\n",
    "\n",
    "If we need to consume our RESTful Web Service in many different programming languages, we will find Stoplight extremely helpful. Stoplight provides an HTTP request maker that allows us to compose and send requests and generate the necessary code to make them in different programming languages, such as \n",
    "JavaScript, Swift, C#, PHP, Node, and Go, among others.\n"
   ]
  }
 ],
 "metadata": {
  "kernelspec": {
   "display_name": "Python 3",
   "language": "python",
   "name": "python3"
  },
  "language_info": {
   "codemirror_mode": {
    "name": "ipython",
    "version": 3
   },
   "file_extension": ".py",
   "mimetype": "text/x-python",
   "name": "python",
   "nbconvert_exporter": "python",
   "pygments_lexer": "ipython3",
   "version": "3.7.6"
  }
 },
 "nbformat": 4,
 "nbformat_minor": 4
}
