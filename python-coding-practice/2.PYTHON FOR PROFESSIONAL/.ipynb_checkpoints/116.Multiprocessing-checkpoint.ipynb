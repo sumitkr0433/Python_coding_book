{
 "cells": [
  {
   "cell_type": "markdown",
   "metadata": {},
   "source": [
    "# Chapter 116: Multiprocessing"
   ]
  },
  {
   "cell_type": "code",
   "execution_count": null,
   "metadata": {},
   "outputs": [],
   "source": []
  },
  {
   "cell_type": "code",
   "execution_count": null,
   "metadata": {},
   "outputs": [],
   "source": [
    "\n",
    "Section 116.1: Running Two Simple Processes\n",
    "A simple example of using multiple processes would be two processes (workers) that are executed separately. In\n",
    "the following example, two processes are started:\n",
    "countUp() counts 1 up, every second.\n",
    "countDown() counts 1 down, every second."
   ]
  },
  {
   "cell_type": "code",
   "execution_count": null,
   "metadata": {},
   "outputs": [],
   "source": [
    "import multiprocessing\n",
    "import time\n",
    "from random import randint\n",
    "def countUp():\n",
    "i = 0\n",
    "while i <= 3:\n",
    "print('Up:\\t{}'.format(i))\n",
    "time.sleep(randint(1, 3)) # sleep 1, 2 or 3 seconds\n",
    "i += 1\n",
    "def countDown():\n",
    "i = 3\n",
    "while i >= 0:\n",
    "print('Down:\\t{}'.format(i))\n",
    "time.sleep(randint(1, 3)) # sleep 1, 2 or 3 seconds\n",
    "i -= 1\n",
    "\n",
    "#####################################################\n",
    "if __name__ =='__main__':\n",
    "    # Initiate the workers.\n",
    "    workerUp =multiprocessing.Process(target=countUp)\n",
    "    workerDown= multiprocessing.Process(target=countDown)\n",
    "\n",
    "# Start the workers.\n",
    "workerUp.start()\n",
    "workerDown.start()\n",
    "# Join the workers. This will block in the main (parent) process\n",
    "# until the workers are complete.\n",
    "workerUp.join()\n",
    "workerDown.join("
   ]
  },
  {
   "cell_type": "code",
   "execution_count": null,
   "metadata": {},
   "outputs": [],
   "source": [
    "The output is as follows:\n",
    "Up: 0\n",
    "Down:\n",
    "Up: 1\n",
    "Up: 2\n",
    "Down:\n",
    "Up: 3\n",
    "Down:\n",
    "Down:\n",
    "3\n",
    "2\n",
    "1\n",
    "0"
   ]
  },
  {
   "cell_type": "code",
   "execution_count": null,
   "metadata": {},
   "outputs": [],
   "source": [
    "Section 116.2: Using Pool and Map\n",
    "\n",
    "#####################################################################   \n",
    "from multiprocessing import Pool\n",
    "def cube(x):\n",
    "return x ** 3\n",
    "if __name__ == \"__main__\":\n",
    "pool = Pool(5)\n",
    "\n",
    "########################################################################\n",
    "result = pool.map(cube, [0, 1, 2, 3])\n",
    "\n",
    "#################################################################################\n",
    "Pool is a class which manages multiple Workers (processes) behind the scenes and \n",
    "lets you, the programmer, use. Pool(5) creates a new Pool with 5 processes, and pool.map \n",
    "works just like map but it uses multiple processes (the amount defined when creating the \n",
    "pool).\n",
    "\n",
    "Similar results can be achieved using map_async , apply and apply_async which can be found\n",
    "in the documentation."
   ]
  }
 ],
 "metadata": {
  "kernelspec": {
   "display_name": "Python 3",
   "language": "python",
   "name": "python3"
  },
  "language_info": {
   "codemirror_mode": {
    "name": "ipython",
    "version": 3
   },
   "file_extension": ".py",
   "mimetype": "text/x-python",
   "name": "python",
   "nbconvert_exporter": "python",
   "pygments_lexer": "ipython3",
   "version": "3.7.6"
  }
 },
 "nbformat": 4,
 "nbformat_minor": 4
}
