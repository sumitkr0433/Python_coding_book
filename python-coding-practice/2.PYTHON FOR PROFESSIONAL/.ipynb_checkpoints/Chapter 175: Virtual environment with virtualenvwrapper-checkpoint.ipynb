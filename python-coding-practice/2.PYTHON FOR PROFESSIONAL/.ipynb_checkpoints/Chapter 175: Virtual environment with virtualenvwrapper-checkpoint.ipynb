{
 "cells": [
  {
   "cell_type": "code",
   "execution_count": null,
   "metadata": {},
   "outputs": [],
   "source": [
    "Chapter 175: Virtual environment with virtualenvwrapper\n",
    "++++++++++++++++++++++++++++++++++++++++++++++++++++++++++++++++++++++++++++++++++++++++++\n",
    "=========================================================================================\n",
    "Suppose you need to work on three different projects project A, project B and project C. \n",
    "project A and project B need python 3 and some required libraries. But for project C you \n",
    "need python 2.7 and dependent libraries.So best practice for this is to separate those \n",
    "project environments. To create virtual environment you can use below technique:\n",
    "++++++++++++++++++++++++++++++++++++++++++++++++++++++++++++++++++++++++++++++++++++++++\n",
    "========================================================================================\n",
    "Virtualenv, Virtualenvwrapper and Conda\n",
    "Although we have several options for virtual environment but virtualenvwrapper is most \n",
    "recommended."
   ]
  },
  {
   "cell_type": "code",
   "execution_count": null,
   "metadata": {},
   "outputs": [],
   "source": [
    "Section 175.1: Create virtual environment with virtualenvwrapper\n",
    "++++++++++++++++++++++++++++++++++++++++++++++++++++++++++++++++++++++++++++++++++++++++++\n",
    "==========================================================================================\n",
    "Suppose you need to work on three different projects project A, project B and project C. \n",
    "project A and project B need python 3 and some required libraries. But for project C you \n",
    "need python 2.7 and dependent libraries.\n",
    "++++++++++++++++++++++++++++++++++++++++++++++++++++++++++++++++++++++++++++++++++++++++\n",
    "========================================================================================\n",
    "So best practice for this is to separate those project environments. To create virtual \n",
    "environment you can use below technique:\n",
    "++++++++++++++++++++++++++++++++++++++++++++++++++++++++++++++++++++++++++++++++++++++++\n",
    "========================================================================================\n",
    "Virtualenv, Virtualenvwrapper and Conda\n",
    "Although we have several options for virtual environment but virtualenvwrapper is most \n",
    "recommended.Although we have several options for virtual environment but I always prefer \n",
    "virtualenvwrapper because it has more facility then others."
   ]
  },
  {
   "cell_type": "code",
   "execution_count": null,
   "metadata": {},
   "outputs": [],
   "source": [
    "$ pip install virtualenvwrapper\n",
    "$ export WORKON_HOME=~/Envs\n",
    "$ mkdir -p $WORKON_HOME\n",
    "$ source /usr/local/bin/virtualenvwrapper.sh\n",
    "$ printf '\\n%s\\n%s\\n%s' '# virtualenv' 'export WORKON_HOME=~/virtualenvs' 'source\n",
    "/home/salayhin/bin/virtualenvwrapper.sh' >> ~/.bashrc\n",
    "$ source ~/.bashrc\n",
    "$ mkvirtualenv python_3.5\n",
    "Installing\n",
    "setuptools..........................................\n",
    "....................................................\n",
    "....................................................\n",
    "...............................done.\n",
    "virtualenvwrapper.user_scripts Creating /Users/salayhin/Envs/python_3.5/bin/predeactivate\n",
    "virtualenvwrapper.user_scripts Creating /Users/salayhin/Envs/python_3.5/bin/postdeactivate\n",
    "virtualenvwrapper.user_scripts Creating /Users/salayhin/Envs/python_3.5/bin/preactivate\n",
    "virtualenvwrapper.user_scripts Creating /Users/salayhin/Envs/python_3.5/bin/postactivate New python\n",
    "executable in python_3.5/bin/python\n",
    "(python_3.5)$ ls $WORKON_HOME\n",
    "python_3.5 hook.log\n",
    "Now we can install some software into the environment.\n"
   ]
  },
  {
   "cell_type": "code",
   "execution_count": null,
   "metadata": {},
   "outputs": [],
   "source": [
    "(python_3.5)$ pip install django\n",
    "Downloading/unpacking django\n",
    "Downloading Django-1.1.1.tar.gz (5.6Mb): 5.6Mb downloaded\n",
    "Running setup.py egg_info for package django\n",
    "Installing collected packages: django\n",
    "Running setup.py install for django\n",
    "changing mode of build/scripts-2.6/django-admin.py from 644 to 755\n",
    "changing mode of /Users/salayhin/Envs/env1/bin/django-admin.py to 755\n",
    "Successfully installed django\n",
    "We can see the new package with lssitepackages:\n",
    "(python_3.5)$ lssitepackages\n",
    "Django-1.1.1-py2.6.egg-info easy-install.pth\n",
    "setuptools-0.6.10-py2.6.egg pip-0.6.3-py2.6.egg\n",
    "django setuptools.pth\n",
    "We can create multiple virtual environment if we want.\n",
    "Switch between environments with workon:\n",
    "(python_3.6)$ workon python_3.5\n",
    "(python_3.5)$ echo $VIRTUAL_ENV\n",
    "/Users/salayhin/Envs/env1\n",
    "(python_3.5)$\n",
    "To exit the virtualenv\n",
    "$ deactivate"
   ]
  }
 ],
 "metadata": {
  "kernelspec": {
   "display_name": "Python 3",
   "language": "python",
   "name": "python3"
  },
  "language_info": {
   "codemirror_mode": {
    "name": "ipython",
    "version": 3
   },
   "file_extension": ".py",
   "mimetype": "text/x-python",
   "name": "python",
   "nbconvert_exporter": "python",
   "pygments_lexer": "ipython3",
   "version": "3.7.6"
  }
 },
 "nbformat": 4,
 "nbformat_minor": 4
}
