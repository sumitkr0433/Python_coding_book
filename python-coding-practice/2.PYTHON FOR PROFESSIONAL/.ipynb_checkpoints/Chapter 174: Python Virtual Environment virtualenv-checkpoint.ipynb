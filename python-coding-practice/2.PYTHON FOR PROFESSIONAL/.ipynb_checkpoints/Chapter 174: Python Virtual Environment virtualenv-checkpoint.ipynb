{
 "cells": [
  {
   "cell_type": "code",
   "execution_count": null,
   "metadata": {},
   "outputs": [],
   "source": [
    "Chapter 174: Python Virtual Environment virtualenv\n",
    "+++++++++++++++++++++++++++++++++++++++++++++++++++++++++++++++++++++++++++++++++++++++++\n",
    "=========================================================================================\n",
    "A Virtual Environment (\"virtualenv\") is a tool to create isolated Python environments. It \n",
    "keeps the dependencies required by different projects in separate places, by creating \n",
    "virtual Python env for them. It solves the “project A depends on version 2.xxx but, \n",
    "project B needs 2.xxx” dilemma, and keeps your global site-packages directory clean\n",
    "and manageable.\n",
    "+++++++++++++++++++++++++++++++++++++++++++++++++++++++++++++++++++++++++++++++++++++++++\n",
    "=========================================================================================\n",
    "\"virtualenv\" creates a folder which contains all the necessary libs and bins to use the \n",
    "packages that a Python project would need.\n",
    "++++++++++++++++++++++++++++++++++++++++++++++++++++++++++++++++++++++++++++++++++++++++\n",
    "=======================================================================================\n",
    "Section 174.1: Installation\n",
    "Install virtualenv via pip / (apt-get):\n",
    "pip install virtualenv\n",
    "OR\n",
    "apt-get install python-virtualenv\n",
    "Note: In case you are getting permission issues, use sudo."
   ]
  },
  {
   "cell_type": "code",
   "execution_count": null,
   "metadata": {},
   "outputs": [],
   "source": [
    "Section 174.2: Usage\n",
    "$ cd test_proj\n",
    "Create virtual environment:\n",
    "$ virtualenv test_proj\n",
    "To begin using the virtual environment, it needs to be activated:\n",
    "$ source test_project/bin/activate\n",
    "To exit your virtualenv just type “deactivate”:\n",
    "$ deactivate"
   ]
  },
  {
   "cell_type": "code",
   "execution_count": null,
   "metadata": {},
   "outputs": [],
   "source": [
    "Section 174.3: Install a package in your Virtualenv\n",
    "+++++++++++++++++++++++++++++++++++++++++++++++++++++++++++++++++++++++++++++++++++++++\n",
    "=======================================================================================\n",
    "If you look at the bin directory in your virtualenv, you’ll see easy_install which has \n",
    "been modified to put eggs and packages in the virtualenv’s site-packages directory. \n",
    "To install an app in your virtual environment:\n",
    "+++++++++++++++++++++++++++++++++++++++++++++++++++++++++++++++++++++++++++++++++++++++\n",
    "=======================================================================================\n",
    "$ source test_project/bin/activate\n",
    "$ pip install flask\n",
    "At this time, you don't have to use sudo since the files will all be installed in the \n",
    "local virtualenv site-packages directory. This was created as your own user account."
   ]
  },
  {
   "cell_type": "code",
   "execution_count": null,
   "metadata": {},
   "outputs": [],
   "source": [
    "Section 174.4: Other useful virtualenv commands\n",
    "+++++++++++++++++++++++++++++++++++++++++++++++++++++++++++++++++++++++++++++++++++++++\n",
    "=======================================================================================\n",
    "lsvirtualenv : List all of the environments.\n",
    "cdvirtualenv : Navigate into the directory of the currently activated virtual environment,\n",
    "so you can browse its site-packages, for example.\n",
    "cdsitepackages : Like the above, but directly into site-packages directory.\n",
    "lssitepackages : Shows contents of site-packages directory."
   ]
  }
 ],
 "metadata": {
  "kernelspec": {
   "display_name": "Python 3",
   "language": "python",
   "name": "python3"
  },
  "language_info": {
   "codemirror_mode": {
    "name": "ipython",
    "version": 3
   },
   "file_extension": ".py",
   "mimetype": "text/x-python",
   "name": "python",
   "nbconvert_exporter": "python",
   "pygments_lexer": "ipython3",
   "version": "3.7.6"
  }
 },
 "nbformat": 4,
 "nbformat_minor": 4
}
