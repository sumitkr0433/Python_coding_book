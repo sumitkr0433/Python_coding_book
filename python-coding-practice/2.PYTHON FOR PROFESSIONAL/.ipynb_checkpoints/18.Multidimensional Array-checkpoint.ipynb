{
 "cells": [
  {
   "cell_type": "markdown",
   "metadata": {},
   "source": [
    "# Chapter 18: Multidimensional arrays"
   ]
  },
  {
   "cell_type": "code",
   "execution_count": null,
   "metadata": {},
   "outputs": [],
   "source": [
    "Section 18.1: Lists in lists\n",
    "+++++++++++++++++++++++++++++++++++++++++++++++++++++++++++++++++++++++++++++++++++++++++++++++++++++++++++++++\n",
    "A good way to visualize a 2d array is as a list of lists. Something like this:\n",
    "lst=[[1,2,3],[4,5,6],[7,8,9]]\n",
    "+++++++++++++++++++++++++++++++++++++++++++++++++++++++++++++++++++++++++++++++++++++++++++++++++++++++++++++++++\n",
    "================================================================================================================\n",
    "here the outer list lst has three things in it. each of those things is another list: The first one is: [1,2,3] ,\n",
    "the second one is: [4,5,6] and the third one is: [7,8,9] .You can access these lists the same way you would access\n",
    "another other element of a list, like this:\n",
    "++++++++++++++++++++++++++++++++++++++++++++++++++++++++++++++++++++++++++++++++++++++++++++++++++++++++++++++++++\n",
    "print (lst[0])\n",
    "#output: [1, 2, 3]\n",
    "print (lst[1])\n",
    "#output: [4, 5, 6]\n",
    "print (lst[2])\n",
    "#output: [7, 8, 9]\n",
    "+++++++++++++++++++++++++++++++++++++++++++++++++++++++++++++++++++++++++++++++++++++++++++++++++++++++++++++++++\n",
    "=================================================================================================================\n",
    "You can then access the different elements in each of those lists the same way:\n",
    "print (lst[0][0])\n",
    "#output: 1\n",
    "print (lst[0][1])\n",
    "#output: 2\n",
    "+++++++++++++++++++++++++++++++++++++++++++++++++++++++++++++++++++++++++++++++++++++++++++++++++++++++++++++++++\n",
    "=================================================================================================================\n",
    "Here the first number inside the [] brackets means get the list in that position. In the above example we used the\n",
    "number 0 to mean get the list in the 0th position which is [1,2,3] . \n",
    "+++++++++++++++++++++++++++++++++++++++++++++++++++++++++++++++++++++++++++++++++++++++++++++++++++++++++++++++\n",
    "The second set of [] brackets means get the\n",
    "item in that position from the inner list. In this case we used both 0 and 1 the 0th position in the list we got \n",
    "is the number 1 and in the 1st position it is 2 You can also set values inside these lists the same way:"
   ]
  },
  {
   "cell_type": "code",
   "execution_count": null,
   "metadata": {},
   "outputs": [],
   "source": []
  },
  {
   "cell_type": "code",
   "execution_count": null,
   "metadata": {},
   "outputs": [],
   "source": [
    "lst[0]=[10,11,12]\n",
    "Now the list is [[10,11,12],[4,5,6],[7,8,9]] . \n",
    "++++++++++++++++++++++++++++++++++++++++++++++++++++++++++++++++++++++++++++++++++++++++++++++++++++++++++++++++++\n",
    "In this example we changed the whole first list to be a completely new list.\n",
    "lst[1][2]=15\n",
    "Now the list is [[10,11,12],[4,5,15],[7,8,9]] . In this example we changed a single element inside of one of the\n",
    "inner lists. First we went into the list at position 1 and changed the element within it at position 2, which was \n",
    "6 now it's 15."
   ]
  },
  {
   "cell_type": "code",
   "execution_count": null,
   "metadata": {},
   "outputs": [],
   "source": [
    "Section 18.2: Lists in lists in lists in..\n",
    "This behaviour can be extended. Here is a 3-dimensional array:\n",
    "++++++++++++++++++++++++++++++++++++++++++++++++++++++++++++++++++++++++++++++++++++++++++++++++++++++++++++++++++\n",
    "[[[111,112,113],[121,122,123],[131,132,133]],[[211,212,213],[221,222,223],[231,232,233]],[[311,312,\n",
    "313],[321,322,323],[331,332,333]]]"
   ]
  },
  {
   "cell_type": "code",
   "execution_count": null,
   "metadata": {},
   "outputs": [],
   "source": [
    "As is probably obvious, this gets a bit hard to read. Use backslashes to break up the different dimensions:\n",
    "[[[111,112,113],[121,122,123],[131,132,133]],\\\n",
    "[[211,212,213],[221,222,223],[231,232,233]],\\\n",
    "[[311,312,313],[321,322,323],[331,332,333]]]\n",
    "+++++++++++++++++++++++++++++++++++++++++++++++++++++++++++++++++++++++++++++++++++++++++++++++++++++++++++++++++\n",
    "By nesting the lists like this, you can extend to arbitrarily high dimensions.\n",
    "Accessing is similar to 2D arrays:\n",
    "++++++++++++++++++++++++++++++++++++++++++++++++++++++++++++++++++++++++++++++++++++++++++++++++++++++++++++++++++\n",
    "print(myarray)\n",
    "print(myarray[1])\n",
    "print(myarray[2][1])\n",
    "print(myarray[1][0][2])\n",
    "+++++++++++++++++++++++++++++++++++++++++++++++++++++++++++++++++++++++++++++++++++++++++++++++++++++++++++++++++\n",
    "etc.\n",
    "And editing is also similar:\n",
    "myarray[1]=new_n-1_d_list\n",
    "myarray[2][1]=new_n-2_d_list\n",
    "myarray[1][0][2]=new_n-3_d_list #or a single number if you're dealing with 3D arrays\n",
    "etc."
   ]
  }
 ],
 "metadata": {
  "kernelspec": {
   "display_name": "Python 3",
   "language": "python",
   "name": "python3"
  },
  "language_info": {
   "codemirror_mode": {
    "name": "ipython",
    "version": 3
   },
   "file_extension": ".py",
   "mimetype": "text/x-python",
   "name": "python",
   "nbconvert_exporter": "python",
   "pygments_lexer": "ipython3",
   "version": "3.7.6"
  }
 },
 "nbformat": 4,
 "nbformat_minor": 4
}
