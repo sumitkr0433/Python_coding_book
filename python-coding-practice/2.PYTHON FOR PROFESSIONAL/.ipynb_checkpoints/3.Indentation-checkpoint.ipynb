{
 "cells": [
  {
   "cell_type": "markdown",
   "metadata": {},
   "source": [
    "# Chapter 3: Indentation"
   ]
  },
  {
   "cell_type": "code",
   "execution_count": null,
   "metadata": {},
   "outputs": [],
   "source": [
    "Section 3.1: Simple example\n",
    "\n",
    "###############################################################################\n",
    "For Python, Guido van Rossum based the grouping of statements on indentation. The reasons \n",
    "for this are explained in the first section of the \"Design and History Python FAQ\".\n",
    "Colons, : , are used to declare an indented code block, such as the following example:\n",
    "\n",
    "###################################################################################        \n",
    "class ExampleClass:\n",
    "    #Every function belonging to a class must be indented equally\n",
    "    def __init__(self):\n",
    "        name = \"example\"\n",
    "    \n",
    "    def someFunction(self, a):\n",
    "        #Notice everything belonging to a function must be indented\n",
    "        if a > 5:\n",
    "            return True\n",
    "        else:\n",
    "            return False\n",
    "\n",
    "#####################################################################################        \n",
    "#If a function is not indented to the same level it will not be considers as part of the\n",
    "parent class\n",
    "\n",
    "##########################################################################\n",
    "def separateFunction(b):\n",
    "    for i in b:\n",
    "        #Loops are also indented and nested conditions start a new indentation\n",
    "        if i == 1:\n",
    "            return True\n",
    "    return False\n",
    "\n",
    "\n",
    "separateFunction([2,3,5,6,1])\n",
    "#################################################################################\n",
    "https://docs.python.org/3/faq/design.html\n",
    "https://docs.python.org/3/faq/design.html#why-are-colons-required-for-the-if-while-def-class-statements\n",
    "#################################################################################\n"
   ]
  },
  {
   "cell_type": "code",
   "execution_count": null,
   "metadata": {},
   "outputs": [],
   "source": [
    "Spaces or Tabs?\n",
    "The recommended indentation is 4 spaces but tabs or spaces can be used so \n",
    "long as they are consistent. Do not mix tabs and spaces in Python as this will cause an \n",
    "error in Python 3 and can causes errors in Python 2.\n",
    "\n",
    "##########################################################################\n",
    "Important Links:-\n",
    "https://www.python.org/dev/peps/pep-0008/#tabs-or-spaces"
   ]
  },
  {
   "cell_type": "code",
   "execution_count": null,
   "metadata": {},
   "outputs": [],
   "source": [
    "Section 3.2: How Indentation is Parsed\n",
    "Whitespace is handled by the lexical analyzer before being parsed.\n",
    "The lexical analyzer uses a stack to store indentation levels. At the beginning, the stack contains just the value 0,\n",
    "which is the leftmost position. Whenever a nested block begins, the new indentation level is pushed on the stack,\n",
    "and an \"INDENT\" token is inserted into the token stream which is passed to the parser. There can never be more\n",
    "than one \"INDENT\" token in a row ( IndentationError ).\n",
    "When a line is encountered with a smaller indentation level, values are popped from the stack until a value is on top\n",
    "which is equal to the new indentation level (if none is found, a syntax error occurs). For each value popped, a\n",
    "\"DEDENT\" token is generated. Obviously, there can be multiple \"DEDENT\" tokens in a row.\n",
    "The lexical analyzer skips empty lines (those containing only whitespace and possibly comments), and will never\n",
    "generate either \"INDENT\" or \"DEDENT\" tokens for them.\n",
    "At the end of the source code, \"DEDENT\" tokens are generated for each indentation level left on the stack, until just\n",
    "the 0 is left.\n",
    "For example:"
   ]
  },
  {
   "cell_type": "code",
   "execution_count": null,
   "metadata": {},
   "outputs": [],
   "source": [
    "if foo:\n",
    "if bar:\n",
    "x = 42\n",
    "else:\n",
    "print foo\n",
    "is analyzed as:\n",
    "<if> <foo> <:>\n",
    "<INDENT> <if> <bar> <:>\n",
    "<INDENT> <x> <=> <42>\n",
    "<DEDENT> <DEDENT> <else> <:>\n",
    "<INDENT> <print> <foo>\n",
    "<DEDENT>\n",
    "[0]\n",
    "[0, 4]\n",
    "[0, 4, 8]\n",
    "[0]\n",
    "[0, 2]\n",
    "The parser than handles the \"INDENT\" and \"DEDENT\" tokens as block delimiters."
   ]
  },
  {
   "cell_type": "code",
   "execution_count": null,
   "metadata": {},
   "outputs": [],
   "source": [
    "Section 3.3: Indentation Errors\n",
    "\n",
    "######################################################################################    \n",
    "The spacing should be even and uniform throughout. Improper indentation can cause an IndentationError or\n",
    "cause the program to do something unexpected. The following example raises an IndentationError :\n",
    "a = 7\n",
    "if a > 5:\n",
    "print \"foo\"\n",
    "else:\n",
    "print \"bar\"\n",
    "print \"done\"\n",
    "Or if the line following a colon is not indented, an IndentationError will also be raised:\n",
    "if True:\n",
    "print \"true\"\n",
    "If you add indentation where it doesn't belong, an IndentationError will be raised:\n",
    "if\n",
    "True:\n",
    "a = 6\n",
    "b = 5\n",
    "If you forget to un-indent functionality could be lost. In this example None is returned instead of the expected False :\n",
    "def isEven(a):\n",
    "if a%2 ==0:\n",
    "return True\n",
    "#this next line should be even with the if\n",
    "return False\n",
    "print isEven(7)"
   ]
  }
 ],
 "metadata": {
  "kernelspec": {
   "display_name": "Python 3",
   "language": "python",
   "name": "python3"
  },
  "language_info": {
   "codemirror_mode": {
    "name": "ipython",
    "version": 3
   },
   "file_extension": ".py",
   "mimetype": "text/x-python",
   "name": "python",
   "nbconvert_exporter": "python",
   "pygments_lexer": "ipython3",
   "version": "3.7.6"
  }
 },
 "nbformat": 4,
 "nbformat_minor": 4
}
