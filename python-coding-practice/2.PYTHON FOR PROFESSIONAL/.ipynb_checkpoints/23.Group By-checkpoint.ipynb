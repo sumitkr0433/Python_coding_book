{
 "cells": [
  {
   "cell_type": "code",
   "execution_count": null,
   "metadata": {},
   "outputs": [],
   "source": [
    "Chapter 23: groupby()\n",
    "Parameter\n",
    "Details\n",
    "iterable\n",
    "Any python iterable\n",
    "key\n",
    "Function(criteria) on which to group the iterable\n",
    "In Python, the itertools.groupby() method allows developers to group values of an iterable class based on a\n",
    "specified property into another iterable set of values."
   ]
  },
  {
   "cell_type": "code",
   "execution_count": null,
   "metadata": {},
   "outputs": [],
   "source": [
    "Section 23.1: Example 4"
   ]
  },
  {
   "cell_type": "code",
   "execution_count": null,
   "metadata": {},
   "outputs": [],
   "source": [
    "In this example we see what happens when we use different types of iterable.\n",
    "things = [(\"animal\", \"bear\"), (\"animal\", \"duck\"), (\"plant\", \"cactus\"), (\"vehicle\", \"harley\"), \\\n",
    "(\"vehicle\", \"speed boat\"), (\"vehicle\", \"school bus\")]\n",
    "dic = {}\n",
    "f = lambda x: x[0]\n",
    "for key, group in groupby(sorted(things, key=f), f):\n",
    "dic[key] = list(group)\n",
    "dic"
   ]
  }
 ],
 "metadata": {
  "kernelspec": {
   "display_name": "Python 3",
   "language": "python",
   "name": "python3"
  },
  "language_info": {
   "codemirror_mode": {
    "name": "ipython",
    "version": 3
   },
   "file_extension": ".py",
   "mimetype": "text/x-python",
   "name": "python",
   "nbconvert_exporter": "python",
   "pygments_lexer": "ipython3",
   "version": "3.7.6"
  }
 },
 "nbformat": 4,
 "nbformat_minor": 4
}
