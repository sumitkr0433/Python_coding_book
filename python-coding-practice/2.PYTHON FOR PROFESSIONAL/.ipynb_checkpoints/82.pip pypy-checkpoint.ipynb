{
 "cells": [
  {
   "cell_type": "code",
   "execution_count": null,
   "metadata": {},
   "outputs": [],
   "source": [
    "Chapter 82: pip: PyPI Package Manager"
   ]
  },
  {
   "cell_type": "code",
   "execution_count": null,
   "metadata": {},
   "outputs": [],
   "source": [
    "pip is the most widely-used package manager for the Python Package Index, installed by \n",
    "default with recent versions of Python.\n"
   ]
  },
  {
   "cell_type": "code",
   "execution_count": null,
   "metadata": {},
   "outputs": [],
   "source": [
    "Section 82.1: Install Packages\n",
    "    \n",
    "###########################################################################\n",
    "To install the latest version of a package named SomePackage :\n",
    "$ pip install SomePackage\n",
    "\n",
    "\n",
    "To install a specific version of a package:\n",
    "$ pip install SomePackage==1.0.4\n",
    "\n",
    "To specify a minimum version to install for a package:\n",
    "$ pip install SomePackage>=1.0.4\n",
    "\n",
    "Note:-\n",
    "If commands shows permission denied error on Linux/Unix then use sudo with the commands"
   ]
  },
  {
   "cell_type": "code",
   "execution_count": null,
   "metadata": {},
   "outputs": [],
   "source": [
    "Install from requirements files\n",
    "\n",
    "\n",
    "$ pip install -r requirements.txt\n",
    "++++++++++++++++++++++++++++++++++++++++++++++++++++++++++++++++++++++++++++++++++++++++++\n",
    "Each line of the requirements file indicates something to be installed, and like arguments\n",
    "to pip install, Details on the format of the files are here: Requirements File Format.\n",
    "+++++++++++++++++++++++++++++++++++++++++++++++++++++++++++++++++++++++++++++++++++++++\n",
    "After install the package you can check it using freeze command:\n",
    "$ pip freeze"
   ]
  },
  {
   "cell_type": "code",
   "execution_count": null,
   "metadata": {},
   "outputs": [],
   "source": [
    "Section 82.2: To list all packages installed using `pip`\n",
    "\n",
    "############################################################################    \n",
    "To list installed packages:\n",
    "$ pip list\n",
    "# example output\n",
    "docutils (0.9.1)\n",
    "Jinja2 (2.6)\n",
    "Pygments (1.5)\n",
    "Sphinx (1.1.2)\n",
    "\n",
    "###########################################################################\n",
    "To list outdated packages, and show the latest version available:\n",
    "$ pip list --outdated\n",
    "# example output\n",
    "docutils (Current: 0.9.1 Latest: 0.10)\n",
    "Sphinx (Current: 1.1.2 Latest: 1.1.3)"
   ]
  },
  {
   "cell_type": "code",
   "execution_count": null,
   "metadata": {},
   "outputs": [],
   "source": [
    "Section 82.3: Upgrade Packages\n",
    "    \n",
    "###################################################################################\n",
    "$ pip install --upgrade SomePackage\n",
    "will upgrade package SomePackage and all its dependencies. Also, pip automatically removes\n",
    "older version of the package before upgrade.\n",
    "\n",
    "################################################################################\n",
    "To upgrade pip itself, do\n",
    "$ pip install --upgrade pip\n",
    "on Unix or\n",
    "$ python -m pip install --upgrade pip\n",
    "on Windows machines."
   ]
  },
  {
   "cell_type": "code",
   "execution_count": null,
   "metadata": {},
   "outputs": [],
   "source": [
    "Section 82.4: Uninstall Packages\n",
    "To uninstall a package:\n",
    "$ pip uninstall SomePackage"
   ]
  },
  {
   "cell_type": "code",
   "execution_count": null,
   "metadata": {},
   "outputs": [],
   "source": [
    "Section 82.5: Updating all outdated packages on Linux\n",
    "    \n",
    "#####################################################################################\n",
    "pip doesn't current contain a flag to allow a user to update all outdated packages in one \n",
    "shot. However, this can be accomplished by piping commands together in a Linux environment:\n",
    "\n",
    "pip list --outdated --local | grep -v '^\\-e' | cut -d = -f 1| xargs -n1 pip install -U\n",
    "\n",
    "############################################################################\n",
    "This command takes all packages in the local virtualenv and checks if they are outdated.\n",
    "From that list, it gets the package name and then pipes that to a pip install -U command.\n",
    "At the end of this process, all local packages should be updated."
   ]
  },
  {
   "cell_type": "code",
   "execution_count": null,
   "metadata": {},
   "outputs": [],
   "source": [
    "Section 82.6: Updating all outdated packages on Windows\n",
    "    \n",
    "################################################################################333\n",
    "pip doesn't current contain a flag to allow a user to update all outdated packages in one \n",
    "shot. However, this can be accomplished by piping commands together in a Windows \n",
    "environment:\n",
    "\n",
    "######################################################################################    \n",
    "for /F \"delims= \" %i in ('pip list --outdated --local') do pip install -U %i\n",
    "\n",
    "This command takes all packages in the local virtualenv and checks if they are outdated. \n",
    "From that list, it gets the package name and then pipes that to a pip install -U command.\n",
    "At the end of this process, all local packages should be updated."
   ]
  },
  {
   "cell_type": "code",
   "execution_count": null,
   "metadata": {},
   "outputs": [],
   "source": [
    "Section 82.7: Create a requirements.txt file of all packages on the system\n",
    "    \n",
    "###################################################################################\n",
    "pip assists in creating requirements.txt files by providing the freeze option.\n",
    "pip freeze > requirements.txt\n",
    "pip freeze > requirements.txt\n",
    "====================================================================================\n",
    "This will save a list of all packages and their version installed on the system to a file \n",
    "named requirements.txt in the current folder."
   ]
  },
  {
   "cell_type": "code",
   "execution_count": null,
   "metadata": {},
   "outputs": [],
   "source": [
    "Section 82.8: Using a certain Python version with pip\n",
    "    \n",
    "    \n",
    "If you have both Python 3 and Python 2 installed, you can specify which version of Python \n",
    "you would like pip to use.\n",
    "\n",
    "This is useful when packages only support Python 2 or 3 or when you wish to test with both.\n",
    "If you want to install packages for Python 2, run either:\n",
    "    \n",
    "###################################################################################\n",
    "pip install [package]\n",
    "or:\n",
    "pip2 install [package]\n",
    "\n",
    "###################################################################################\n",
    "If you would like to install packages for Python 3, do:\n",
    "    \n",
    "pip3 install [package]\n",
    "\n",
    "You can also invoke installation of a package to a specific python installation with:\n",
    "\n",
    "\\path\\to\\that\\python.exe -m pip install some_package # on Windows OR\n",
    "/usr/bin/python25 -m pip install some_package # on OS-X/Linux\n",
    "\n",
    "\n",
    "On OS-X/Linux/Unix platforms it is important to be aware of the distinction between the \n",
    "system version of python,(which upgrading make render your system inoperable), and the \n",
    "user version(s) of python. You may, depending on which you are trying to upgrade, need to \n",
    "prefix these commands with sudo and input a password.\n",
    "\n",
    "####################################################################################\n",
    "Likewise on Windows some python installations, especially those that are a part of another package, can end up\n",
    "installed in system directories - those you will have to upgrade from a command window running in Admin mode -\n",
    "if you find that it looks like you need to do this it is a very good idea to check which python installation you are\n",
    "trying to upgrade with a command such as python -c\"import sys;print(sys.path);\" or py -3.5 -c\"import\n",
    "sys;print(sys.path);\" you can also check which pip you are trying to run with pip --version\n",
    "On Windows, if you have both python 2 and python 3 installed, and on your path and your python 3 is greater than\n",
    "3.4 then you will probably also have the python launcher py on your system path. \n",
    "\n",
    "You can then do tricks like:\n",
    "\n",
    "######################################################################################\n",
    "py -3 -m pip install -U some_package # Install/Upgrade some_package to the latest python 3\n",
    "py -3.3 -m pip install -U some_package # Install/Upgrade some_package to python 3.3 if present\n",
    "py -2 -m pip install -U some_package # Install/Upgrade some_package to the latest python 2 - 64 bit\n",
    "if present\n",
    "py -2.7-32 -m pip install -U some_package # Install/Upgrade some_package to python 2.7 - 32 bit if\n",
    "present\n",
    "\n",
    "##################################################################################3\n",
    "If you are running & maintaining multiple versions of python I would strongly recommend \n",
    "reading up about the python virtualenv or venv virtual environments which allow you to \n",
    "isolate both the version of python and which packages are present."
   ]
  },
  {
   "cell_type": "code",
   "execution_count": null,
   "metadata": {},
   "outputs": [],
   "source": [
    "Section 82.9: Create a requirements.txt file of packages only in the current virtualenv\n",
    "pip assists in creating requirements.txt files by providing the freeze option.\n",
    "\n",
    "################################################################################\n",
    "pip freeze --local > requirements.txt\n",
    "The --local parameter will only output a list of packages and versions that are\n",
    "installed locally to a virtualenv."
   ]
  },
  {
   "cell_type": "code",
   "execution_count": null,
   "metadata": {},
   "outputs": [],
   "source": [
    "Section 82.10: Installing packages not yet on pip as wheels\n",
    "    \n",
    "#######################################################################################   \n",
    "Many, pure python, packages are not yet available on the Python Package Index as wheels \n",
    "but still install fine.\n",
    "\n",
    "#####################################################################################\n",
    "However, some packages on Windows give the dreaded vcvarsall.bat not found error.\n",
    "The problem is that the package that you are trying to install contains a C or C++ \n",
    "extension and is not currently available as a pre-built wheel from the python \n",
    "package index, pypi, and on windows you do not have the tool chain needed to build such \n",
    "items.\n",
    "\n",
    "####################################################################################\n",
    "The simplest answer is to go to Christoph Gohlke's excellent site and locate the appropriate \n",
    "version of the libraries that you need. By appropriate in the package name a -cpNN- has \n",
    "to match your version of python, i.e. if you are using windows 32 bit python even on \n",
    "win64 the name must include -win32- and if using the 64 bit python it must include -win_amd64- and then the python version must match, i.e. for Python 34 the filename must include -cp34-,\n",
    "etc. this is basically the magic that pip does for you on the pypi site.\n",
    "\n",
    "#######################################################################################\n",
    "Alternatively, you need to get the appropriate windows development kit for the version of \n",
    "python that you are using, the headers for any library that the package you are trying to \n",
    "build interfaces to, possibly the python headers for the version of python, etc.\n",
    "Python 2.7 used Visual Studio 2008, Python 3.3 and 3.4 used Visual Studio 2010, and \n",
    "Python 3.5+ uses Visual Studio 2015."
   ]
  },
  {
   "cell_type": "code",
   "execution_count": null,
   "metadata": {},
   "outputs": [],
   "source": [
    "Python 2.7 used Visual Studio 2008, Python 3.3 and 3.4 used Visual Studio 2010, and Python 3.5+ uses Visual Studio\n",
    "2015.\n",
    "Install “Visual C++ Compiler Package for Python 2.7”, which is available from Microsoft’s website or\n",
    "Install “Windows SDK for Windows 7 and .NET Framework 4” (v7.1), which is available from Microsoft’s\n",
    "website or\n",
    "Install Visual Studio 2015 Community Edition, (or any later version, when these are released), ensuring you\n",
    "select the options to install C & C++ support no longer the default -I am told that this can take up to 8 hours\n",
    "to download and install so make sure that those options are set on the first try.\n",
    "\n",
    "\n",
    "\n"
   ]
  },
  {
   "cell_type": "code",
   "execution_count": null,
   "metadata": {},
   "outputs": [],
   "source": [
    "Then you may need to locate the header files, at the matching revision for any libraries \n",
    "that your desired package links to and download those to an appropriate locations.\n",
    "Finally you can let pip do your build - of course if the package has dependencies that you \n",
    "don't yet have you may also need to find the header files for them as well.\n",
    "+++++++++++++++++++++++++++++++++++++++++++++++++++++++++++++++++++++++++++++++++++++++++\n",
    "Alternatives: It is also worth looking out, both on pypi or Christop's site, for any \n",
    "slightly earlier version of the package that you are looking for that is either pure \n",
    "python or pre-built for your platform and python version and possibly using those, if \n",
    "found, until your package does become available. Likewise if you are using the very latest\n",
    "version of python you may find that it takes the package maintainers a little time to \n",
    "catch up so for projects that really need a specific package you may have to use a \n",
    "slightly older python for the moment.\n",
    "++++++++++++++++++++++++++++++++++++++++++++++++++++++++++++++++++++++++++++++++++++++++\n",
    "You can also check the packages source site to see if there is a forked version that is \n",
    "available pre-built or as pure python and searching for alternative packages that provide \n",
    "the functionality that you require but are available - one example that springs to mind is \n",
    "the Pillow, actively maintained, drop in replacement for PIL currently not updated in 6 \n",
    "years and not available for python 3."
   ]
  },
  {
   "cell_type": "code",
   "execution_count": null,
   "metadata": {},
   "outputs": [],
   "source": [
    "Afterword, I would encourage anybody who is having this problem to go to the bug tracker \n",
    "for the package and add to, or raise if there isn't one already, a ticket politely \n",
    "requesting that the package maintainers provide a wheel on pypi for your specific \n",
    "combination of platform and python, if this is done then normally things will get better\n",
    "with time, some package maintainers don't realise that they have missed a given combinati-\n",
    "on that people may be using."
   ]
  },
  {
   "cell_type": "code",
   "execution_count": null,
   "metadata": {},
   "outputs": [],
   "source": [
    "Note on Installing Pre-Releases\n",
    "++++++++++++++++++++++++++++++++++++++++++++++++++++++++++++++++++++++++++++++++++\n",
    "Pip follows the rules of Semantic Versioning and by default prefers released packages over \n",
    "pre-releases. So if a given package has been released as V0.98 and there is also a release \n",
    "candidate V1.0-rc1 the default behaviour of pip install will be to install V0.98 - if you \n",
    "wish to install the release candidate, you are advised to test in a virtual\n",
    "environment first, you can enable do so with --pip install --pre package-name or \n",
    "--pip install --pre -- upgrade package-name. In many cases pre-releases or release \n",
    "candidates may not have wheels built for all platform & version combinations so you are \n",
    "more likely to encounter the issues above.\n",
    "+++++++++++++++++++++++++++++++++++++++++++++++++++++++++++++++++++++++++++++++++++++++++\n",
    "Note on Installing Development Versions\n",
    "You can also use pip to install development versions of packages from github and other locations, since such code\n",
    "is in flux it is very unlikely to have wheels built for it, so any impure packages will require the presence of the build\n",
    "tools, and they may be broken at any time so the user is strongly encouraged to only install such packages in a\n",
    "virtual environment.\n",
    "++++++++++++++++++++++++++++++++++++++++++++++++++++++++++++++++++++++++++++++++++++++\n"
   ]
  },
  {
   "cell_type": "code",
   "execution_count": null,
   "metadata": {},
   "outputs": [],
   "source": [
    "Three options exist for such installations:\n",
    "1. Download compressed snapshot, most online version control systems have the option to download a\n",
    "compressed snapshot of the code. This can be downloaded manually and then installed with pip install\n",
    "path/to/downloaded/file note that for most compression formats pip will handle unpacking to a cache area,\n",
    "etc.\n",
    "2. Let pip handle the download & install for you with: pip install URL/of/package/repository - you may also\n",
    "need to use the --trusted-host , --client-cert and/or --proxy flags for this to work correctly, especially in\n",
    "a corporate environment. e.g:\n",
    "> py -3.5-32 -m venv demo-pip\n",
    "> demo-pip\\Scripts\\activate.bat\n",
    "> python -m pip install -U pip\n",
    "Collecting pip\n",
    "Using cached pip-9.0.1-py2.py3-none-any.whl\n",
    "Installing collected packages: pip\n",
    "Found existing installation: pip 8."
   ]
  },
  {
   "cell_type": "code",
   "execution_count": null,
   "metadata": {},
   "outputs": [],
   "source": [
    "Note the git+ prefix to the URL.\n",
    "3. Clone the repository using git , mercurial or other acceptable tool, preferably a DVCS \n",
    "tool, and use pip install path/to/cloned/repo - this will both process any requires.text \n",
    "file and perform the build and setup steps, you can manually change directory to your \n",
    "cloned repository and run pip install -r requires.txt and then python setup.py install \n",
    "to get the same effect. \n",
    "\n",
    "#######################################################################################\n",
    "The big advantages of this approach is that while the\n",
    "initial clone operation may take longer than the snapshot download you can update to the \n",
    "latest with, in the\n",
    "\n",
    "##################################################################################\n",
    "case of git: git pull origin master and if the current version contains errors you can use\n",
    "pip uninstall package-name then use git checkout commands to move back through the repository history to earlier\n",
    "version(s) and re-try."
   ]
  }
 ],
 "metadata": {
  "kernelspec": {
   "display_name": "Python 3",
   "language": "python",
   "name": "python3"
  },
  "language_info": {
   "codemirror_mode": {
    "name": "ipython",
    "version": 3
   },
   "file_extension": ".py",
   "mimetype": "text/x-python",
   "name": "python",
   "nbconvert_exporter": "python",
   "pygments_lexer": "ipython3",
   "version": "3.7.6"
  }
 },
 "nbformat": 4,
 "nbformat_minor": 4
}
