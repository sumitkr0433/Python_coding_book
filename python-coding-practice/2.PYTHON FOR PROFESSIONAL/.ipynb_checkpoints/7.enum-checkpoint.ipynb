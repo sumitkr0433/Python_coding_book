{
 "cells": [
  {
   "cell_type": "code",
   "execution_count": null,
   "metadata": {},
   "outputs": [],
   "source": [
    "Chapter 7: Enum\n"
   ]
  },
  {
   "cell_type": "code",
   "execution_count": null,
   "metadata": {},
   "outputs": [],
   "source": [
    "Section 7.1: Creating an enum (Python 2.4 through 3.3)"
   ]
  },
  {
   "cell_type": "code",
   "execution_count": null,
   "metadata": {},
   "outputs": [],
   "source": [
    "Enums have been backported from Python 3.4 to Python 2.4 through Python 3.3. You can get this the enum34\n",
    "backport from PyPI.\n",
    "pip install enum34"
   ]
  },
  {
   "cell_type": "code",
   "execution_count": null,
   "metadata": {},
   "outputs": [],
   "source": [
    "Creation of an enum is identical to how it works in Python 3.4+\n",
    "from enum import Enum\n",
    "class Color(Enum):\n",
    "red = 1\n",
    "green = 2\n",
    "blue = 3\n",
    "print(Color.red) # Color.red\n",
    "print(Color(1)) # Color.red\n",
    "print(Color['red']) # Color.red"
   ]
  },
  {
   "cell_type": "code",
   "execution_count": null,
   "metadata": {},
   "outputs": [],
   "source": [
    "Section 7.2: Iteration\n",
    "Enums are iterable:\n",
    "class Color(Enum):\n",
    "red = 1\n",
    "green = 2\n",
    "blue = 3\n",
    "[c for c in Color]\n",
    "# [<Color.red: 1>, <Color.green: 2>, <Color.blue: 3>]"
   ]
  }
 ],
 "metadata": {
  "kernelspec": {
   "display_name": "Python 3",
   "language": "python",
   "name": "python3"
  },
  "language_info": {
   "codemirror_mode": {
    "name": "ipython",
    "version": 3
   },
   "file_extension": ".py",
   "mimetype": "text/x-python",
   "name": "python",
   "nbconvert_exporter": "python",
   "pygments_lexer": "ipython3",
   "version": "3.7.6"
  }
 },
 "nbformat": 4,
 "nbformat_minor": 4
}
