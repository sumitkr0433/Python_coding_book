{
 "cells": [
  {
   "cell_type": "code",
   "execution_count": null,
   "metadata": {},
   "outputs": [],
   "source": [
    "Pep Compliance"
   ]
  },
  {
   "cell_type": "code",
   "execution_count": null,
   "metadata": {},
   "outputs": [],
   "source": [
    "Can I Test for PEP 8 Compliance?\n",
    "\n",
    "Yes. It is possible.But not with Python alone, as the Python interpreter does not provide\n",
    "any way to check code for PEP 8 compliance. However, there are a number of third-party tools that do."
   ]
  },
  {
   "cell_type": "code",
   "execution_count": null,
   "metadata": {},
   "outputs": [],
   "source": [
    "Getting Re ady to Check PEP 8 Compliance\n",
    "\n",
    "==================================================================================================================\n",
    "Let’s detour for just a moment to check our code for PEP 8 compliance.The Python \n",
    "programming community at large has spent a great deal of time creating developer tools to \n",
    "make the lives of Python programmers a little bit better. One such tool is pytest, which \n",
    "is a testing framework that is primarily designed to make the testing of Python programs \n",
    "easier. No matter what type of tests you’re writing, pytest can help. And you can add \n",
    "plug-ins to pytest to extend its capabilities.\n",
    "\n",
    "==================================================================================================================\n",
    "One such plug-in is pep8, which uses the pytest testing framework to check your code for violations of the PEP 8 \n",
    "guidelines."
   ]
  },
  {
   "cell_type": "code",
   "execution_count": null,
   "metadata": {},
   "outputs": [],
   "source": [
    "Recalling our code\n",
    "\n",
    "==================================================================================================================\n",
    "Let’s remind ourselves of our vsearch.py code once more, before feeding it to the pytest/pep8 combination to find \n",
    "out how PEP 8–compliant it is. Note that we’ll need to install both of these developer tools, as they do not come installed with Python (we’ll do that \n",
    "over the page).\n",
    "Learn more about pytest from\n",
    "http://doc.pytest.org/en/latest/.\n",
    "\n",
    "=================================================================================================================\n",
    "One more, here is the code which is going to be checked for compliance to the PEP 8 guidelines:\n",
    "    \n",
    "def search4vowels(phrase:str) -> set:\n",
    "\"\"\"Return any vowels found in a supplied phrase.\"\"\"\n",
    "    vowels = set('aeiou')\n",
    "    return vowels.intersection(set(phrase))\n",
    "\n",
    "def search4letters(phrase:str, letters:str='aeiou') -> set:\n",
    "\"\"\"Return a set of the 'letters' found in 'phrase'.\"\"\"\n",
    "    return set(letters).intersection(set(phrase))"
   ]
  },
  {
   "cell_type": "code",
   "execution_count": null,
   "metadata": {},
   "outputs": [],
   "source": [
    "Installing pytest and the pep8 plug-in\n",
    "\n",
    "The pip tool can also be used to install third-party code into your interpreter.\n",
    "========================================================================================\n",
    "To do so, you need to let’s use pip to install the pytest testing framework and the pep8 \n",
    "plug-in."
   ]
  },
  {
   "cell_type": "code",
   "execution_count": null,
   "metadata": {},
   "outputs": [],
   "source": [
    "Install the Testing Developer Tools\n",
    "In the example screens that follow, we are showing the messages that appear when you\n",
    "are running on the Windows platform. On Windows, you invoke Python 3 using the\n",
    "py -3 command. If you are on Linux or Mac OS X, replace the Windows command\n",
    "with sudo python3. To install pytest using pip on Windows, issue this command\n",
    "from the command prompt while running as administrator (search for cmd.exe, then\n",
    "right-click on it, and choose Run as Administrator from the pop-up menu):\n",
    "    \n",
    "    py -3 -m pip install pytest\n",
    "    \n",
    "===============================================================================\n",
    "If you examine the messages produced by pip, you’ll notice that two of pytest’s\n",
    "dependencies were also installed (colorama and py). The same thing happens when\n",
    "you use pip to install the pep8 plug-in: it also installs a host of dependencies. Here’s\n",
    "the command to install the plug-in:\n",
    "    \n",
    "    py -3 -m pip install pytest-pep8\n",
    "    "
   ]
  },
  {
   "cell_type": "code",
   "execution_count": null,
   "metadata": {},
   "outputs": [],
   "source": [
    "How PEP 8–Compliant Is Our Code?\n",
    "\n",
    "====================================================================================\n",
    "With pytest and pep8 installed, you’re now ready to test your code for PEP 8 compliance. \n",
    "Regardless of the operating system you’re using, you’ll issue the same command (as only \n",
    "the installation instructions differ on each platform).\n",
    "\n",
    "========================================================================================\n",
    "The pytest installation process has installed a new program on your computer called py.test. Let’s run this program now to check our vsearch.py code for\n",
    "PEP 8 compliance. Make sure you are in the same folder as the one that contains the \n",
    "vsearch.py file, then issue this command:\n",
    "\n",
    "    \n",
    "py.test --pep8 vsearch.py\n",
    "\n",
    "Here’s the output produced when we did this on our Windows computer:\n",
    "    \n",
    "Whoops! It looks like we have failures, which means this code is not as compliant\n",
    "with the PEP 8 guidelines as it could be.\n",
    "Take a moment to read the messages shown here (or on your screen, if you are\n",
    "following along). All of the “failures” appear to refer—in some way—to whitespace\n",
    "(for instance, spaces, tabs, newlines, and the like). Let’s take a look at each of them\n",
    "in a little more detail.\n",
    "\n",
    "====================================Page No-191==================================="
   ]
  },
  {
   "cell_type": "code",
   "execution_count": null,
   "metadata": {},
   "outputs": [],
   "source": [
    "Understanding the Failure Messages\n",
    "\n",
    "=============================================================================\n",
    "Together, pytest and the pep8 plug-in have highlighted five issues with our vsearch.py code.\n",
    "\n",
    "The first issue has to do with the fact that we haven’t inserted a space after the :\n",
    "character when annotating our function’s arguments, and we’ve done this in three\n",
    "places. Look at the first message, noting pytest’s use of the caret character (^) to\n",
    "indicate exactly where the problem is:\n",
    "====================================================================================\n",
    "\t\t\n",
    "...:2:25: E231 missing whitespace after ':'\n",
    "def search4vowels(phrase:str) -> set:"
   ]
  },
  {
   "cell_type": "code",
   "execution_count": null,
   "metadata": {},
   "outputs": [],
   "source": [
    "If you look at the two issues at the bottom of pytest’s output, you’ll see that\n",
    "we’ve repeated this mistake in three locations: once on line 2, and twice on line 7.\n",
    "There’s an easy fix: add a single space character after the colon.\n",
    "The next issue may not seem like a big deal, but is raised as a failure because the\n",
    "line of code in question (line 3) does break a PEP 8 guideline that says not to\n",
    "include extra spaces at the end of lines:\n",
    "\n",
    "    \n",
    "   ...:3:56: W291 trailing whitespace\n",
    "    \"\"\"Return any vowels found in a supplied phrase.\"\"\"\n",
    "    \n",
    "===============================================================\n",
    "Dealing with this issue on line 3 is another easy fix: remove all trailing whitespace.\n",
    "The last issue (at the start of line 7) is this:\n",
    "\t\t\t\t\t\n",
    "...7:1: E302 expected 2 blank lines, found 1\n",
    "def search4letters(phrase:str, letters:str='aeiou') -> set:\n",
    "    \n",
    "===========================================================================\n",
    "There is a PEP 8 guideline that offers this advice for creating functions in a\n",
    "module: Surround top-level function and class definitions with two blank lines. In our \n",
    "code,the search4vowels and search4letters functions are both at the “top\n",
    "level” of the vsearch.py file, and are separated from each other by a single\n",
    "blank line. To be PEP 8–compliant, there should be two blank lines here.\n",
    "Again, it’s an easy fix: insert an extra blank line between the two functions. Let’s apply\n",
    "these fixes now, then retest our amended code.\n",
    "\n",
    "BTW: Check out http://pep8.org/ for a beautifully rendered version of Python’s\n",
    "style guidelines.\n",
    "\n",
    "================================================================================\n",
    "Page 192"
   ]
  },
  {
   "cell_type": "code",
   "execution_count": null,
   "metadata": {},
   "outputs": [],
   "source": [
    "Confirming PEP 8 Compliance\n",
    "With the amendments made to the Python code in vsearch.py, the file’s\n",
    "contents now look like this:\n",
    "    \n",
    "=======================================================================================\n",
    "def search4vowels(phrase: str) -> set:\n",
    "\"\"\"Return any vowels found in a supplied phrase.\"\"\"\n",
    "    vowels = set('aeiou')\n",
    "    return vowels.intersection(set(phrase))\n",
    "=========================================================\n",
    "def search4letters(phrase: str, letters: str='aeiou') -> set:\n",
    "\"\"\"Return a set of the 'letters' found in 'phrase'.\"\"\"\n",
    "return set(letters).intersection(set(phrase))\n",
    "\n",
    "When this version of the code is run through pytest’s pep8 plug-in, the output confirms we \n",
    "no longer have any issues with PEP 8 compliance. Here’s what we saw on our computer \n",
    "(again, running on Windows):\n",
    "    \n"
   ]
  },
  {
   "cell_type": "markdown",
   "metadata": {},
   "source": [
    "# Conformance to PEP 8 is a good thing\n",
    "=================================================================================================================\n",
    "If you’re looking at all of this wondering what all the fuss is about (especially over a little bit of whitespace), think carefully about why you’d want to comply to PEP 8. The PEP 8 documentation states that readability counts, and that code is read much more often than it is written. If your code conforms to a standard coding style, it follows that reading it is easier, as it “looks like” everything else the programmer\n",
    "has seen. Consistency is a very good thing.\n",
    "\n",
    "+++++++++++++++++++++++++++++++++++++++++++++++++++++++++++++++\n",
    "=============================================================\n"
   ]
  },
  {
   "cell_type": "code",
   "execution_count": null,
   "metadata": {},
   "outputs": [],
   "source": []
  }
 ],
 "metadata": {
  "kernelspec": {
   "display_name": "Python 3",
   "language": "python",
   "name": "python3"
  },
  "language_info": {
   "codemirror_mode": {
    "name": "ipython",
    "version": 3
   },
   "file_extension": ".py",
   "mimetype": "text/x-python",
   "name": "python",
   "nbconvert_exporter": "python",
   "pygments_lexer": "ipython3",
   "version": "3.7.6"
  }
 },
 "nbformat": 4,
 "nbformat_minor": 4
}
