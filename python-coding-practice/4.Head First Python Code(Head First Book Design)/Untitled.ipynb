{
 "cells": [
  {
   "cell_type": "code",
   "execution_count": null,
   "metadata": {},
   "outputs": [],
   "source": [
    "Pep Compliance"
   ]
  },
  {
   "cell_type": "code",
   "execution_count": null,
   "metadata": {},
   "outputs": [],
   "source": [
    "Can I Test for PEP 8 Compliance?\n",
    "+++++++++++++++++++++++++++++++++++++++++++++++++++++++++++++++++++++++++++++++++++++++++++++++++++++++++++++++++\n",
    "Yes. It is possible.But not with Python alone, as the Python interpreter does not provide\n",
    "any way to check code for PEP 8 compliance. However, there are a number of third-party tools that do."
   ]
  },
  {
   "cell_type": "code",
   "execution_count": null,
   "metadata": {},
   "outputs": [],
   "source": [
    "Getting Re ady to Check PEP 8 Compliance\n",
    "\n",
    "==================================================================================================================\n",
    "Let’s detour for just a moment to check our code for PEP 8 compliance.The Python programming community at large \n",
    "has spent a great deal of time creating developer tools to make the lives of Python programmers a little bit better. One such tool is pytest, which is a testing framework \n",
    "that is primarily designed to make the testing of Python programs easier. No matter what type of tests you’re writing, pytest can help. And you can add \n",
    "plug-ins to pytest to extend its capabilities.\n",
    "\n",
    "==================================================================================================================\n",
    "One such plug-in is pep8, which uses the pytest testing framework to check your code for violations of the PEP 8 \n",
    "guidelines."
   ]
  },
  {
   "cell_type": "code",
   "execution_count": null,
   "metadata": {},
   "outputs": [],
   "source": [
    "Recalling our code\n",
    "\n",
    "==================================================================================================================\n",
    "Let’s remind ourselves of our vsearch.py code once more, before feeding it to the pytest/pep8 combination to find \n",
    "out how PEP 8–compliant it is. Note that we’ll need to install both of these developer tools, as they do not come \n",
    "installed with Python (we’ll do that over the page).\n",
    "Learn more about pytest from\n",
    "http://doc.pytest.org/en/latest/.\n",
    "\n",
    "=================================================================================================================\n",
    "One more, here is the code which is going to be checked for compliance to the PEP 8 guidelines:\n",
    "    \n",
    "def search4vowels(phrase:str) -> set:\n",
    "\"\"\"Return any vowels found in a supplied phrase.\"\"\"\n",
    "    vowels = set('aeiou')\n",
    "    return vowels.intersection(set(phrase))\n",
    "\n",
    "def search4letters(phrase:str, letters:str='aeiou') -> set:\n",
    "\"\"\"Return a set of the 'letters' found in 'phrase'.\"\"\"\n",
    "    return set(letters).intersection(set(phrase))"
   ]
  },
  {
   "cell_type": "code",
   "execution_count": null,
   "metadata": {},
   "outputs": [],
   "source": [
    "Installing pytest and the pep8 plug-in\n",
    "\n",
    "The pip tool can also be used to install third-party code into your interpreter.\n",
    "========================================================================================\n",
    "To do so, you need to let’s use pip to install the pytest testing framework and the pep8 \n",
    "plug-in."
   ]
  },
  {
   "cell_type": "code",
   "execution_count": null,
   "metadata": {},
   "outputs": [],
   "source": [
    "Install the Testing Developer Tools\n",
    "In the example screens that follow, we are showing the messages that appear when you\n",
    "are running on the Windows platform. On Windows, you invoke Python 3 using the\n",
    "py -3 command. If you are on Linux or Mac OS X, replace the Windows command\n",
    "with sudo python3. To install pytest using pip on Windows, issue this command\n",
    "from the command prompt while running as administrator (search for cmd.exe, then\n",
    "right-click on it, and choose Run as Administrator from the pop-up menu):\n",
    "    \n",
    "    py -3 -m pip install pytest\n",
    "    \n",
    "===============================================================================\n",
    "If you examine the messages produced by pip, you’ll notice that two of pytest’s\n",
    "dependencies were also installed (colorama and py). The same thing happens when\n",
    "you use pip to install the pep8 plug-in: it also installs a host of dependencies. Here’s\n",
    "the command to install the plug-in:\n",
    "    \n",
    "    py -3 -m pip install pytest-pep8\n",
    "    "
   ]
  },
  {
   "cell_type": "code",
   "execution_count": null,
   "metadata": {},
   "outputs": [],
   "source": [
    "How PEP 8–Compliant Is Our Code?\n",
    "\n",
    "====================================================================================\n",
    "With pytest and pep8 installed, you’re now ready to test your code for PEP 8 compliance.Regardless of the \n",
    "operating system you’re using, you’ll issue the same command (as only the installation instructions differ on each \n",
    "platform).\n",
    "\n",
    "========================================================================================\n",
    "The pytest installation process has installed a new program on your computer called py.test. Let’s run this \n",
    "program now to check our vsearch.py code for PEP 8 compliance. Make sure you are in the same folder as the one \n",
    "that contains the vsearch.py file, then issue this command:\n",
    "++++++++++++++++++++++++++++++++++++++++++++++++++++++++++++++++++++++++++++++++++++++++++++    \n",
    "py.test --pep8 vsearch.py\n",
    "\n",
    "++++++++++++++++++++++++++++++++++++++++++++++++++++++++++++++++++++++++++++++++++++++++++++++++++++++++++++++\n",
    "Here’s the output produced when we did this on our Windows computer:\n",
    "    \n",
    "Whoops! It looks like we have failures, which means this code is not as compliant with the PEP 8 guidelines as it \n",
    "could be.Take a moment to read the messages shown here (or on your screen, if you are following along). All of the \n",
    "“failures” appear to refer—in some way—to whitespace (for instance, spaces, tabs, newlines, and the like). Let’s \n",
    "take a look at each of them in a little more detail."
   ]
  }
 ],
 "metadata": {
  "kernelspec": {
   "display_name": "Python 3",
   "language": "python",
   "name": "python3"
  },
  "language_info": {
   "codemirror_mode": {
    "name": "ipython",
    "version": 3
   },
   "file_extension": ".py",
   "mimetype": "text/x-python",
   "name": "python",
   "nbconvert_exporter": "python",
   "pygments_lexer": "ipython3",
   "version": "3.7.6"
  }
 },
 "nbformat": 4,
 "nbformat_minor": 4
}
