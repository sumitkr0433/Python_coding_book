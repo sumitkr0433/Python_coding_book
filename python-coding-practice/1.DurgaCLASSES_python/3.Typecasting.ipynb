{
 "cells": [
  {
   "cell_type": "markdown",
   "metadata": {},
   "source": [
    "# 3.0 TYPE CASTING"
   ]
  },
  {
   "cell_type": "markdown",
   "metadata": {},
   "source": [
    "# 3.1 We can convert one type value to another type. \n",
    "This conversion is called Typecasting or Type coersion. \n",
    "The following are various inbuilt functions for type casting.\n",
    "1) int() \n",
    "2) float() \n",
    "3) complex() \n",
    "4) bool() \n",
    "5) str()"
   ]
  },
  {
   "cell_type": "markdown",
   "metadata": {},
   "source": [
    "# 3.2 int(): We can use this function to convert values from other types to int \n",
    "\n",
    "====================================================================================================================================================================================================================================  1) >>> int(123.987) \n",
    "2) 123 \n",
    "3) >>> int(10+5j) \n",
    "4) TypeError: can't convert complex to int \n",
    "5) >>> int(True) \n",
    "6) 1 \n",
    "7) >>> int(False) \n",
    "8) 0 \n",
    "9) >>> int(\"10\") \n",
    "10) 10 \n",
    "11) >>> int(\"10.5\") \n",
    "12) ValueError: invalid literal for int() with base 10: '10.5'\n",
    "13) >>> int(\"ten\") \n",
    "14) ValueError: invalid literal for int() with base 10: 'ten' \n",
    "15) >>> int(\"0B1111\") \n",
    "16) ValueError: invalid literal for int() with base 10: '0B1111'"
   ]
  },
  {
   "cell_type": "markdown",
   "metadata": {},
   "source": [
    "# 3.3 Note:\n",
    "1) We can convert from any type to int except complex type. \n",
    "2) If we want to convert str type to int type, compulsary str should contain only integral value and should \n",
    "be specified in base-10."
   ]
  },
  {
   "cell_type": "markdown",
   "metadata": {},
   "source": [
    "# 3.4 float(): \n",
    "    \n",
    "We can use float() function to convert other type values to float type. \n",
    "1) >>> float(10) \n",
    "2) 10.0 \n",
    "3) >>> float(10+5j) \n",
    "4) TypeError: can't convert complex to float \n",
    "5) >>> float(True) \n",
    "6) 1.0 \n",
    "7) >>> float(False) \n",
    "8) 0.0 \n",
    "9) >>> float(\"10\") \n",
    "10) 10.0 \n",
    "11) >>> float(\"10.5\") \n",
    "12) 10.5 \n",
    "13) >>> float(\"ten\") \n",
    "14) ValueError: could not convert string to float: 'ten' \n",
    "15) >>> float(\"0B1111\") \n",
    "16) ValueError: could not convert string to float: '0B1111'\n",
    "        \n",
    "====================================================================================================================================================================================================================================\n",
    "Note: 1) We can convert any type value to float type except complex type. \n",
    "      2) Whenever we are trying to convert str type to float type compulsary str should be either integral or           floating point literal and should be specified only in base-10."
   ]
  },
  {
   "cell_type": "markdown",
   "metadata": {},
   "source": [
    "# 3.5 complex(): We can use complex() function to convert other types to complex type.\n",
    "Form-\n",
    "1:complex(x) We can use this function to convert x into complex number with real part x and imaginary part 0.\n",
    "Eg: \n",
    "    1) complex(10)==>10+0j \n",
    "    2) complex(10.5)===>10.5+0j \n",
    "    3) complex(True)==>1+0j \n",
    "    4) complex(False)==>0j \n",
    "    5) complex(\"10\")==>10+0j \n",
    "    6) complex(\"10.5\")==>10.5+0j \n",
    "    7) complex(\"ten\") \n",
    "    8) ValueError: complex() arg is a malformed string"
   ]
  },
  {
   "cell_type": "code",
   "execution_count": null,
   "metadata": {},
   "outputs": [],
   "source": [
    "Form-2: complex(x,y)\n",
    "We can use this method to convert x and y into complex number such that x will be real part and y will be imaginary part.\n",
    "Eg: complex(10, -2)  10-2j complex(True, False)  1+0j"
   ]
  },
  {
   "cell_type": "markdown",
   "metadata": {},
   "source": [
    "# 3.6 bool(): We can use this function to convert other type values to bool type. \n",
    "=============================================================================================================================    \n",
    "1) bool(0)  False \n",
    "2) bool(1)  True \n",
    "3) bool(10) True \n",
    "4) bool(10.5)  True \n",
    "5) bool(0.178)  True \n",
    "6) bool(0.0)  False \n",
    "7) bool(10-2j)  True \n",
    "8) bool(0+1.5j)  True \n",
    "9) bool(0+0j)  False \n",
    "10) bool(\"True\")  True \n",
    "11) bool(\"False\")  True \n",
    "12) bool(\"\")  False"
   ]
  },
  {
   "cell_type": "markdown",
   "metadata": {},
   "source": [
    "# 3.7. Meaning of Bool in Different Datatype\n",
    "\n",
    "====================================================================================================================================================================================================================================\n",
    "if x in int datatype\n",
    "1.0 means False\n",
    "2.1 means True\n",
    "\n",
    "==================================================================================================================\n",
    "if x in float datatype\n",
    "1.if total number value is zero then the result is false otherwise the result is true\n",
    "\n",
    "==================================================================================================================\n",
    "if x is Complex Datatype\n",
    "1.if both real and imaginary part are zero 0+oj\n",
    "2.then the result is otherwise the result is True\n",
    "\n",
    "====================================================================================================================================================================================================================================\n",
    "if x is in str Datatype\n",
    "1.if x is empty string then the result is False otherwise the result is True"
   ]
  },
  {
   "cell_type": "markdown",
   "metadata": {},
   "source": [
    "# 3.8 str(): \n",
    "We can use this method to convert other type values to str type. \n",
    "\n",
    "1) >>> str(10) \n",
    "2) '10' \n",
    "3) >>> str(10.5) \n",
    "4) '10.5' \n",
    "5) >>> str(10+5j) \n",
    "6) '(10+5j)' \n",
    "7) >>> str(True) \n",
    "8) 'True'"
   ]
  },
  {
   "cell_type": "code",
   "execution_count": null,
   "metadata": {},
   "outputs": [],
   "source": [
    "Fundamental Data Types vs Immutability:\n",
    "\n",
    "=========================================================================================================================\n",
    "֍ All Fundamental Data types are immutable. i.e once we creates an object,we cannot perform any changes in that object. \n",
    "If we are trying to change then with those changes a new object will be created. This non-chageable behaviour is \n",
    "called immutability.\n",
    "\n",
    "==========================================================================================================================\n",
    "֍ In Python if a new object is required, then PVM won’t create object immediately. First it will check is any object available \n",
    "with the required content or not. If available then existing object will be reused. If it is not available then only a new \n",
    "object will be created. The advantage of this approach is memory utilization and performance will be improved.\n",
    "\n",
    "===============================================================================================================================\n",
    "֍ But the problem in this approach is, several references pointing to the same object, by using one reference if we are \n",
    "allowed to change the content in the existing object then the remaining references will be effected. To prevent this \n",
    "immutability concept is required. According to this once creates an object we are not allowed to change content. \n",
    "If we are trying to change with those changes a new object will be created."
   ]
  },
  {
   "cell_type": "code",
   "execution_count": null,
   "metadata": {},
   "outputs": [],
   "source": [
    "1) >>> a=10 \n",
    "2) >>> b=10 \n",
    "3) >>> a is b \n",
    "4) True \n",
    "5) >>> id(a) \n",
    "6) 1572353952 \n",
    "7) >>> id(b) \n",
    "8) 1572353952 \n",
    "9) >>>"
   ]
  },
  {
   "cell_type": "code",
   "execution_count": null,
   "metadata": {},
   "outputs": [],
   "source": [
    ">>> a=10\n",
    ">>> b=10\n",
    ">>> id(a)\n",
    "1572353952\n",
    ">>> id(b)\n",
    "1572353952\n",
    ">>> a is b\n",
    "True"
   ]
  },
  {
   "cell_type": "code",
   "execution_count": null,
   "metadata": {},
   "outputs": [],
   "source": [
    ">>> a=10+5j\n",
    ">>> b=10+5j\n",
    ">>> a is b\n",
    "False\n",
    ">>> id(a)\n",
    "15980256\n",
    ">>> id(b)\n",
    "15979944"
   ]
  },
  {
   "cell_type": "code",
   "execution_count": null,
   "metadata": {},
   "outputs": [],
   "source": [
    ">>> a=True\n",
    ">>> b=True\n",
    ">>> a is b\n",
    "True\n",
    ">>> id(a)\n",
    "1572172624\n",
    ">>> id(b)\n",
    "1572172624"
   ]
  },
  {
   "cell_type": "code",
   "execution_count": null,
   "metadata": {},
   "outputs": [],
   "source": [
    ">>> a='durga'\n",
    ">>> b='durga'\n",
    ">>> a is b\n",
    "True\n",
    ">>> id(a)\n",
    "16378848\n",
    ">>> id(b)\n",
    "16378848"
   ]
  },
  {
   "cell_type": "markdown",
   "metadata": {},
   "source": [
    "# 6) bytes Data Type: \n",
    "    bytes data type represens a group of byte numbers just like an array. \n",
    "    1) x = [10,20,30,40] \n",
    "    2) b = bytes(x) \n",
    "    3) type(b)  bytes \n",
    "    4) print(b[0])  10 \n",
    "    5) print(b[-1])  40 \n",
    "    6) >>> for i in b : print(i) \n",
    "    7) \n",
    "    8)10 \n",
    "    9)20 \n",
    "    10)30 \n",
    "    11)40\n",
    "    \n",
    "====================================================================================================================================================================================================================================\n",
    "Conclusion 1: The only allowed values for byte data type are 0 to 256. By mistake if we are trying to provide any other values then we will get value error.\n",
    "Conclusion 2: Once we creates bytes data type value, we cannot change its values,otherwise we will get TypeError.\n",
    "\n",
    "=================================================================================================================\n",
    "Eg: 1) >>> x=[10,20,30,40] \n",
    "2) >>> b=bytes(x) \n",
    "3) >>> b[0]=100 \n",
    "4) TypeError: 'bytes' object does not support item assignment"
   ]
  },
  {
   "cell_type": "markdown",
   "metadata": {},
   "source": [
    "# 7) bytearray Data Type: \n",
    "bytearray is exactly same as bytes data type except that its elements can be modified.\n",
    "1) x = [10,20,30,40]\n",
    "2)b = bytes(x)\n",
    "3)type(b) -> bytes\n",
    "4)print(b[0]) -> 10\n",
    "5)print(b[-1]) -> 40\n",
    "6)>>> for i in b : print(i)\n",
    "7)\n",
    "8)10\n",
    "9)20\n",
    "10)30\n",
    "11)40\n",
    "\n",
    "====================================================================================================================================================================================================================================\n",
    "Conclusion 1:The only allowed values for byte data type are 0 to 256. By mistake if we are trying to provide any other values then we will get value error.\n",
    "\n",
    "====================================================================================================================================================================================================================================\n",
    "Conclusion 2:\n",
    "Once we creates bytes data type value, we cannot change its values,otherwise we will get\n",
    "TypeError."
   ]
  },
  {
   "cell_type": "code",
   "execution_count": null,
   "metadata": {},
   "outputs": [],
   "source": [
    "Eg:\n",
    "1)>>> x=[10,20,30,40]\n",
    "2)>>> b=bytes(x)\n",
    "3)>>> b[0]=100\n",
    "4)TypeError: 'bytes' object does not support item assignment"
   ]
  },
  {
   "cell_type": "markdown",
   "metadata": {},
   "source": [
    "# 7) bytearray Data Type:\n",
    "bytearray is exactly same as bytes data type except that its elements can be modified.\n",
    "\n",
    "==================================================================================================================\n",
    "Eg 1:\n",
    "1) x=[10,20,30,40]\n",
    "2) b = bytearray(x)\n",
    "3) for i in b : print(i)\n",
    "4) 10\n",
    "5) 20\n",
    "6) 30\n",
    "7) 40\n",
    "8) b[0]=100\n",
    "9) for i in b: print(i)\n",
    "10) 100\n",
    "11) 20\n",
    "12) 30\n",
    "13) 40"
   ]
  },
  {
   "cell_type": "code",
   "execution_count": null,
   "metadata": {},
   "outputs": [],
   "source": [
    "Eg 2:\n",
    "1) >>> x =[10,256]\n",
    "2) >>> b = bytearray(x)\n",
    "3) ValueError: byte must be in range(0, 256)"
   ]
  },
  {
   "cell_type": "markdown",
   "metadata": {},
   "source": [
    "# 8) List Data Type:\n",
    "If we want to represent a group of values as a single entity where insertion order\n",
    "required to preserve and duplicates are allowed then we should go for list data\n",
    "type.\n",
    "1)Insertion Order is preserved\n",
    "2)Heterogeneous Objects are allowed\n",
    "3)Duplicates are allowed\n",
    "4)Growable in nature\n",
    "5)Values should be enclosed within square brackets.\n",
    "\n",
    "====================================================================================================================================================================================================================================\n",
    "Eg:\n",
    "1) list=[10,10.5,'durga',True,10]\n",
    "2)\n",
    "print(list) # [10,10.5,'durga',True,10]"
   ]
  },
  {
   "cell_type": "code",
   "execution_count": null,
   "metadata": {},
   "outputs": [],
   "source": [
    "Eg:\n",
    "1) list=[10,20,30,40]\n",
    "2) >>> list[0]\n",
    "3) 10\n",
    "4) >>> list[-1]\n",
    "5) 40\n",
    "6) >>> list[1:3]\n",
    "7) [20, 30]\n",
    "8) >>> list[0]=100\n",
    "9) >>> for i in list:print(i)\n",
    "10) ...\n",
    "11) 100\n",
    "12) 20\n",
    "13) 30\n",
    "14) 40"
   ]
  },
  {
   "cell_type": "code",
   "execution_count": null,
   "metadata": {},
   "outputs": [],
   "source": [
    "list is growable in nature. i.e based on our requirement we can increase or decrease the size.\n",
    "\n",
    "===================================================================================================================\n",
    "1) >>> list=[10,20,30]\n",
    "2) >>> list.append(\"durga\")\n",
    "3) >>> list\n",
    "4) [10, 20, 30, 'durga']\n",
    "5) >>> list.remove(20)\n",
    "6) >>> list\n",
    "7) [10, 30, 'durga']\n",
    "8) >>> list2=list*2\n",
    "9) >>> list2\n",
    "10) [10, 30, 'durga', 10, 30, 'durga']\n",
    "\n",
    "===================================================================================================================\n",
    "Note: An ordered, mutable, heterogenous collection of eleemnts is nothing but list, where duplicates also allowed."
   ]
  },
  {
   "cell_type": "code",
   "execution_count": 1,
   "metadata": {},
   "outputs": [
    {
     "ename": "SyntaxError",
     "evalue": "invalid syntax (<ipython-input-1-1c83670a3516>, line 1)",
     "output_type": "error",
     "traceback": [
      "\u001b[0;36m  File \u001b[0;32m\"<ipython-input-1-1c83670a3516>\"\u001b[0;36m, line \u001b[0;32m1\u001b[0m\n\u001b[0;31m    9) Tuple Data Type:\u001b[0m\n\u001b[0m     ^\u001b[0m\n\u001b[0;31mSyntaxError\u001b[0m\u001b[0;31m:\u001b[0m invalid syntax\n"
     ]
    }
   ],
   "source": [
    "9) Tuple Data Type:\n",
    "tuple data type is exactly same as list data type except that it is immutable.i.e we\n",
    "cannot chage values.\n",
    "Tuple elements can be represented within parenthesis.\n",
    "\n",
    "==================================================================================================================\n",
    "==================================================================================================================\n",
    "1)t=(10,20,30,40)\n",
    "2)type(t)\n",
    "3)<class 'tuple'>\n",
    "4)t[0]=100\n",
    "5)TypeError: 'tuple' object does not support item assignment\n",
    "6)>>> t.append(\"durga\")\n",
    "7)AttributeError: 'tuple' object has no attribute 'append'\n",
    "8)>>> t.remove(10)\n",
    "9)AttributeError: 'tuple' object has no attribute 'remove \n",
    " \n",
    "Note: tuple is the read only version of list"
   ]
  },
  {
   "cell_type": "code",
   "execution_count": null,
   "metadata": {},
   "outputs": [],
   "source": [
    "13) dict Data Type:\n",
    "֍ If we want to represent a group of values as key-value pairs then we should go for\n",
    "dict data type.\n",
    "֍ Eg: d = {101:'durga',102:'ravi',103:'shiva'}\n",
    "֍ Duplicate keys are not allowed but values can be duplicated. If we are trying to\n",
    "insert an entry with duplicate key then old value will be replaced with new value."
   ]
  },
  {
   "cell_type": "code",
   "execution_count": null,
   "metadata": {},
   "outputs": [],
   "source": [
    "14) None Data Type:\n",
    ")None means nothing or No value associated.\n",
    ")If the value is not available, then to handle such type of cases None introduced.\n",
    ")It is something like null value in Java.\n",
    "==================================\n",
    "Eg:\n",
    "def m1():\n",
    "a=10\n",
    "print(m1())\n",
    "None"
   ]
  },
  {
   "cell_type": "markdown",
   "metadata": {},
   "source": [
    "# In String literals we can use esacpe characters to associate a special meaning.\n",
    "1) >>> s=\"durga\\nsoftware\"\n",
    "2) >>> print(s)\n",
    "3) durga\n",
    "4) software\n",
    "5) >>> s=\"durga\\tsoftware\"\n",
    "6) >>> print(s)\n",
    "7) durga software\n",
    "8) >>> s=\"This is \" symbol\"\n",
    "9) File \"<stdin>\", line 1\n",
    "10) s=\"This is \" symbol\"\n",
    "11)\n",
    "^\n",
    "12) SyntaxError: invalid syntax\n",
    "13) >>> s=\"This is \\\" symbol\"\n",
    "14) >>> print(s)\n",
    "15) This is \" symbol\n",
    "The following are various important escape characters in Python"
   ]
  },
  {
   "cell_type": "markdown",
   "metadata": {},
   "source": [
    "# The following are various important escape characters in Python\n",
    "1.\\n=====================New LIne\n",
    "2.\\t=====================Horizontal Tab\n",
    "3.\\r=====================Carriage Return\n",
    "4.\\b=====================Back Space\n",
    "5.\\f=====================Form Feed\n",
    "6.\\v=====================Vertical Tab\n",
    "7.\\'=====================Single Quote\n",
    "8.\\\"=====================Double Quote\n",
    "9.\\\\=====================Back Slash Symbol\n"
   ]
  },
  {
   "cell_type": "markdown",
   "metadata": {},
   "source": [
    "# Constant\n",
    "Constants concept is not applicable in Python.\n",
    "But it is convention to use only uppercase characters if we don’t want to change value.\n",
    " MAX_VALUE = 10\n",
    " It is just convention but we can change the value."
   ]
  }
 ],
 "metadata": {
  "kernelspec": {
   "display_name": "Python 3",
   "language": "python",
   "name": "python3"
  },
  "language_info": {
   "codemirror_mode": {
    "name": "ipython",
    "version": 3
   },
   "file_extension": ".py",
   "mimetype": "text/x-python",
   "name": "python",
   "nbconvert_exporter": "python",
   "pygments_lexer": "ipython3",
   "version": "3.7.6"
  }
 },
 "nbformat": 4,
 "nbformat_minor": 4
}
