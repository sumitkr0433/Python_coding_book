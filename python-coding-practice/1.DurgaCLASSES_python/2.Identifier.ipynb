{
 "cells": [
  {
   "cell_type": "markdown",
   "metadata": {},
   "source": [
    "# 2.1 Indetifiers"
   ]
  },
  {
   "cell_type": "code",
   "execution_count": null,
   "metadata": {},
   "outputs": [],
   "source": [
    " A Name in Python Program is called Identifier. \n",
    " It can be Class Name OR Function Name OR Module Name OR Variable Name.\n",
    " a = 10"
   ]
  },
  {
   "cell_type": "markdown",
   "metadata": {},
   "source": [
    "# 2.2 Rules to define Identifiers in Python:\n",
    "1. The only allowed characters in Python are\n",
    " alphabet symbols(either lower case or upper case) \n",
    " digits(0 to 9) \n",
    " underscore symbol(_)\n",
    "\n",
    "============================================================================================================================\n",
    "By mistake if we are using any other symbol like $ then we will get syntax error.\n",
    " cash = 10 √ \n",
    " ca$h =20 \n",
    "\n",
    "2. Identifier should not starts with digit\n",
    " 123total   total123 √"
   ]
  },
  {
   "cell_type": "code",
   "execution_count": 1,
   "metadata": {},
   "outputs": [
    {
     "ename": "SyntaxError",
     "evalue": "invalid syntax (<ipython-input-1-0c8b245c02fa>, line 1)",
     "output_type": "error",
     "traceback": [
      "\u001b[0;36m  File \u001b[0;32m\"<ipython-input-1-0c8b245c02fa>\"\u001b[0;36m, line \u001b[0;32m1\u001b[0m\n\u001b[0;31m    ca$h =20\u001b[0m\n\u001b[0m      ^\u001b[0m\n\u001b[0;31mSyntaxError\u001b[0m\u001b[0;31m:\u001b[0m invalid syntax\n"
     ]
    }
   ],
   "source": [
    "ca$h =20 "
   ]
  },
  {
   "cell_type": "markdown",
   "metadata": {},
   "source": [
    "# 2.3 Properties of Identifier\n",
    "3. Identifiers are case sensitive. \n",
    "Of course Python language is case sensitive language.\n",
    " total=10 \n",
    " TOTAL=999 \n",
    " print(total) #10\n",
    " print(TOTAL) #999"
   ]
  },
  {
   "cell_type": "markdown",
   "metadata": {},
   "source": [
    "# 2.4 Identifier:\n",
    "1) Alphabet Symbols (Either Upper case OR Lower case)\n",
    "2) If Identifier is start with Underscore (_) then it indicates it is private.\n",
    "3) Identifier should not start with Digits.\n",
    "4) Identifiers are case sensitive.\n",
    "5) We cannot use reserved words as identifiers Eg: def = 10 \n",
    "6) There is no length limit for Python identifiers. But not recommended to use too lengthy identifiers.\n",
    "7) Dollor ($) Symbol is not allowed in Python."
   ]
  },
  {
   "cell_type": "code",
   "execution_count": null,
   "metadata": {},
   "outputs": [],
   "source": [
    "Q) Which of the following are valid Python identifiers?\n",
    "1) 123total \n",
    "2) total123 √ \n",
    "3) java2share √ \n",
    "4) ca$h  \n",
    "5) _abc_abc_  \n",
    "6) def  \n",
    "7) if "
   ]
  },
  {
   "cell_type": "code",
   "execution_count": null,
   "metadata": {},
   "outputs": [],
   "source": [
    "Note:\n",
    "1) If identifier starts with _ symbol then it indicates that it is private \n",
    "2) If identifier starts with __(Two Under Score Symbols) indicating that strongly private identifier. \n",
    "3) If the identifier starts and ends with two underscore symbols then the identifier is language defined special name, \n",
    "which is also known as magic methods.\n",
    "4) Eg: __add__"
   ]
  },
  {
   "cell_type": "markdown",
   "metadata": {},
   "source": [
    "# 2.5 RESERVED WORDS\n",
    "In Python some words are reserved to represent some meaning or functionality. Such types of words are called reserved words.\n",
    "There are 33 reserved words available in Python.\n",
    " True, False, None \n",
    " and, or ,not,is \n",
    " if, elif, else \n",
    " while, for, break, continue, return, in, yield \n",
    " try, except, finally, raise, assert \n",
    " import, from, as, class, def, pass, global, nonlocal, lambda, del, with\n",
    "\n",
    "==============================================================================================================================================================================================================================================================\n",
    "\n",
    "Note:\n",
    "1. All Reserved words in Python contain only alphabet symbols.\n",
    "2. Except the following 3 reserved words, all contain only lower case alphabet symbols.\n",
    " True  False  None\n",
    "Eg: a= true  a=True √\n",
    ">>> import keyword >>> keyword.kwlist \n",
    "['False', 'None', 'True', 'and', 'as', 'assert', 'break', 'class', 'continue', 'def', 'del', 'elif', 'else', 'except', 'finally', 'for', 'from', 'global', 'if', 'import', 'in', 'is', 'lambda', 'nonlocal', 'not', 'or', 'pass', 'raise', 'return', 'try', 'while', 'with', 'yield']\n"
   ]
  },
  {
   "cell_type": "code",
   "execution_count": 2,
   "metadata": {},
   "outputs": [
    {
     "data": {
      "text/plain": [
       "['False',\n",
       " 'None',\n",
       " 'True',\n",
       " 'and',\n",
       " 'as',\n",
       " 'assert',\n",
       " 'async',\n",
       " 'await',\n",
       " 'break',\n",
       " 'class',\n",
       " 'continue',\n",
       " 'def',\n",
       " 'del',\n",
       " 'elif',\n",
       " 'else',\n",
       " 'except',\n",
       " 'finally',\n",
       " 'for',\n",
       " 'from',\n",
       " 'global',\n",
       " 'if',\n",
       " 'import',\n",
       " 'in',\n",
       " 'is',\n",
       " 'lambda',\n",
       " 'nonlocal',\n",
       " 'not',\n",
       " 'or',\n",
       " 'pass',\n",
       " 'raise',\n",
       " 'return',\n",
       " 'try',\n",
       " 'while',\n",
       " 'with',\n",
       " 'yield']"
      ]
     },
     "execution_count": 2,
     "metadata": {},
     "output_type": "execute_result"
    }
   ],
   "source": [
    "import keyword\n",
    "keyword.kwlist \n",
    "#['False', 'None', 'True', 'and', 'as', "
   ]
  },
  {
   "cell_type": "markdown",
   "metadata": {},
   "source": [
    "# 2.6 DATA TYPES\n",
    "===============================================================================================================================\n",
    "Data Type represents the type of data present inside a variable. \n",
    " In Python we are not required to specify the type explicitly. Based on value provided, the type will be assigned automatically.Hence Python is dynamically Typed Language.\n",
    "Python contains the following inbuilt data types\n",
    "\n",
    "===============================================================================================================================\n",
    "1) Int \n",
    "2) Float \n",
    "3) Complex \n",
    "4) Bool \n",
    "5) Str \n",
    "6) Bytes \n",
    "7) Bytearray \n",
    "8) Range \n",
    "9) List \n",
    "10)Tuple \n",
    "11) Set \n",
    "12) Frozenset \n",
    "13) Dict \n",
    "14) None\n",
    "\n",
    "==============================================================================================================================="
   ]
  },
  {
   "cell_type": "code",
   "execution_count": null,
   "metadata": {},
   "outputs": [],
   "source": [
    "a=10\n",
    "a=20\n",
    "\n",
    "a=10\n",
    "b=10\n",
    "================================================================================================================================\n",
    "Note: Python contains several inbuilt functions\n",
    "1) type() \n",
    "to check the type of variable\n",
    "2) id() \n",
    "to get address of object\n",
    "3) print() \n",
    "to print the value"
   ]
  },
  {
   "cell_type": "code",
   "execution_count": 5,
   "metadata": {},
   "outputs": [
    {
     "name": "stdout",
     "output_type": "stream",
     "text": [
      "94173590758432\n"
     ]
    },
    {
     "data": {
      "text/plain": [
       "94173590758432"
      ]
     },
     "execution_count": 5,
     "metadata": {},
     "output_type": "execute_result"
    }
   ],
   "source": [
    "a=10\n",
    "b=10\n",
    "type(a)\n",
    "type(b)\n",
    "print(id(a))\n",
    "id(b)"
   ]
  },
  {
   "cell_type": "markdown",
   "metadata": {},
   "source": [
    "# 2.7 In Python everything is an Object.\n",
    "1) int Data Type:\n",
    "We can use int data type to represent whole numbers (integral values) \n",
    "Eg: a = 10 type(a) #int\n",
    "\n",
    "====================================================================================================================================================================================================================================\n",
    "Note: \n",
    "> In Python2 we have long data type to represent very large integral values. \n",
    "> But in Python3 there is no long type explicitly and we can represent long values also by using int type only.\n",
    "We can represent int values in the following ways\n",
    "1) Decimal form \n",
    "2) Binary form \n",
    "3) Octal form \n",
    "4) Hexa decimal form\n",
    "\n",
    "====================================================================================================================================================================================================================================\n",
    "I) Decimal Form (Base-10):\n",
    "> It is the default number system in Python \n",
    "> The allowed digits are: 0 to 9  Eg: a =10\n",
    "        \n",
    "================================================================================================================================\n",
    "II) Binary Form (Base-2):\n",
    "> The allowed digits are : 0 & 1  Literal value should be prefixed with 0b or 0B\n",
    "> Eg: a = 0B1111 a = 0B123 a = b111\n",
    "    \n",
    "====================================================================================================================================================================================================================================\n",
    "III) Octal Form (Base-8):\n",
    " The allowed digits are : 0 to 7  Literal value should be prefixed with 0o or 0O.\n",
    " Eg: a = 0o123 a = 0o786\n",
    "        \n",
    "==============================================================================================================================\n",
    "IV) Hexa Decimal Form (Base-16):\n",
    " The allowed digits are: 0 to 9, a-f (both lower and upper cases are allowed) \n",
    " Literal value should be prefixed with 0x or 0X\n",
    " Eg: a = 0XFACE a = 0XBeef a = 0XBeer"
   ]
  },
  {
   "cell_type": "code",
   "execution_count": null,
   "metadata": {},
   "outputs": [],
   "source": [
    "Note: Being a programmer we can specify literal values in decimal, binary, octal and hexa decimal forms. But PVM will \n",
    "always provide values only in decimal form.\n",
    "a=10 \n",
    "b=0o10 \n",
    "c=0X10 \n",
    "d=0B10 \n",
    "print(a) #10 \n",
    "print(b) #8 \n",
    "print(c) #16 \n",
    "print(d) #2"
   ]
  },
  {
   "cell_type": "code",
   "execution_count": 6,
   "metadata": {},
   "outputs": [
    {
     "name": "stdout",
     "output_type": "stream",
     "text": [
      "10\n",
      "8\n",
      "16\n",
      "2\n"
     ]
    }
   ],
   "source": [
    "a=10 \n",
    "b=0o10 \n",
    "c=0X10 \n",
    "d=0B10 \n",
    "print(a)#10 \n",
    "print(b)#8 \n",
    "print(c)#16 \n",
    "print(d)#2"
   ]
  },
  {
   "cell_type": "markdown",
   "metadata": {},
   "source": [
    "# 2.7 Base Conversions\n",
    "Python provide the following in-built functions for base conversions\n",
    "1) bin(): \n",
    "We can use bin() to convert from any base to binary \n",
    "1) >>> bin(15) \n",
    "2) '0b1111' \n",
    "3) >>> bin(0o11) \n",
    "4) '0b1001' \n",
    "5) >>> bin(0X10) \n",
    "6) '0b10000'\n",
    "==============================================================================================================================\n",
    "2) oct(): \n",
    "We can use oct() to convert from any base to octal \n",
    "1) >>> oct(10) \n",
    "2) '0o12' \n",
    "3) >>> oct(0B1111) \n",
    "4) '0o17' \n",
    "5) >>> oct(0X123) \n",
    "6) '0o443'\n",
    "==============================================================================================================================\n",
    "3) hex():\n",
    "We can use hex() to convert from any base to hexa decimal \n",
    "1) >>> hex(100) \n",
    "2) '0x64' \n",
    "3) >>> hex(0B111111) \n",
    "4) '0x3f' \n",
    "5) >>> hex(0o12345) \n",
    "6) '0x14e5'\n",
    "==============================================================================================================================="
   ]
  },
  {
   "cell_type": "code",
   "execution_count": null,
   "metadata": {},
   "outputs": [],
   "source": [
    "2) Float Data Type:\n",
    " We can use float data type to represent floating point values (decimal values) \n",
    "Eg: f = 1.234 type(f) float\n",
    " We can also represent floating point values by using exponential form (Scientific Notation) \n",
    "Eg: f = 1.2e3 ---> instead of 'e' we can use 'E' print(f) 1200.0\n",
    "===============================================================================================================================    \n",
    " The main advantage of exponential form is we can represent big values in less memory.\n",
    "***Note: We can represent int values in decimal, binary, octal and hexa decimal forms. \n",
    "But we can represent float values only by using decimal form."
   ]
  },
  {
   "cell_type": "code",
   "execution_count": null,
   "metadata": {},
   "outputs": [],
   "source": [
    "1) >>> f=0B11.01 \n",
    "2) File \"<stdin>\", line 1 \n",
    "3) f=0B11.01 \n",
    "4) ^ \n",
    "5) SyntaxError: invalid syntax \n",
    "6) \n",
    "7) >>> f=0o123.456 \n",
    "8) SyntaxError: invalid syntax \n",
    "9) \n",
    "10) >>> f=0X123.456 \n",
    "11) SyntaxError: invalid syntax"
   ]
  },
  {
   "cell_type": "markdown",
   "metadata": {},
   "source": [
    "# 2.9 Complex Data Type:\n",
    "====================================================================================\n",
    "A complex number is of the form\n",
    "a + bj\n",
    "Real Part=a \n",
    "Imaginary Part=bj\n",
    "j2 = -1\n",
    "\n",
    "====================================================================================================================================================================================\n",
    "‘a’ and ‘b’ contain Intergers OR Floating Point Values.\n",
    "Eg: 3 + 5j \n",
    "10 + 5.5j \n",
    "0.5 + 0.1j\n",
    "\n",
    "In the real part if we use int value then we can specify that either by decimal, octal, binary or hexa decimal form.\n",
    "But imaginary part should be specified only by using decimal form.\n",
    "\n",
    "===============================================================================================================================\n",
    "a=0B11+5j \n",
    "a \n",
    "3) (3+5j) \n",
    "4) >>> a=3+0B11j \n",
    "5) SyntaxError: invalid syntax\n",
    "===============================================================================================================================\n",
    " Even we can perform operations on complex type values. \n",
    "1) >>> a=10+1.5j \n",
    "2) >>> b=20+2.5j \n",
    "3) >>> c=a+b \n",
    "4) >>> print(c) \n",
    "5) (30+4j)\n",
    "6) >>> type(c)\n",
    "7) <class 'complex'>\n",
    "Note: Complex data type has some inbuilt attributes to retrieve the real part and imaginary part\n",
    "c = 10.5+3.6j\n",
    "c.real --> 10.5 \n",
    "c.imag --> 3.6\n",
    "We can use complex type generally in scientific Applications and electrical engineering Applications."
   ]
  },
  {
   "cell_type": "markdown",
   "metadata": {},
   "source": [
    "# 2.10 bool Data Type:\n",
    " We can use this data type to represent boolean values. \n",
    " The only allowed values for this data type are: \n",
    " True and False\n",
    " Internally Python represents True as 1 and False as 0\n",
    "b = True type(b) bool\n",
    "Eg: a = 10 \n",
    "    b = 20 \n",
    "    c = a<b \n",
    "    print(c) -> True\n",
    "\n",
    "True+True  -> 2 \n",
    "True-False ->1"
   ]
  },
  {
   "cell_type": "markdown",
   "metadata": {},
   "source": [
    "# 2.11 str Data Type:\n",
    " str represents String data type. \n",
    " A String is a sequence of characters enclosed within single quotes or double quotes.\n",
    " s1='durga' \n",
    " s1=\"durga\"\n",
    "\n",
    "==========================================================================================================================\n",
    " By using single quotes or double quotes we cannot represent multi line string literals.\n",
    " s1=\"durga soft\"\n",
    " For this requirement we should go for triple single quotes(''') or triple double quotes(\"\"\")\n",
    " s1='''durga soft'''\n",
    " s1=\"\"\"durga soft\"\"\"\n",
    " We can also use triple quotes to use single quote or double quote in our String. \n",
    " ''' This is \" character''' ' This i \" Character '\n",
    " We can embed one string in another string \n",
    " '''This \"Python class very helpful\" for java students'''\n",
    "\n",
    "==============================================================================================================================="
   ]
  },
  {
   "cell_type": "markdown",
   "metadata": {},
   "source": [
    "# 2.12 Slicing of Strings:\n",
    "1) slice means a piece \n",
    "2) [ ] operator is called slice operator, which can be used to retrieve parts of String. \n",
    "3) In Python Strings follows zero based index. \n",
    "4) The index can be either +ve or -ve. \n",
    "5) +ve index means forward direction from Left to Right \n",
    "6) -ve index means backward direction from Right to Left\n",
    "\n",
    "            0 -1 -2 -3 -4\n",
    "            S -U -M -I -T\n",
    "           -5 -4 -3 -2 -1\n",
    "===============================================================================================================================\n",
    "1) >>> s=\"durga\" \n",
    "2) >>> s[0] \n",
    "3) 'd' \n",
    "4) >>> s[1] \n",
    "5) 'u' \n",
    "6) >>> s[-1] \n",
    "7) 'a' \n",
    "8) >>> s[40] \n",
    "IndexError: string index out of range"
   ]
  },
  {
   "cell_type": "code",
   "execution_count": null,
   "metadata": {},
   "outputs": [],
   "source": [
    "1) >>> s[1:40] \n",
    "2) 'urga' \n",
    "3) >>> s[1:] \n",
    "4) 'urga' \n",
    "5) >>> s[:4] \n",
    "6) 'durg' \n",
    "7) >>> s[:] \n",
    "8) 'durga' \n",
    "9) >>> \n",
    "10) \n",
    "11) >>> s*3 \n",
    "12) 'durgadurgadurga' \n",
    "13) \n",
    "14) >>> len(s) \n",
    "15) 5"
   ]
  },
  {
   "cell_type": "markdown",
   "metadata": {},
   "source": [
    "# 2.13 Note:\n",
    "1) In Python the following data types are considered as Fundamental Data types\n",
    "> int > float > complex > bool > str\n",
    "2) In Python, we can represent char values also by using str type and explicitly char type is not available.\n",
    "\n",
    "    1) >>> c='a' \n",
    "    2) >>> type(c) \n",
    "    3) <class 'str'> \n",
    "\n",
    "3) long Data Type is available in Python2 but not in Python3. In Python3 long values also we can represent by \n",
    "using int type only.\n",
    "4) In Python we can present char Value also by using str Type and explicitly char Type is not available."
   ]
  },
  {
   "cell_type": "code",
   "execution_count": null,
   "metadata": {},
   "outputs": [],
   "source": [
    "10) Range Data Type:\n",
    ">range Data Type represents a sequence of numbers.\n",
    ">The elements present in range Data type are not modifiable. i.e range Data type is\n",
    "immutable.\n",
    "===================================================================================================================\n",
    "Form-1: range(10)\n",
    "generate numbers from 0 to 9\n",
    "\n",
    "Eg:\n",
    "r = range(10)\n",
    "for i in r : print(i) -> 0 to 9\n",
    "Form-2: range(10, 20)\n",
    "generate numbers from 10 to 19\n",
    "Eg:\n",
    "r = range(10,20)\n",
    "for i in r : print(i) ->10 to 19"
   ]
  },
  {
   "cell_type": "code",
   "execution_count": null,
   "metadata": {},
   "outputs": [],
   "source": [
    "Form-3: \n",
    "range(10, 20, 2)\n",
    "2 means increment value\n",
    "\n",
    "Eg:\n",
    "r = range(10,20,2)\n",
    "for i in r : print(i) -> 10,12,14,16,18\n",
    "We can access elements present in the range Data Type by using index.\n",
    "Eg:\n",
    "r = range(10,20)\n",
    "r[0] -> 10\n",
    "r[15] -> IndexError: range object index out of range\n",
    "We cannot modify the values of range data type\n",
    "\n",
    "==================================================================================================================\n",
    "Eg:\n",
    "r[0] = 100\n",
    "TypeError: 'range' object does not support item assignment\n",
    "We can create a list of values with range data type\n",
    "Eg:\n",
    "1) >>> l = list(range(10))\n",
    "2) >>> l\n",
    "3) [0, 1, 2, 3, 4, 5, 6, 7, 8, 9]"
   ]
  },
  {
   "cell_type": "code",
   "execution_count": null,
   "metadata": {},
   "outputs": [],
   "source": [
    "11) set Data Type:\n",
    "֍ If we want to represent a group of values without duplicates where order is not\n",
    "important then we should go for set Data Type.\n",
    "1)Insertion order is not preserved\n",
    "2)Duplicates are not allowed\n",
    "3)Heterogeneous objects are allowed\n",
    "4)Index concept is not applicable\n",
    "5)It is mutable collection\n",
    "6)Growable in nature\n",
    "\n",
    "\n",
    "===================================================================================================================\n",
    "Eg:\n",
    "1) s={100,0,10,200,10,'durga'}\n",
    "2) s # {0, 100, 'durga', 200, 10}\n",
    "3) s[0] -> TypeError: 'set' object does not support indexing\n",
    "    \n",
    "=================================================================================================================="
   ]
  },
  {
   "cell_type": "markdown",
   "metadata": {},
   "source": [
    "# set is growable in nature, based on our requirement we can increase or decrease the size.\n",
    "1)>>> s.add(60)\n",
    "2)>>> s\n",
    "3){0, 100, 'durga', 200, 10, 60}\n",
    "4)>>> s.remove(100)\n",
    "5)>>> s\n",
    "6){0, 'durga', 200, 10, 60}"
   ]
  },
  {
   "cell_type": "markdown",
   "metadata": {},
   "source": [
    "# 12) frozenset Data Type:\n",
    "==================================================================================================================\n",
    "֍ It is exactly same as set except that it is immutable.\n",
    "֍ Hence we cannot use add or remove functions.\n",
    "\n",
    "=================================================================================================================\n",
    "1) >>> s={10,20,30,40}\n",
    "2) >>> fs=frozenset(s)\n",
    "3) >>> type(fs)\n",
    "4) <class 'frozenset'>\n",
    "5) >>> fs\n",
    "6) frozenset({40, 10, 20, 30})\n",
    "7) >>> for i in fs:print(i)\n",
    "8) ...\n",
    "9) 40\n",
    "10) 10\n",
    "11) 20\n",
    "12) 30\n",
    "13)\n",
    "14) >>> fs.add(70)\n",
    "15) AttributeError: 'frozenset' object has no attribute 'add'\n",
    "16) >>> fs.remove(10)\n",
    "17) AttributeError: 'frozenset' object has no attribute 'remove'"
   ]
  },
  {
   "cell_type": "markdown",
   "metadata": {},
   "source": [
    "# 13) dict Data Type:\n",
    ">If we want to represent a group of values as key-value pairs then we should go for\n",
    "dict data type.\n",
    "> Eg: d = {101:'durga',102:'ravi',103:'shiva'}\n",
    "> Duplicate keys are not allowed but values can be duplicated. If we are trying to\n",
    "insert an entry with duplicate key then old value will be replaced with new value."
   ]
  },
  {
   "cell_type": "code",
   "execution_count": null,
   "metadata": {},
   "outputs": [],
   "source": [
    "Eg:\n",
    "1) >>> d={101:'durga',102:'ravi',103:'shiva'}\n",
    "2) >>> d[101]='sunny'\n",
    "3) >>> d\n",
    "4) {101: 'sunny', 102: 'ravi', 103: 'shiva'}\n",
    "5)\n",
    "6) We can create empty dictionary as follows\n",
    "7) d={ }\n",
    "8) We can add key-value pairs as follows\n",
    "9) d['a']='apple'\n",
    "10) d['b']='banana'\n",
    "11) print(d)\n",
    "Note: dict is mutable and the order won’t be preserved."
   ]
  },
  {
   "cell_type": "code",
   "execution_count": null,
   "metadata": {},
   "outputs": [],
   "source": [
    "Note:\n",
    "1) In general we can use bytes and bytearray data types to represent binary information\n",
    "like images, video files etc\n",
    "2) In Python2 long data type is available. But in Python3 it is not available and we can\n",
    "represent long values also by using int type only.\n",
    "3) In Python there is no char data type. Hence we can represent char values also by using\n",
    "str type."
   ]
  },
  {
   "cell_type": "markdown",
   "metadata": {},
   "source": [
    "# Summary of Datatypes in Python 3\n",
    "\n",
    "Int==>We can use to represent the whole/integral numbers \n",
    "Immutable >>> a=10\n",
    ">>> type(a)\n",
    "<class 'int'>\n",
    "\n",
    "================================================================================================================\n",
    "Float\n",
    "We can use to represent the decimal/floating point numbers\n",
    "Immutable\n",
    ">>> b=10.5\n",
    ">>> type(b)\n",
    "<class 'float'>\n",
    "\n",
    "================================================================================================================\n",
    "Complex\n",
    "We can use to represent the complex numbers\n",
    "Immutable\n",
    ">>> c=10+5j\n",
    ">>> type(c)\n",
    "<class 'complex'>\n",
    ">>> c.real\n",
    "10.0\n",
    ">>> c.imag\n",
    "5.0\n",
    "\n",
    "==============================================================================================================\n",
    "Bool\n",
    "We can use to represent the logical values (Only allowed values are True and False)\n",
    "Immutable\n",
    ">>> flag=True\n",
    ">>> flag=False\n",
    ">>> type(flag)\n",
    "<class 'bool'>\n",
    "\n",
    "================================================================================================================\n",
    "Str\n",
    "To represent sequence of Characters\n",
    "Immutable\n",
    ">>> s='durga'\n",
    ">>> type(s)\n",
    "<class 'str'>\n",
    ">>> s=\"durga\"\n",
    ">>> s='''Durga Software\n",
    "Solutions... Ameerpet'''\n",
    ">>> type(s)\n",
    "<class 'str'>\n",
    "\n",
    "==================================================================================================================\n",
    "bytes\n",
    "To represent a sequence of byte values from 0-255\n",
    "Immutable\n",
    ">>> list=[1,2,3,4]\n",
    ">>> b=bytes(list)\n",
    ">>> type(b)\n",
    "<class 'bytes'>\n",
    "\n",
    "==============================================================================================================\n",
    "bytearray \n",
    "To represent asequence of byte values from 0-255 Mutable\n",
    ">>> list=[10,20,30]\n",
    ">>> ba=bytearray(list)\n",
    ">>> type(ba)\n",
    "<class 'bytearray'>\n",
    "\n",
    "==================================================\n",
    "range \n",
    "To represent a range of values Immutable\n",
    ">>> r=range(10)\n",
    ">>> r1=range(0,10)\n",
    ">>> r2=range(0,10,2)"
   ]
  },
  {
   "cell_type": "code",
   "execution_count": null,
   "metadata": {},
   "outputs": [],
   "source": [
    "list\n",
    "To represent an ordered collection of objects\n",
    "Mutable\n",
    ">>> l=[10,11,12,13,14,15]\n",
    ">>> type(l)\n",
    "<class 'list'>\n",
    "===================================================================================================================\n",
    "tuple\n",
    "To represent an ordered collections of objects\n",
    "Immutable\n",
    ">>> t=(1,2,3,4,5)\n",
    ">>> type(t)\n",
    "<class 'tuple'>\n",
    "===================================================================================================================\n",
    "set\n",
    "To represent an unordered collection of unique objects\n",
    "Mutable\n",
    ">>> s={1,2,3,4,5,6}\n",
    ">>> type(s)\n",
    "<class 'set'>\n",
    "===================================================================================\n",
    "frozenset\n",
    "To represent an unordered collection of unique objects\n",
    "Immutable\n",
    ">>> s={11,2,3,'Durga',100,'Ramu'}\n",
    ">>> fs=frozenset(s)\n",
    ">>> type(fs)\n",
    "<class 'frozenset'>\n",
    "===========================================================================================\n",
    "dict\n",
    "To represent a group of key value pairs\n",
    "mutable\n",
    ">>>\n",
    "d = {101:'durga', 102:'ramu',\n",
    "103:'hari'}\n",
    ">>> type(d)\n",
    "<class 'dict'>\n",
    "    \n"
   ]
  }
 ],
 "metadata": {
  "kernelspec": {
   "display_name": "Python 3",
   "language": "python",
   "name": "python3"
  },
  "language_info": {
   "codemirror_mode": {
    "name": "ipython",
    "version": 3
   },
   "file_extension": ".py",
   "mimetype": "text/x-python",
   "name": "python",
   "nbconvert_exporter": "python",
   "pygments_lexer": "ipython3",
   "version": "3.7.6"
  }
 },
 "nbformat": 4,
 "nbformat_minor": 4
}
