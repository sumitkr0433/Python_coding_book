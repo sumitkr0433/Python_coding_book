{
 "cells": [
  {
   "cell_type": "code",
   "execution_count": null,
   "metadata": {},
   "outputs": [],
   "source": [
    "Picling and Unpickling"
   ]
  },
  {
   "cell_type": "markdown",
   "metadata": {},
   "source": [
    "# Pickling and Unpickling of Objects:\n",
    "\n",
    "==========================================================================================\n",
    "Sometimes we have to write total state of object to the file and we have to read total\n",
    "object from the file.\n",
    "The process of writing state of object to the file is called pickling and the process of\n",
    "reading state of an object from the file is called unpickling.\n",
    "We can implement pickling and unpickling by using pickle module of Python.\n",
    "pickle module contains dump() function to perform pickling. pickle.dump(object,file)\n",
    "pickle module contains load() function to perform unpickling obj=pickle.load(file)"
   ]
  },
  {
   "cell_type": "code",
   "execution_count": null,
   "metadata": {},
   "outputs": [],
   "source": [
    "Writing and Reading State of Object by using pickle Module:\n",
    "1) import pickle\n",
    "2) class Employee:\n",
    "3)     def __init__(self,eno,ename,esal,eaddr):\n",
    "4)           self.eno=eno;\n",
    "5)           self.ename=ename;\n",
    "6)           self.esal=esal;\n",
    "7)           self.eaddr=eaddr;\n",
    "8)     def display(self):\n",
    "9)          print(self.eno,\"\\t\",self.ename,\"\\t\",self.esal,\"\\t\",self.eaddr)\n",
    "10)with open(\"emp.dat\",\"wb\") as f:\n",
    "11)    e=Employee(100,\"Durga\",1000,\"Hyd\")\n",
    "12)    pickle.dump(e,f)\n",
    "13)    print(\"Pickling of Employee Object completed...\")\n",
    "14)\n",
    "15) with open(\"emp.dat\",\"rb\") as f:\n",
    "16)    obj=pickle.load(f)\n",
    "17)    print(\"Printing Employee Information after unpickling\")\n",
    "18)    obj.display()"
   ]
  },
  {
   "cell_type": "markdown",
   "metadata": {},
   "source": [
    "# Writing Multiple Employee Objects to the File:\n",
    "\n",
    "============================================================================    \n",
    "emp.py:\n",
    "1) class Employee:\n",
    "2)    def __init__(self,eno,ename,esal,eaddr):\n",
    "3)        self.eno=eno;\n",
    "4)        self.ename=ename;\n",
    "5)        self.esal=esal;\n",
    "6)        self.eaddr=eaddr;\n",
    "7)     def display(self):\n",
    "8)\n",
    "9)   print(self.eno,\"\\t\",self.ename,\"\\t\",self.esal,\"\\t\",self.eaddr)\n",
    "pick.py:\n",
    "1) import emp,pickle\n",
    "2) f=open(\"emp.dat\",\"wb\")\n",
    "3) n=int(input(\"Enter The number of Employees:\"))\n",
    "4) for i in range(n):\n",
    "5)\n",
    "eno=int(input(\"Enter Employee Number:\"))\n",
    "6)\n",
    "ename=input(\"Enter Employee Name:\")\n",
    "7)\n",
    "esal=float(input(\"Enter Employee Salary:\"))\n",
    "8)\n",
    "eaddr=input(\"Enter Employee Address:\")\n",
    "9)\n",
    "e=emp.Employee(eno,ename,esal,eaddr)\n",
    "10) pickle.dump(e,f)\n",
    "11) print(\"Employee Objects pickled successfully\")"
   ]
  },
  {
   "cell_type": "code",
   "execution_count": null,
   "metadata": {},
   "outputs": [],
   "source": [
    "unpick.py:\n",
    "    \n",
    "======================================\n",
    "\n",
    "import emp,pickle\n",
    "f=open(\"emp.dat\",\"rb\")\n",
    "print(\"Employee Details:\")\n",
    "while True:\n",
    "try:\n",
    "obj=pickle.load(f)\n",
    "7)\n",
    "obj.display()\n",
    "8)\n",
    "except EOFError:\n",
    "9)\n",
    "print(\"All employees Completed\")\n",
    "10)\n",
    "break\n",
    "11) f.close()"
   ]
  }
 ],
 "metadata": {
  "kernelspec": {
   "display_name": "Python 3",
   "language": "python",
   "name": "python3"
  },
  "language_info": {
   "codemirror_mode": {
    "name": "ipython",
    "version": 3
   },
   "file_extension": ".py",
   "mimetype": "text/x-python",
   "name": "python",
   "nbconvert_exporter": "python",
   "pygments_lexer": "ipython3",
   "version": "3.7.6"
  }
 },
 "nbformat": 4,
 "nbformat_minor": 4
}
