{
 "cells": [
  {
   "cell_type": "markdown",
   "metadata": {},
   "source": [
    "# Garbage COllection"
   ]
  },
  {
   "cell_type": "code",
   "execution_count": null,
   "metadata": {},
   "outputs": [],
   "source": [
    "Garbage Collection\n",
    "\n",
    "=========================================================================================\n",
    "⚽ In old languages like C++, programmer is responsible for both creation and destruction\n",
    "of objects.Usually programmer taking very much care while creating object, but\n",
    "nEglecting destruction of useless objects. Because of his nEglectance, total memory\n",
    "can be filled with useless objects which creates memory problems and total\n",
    "application will be down with Out of memory error.\n",
    "⚽ But in Python, We have some assistant which is always running in the background to\n",
    "destroy useless objects.Because this assistant the chance of failing Python program\n",
    "with memory problems is very less. This assistant is nothing but Garbage Collector.\n",
    "⚽ Hence the main objective of Garbage Collector is to destroy useless objects.\n",
    "⚽ If an object does not have any reference variable then that object eligible for Garbage\n",
    "Collection."
   ]
  },
  {
   "cell_type": "code",
   "execution_count": null,
   "metadata": {},
   "outputs": [],
   "source": [
    "How to enable and disable Garbage Collector in our\n",
    "Program:\n",
    "By default Gargbage collector is enabled, but we can disable based on our requirement. In\n",
    "this context we can use the following functions of gc module.\n",
    "1) gc.isenabled()  Returns True if GC enabled\n",
    "2) gc.disable() To disable GC explicitly\n",
    "3) gc.enable() To enable GC explicitly"
   ]
  },
  {
   "cell_type": "code",
   "execution_count": null,
   "metadata": {},
   "outputs": [],
   "source": [
    "import gc\n",
    "print(gc.isenabled())\n",
    "gc.disable()\n",
    "print(gc.isenabled())\n",
    "gc.enable()\n",
    "print(gc.isenabled())\n",
    "Output\n",
    "True\n",
    "False\n",
    "True"
   ]
  },
  {
   "cell_type": "code",
   "execution_count": null,
   "metadata": {},
   "outputs": [],
   "source": [
    "Destructors:\n",
    "⚽ Destructor is a special method and the name should be __del__\n",
    "⚽ Just before destroying an object Garbage Collector always calls destructor to perform\n",
    "clean up activities (Resource deallocation activities like close database connection etc).\n",
    "⚽ Once destructor execution completed then Garbage Collector automatically destroys\n",
    "that object.\n",
    "Note: The job of destructor is not to destroy object and it is just to perform clean up\n",
    "activities."
   ]
  },
  {
   "cell_type": "code",
   "execution_count": null,
   "metadata": {},
   "outputs": [],
   "source": [
    "1) import time\n",
    "2) class Test:\n",
    "3)\n",
    "def __init__(self):\n",
    "4)\n",
    "print(\"Object Initialization...\")\n",
    "5)\n",
    "def __del__(self):\n",
    "6)\n",
    "print(\"Fulfilling Last Wish and performing clean up activities...\")\n",
    "7)\n",
    "8) t1=Test()\n",
    "9) t1=None\n",
    "10) time.sleep(5)\n",
    "11) print(\"End of application\")\n",
    "Output\n",
    "Object Initialization...\n",
    "Fulfilling Last Wish and performing clean up activities...\n",
    "End of application"
   ]
  },
  {
   "cell_type": "code",
   "execution_count": null,
   "metadata": {},
   "outputs": [],
   "source": [
    "Note: If the object does not contain any reference variable then only it is eligible fo GC. ie\n",
    "if the reference count is zero then only object eligible for GC.\n",
    "1) import time\n",
    "2) class Test:\n",
    "3)\n",
    "def __init__(self):\n",
    "4)\n",
    "print(\"Constructor Execution...\")\n",
    "5)\n",
    "def __del__(self):\n",
    "6)\n",
    "print(\"Destructor Execution...\")\n",
    "7)\n",
    "8) t1=Test()\n",
    "9) t2=t1\n",
    "10) t3=t2\n",
    "11) del t1\n",
    "12) time.sleep(5)\n",
    "13) print(\"object not yet destroyed after deleting t1\")\n",
    "14) del t2\n",
    "15) time.sleep(5)\n",
    "16) print(\"object not yet destroyed even after deleting t2\")\n",
    "17) print(\"I am trying to delete last reference variable...\")\n",
    "18)\n",
    "del t3"
   ]
  },
  {
   "cell_type": "code",
   "execution_count": null,
   "metadata": {},
   "outputs": [],
   "source": [
    "Example:\n",
    "1) import time\n",
    "2) class Test:\n",
    "3)\n",
    "def __init__(self):\n",
    "4)\n",
    "print(\"Constructor Execution...\")\n",
    "5)\n",
    "def __del__(self):\n",
    "6)\n",
    "print(\"Destructor Execution...\")\n",
    "7)\n",
    "8) list=[Test(),Test(),Test()]\n",
    "9) del list\n",
    "10) time.sleep(5)\n",
    "11) print(\"End of application\")\n",
    "Output\n",
    "Constructor Execution...\n",
    "Constructor Execution...\n",
    "Constructor Execution...\n",
    "Destructor Execution...\n",
    "Destructor Execution...\n",
    "Destructor Execution...\n",
    "End of applicatio"
   ]
  },
  {
   "cell_type": "code",
   "execution_count": null,
   "metadata": {},
   "outputs": [],
   "source": [
    "How to find the Number of References of an Object:\n",
    "sys module contains getrefcount() function for this purpose.\n",
    "sys.getrefcount (objectreference)\n",
    "\n",
    "======================================================================================\n",
    "import sys\n",
    "class Test:\n",
    "pass\n",
    "t1=Test()\n",
    "t2=t1\n",
    "t3=t1\n",
    "t4=t1\n",
    "print(sys.getrefcount(t1))\n",
    "Output 5\n",
    "Note: For every object, Python internally maintains one default reference variable self."
   ]
  }
 ],
 "metadata": {
  "kernelspec": {
   "display_name": "Python 3",
   "language": "python",
   "name": "python3"
  },
  "language_info": {
   "codemirror_mode": {
    "name": "ipython",
    "version": 3
   },
   "file_extension": ".py",
   "mimetype": "text/x-python",
   "name": "python",
   "nbconvert_exporter": "python",
   "pygments_lexer": "ipython3",
   "version": "3.7.6"
  }
 },
 "nbformat": 4,
 "nbformat_minor": 4
}
