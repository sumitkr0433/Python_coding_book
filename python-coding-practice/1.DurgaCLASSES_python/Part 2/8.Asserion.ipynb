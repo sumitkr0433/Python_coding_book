{
 "cells": [
  {
   "cell_type": "code",
   "execution_count": null,
   "metadata": {},
   "outputs": [],
   "source": [
    "Assertion"
   ]
  },
  {
   "cell_type": "code",
   "execution_count": null,
   "metadata": {},
   "outputs": [],
   "source": [
    "Debugging Python Program by using assert Keyword:\n",
    "☕ The process of identifying and fixing the bug is called debugging.\n",
    "☕ Very common way of debugging is to use print() statement. But the problem with the\n",
    "print() statement is after fixing the bug,compulsory we have to delete the extra added\n",
    "print() statments,otherwise these will be executed at runtime which creates\n",
    "performance problems and disturbs console output.\n",
    "☕ To overcome this problem we should go for assert statement. The main advantage of\n",
    "assert statement over print() statement is after fixing bug we are not required to\n",
    "delete assert statements. Based on our requirement we can enable or disable assert\n",
    "statements.\n",
    "☕ Hence the main purpose of assertions is to perform debugging. Usully we can perform\n",
    "debugging either in development or in test environments but not in production\n",
    "environment. Hence assertions concept is applicable only for dev and test\n",
    "environments but not for production environment.\n"
   ]
  },
  {
   "cell_type": "code",
   "execution_count": null,
   "metadata": {},
   "outputs": [],
   "source": [
    "Types of assert Statements:\n",
    "There are 2 types of assert statements\n",
    "1) Simple Version\n",
    "2) Augmented Version"
   ]
  },
  {
   "cell_type": "code",
   "execution_count": null,
   "metadata": {},
   "outputs": [],
   "source": [
    "1) Simple Version:\n",
    "assert conditional_expression\n",
    "\n",
    "==================================================================================\n",
    "2) Augmented Version:\n",
    " assert conditional_expression, message\n",
    " conditional_expression will be evaluated and if it is true then the program will be\n",
    "continued.\n",
    " If it is false then the program will be terminated by raising AssertionError.\n",
    " By seeing AssertionError, programmer can analyze the code and can fix the problem.\n",
    "\n",
    "====================================================================================\n",
    "1)def squareIt(x):\n",
    "2) return x**x\n",
    "3) assert squareIt(2)==4,\"The square of 2 should be 4\"\n",
    "4) assert squareIt(3)==9,\"The square of 3 should be 9\"\n",
    "5) assert squareIt(4)==16,\"The square of 4 should be 16\"\n",
    "6) print(squareIt(2))\n",
    "7) print(squareIt(3))\n",
    "8) print(squareIt(4))\n",
    "9)\n"
   ]
  },
  {
   "cell_type": "code",
   "execution_count": null,
   "metadata": {},
   "outputs": [],
   "source": [
    "10) D:\\Python_classes>py test.py\n",
    "11) Traceback (most recent call last):\n",
    "12) File \"test.py\", line 4, in <module>\n",
    "13) assert squareIt(3)==9,\"The square of 3 should be 9\"\n",
    "14) AssertionError: The square of 3 should be 9\n",
    "15)\n",
    "\n",
    "========================================================================\n",
    "16) def squareIt(x):\n",
    "17) return x*x\n",
    "18) assert squareIt(2)==4,\"The square of 2 should be 4\"\n",
    "19) assert squareIt(3)==9,\"The square of 3 should be 9\"\n",
    "20) assert squareIt(4)==16,\"The square of 4 should be 16\"\n",
    "21) print(squareIt(2))\n",
    "22) print(squareIt(3))\n",
    "23) print(squareIt(4))\n",
    "\n",
    "=================================================================================\n",
    "Output\n",
    "4\n",
    "9\n",
    "16\n",
    "\n",
    "=======================================================================\n",
    "Assertions concept can be used to alert programmer to resolve development time errors.\n",
    "Exception Handling can be used to handle runtime errors."
   ]
  }
 ],
 "metadata": {
  "kernelspec": {
   "display_name": "Python 3",
   "language": "python",
   "name": "python3"
  },
  "language_info": {
   "codemirror_mode": {
    "name": "ipython",
    "version": 3
   },
   "file_extension": ".py",
   "mimetype": "text/x-python",
   "name": "python",
   "nbconvert_exporter": "python",
   "pygments_lexer": "ipython3",
   "version": "3.7.6"
  }
 },
 "nbformat": 4,
 "nbformat_minor": 4
}
