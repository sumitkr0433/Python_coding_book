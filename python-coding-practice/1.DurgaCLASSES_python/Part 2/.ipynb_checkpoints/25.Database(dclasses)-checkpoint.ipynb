{
 "cells": [
  {
   "cell_type": "markdown",
   "metadata": {},
   "source": [
    "===============1.Storage Areas================================"
   ]
  },
  {
   "cell_type": "markdown",
   "metadata": {},
   "source": [
    "2.As the Part of our Applications, we required to store our Data like Customers Information, Billing Information, Calls Information etc. "
   ]
  },
  {
   "cell_type": "markdown",
   "metadata": {},
   "source": [
    "# 3. To store this Data, we required Storage Areas. There are 2 types of Storage Areas. "
   ]
  },
  {
   "cell_type": "markdown",
   "metadata": {},
   "source": [
    "# i)Temporary Storage Areas:-\n",
    "These are the Memory Areas where Data will be stored temporarily. \n",
    "Eg: Python objects like List, Tuple, Dictionary.Once Python program completes its execution then these objects will \n",
    "be destroyed automatically and data will be lost."
   ]
  },
  {
   "cell_type": "markdown",
   "metadata": {},
   "source": [
    "# ii) Permanent Storage Areas:-Also known as Persistent Storage Areas. Here we can store Data permanently. \n",
    "Eg: File Systems, Databases, Data warehouses, Big Data Technologies etc"
   ]
  },
  {
   "cell_type": "markdown",
   "metadata": {},
   "source": [
    "# 4.File Systems:-- \n",
    "    File Systems can be provided by Local operating System. File Systems are best suitable to store very less \n",
    "    Amount of Information.\n",
    "Limitataion:\n",
    "1) We cannot store huge Amount of Information. \n",
    "2) There is no Query Language support and hence operations will become very complex. \n",
    "3) There is no Security for Data. \n",
    "4) There is no Mechanism to prevent duplicate Data. Hence there may be a chance of Data Inconsistency Problems\n",
    "To overcome the above Problems of File Systems, we should go for Databases"
   ]
  },
  {
   "cell_type": "markdown",
   "metadata": {},
   "source": [
    "# 5.Databases:---\n",
    "1) We can store Huge Amount of Information in the Databases. \n",
    "2) Query Language Support is available for every Database and hence we can perform Database Operations very easily. \n",
    "3) To access Data present in the Database, compulsory username and pwd must be required. Hence Data is secured. \n",
    "4) Inside Database Data will be stored in the form of Tables. While developing Database Table Schemas, Database Admin follow various Normalization Techniques and can implement various Constraints like Unique Key Constrains, Primary Key Constraints etc which prevent Data Duplication. Hence there is no chance of Data Inconsistency Problems.\n",
    "\n",
    "Limitations of Databases:--\n",
    "1) Database cannot hold very Huge Amount of Information like Terabytes of Data. \n",
    "2) Database can provide support only for Structured Data (Tabular Data OR Relational Data) and cannot provide support for Semi Structured Data (like XML Files) and Unstructured Data (like Video Files, Audio Files, Images etc) \n",
    "To overcome these Problems we should go for more Advanced Storage Areas like Big Data Technologies, Data warehouses etc."
   ]
  },
  {
   "cell_type": "markdown",
   "metadata": {},
   "source": [
    "# 6. Python Database Programming:\n",
    "Sometimes as the part of Programming requirement we have to connect to the database and we have to perform several operations like creating tables, inserting data, updating data, deleting data, selecting data etc. \n",
    "\n",
    "We can use SQL Language to talk to the database and we can use Python to send those SQL commands to the database. \n",
    "\n",
    "Python provides inbuilt support for several databases like Oracle, MySql, SqlServer, GadFly, sqlite, etc. \n",
    "\n",
    "Python has seperate module for each database. \n",
    "Eg: cx_Oralce module for communicating with Oracle database \n",
    "pymssql module for communicating with Microsoft Sql Server"
   ]
  },
  {
   "cell_type": "markdown",
   "metadata": {},
   "source": [
    "# 7.Standard Steps for Python database Programming:"
   ]
  },
  {
   "cell_type": "markdown",
   "metadata": {},
   "source": [
    "# 8.Step 1:--->Import database specific module \n",
    "pip install cs_Oracle\n",
    "pip install msql-connector \n",
    "pip install psycopg2\n",
    "\n",
    "-------------------------------------------------------------------------------------------------------------------------------------------------------------------------------------------------------------------------------------------------------------\n",
    "Eg: import cx_Oracle \n",
    "dir(cx_Oracle)\n",
    "\n",
    "--------------------------------------------------------------------------------------------------------------------------------------------------------------------------------------------------------------------------------------------------------------\n",
    "Step 2:--->Establish Connection between Python Program and database\n",
    "We can create this Connection object by using connect() function of the module. \n",
    "con = cx_Oracle.connect(datbase information) \n",
    "Eg: con = cx_Oracle.connect('scott/tiger@localhost')\n",
    "\n",
    "--------------------------------------------------------------------------------------------------------------------------------------------------------------------------------------------------------------------------------------------------------------\n",
    "Step3:-To execute our sql queries and to hold results some special object is required, which is nothing but Cursor object. \n",
    "We can create Cursor object by using cursor() method. \n",
    "cursor = con.cursor()\n",
    "\n",
    "--------------------------------------------------------------------------------------------------------------------------------------------------------------------------------------------------------------------------------------------------------------\n",
    "\n",
    "Step4:-Execute SQL Queries By using Cursor object. For this we can use the following methods \n",
    "execute(sqlquery) ----------------------->To execute a Single SQL Query \n",
    "executescript(sqlqueries)----------------> To execute a String of SQL Queries seperated by semi-colon ';' \n",
    "executemany()       --------------->To execute a Parameterized Query. \n",
    "\n",
    "Eg: cursor.execute(\"select * from employees\")\n",
    "\n",
    "-------------------------------------------------------------------------------------------------------------------------------\n",
    "-------------------------------------------------------------------------------------------------------------------------------\n",
    "Step5:--Commit OR Rollback changes based on our requirement in the case of DML Queries (insert|update|delete) \n",
    "commit() ----->Saves the changes to the database \n",
    "rollback()---->rolls all temporary changes back \n",
    "\n",
    "--------------------------------------------------------------------------------------------------------------------------------------------------------------------------------------------------------------------------------------------------------------\n",
    "\n",
    "Step6:--Fetch the result from the Cursor object in the case of select queries \n",
    "\n",
    "fetchone()   ---->To fetch only one row \n",
    "fetchall()   ---->To fetch all rows and it returns a list of rows \n",
    "fecthmany(n) --->To fetch first n rows\n",
    "\n",
    "Eg 1: data = cursor.fetchone() \n",
    "print(data) \n",
    "Eg 2: data = cursor.fetchall() \n",
    "for row in data: \n",
    "print(row)\n",
    "\n",
    "--------------------------------------------------------------------------------------------------------------------------------------------------------------------------------------------------------------------------------------------------------------\n",
    "7) Close the Resources \n",
    "After completing our operations it is highly recommended to close the resources in the reverse order of their opening by using close() methods. \n",
    "cursor.close() \n",
    "con.close() \n"
   ]
  },
  {
   "cell_type": "markdown",
   "metadata": {},
   "source": [
    "# ==============================================================="
   ]
  },
  {
   "cell_type": "markdown",
   "metadata": {},
   "source": [
    "# 9.The following is the list of all important methods which can be used for python database programming."
   ]
  },
  {
   "cell_type": "code",
   "execution_count": null,
   "metadata": {},
   "outputs": [],
   "source": [
    "⚽ connect() \n",
    "⚽ cursor() \n",
    "------------------------------------------------------------------------------------------------------------------------------\n",
    "⚽ execute() \n",
    "⚽ executescript() \n",
    "⚽ executemany()\n",
    "-----------------------------------------------------------------------------------------------------------------------------\n",
    "⚽ commit() \n",
    "⚽ rollback() \n",
    "-------------------------------------------------------------------------------------------------------------------------------\n",
    "⚽ fetchone() \n",
    "⚽ fetchall() \n",
    "⚽ fetchmany(n) \n",
    "⚽ fetch \n",
    "-------------------------------------------------------------------------------------------------------------------------------\n",
    "⚽ close() \n"
   ]
  },
  {
   "cell_type": "markdown",
   "metadata": {},
   "source": [
    "# ==============================================================="
   ]
  },
  {
   "cell_type": "markdown",
   "metadata": {},
   "source": [
    "# 1.Program to Connect with Oracle Database and print its Version"
   ]
  },
  {
   "cell_type": "code",
   "execution_count": null,
   "metadata": {},
   "outputs": [],
   "source": [
    "import cx_Oracle\n",
    "con=cx_Oracle.connect('scott/tiger@localhost')\n",
    "print(con.version)\n",
    "con.close()"
   ]
  },
  {
   "cell_type": "code",
   "execution_count": 3,
   "metadata": {},
   "outputs": [
    {
     "name": "stdout",
     "output_type": "stream",
     "text": [
      "<mysql.connector.connection.MySQLConnection object at 0x0000029CD32F2388>\n"
     ]
    }
   ],
   "source": [
    "import mysql.connector\n",
    "\n",
    "mydb = mysql.connector.connect(\n",
    "  host=\"localhost\",\n",
    "  user=\"root\",\n",
    "  password=\"root\"\n",
    "  database=\"session\"\n",
    "\n",
    ")\n",
    "\n",
    "print(mydb)"
   ]
  },
  {
   "cell_type": "code",
   "execution_count": null,
   "metadata": {},
   "outputs": [],
   "source": [
    "SQL Commands:-\n",
    "    "
   ]
  },
  {
   "cell_type": "markdown",
   "metadata": {},
   "source": [
    "# 2. Write a Program to Create Employees Table in the Oracle Database"
   ]
  },
  {
   "cell_type": "markdown",
   "metadata": {},
   "source": [
    "# employees(eno,ename,esal,eaddr)"
   ]
  },
  {
   "cell_type": "code",
   "execution_count": 6,
   "metadata": {},
   "outputs": [
    {
     "name": "stdout",
     "output_type": "stream",
     "text": [
      "Table created successfully\n"
     ]
    }
   ],
   "source": [
    "#import cx_Oracle\n",
    "import mysql.connector\n",
    "try:\n",
    "    #con=cx_Oracle.connect('scott/tiger@localhost')\n",
    "    con=mysql.connector.connect(host=\"localhost\",user=\"root\",password=\"root\",database=\"session\")\n",
    "    cursor=con.cursor()\n",
    "    cursor.execute(\"CREATE TABLE customers (name VARCHAR(255), address VARCHAR(255))\")\n",
    "    print(\"Table created successfully\")\n",
    "except cx_Oracle.DatabaseError as e:\n",
    "    if con:\n",
    "        con.rollback()\n",
    "        print(\"There is a problem with sql\",e)\n",
    "finally:\n",
    "    if cursor:\n",
    "        cursor.close()\n",
    "    if con:\n",
    "        con.close()"
   ]
  },
  {
   "cell_type": "markdown",
   "metadata": {},
   "source": [
    "# 3. Write a Program to Drop Employees Table from Oracle Database"
   ]
  },
  {
   "cell_type": "code",
   "execution_count": null,
   "metadata": {},
   "outputs": [],
   "source": [
    "import cx_Oracle\n",
    "try:\n",
    "    con=cx_Oracle.connect('scott/tiger@localhost')\n",
    "    cursor=con.cursor()\n",
    "    cursor.execute(\"drop table employees\")\n",
    "    print(\"Table dropped successfully\")\n",
    "except cx_Oracle.DatabaseError as e:\n",
    "    if con:\n",
    "        con.rollback()\n",
    "        print(\"There is a problem with sql\",e)\n",
    "finally:\n",
    "    if cursor:\n",
    "        cursor.close()\n",
    "    if con:\n",
    "        con.close()"
   ]
  },
  {
   "cell_type": "markdown",
   "metadata": {},
   "source": [
    "# 4. Write a Program to Insert a Single Row in the Employees Table"
   ]
  },
  {
   "cell_type": "code",
   "execution_count": null,
   "metadata": {},
   "outputs": [],
   "source": [
    "#import cx_Oracle\n",
    "try:\n",
    "    con=cx_Oracle.connect('scott/tiger@localhost')\n",
    "    cursor=con.cursor()\n",
    "    cursor.execute(\"insert into employees values(100,'Sumit',1000,'Hyd')\")\n",
    "    con.commit()\n",
    "    print(\"Record Inserted Successfully\")\n",
    "\n",
    "except cx_Oracle.DatabaseError as e:\n",
    "    if con:\n",
    "        con.rollback()\n",
    "        print(\"There is a problem with sql\",e)\n",
    "finally:\n",
    "    if cursor:\n",
    "        cursor.close()\n",
    "    if con:\n",
    "        con.close()"
   ]
  },
  {
   "cell_type": "markdown",
   "metadata": {},
   "source": [
    "# Note:-: While performing DML Operations (insert|update|delte), compulsory \n",
    "we have to use commit() method,then only the results will be reflected in the database.\n",
    "\n",
    "Various Type of Sql Commands\n",
    "DDL(Data Definition Language)\n",
    "Under DDl :---(Create Drop Alter Truncate)\n",
    "DML(Data Manipulation Language)\n",
    "Under the DML Commands:-Insert,Update and Delete\n",
    "DCL(Data Control Language)\n",
    "Under the DCL Commands:-Grant Revoke\n",
    "TCL(Transaction Control Language)\n",
    "Under the DCL Commands:-Commmit rollback,SavePoint\n",
    "DQL.(Data Query Language)\n",
    "Select Commands"
   ]
  },
  {
   "cell_type": "markdown",
   "metadata": {},
   "source": [
    "# 5.Write a Program to Insert Multiple Rows in the Employees Table by using executemany() Method"
   ]
  },
  {
   "cell_type": "code",
   "execution_count": null,
   "metadata": {},
   "outputs": [],
   "source": [
    "import cx_Oracle\n",
    "try:\n",
    "    con=cx_Oracle.connect('scott/tiger@localhost')\n",
    "    cursor=con.cursor()\n",
    "    sql=\"insert into employees values(:eno,:ename,:esal,:eaddr)\"\n",
    "    records=[(200,'Sunny',2000,'Mumbai'),(300,'Chinny',3000,'Hyd'),(400,'Bunny',4000,'Hyd')]\n",
    "    cursor.executemany(sql,records)\n",
    "    con.commit()\n",
    "    print(\"Record Inserted Successfully\")\n",
    "except cx_Oracle.DatabaseError as e:\n",
    "    if con:\n",
    "        con.rollback()\n",
    "        print(\"There is a problem with sql\",e)\n",
    "finally:\n",
    "    if cursor:\n",
    "        cursor.close()\n",
    "    if con:\n",
    "        con.close()"
   ]
  },
  {
   "cell_type": "markdown",
   "metadata": {},
   "source": [
    "# 6.Write a Program to Insert Multiple Rows in the Employees Table with Dynamic Input from the Keyboard"
   ]
  },
  {
   "cell_type": "code",
   "execution_count": null,
   "metadata": {},
   "outputs": [],
   "source": [
    "import cx_Oracle\n",
    "try:\n",
    "    con=cx_Oracle.connect('scott/tiger@localhost')\n",
    "    cursor=con.cursor()\n",
    "    while True:\n",
    "        eno=int(input(\"Enter Employee Number:\")) \n",
    "        ename=input(\"Enter Employee Name:\")  \n",
    "        esal=float(input(\"Enter Employee Salary:\")) \n",
    "        eaddr=input(\"Enter Employee Address:\")  \n",
    "        #\n",
    "        sql=\"insert into employees values(%d,'%s',%f,'%s')\" \n",
    "        cursor.execute(sql %(eno,ename,esal,eaddr)) \n",
    "        print(\"Record Inserted Successfully\") \n",
    "        option=input(\"Do you want to insert one more record[Yes|No] :\")\n",
    "        if option==\"No\":\n",
    "            con.commit()\n",
    "            break\n",
    "except cx_Oracle.DatabaseError as e:\n",
    "    if con:\n",
    "        con.rollback()\n",
    "        print(\"There is a problem with sql\",e)\n",
    "finally:\n",
    "    if cursor:\n",
    "        cursor.close()\n",
    "    if con:\n",
    "        con.close()            "
   ]
  },
  {
   "cell_type": "markdown",
   "metadata": {},
   "source": [
    "# 7.Write a Program to Update Employees Salaries with Increment for the certain Range with Dynamic Input "
   ]
  },
  {
   "cell_type": "code",
   "execution_count": null,
   "metadata": {},
   "outputs": [],
   "source": [
    "import cx_Oracle \n",
    "try: \n",
    "    con=cx_Oracle.connect('scott/tiger@localhost') \n",
    "    cursor=con.cursor() \n",
    "    increment=float(input(\"Enter Increment Salary:\")) \n",
    "    salrange=float(input(\"Enter Salary Range:\")) \n",
    "    sql=\"update employees set esal=esal+%f where esal<%f\" \n",
    "    cursor.execute(sql %(increment,salrange)) \n",
    "    print(\"Records Updated Successfully\") \n",
    "    con.commit() \n",
    "except cx_Oracle.DatabaseError as e:\n",
    "    if con:\n",
    "        con.rollback()\n",
    "        print(\"There is a problem with sql\",e)\n",
    "finally:\n",
    "    if cursor:\n",
    "        cursor.close()\n",
    "    if con:\n",
    "        con.close()   "
   ]
  },
  {
   "cell_type": "markdown",
   "metadata": {},
   "source": [
    "# 8.Write a Program to Delete Employees whose Salary Greater provided Salary as Dynamic Input?"
   ]
  },
  {
   "cell_type": "code",
   "execution_count": null,
   "metadata": {},
   "outputs": [],
   "source": [
    "import cx_Oracle \n",
    "try: \n",
    "    con=cx_Oracle.connect('scott/tiger@localhost') \n",
    "    cursor=con.cursor()\n",
    "    cutoffsalary=float(input(\"Enter CutOff Salary:\"))\n",
    "    sql=\"delete from employees where esal>%f\" \n",
    "    cursor.execute(sql %(cutoffsalary)) \n",
    "    print(\"Records Deleted Successfully\") \n",
    "    con.commit()\n",
    "except cx_Oracle.DatabaseError as e:\n",
    "    if con:\n",
    "        con.rollback()\n",
    "        print(\"There is a problem with sql\",e)\n",
    "finally:\n",
    "    if cursor:\n",
    "        cursor.close()\n",
    "    if con:\n",
    "        con.close()   "
   ]
  },
  {
   "cell_type": "markdown",
   "metadata": {},
   "source": [
    "# 9.Write a Program to Select all Employees info by using fetchone() Method?"
   ]
  },
  {
   "cell_type": "code",
   "execution_count": null,
   "metadata": {},
   "outputs": [],
   "source": [
    "import cx_Oracle \n",
    "try: \n",
    "    con=cx_Oracle.connect('scott/tiger@localhost') \n",
    "    cursor=con.cursor()\n",
    "    cursor.execute(\"select * from employees\") \n",
    "    row=cursor.fetchone() \n",
    "    while row is not None:  \n",
    "        print(row) \n",
    "        row=cursor.fetchone()\n",
    "except cx_Oracle.DatabaseError as e:\n",
    "    if con:\n",
    "        con.rollback()\n",
    "        print(\"There is a problem with sql\",e)\n",
    "finally:\n",
    "    if cursor:\n",
    "        cursor.close()\n",
    "    if con:\n",
    "        con.close()   "
   ]
  },
  {
   "cell_type": "markdown",
   "metadata": {},
   "source": [
    "# 10.Write a Program to select all Employees info by using fetchall() Method?"
   ]
  },
  {
   "cell_type": "code",
   "execution_count": null,
   "metadata": {},
   "outputs": [],
   "source": [
    "import cx_Oracle \n",
    "try: \n",
    "    con=cx_Oracle.connect('scott/tiger@localhost') \n",
    "    cursor=con.cursor()\n",
    "    cursor.execute(\"select * from employees\") \n",
    "    data=cursor.fetchall() \n",
    "    for row in data: \n",
    "        print(\"Employee Number:\",row[0]) \n",
    "        print(\"Employee Name:\",row[1]) \n",
    "        print(\"Employee Salary:\",row[2]) \n",
    "        print(\"Employee Address:\",row[3]) \n",
    "        print() \n",
    "        print()\n",
    "except cx_Oracle.DatabaseError as e:\n",
    "    if con:\n",
    "        con.rollback()\n",
    "        print(\"There is a problem with sql\",e)\n",
    "finally:\n",
    "    if cursor:\n",
    "        cursor.close()\n",
    "    if con:\n",
    "        con.close()   "
   ]
  },
  {
   "cell_type": "markdown",
   "metadata": {},
   "source": [
    "# 11.Write a Program to select Employees info by using fetchmany() Method and the required Number of Rows will be provided as Dynamic Input?"
   ]
  },
  {
   "cell_type": "code",
   "execution_count": null,
   "metadata": {},
   "outputs": [],
   "source": [
    "import cx_Oracle \n",
    "try: \n",
    "    con=cx_Oracle.connect('scott/tiger@localhost') \n",
    "    cursor=con.cursor()\n",
    "    cursor.execute(\"select * from employees\") \n",
    "    n=int(input(\"Enter the number of required rows:\")) \n",
    "    data=cursor.fetchmany(n) \n",
    "    for row in data: \n",
    "        print(row)\n",
    "except cx_Oracle.DatabaseError as e:\n",
    "    if con:\n",
    "        con.rollback()\n",
    "        print(\"There is a problem with sql\",e)\n",
    "finally:\n",
    "    if cursor:\n",
    "        cursor.close()\n",
    "    if con:\n",
    "        con.close()   "
   ]
  }
 ],
 "metadata": {
  "kernelspec": {
   "display_name": "Python 3",
   "language": "python",
   "name": "python3"
  },
  "language_info": {
   "codemirror_mode": {
    "name": "ipython",
    "version": 3
   },
   "file_extension": ".py",
   "mimetype": "text/x-python",
   "name": "python",
   "nbconvert_exporter": "python",
   "pygments_lexer": "ipython3",
   "version": "3.7.6"
  }
 },
 "nbformat": 4,
 "nbformat_minor": 4
}
