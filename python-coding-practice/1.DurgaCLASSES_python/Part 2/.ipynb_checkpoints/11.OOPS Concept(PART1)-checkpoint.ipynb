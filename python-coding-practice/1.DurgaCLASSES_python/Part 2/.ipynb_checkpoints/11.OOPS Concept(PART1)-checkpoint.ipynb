{
 "cells": [
  {
   "cell_type": "code",
   "execution_count": null,
   "metadata": {},
   "outputs": [],
   "source": [
    "What is Class:\n",
    "⚽ In Python every thing is an object. To create objects we required some Model or Plan\n",
    "or Blue print, which is nothing but class.\n",
    "⚽ We can write a class to represent properties (attributes) and actions (behaviour) of\n",
    "object.\n",
    "⚽ Properties can be represented by variables\n",
    "⚽ Actions can be represented by Methods.\n",
    "⚽ Hence class contains both variables and methods."
   ]
  },
  {
   "cell_type": "code",
   "execution_count": null,
   "metadata": {},
   "outputs": [],
   "source": [
    "How to define a Class?\n",
    "\n",
    "================================================================================\n",
    "We can define a class by using class keyword.\n",
    "\n",
    "Syntax:\n",
    "\n",
    "class className:\n",
    "''' documenttation string '''\n",
    "    variables:instance variables,static and local variables\n",
    "    methods: instance methods,static methods,class methods\n",
    "\n",
    "=======================================================================================\n",
    "Documentation string represents description of the class. Within the class doc string is\n",
    "always optional. We can get doc string by using the following 2 ways.\n",
    "1) print(classname.__doc__)\n",
    "2) help(classname)"
   ]
  },
  {
   "cell_type": "code",
   "execution_count": null,
   "metadata": {},
   "outputs": [],
   "source": [
    "Example:\n",
    "\n",
    "=======================================================================================    \n",
    "1) class Student:\n",
    "2)\n",
    "''''' This is student class with required data'''\n",
    "3) print(Student.__doc__)\n",
    "4) help(Student)"
   ]
  },
  {
   "cell_type": "markdown",
   "metadata": {},
   "source": [
    "# Within the Python class we can represent data by using variables.\n",
    "\n",
    "========================================================================================\n",
    "There are 3 types of variables are allowed.\n",
    "1) Instance Variables (Object Level Variables)\n",
    "2) Static Variables (Class Level Variables)\n",
    "3) Local variables (Method Level Variables)"
   ]
  },
  {
   "cell_type": "code",
   "execution_count": null,
   "metadata": {},
   "outputs": [],
   "source": [
    "Within the Python class, we can represent operations by using methods. The following are\n",
    "various types of allowed methods\n",
    "\n",
    "====================================================================================\n",
    "1) Instance Methods\n",
    "2) Class Methods\n",
    "3) Static Methods"
   ]
  },
  {
   "cell_type": "markdown",
   "metadata": {},
   "source": [
    "# Example for Class:\n",
    "\n",
    "========================================================================================    \n",
    "class Student:\n",
    "'''''Developed by durga for python demo'''\n",
    "    def __init__(self):\n",
    "        self.name='durga'\n",
    "        self.age=40\n",
    "        self.marks=80\n",
    "    def talk(self):\n",
    "        print(\"Hello I am :\",self.name)\n",
    "        print(\"My Age is:\",self.age)\n",
    "        print(\"My Marks are:\",self.marks)"
   ]
  },
  {
   "cell_type": "markdown",
   "metadata": {},
   "source": [
    "# What is Object:\n",
    "\n",
    "======================================================================================    \n",
    "Pysical existence of a class is nothing but object. We can create any number of objects for a class.\n",
    "\n",
    "=======================================================================================\n",
    "Syntax to Create Object: referencevariable = classname()\n",
    "Example: s = Student()"
   ]
  },
  {
   "cell_type": "markdown",
   "metadata": {},
   "source": [
    "# What is Reference Variable?\n",
    "\n",
    "======================================================================================\n",
    "The variable which can be used to refer object is called reference variable.\n",
    "By using reference variable, we can access properties and methods of object.\n",
    "\n",
    "=====================================================================================\n",
    "Program: Write a Python program to create a Student class and Creates an object to it.\n",
    "Call the method talk() to display student details\n",
    "\n",
    "======================================================================================\n",
    "class Student:\n",
    "    def __init__(self,name,rollno,marks):\n",
    "        self.name=name\n",
    "        self.rollno=rollno\n",
    "        self.marks=marks\n",
    "    def talk(self):\n",
    "        print(\"Hello My Name is:\",self.name)\n",
    "        print(\"My Rollno is:\",self.rollno)\n",
    "        print(\"My Marks are:\",self.marks)\n",
    "\n",
    "s1=Student(\"Durga\",101,80)\n",
    "s1.talk()\n",
    "\n",
    "=========================================================================================\n",
    "Output:\n",
    "D:\\durgaclasses>py test.py\n",
    "Hello My Name is: Durga\n",
    "My Rollno is: 101\n",
    "My Marks are: 80"
   ]
  },
  {
   "cell_type": "markdown",
   "metadata": {},
   "source": [
    "# Self Variable:\n",
    "\n",
    "================================================================================\n",
    "self is the default variable which is always pointing to current object (like this keyword\n",
    "in Java)\n",
    "By using self we can access instance variables and instance methods of object.\n",
    "\n",
    "========================================================================================\n",
    "Note:\n",
    "1) self should be first parameter inside constructor\n",
    "    def __init__(self):\n",
    "2) self should be first parameter inside instance methods\n",
    "    def talk(self):"
   ]
  },
  {
   "cell_type": "code",
   "execution_count": null,
   "metadata": {},
   "outputs": [],
   "source": [
    "Constructor Concept:\n",
    "    \n",
    "========================================\n",
    "\n",
    "Constructor is a special method in python.\n",
    "The name of the constructor should be __init__(self)\n",
    "Constructor will be executed automatically at the time of object creation.\n",
    "The main purpose of constructor is to declare and initialize instance variables.\n",
    "Per object constructor will be exeucted only once.\n",
    "Constructor can take atleast one argument(atleast self)\n",
    "Constructor is optional and if we are not providing any constructor then python will\n",
    "provide default constructor.\n",
    "\n",
    "===========================================================\n",
    "Example:\n",
    "\n",
    "def __init__(self,name,rollno,marks):\n",
    "    self.name=name\n",
    "    self.rollno=rollno\n",
    "    self.marks=marks"
   ]
  },
  {
   "cell_type": "markdown",
   "metadata": {},
   "source": [
    "# Program to demonistrate Constructor will execute only once per Object:\n",
    "\n",
    "    \n",
    "class Test:\n",
    "    def __init__(self):\n",
    "        print(\"Constructor exeuction...\")\n",
    "    def m1(self):\n",
    "        print(\"Method execution...\")\n",
    "\n",
    "t1=Test()\n",
    "t2=Test()\n",
    "t3=Test()\n",
    "t1.m1()\n",
    "\n",
    "========================================================================================\n",
    "Output\n",
    "Constructor exeuction...\n",
    "Constructor exeuction...\n",
    "Constructor exeuction...\n",
    "Method execution.."
   ]
  },
  {
   "cell_type": "code",
   "execution_count": null,
   "metadata": {},
   "outputs": [],
   "source": [
    "Program:\n",
    "\n",
    "====================================================================================\n",
    "class Student:\n",
    " ''''' This is student class with required data'''\n",
    "    def __init__(self,x,y,z):\n",
    "        self.name=x\n",
    "        self.rollno=y\n",
    "        self.marks=z\n",
    "    def display(self):\n",
    "        print(\"Student Name:{}\\nRollno:{} \\nMarks:{}\".format(self.name,self.rollno,self\n",
    "                                                             .marks))\n",
    "s1=Student(\"Durga\",101,80)\n",
    "s1.display()\n",
    "s2=Student(\"Sunny\",102,100)\n",
    "s2.display()\n",
    "\n",
    "=======================================================================================\n",
    "Output\n",
    "Student Name:Durga\n",
    "Rollno:101\n",
    "Marks:80\n",
    "    \n",
    "Student Name:Sunny\n",
    "Rollno:102\n",
    "Marks:100"
   ]
  },
  {
   "cell_type": "markdown",
   "metadata": {},
   "source": [
    "# Differences between Methods and Constructors\n",
    "\n",
    "====================================================================================\n",
    "Method Constructor\n",
    "1) Name of method can be any name\n",
    "2) Method will be executed if we call that method\n",
    "3) Per object, method can be called any number of times.\n",
    "4) Inside method we can write business logic \n",
    "=============================================================================\n",
    "1) Constructor name should be always __init__\n",
    "2) Constructor will be executed automatically at the time of object creation.\n",
    "3) Per object, Constructor will be executed only once\n",
    "4) Inside Constructor we have to declare and initialize instance variables"
   ]
  },
  {
   "cell_type": "markdown",
   "metadata": {},
   "source": [
    "# Types of Variables:\n",
    "\n",
    "===============================================================================    \n",
    "Inside Python class 3 types of variables are allowed.\n",
    "1) Instance Variables (Object Level Variables)\n",
    "2) Static Variables (Class Level Variables)\n",
    "3) Local variables (Method Level Variables)\n",
    "\n",
    "==============================================================================\n",
    "1) Instance Variables:\n",
    "========================================================\n",
    "If the value of a variable is varied from object to object, then such type of variables are called instance variables.\n",
    "For every object a separate copy of instance variables will be created.\n",
    "\n",
    "===========================================================================\n",
    "Where we can declare Instance Variables:\n",
    "1) Inside Constructor by using self variable\n",
    "2) Inside Instance Method by using self variable\n",
    "3) Outside of the class by using object reference variable\n",
    "\n",
    "Page NO 6"
   ]
  }
 ],
 "metadata": {
  "kernelspec": {
   "display_name": "Python 3",
   "language": "python",
   "name": "python3"
  },
  "language_info": {
   "codemirror_mode": {
    "name": "ipython",
    "version": 3
   },
   "file_extension": ".py",
   "mimetype": "text/x-python",
   "name": "python",
   "nbconvert_exporter": "python",
   "pygments_lexer": "ipython3",
   "version": "3.7.6"
  }
 },
 "nbformat": 4,
 "nbformat_minor": 4
}
