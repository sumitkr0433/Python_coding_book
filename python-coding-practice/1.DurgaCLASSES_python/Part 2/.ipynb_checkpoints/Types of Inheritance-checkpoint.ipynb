{
 "cells": [
  {
   "cell_type": "markdown",
   "metadata": {},
   "source": [
    "# Types of Inheritance:"
   ]
  },
  {
   "cell_type": "code",
   "execution_count": null,
   "metadata": {},
   "outputs": [],
   "source": [
    "1) Single Inheritance:\n",
    "The concept of inheriting the properties from one class to another class is known as\n",
    "single inheritance.\n"
   ]
  },
  {
   "cell_type": "code",
   "execution_count": null,
   "metadata": {},
   "outputs": [],
   "source": [
    "class P:\n",
    "    def m1(self):\n",
    "        print(\"Parent Method\")\n",
    "\n",
    "class C(P):\n",
    "    def m2(self):\n",
    "        print(\"Child Method\")\n",
    "c=C()\n",
    "c.m1()\n",
    "c.m2()\n",
    "\n",
    "#######################################\n",
    "Output:\n",
    "Parent Method\n",
    "Child Method"
   ]
  },
  {
   "cell_type": "code",
   "execution_count": null,
   "metadata": {},
   "outputs": [],
   "source": []
  },
  {
   "cell_type": "code",
   "execution_count": null,
   "metadata": {},
   "outputs": [],
   "source": [
    "2) Multi Level Inheritance:\n",
    "The concept of inheriting the properties from multiple classes to single class with the\n",
    "concept of one after another is known as multilevel inheritance.\n"
   ]
  },
  {
   "cell_type": "code",
   "execution_count": null,
   "metadata": {},
   "outputs": [],
   "source": [
    "class P:\n",
    "    def m1(self):\n",
    "    print(\"Parent Method\")\n",
    "4) class C(P):\n",
    "    def m2(self):\n",
    "        print(\"Child Method\")\n",
    "class CC(C):\n",
    "    def m3(self):\n",
    "        print(\"Sub Child Method\")\n",
    "\n",
    "c=CC()\n",
    "c.m1()\n",
    "c.m2()\n",
    "c.m3()\n",
    "\n",
    "############################################3################################\n",
    "#Output:\n",
    "#Parent Method\n",
    "#Child Method\n",
    "#Sub Child Method"
   ]
  },
  {
   "cell_type": "code",
   "execution_count": null,
   "metadata": {},
   "outputs": [],
   "source": []
  },
  {
   "cell_type": "code",
   "execution_count": null,
   "metadata": {},
   "outputs": [],
   "source": []
  },
  {
   "cell_type": "code",
   "execution_count": null,
   "metadata": {},
   "outputs": [],
   "source": [
    "3) Hierarchical Inheritance:\n",
    "The concept of inheriting properties from one class into multiple classes which are\n",
    "present at same level is known as Hierarchical Inheritance"
   ]
  },
  {
   "cell_type": "code",
   "execution_count": null,
   "metadata": {},
   "outputs": [],
   "source": [
    "3) Hierarchical Inheritance:\n",
    "    \n",
    "class P:\n",
    "    def m1(self):\n",
    "        print(\"Parent Method\")\n",
    "class C1(P):\n",
    "    def m2(self):\n",
    "        print(\"Child1 Method\")\n",
    "class C2(P):\n",
    "    def m3(self):\n",
    "        print(\"Child2 Method\")\n",
    "c1=C1()\n",
    "c1.m1()\n",
    "c1.m2()\n",
    "c2=C2()\n",
    "c2.m1()\n",
    "c2.m3()\n",
    "\n",
    "##########Output\n",
    "#Output:\n",
    "#Parent Method\n",
    "#Child1 Method\n",
    "#Parent Method\n",
    "#Child2 Method"
   ]
  },
  {
   "cell_type": "code",
   "execution_count": null,
   "metadata": {},
   "outputs": [],
   "source": [
    "4) Multiple Inheritance:\n",
    "The concept of inheriting the properties from multiple classes into a single class at a\n",
    "time, is known as multiple inheritance."
   ]
  },
  {
   "cell_type": "code",
   "execution_count": null,
   "metadata": {},
   "outputs": [],
   "source": []
  },
  {
   "cell_type": "code",
   "execution_count": null,
   "metadata": {},
   "outputs": [],
   "source": [
    "class P1:\n",
    "    def m1(self):\n",
    "        print(\"Parent1 Method\")\n",
    "class P2:\n",
    "    def m2(self):\n",
    "        print(\"Parent2 Method\")\n",
    "class C(P1,P2):\n",
    "    def m3(self):\n",
    "        print(\"Child2 Method\")\n",
    "\n",
    "#\n",
    "c=C()\n",
    "c.m1()\n",
    "c.m2()\n",
    "c.m3()\n",
    "\n",
    "###\n",
    "#Output:\n",
    "#Parent1 Method\n",
    "#Parent2 Method\n",
    "#Child2 Method"
   ]
  },
  {
   "cell_type": "code",
   "execution_count": null,
   "metadata": {},
   "outputs": [],
   "source": [
    "If the same method is inherited from both parent classes, then Python will always\n",
    "consider the order of Parent classes in the declaration of the child class.\n",
    "class C(P1, P2): --> P1 method will be considered\n",
    "class C(P2, P1): --> P2 method will be considered"
   ]
  },
  {
   "cell_type": "code",
   "execution_count": null,
   "metadata": {},
   "outputs": [],
   "source": [
    "class P1:\n",
    "    def m1(self):\n",
    "        print(\"Parent1 Method\")\n",
    "class P2:\n",
    "    def m1(self):\n",
    "        print(\"Parent2 Method\")\n",
    "class C(P1,P2):\n",
    "    def m2(self):\n",
    "        print(\"Child Method\")\n",
    "c=C()\n",
    "c.m1()\n",
    "c.m2()\n",
    "\n",
    "#################################\n",
    "#Output:\n",
    "#Parent1 Method\n",
    "#Child Method"
   ]
  },
  {
   "cell_type": "code",
   "execution_count": null,
   "metadata": {},
   "outputs": [],
   "source": [
    "5) Hybrid Inheritance:\n",
    "Combination of Single, Multi level, multiple and Hierarchical inheritance is known as\n",
    "Hybrid Inheritance."
   ]
  },
  {
   "cell_type": "code",
   "execution_count": null,
   "metadata": {},
   "outputs": [],
   "source": []
  },
  {
   "cell_type": "code",
   "execution_count": null,
   "metadata": {},
   "outputs": [],
   "source": [
    "6) Cyclic Inheritance:\n",
    "The concept of inheriting properties from one class to another class in cyclic way, is\n",
    "called Cyclic inheritance.Python won't support for Cyclic Inheritance of course it is\n",
    "really not required.\n",
    "Eg - 1: class A(A):pass\n",
    "NameError: name 'A' is not defined\n",
    "    \n",
    "##########################\n",
    "Eg - 2:\n",
    "    \n",
    "class A(B):\n",
    "    pass\n",
    "class B(A):\n",
    "    pass\n",
    "NameError: name 'B' is not defined"
   ]
  },
  {
   "cell_type": "code",
   "execution_count": null,
   "metadata": {},
   "outputs": [],
   "source": [
    "Method Resolution Order (MRO):\n",
    "\n",
    "========================================================================================\n",
    "In Hybrid Inheritance the method resolution order is decided based on MRO\n",
    "algorithm.\n",
    "This algorithm is also known as C3 algorithm.\n",
    "Samuele Pedroni proposed this algorithm.\n",
    "It follows DLR (Depth First Left to Right) i.e Child will get more priority than Parent.\n",
    "Left Parent will get more priority than Right Parent.\n",
    "MRO(X) = X+Merge(MRO(P1),MRO(P2),...,ParentList)"
   ]
  },
  {
   "cell_type": "code",
   "execution_count": null,
   "metadata": {},
   "outputs": [],
   "source": [
    "Head Element vs Tail Terminology:\n",
    "\n",
    "#####################################################################################\n",
    "Assume C1,C2,C3,...are classes.\n",
    "In the list: C1C2C3C4C5....\n",
    "C1 is considered as Head Element and remaining is considered as Tail."
   ]
  },
  {
   "cell_type": "code",
   "execution_count": null,
   "metadata": {},
   "outputs": [],
   "source": [
    "How to find Merge:\n",
    "\n",
    "###################################################################################\n",
    "Take the head of first list\n",
    "If the head is not in the tail part of any other list, then add this head to the result and\n",
    "remove it from the lists in the merge.\n",
    "If the head is present in the tail part of any other list, then consider the head element\n",
    "of the next list and continue the same process.\n",
    "\n",
    "\n",
    "Note: We can find MRO of any class by using mro() function.\n",
    "print(ClassName.mro())"
   ]
  },
  {
   "cell_type": "code",
   "execution_count": null,
   "metadata": {},
   "outputs": [],
   "source": [
    "Demo Program-1 for Method Resolution Order:\n",
    "A\n",
    "C\n",
    "B\n",
    "D\n",
    "\n",
    "\n",
    "###########################################################\n",
    "mro(A) = A, object\n",
    "mro(B) = B, A, object\n",
    "mro(C) = C, A, object\n",
    "mro(D) = D, B, C, A, object\n",
    "\n",
    "\n",
    "test.py\n",
    "\n",
    "class A:pass\n",
    "class B(A):pass\n",
    "class C(A):pass\n",
    "class D(B,C):pass\n",
    "print(A.mro())\n",
    "print(B.mro())\n",
    "print(C.mro())\n",
    "print(D.mro())\n",
    "\n",
    "########################################################################\n",
    "Output:\n",
    "[<class '__main__.A'>, <class 'object'>]\n",
    "[<class '__main__.B'>, <class '__main__.A'>, <class 'object'>]\n",
    "[<class '__main__.C'>, <class '__main__.A'>, <class 'object'>]\n",
    "[<class '__main__.D'>, <class '__main__.B'>, <class '__main__.C'>, <class '__main__.A'>,\n",
    "<class 'object'>]"
   ]
  },
  {
   "cell_type": "code",
   "execution_count": null,
   "metadata": {},
   "outputs": [],
   "source": [
    "Demo Program-2 for Method Resolution Order:\n",
    "#####################################################################################\n",
    "\n",
    "Object\n",
    "A\n",
    "C\n",
    "B\n",
    "X\n",
    "Y\n",
    "P\n",
    "\n",
    "##################################################################################\n",
    "mro(A)=A,object\n",
    "mro(B)=B,object\n",
    "mro(C)=C,object\n",
    "mro(X)=X,A,B,object\n",
    "mro(Y)=Y,B,C,object\n",
    "mro(P)=P,X,A,Y,B,C,object\n",
    "\n",
    "################################################################################\n",
    "Finding mro(P) by using C3 Algorithm:\n",
    "Formula: MRO(X) = X+Merge(MRO(P1),MRO(P2),...,ParentList)\n",
    "mro(p) = P+Merge(mro(X),mro(Y),mro(C),XYC)\n",
    "= P+Merge(XABO,YBCO,CO,XYC)\n",
    "= P+X+Merge(ABO,YBCO,CO,YC)\n",
    "= P+X+A+Merge(BO,YBCO,CO,YC)\n",
    "= P+X+A+Y+Merge(BO,BCO,CO,C)\n",
    "= P+X+A+Y+B+Merge(O,CO,CO,C)\n",
    "= P+X+A+Y+B+C+Merge(O,O,O)\n",
    "= P+X+A+Y+B+C+O"
   ]
  },
  {
   "cell_type": "code",
   "execution_count": null,
   "metadata": {},
   "outputs": [],
   "source": [
    "test.py\n",
    "\n",
    "###############################################################\n",
    "class A:pass\n",
    "class B:pass\n",
    "class C:pass\n",
    "class X(A,B):pass\n",
    "class Y(B,C):pass\n",
    "class P(X,Y,C):pass\n",
    "print(A.mro())#AO\n",
    "print(X.mro())#XABO\n",
    "print(Y.mro())#YBCO\n",
    "print(P.mro())#PXAYBCO\n"
   ]
  },
  {
   "cell_type": "code",
   "execution_count": null,
   "metadata": {},
   "outputs": [],
   "source": []
  },
  {
   "cell_type": "code",
   "execution_count": null,
   "metadata": {},
   "outputs": [],
   "source": [
    "Output:\n",
    "[<class '__main__.A'>, <class 'object'>]\n",
    "[<class '__main__.X'>, <class '__main__.A'>, <class '__main__.B'>, <class 'object'>]\n",
    "[<class '__main__.Y'>, <class '__main__.B'>, <class '__main__.C'>, <class 'object'>]\n",
    "[<class '__main__.P'>, <class '__main__.X'>, <class '__main__.A'>, <class '__main__.Y'>,\n",
    "<class '__main__.B'>,\n",
    "<class '__main__.C'>, <class 'object'>]"
   ]
  },
  {
   "cell_type": "code",
   "execution_count": null,
   "metadata": {},
   "outputs": [],
   "source": [
    "test.py\n",
    "1) class A:\n",
    "2)\n",
    "def m1(self):\n",
    "3)\n",
    "print('A class Method')\n",
    "4) class B:\n",
    "5)\n",
    "def m1(self):\n",
    "6)\n",
    "print('B class Method')\n",
    "7) class C:\n",
    "8)\n",
    "def m1(self):\n",
    "9)\n",
    "print('C class Method')\n",
    "10) class X(A,B):\n",
    "11) def m1(self):\n",
    "12)\n",
    "print('X class Method')\n",
    "13) class Y(B,C):\n",
    "14) def m1(self):\n",
    "15)\n",
    "print('Y class Method')\n",
    "16) class P(X,Y,C):\n",
    "17) def m1(self):\n",
    "18)\n",
    "print('P class Method')\n",
    "19) p=P()\n",
    "20) p.m1()"
   ]
  },
  {
   "cell_type": "code",
   "execution_count": null,
   "metadata": {},
   "outputs": [],
   "source": [
    "Output: P class Method\n",
    "In the above example P class m1() method will be considered.If P class does not contain\n",
    "m1() method then as per MRO, X class method will be considered. If X class does not\n",
    "contain then A class method will be considered and this process will be continued.\n",
    "The method resolution in the following order: PXAYBCO"
   ]
  },
  {
   "cell_type": "code",
   "execution_count": null,
   "metadata": {},
   "outputs": [],
   "source": [
    "Demo Program-3 for Method Resolution Order:\n",
    "Object\n",
    "D\n",
    "F\n",
    "E\n",
    "B\n",
    "C\n",
    "A\n",
    "mro(o) = object\n",
    "mro(D) = D,object\n",
    "mro(E) = E,object\n",
    "mro(F) = F,object\n",
    "mro(B) = B,D,E,object\n",
    "mro(C) = C,D,F,object\n",
    "mro(A) = A+Merge(mro(B),mro(C),BC)\n",
    "= A+Merge(BDEO,CDFO,BC)\n",
    "= A+B+Merge(DEO,CDFO,C)\n",
    "= A+B+C+Merge(DEO,DFO)\n",
    "= A+B+C+D+Merge(EO,FO)\n",
    "= A+B+C+D+E+Merge(O,FO)\n",
    "= A+B+C+D+E+F+Merge(O,O)\n",
    "= A+B+C+D+E+F+O\n",
    "\n",
    "##################################################################\n",
    "test.py\n",
    "class D:pass\n",
    "class E:pass\n",
    "class F:pass\n",
    "class B(D,E):pass\n",
    "class C(D,F):pass\n",
    "class A(B,C):pass\n",
    "print(D.mro())\n",
    "print(B.mro()9) print(C.mro())\n",
    "print(A.mro())\n",
    "\n",
    "###########################################################################\n",
    "Output:\n",
    "[<class '__main__.D'>, <class 'object'>]\n",
    "[<class '__main__.B'>, <class '__main__.D'>, <class '__main__.E'>, <class 'object'>]\n",
    "[<class '__main__.C'>, <class '__main__.D'>, <class '__main__.F'>, <class 'object'>]\n",
    "[<class '__main__.A'>, <class '__main__.B'>, <class '__main__.C'>, <class '__main__.D'>,\n",
    "<clas_main__.E'>,\n",
    "<clas\n",
    " ###########################################################################\n",
    " s '__main__.F'>, <class 'object'>]\n",
    "9) print(C.mro())\n",
    "10) print(A.mro())\n",
    "Output:\n",
    "[<class '__main__.D'>, <class 'object'>]\n",
    "[<class '__main__.B'>, <class '__main__.D'>, <class '__main__.E'>, <class 'object'>]\n",
    "[<class '__main__.C'>, <class '__main__.D'>, <class '__main__.F'>, <class 'object'>]\n",
    "[<class '__main__.A'>, <class '__main__.B'>, <class '__main__.C'>, <class '__main__.D'>,\n",
    "<class '__main__.E'>,\n",
    "<class '__main__.F'>, <class 'object'>]"
   ]
  }
 ],
 "metadata": {
  "kernelspec": {
   "display_name": "Python 3",
   "language": "python",
   "name": "python3"
  },
  "language_info": {
   "codemirror_mode": {
    "name": "ipython",
    "version": 3
   },
   "file_extension": ".py",
   "mimetype": "text/x-python",
   "name": "python",
   "nbconvert_exporter": "python",
   "pygments_lexer": "ipython3",
   "version": "3.7.6"
  }
 },
 "nbformat": 4,
 "nbformat_minor": 4
}
