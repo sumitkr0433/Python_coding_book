{
 "cells": [
  {
   "cell_type": "code",
   "execution_count": null,
   "metadata": {},
   "outputs": [],
   "source": [
    "Inheritance Part"
   ]
  },
  {
   "cell_type": "code",
   "execution_count": null,
   "metadata": {},
   "outputs": [],
   "source": [
    "Composition vs Aggregation:\n",
    "    \n",
    "=================================================================\n",
    "Composition:\n",
    "    \n",
    "Without existing container object if there is no chance of existing contained object then\n",
    "the container and contained objects are strongly associated and that strong association is\n",
    "nothing but Composition.\n",
    "\n",
    "\n",
    "Eg: University contains several Departments and without existing university object there\n",
    "is no chance of existing Department object. Hence University and Department objects are\n",
    "strongly associated and this strong association is nothing but Composition"
   ]
  },
  {
   "cell_type": "code",
   "execution_count": null,
   "metadata": {},
   "outputs": [],
   "source": []
  },
  {
   "cell_type": "code",
   "execution_count": null,
   "metadata": {},
   "outputs": [],
   "source": [
    "Aggregation:\n",
    "Without existing container object if there is a chance of existing contained object then the\n",
    "container and contained objects are weakly associated and that weak association is\n",
    "nothing but Aggregation.\n",
    "Eg: Department contains several Professors. Without existing Department still there may\n",
    "be a chance of existing Professor. Hence Department and Professor Objects are weakly associated, which is nothing but Aggregation\n",
    "x\n",
    "x\n",
    ":\n",
    ":\n",
    ":\n",
    "x\n",
    ":\n",
    ":\n",
    ":\n"
   ]
  },
  {
   "cell_type": "code",
   "execution_count": null,
   "metadata": {},
   "outputs": [],
   "source": [
    "Coding Example:\n",
    "    \n",
    "######################################################################33\n",
    "class Student:\n",
    "    collegeName='DURGASOFT'\n",
    "    def __init__(self,name):\n",
    "        self.name=name\n",
    "        print(Student.collegeName)\n",
    "s=Student('Durga')\n",
    "print(s.name)\n",
    "\n",
    "##########################################################\n",
    "Output:\n",
    "DURGASOFT\n",
    "Durga"
   ]
  },
  {
   "cell_type": "code",
   "execution_count": null,
   "metadata": {},
   "outputs": [],
   "source": [
    "In the above example without existing Student object there is no chance of existing his\n",
    "name. Hence Student Object and his name are strongly associated which is nothing but\n",
    "Composition.\n",
    "But without existing Student object there may be a chance of existing collegeName. Hence\n",
    "Student object and collegeName are weakly associated which is nothing but Aggregation."
   ]
  },
  {
   "cell_type": "code",
   "execution_count": null,
   "metadata": {},
   "outputs": [],
   "source": [
    "Conclusion:\n",
    "The relation between object and its instance variables is always Composition where as the\n",
    "relation between object and static variables is Aggregation.\n",
    "Note: Whenever we are creating child class object then child class constructor will be\n",
    "executed. If the child class does not contain constructor then parent class constructor will\n",
    "be executed, but parent object won't be created."
   ]
  },
  {
   "cell_type": "code",
   "execution_count": null,
   "metadata": {},
   "outputs": [],
   "source": [
    "class P:\n",
    "    def __init__(self):\n",
    "        print(id(self))\n",
    "class C(P):\n",
    "    pass\n",
    "\n",
    "c=C()\n",
    "print(id(c))\n",
    "\n",
    "##################################################\n",
    "Output:\n",
    "6207088\n",
    "6207088"
   ]
  },
  {
   "cell_type": "code",
   "execution_count": 3,
   "metadata": {},
   "outputs": [
    {
     "name": "stdout",
     "output_type": "stream",
     "text": [
      "Name=durga\n",
      "Age=48\n",
      "Rollno=101\n",
      "Marks=90\n"
     ]
    }
   ],
   "source": [
    "class Person:\n",
    "    def __init__(self,name,age):\n",
    "        self.name=name\n",
    "        self.age=age\n",
    "class Student(Person):\n",
    "    def __init__(self,name,age,rollno,marks):\n",
    "        super().__init__(name,age)\n",
    "        self.rollno=rollno\n",
    "        self.marks=marks\n",
    "    def __str__(self):\n",
    "        return 'Name={}\\nAge={}\\nRollno={}\\nMarks={}'.format(self.name,self.age,self.rollno,self.marks)\n",
    "\n",
    "##################################################    \n",
    "s1=Student('durga',48,101,90)\n",
    "print(s1)\n",
    "\n",
    "##################################################\n",
    "#Output:\n",
    "#Name=durga\n",
    "#Age=48\n",
    "#Rollno=101\n",
    "#Marks=90\n",
    "\n",
    "\n",
    "#Note: In the above example when ever we are creating child class object both parent and\n",
    "#child class constructors got executed to perform initialization of child object."
   ]
  },
  {
   "cell_type": "code",
   "execution_count": null,
   "metadata": {},
   "outputs": [],
   "source": []
  }
 ],
 "metadata": {
  "kernelspec": {
   "display_name": "Python 3",
   "language": "python",
   "name": "python3"
  },
  "language_info": {
   "codemirror_mode": {
    "name": "ipython",
    "version": 3
   },
   "file_extension": ".py",
   "mimetype": "text/x-python",
   "name": "python",
   "nbconvert_exporter": "python",
   "pygments_lexer": "ipython3",
   "version": "3.7.6"
  }
 },
 "nbformat": 4,
 "nbformat_minor": 4
}
