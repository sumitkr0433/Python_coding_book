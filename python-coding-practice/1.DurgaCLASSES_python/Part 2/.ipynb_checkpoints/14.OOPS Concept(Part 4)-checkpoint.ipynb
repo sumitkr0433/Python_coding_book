{
 "cells": [
  {
   "cell_type": "markdown",
   "metadata": {},
   "source": [
    "# Inner Classes"
   ]
  },
  {
   "cell_type": "code",
   "execution_count": null,
   "metadata": {},
   "outputs": [],
   "source": []
  },
  {
   "cell_type": "code",
   "execution_count": null,
   "metadata": {},
   "outputs": [],
   "source": [
    "Sometimes we can declare a class inside another class, such type of classes are called\n",
    "inner classes.\n",
    "Without existing one type of object if there is no chance of existing another type of \n",
    "object, then we should go for inner classes.\n",
    "\n",
    "\n",
    "Example: Without existing Car object there is no chance of existing Engine object. Hence\n",
    "Engine class should be part of Car class."
   ]
  },
  {
   "cell_type": "code",
   "execution_count": null,
   "metadata": {},
   "outputs": [],
   "source": [
    "Example: Without existing Car object there is no chance of existing Engine object. Hence\n",
    "Engine class should be part of Car class.\n",
    "class Car:\n",
    ".....\n",
    "class Engine:\n",
    "......\n",
    "Example: Without existing university object there is no chance of existing Department\n",
    "object\n",
    "class University:\n",
    ".....\n",
    "class Department:\n",
    "......\n",
    "Example: Without existing Human there is no chance of existin Head. Hence Head\n",
    "should be part of Human.\n",
    "class Human:\n",
    "class Head:\n",
    "Note: Without existing outer class object there is no chance of existing inner class object.\n",
    "Hence inner class object is always associated with outer class object"
   ]
  },
  {
   "cell_type": "code",
   "execution_count": null,
   "metadata": {},
   "outputs": [],
   "source": [
    "Demo Program-1:\n",
    "1) class Outer:\n",
    "2)\n",
    "def __init__(self):\n",
    "3)\n",
    "print(\"outer class object creation\")\n",
    "4)\n",
    "class Inner:\n",
    "5)\n",
    "def __init__(self):\n",
    "6)\n",
    "print(\"inner class object creation\")\n",
    "7)\n",
    "def m1(self):\n",
    "8)\n",
    "print(\"inner class method\")\n",
    "9) o=Outer()\n",
    "10) i=o.Inner()\n",
    "11) i.m1()\n",
    "Output\n",
    "outer class object creation\n",
    "inner class object creation\n",
    "inner class method"
   ]
  },
  {
   "cell_type": "code",
   "execution_count": null,
   "metadata": {},
   "outputs": [],
   "source": [
    "Note: The following are various possible syntaxes for calling inner class method\n",
    "1) o = Outer()\n",
    "i = o.Inner()\n",
    "i.m1()\n",
    "2) i = Outer().Inner()\n",
    "i.m1()\n",
    "3) Outer().Inner().m1()"
   ]
  },
  {
   "cell_type": "code",
   "execution_count": null,
   "metadata": {},
   "outputs": [],
   "source": [
    "Demo Program-2:\n",
    "1) class Person:\n",
    "2)\n",
    "def __init__(self):\n",
    "3)\n",
    "self.name='durga'\n",
    "4)\n",
    "self.db=self.Dob()\n",
    "5)\n",
    "def display(self):\n",
    "6)\n",
    "print('Name:',self.name)\n",
    "7)\n",
    "class Dob:\n",
    "8)\n",
    "def __init__(self):\n",
    "9)\n",
    "self.dd=10\n",
    "10)\n",
    "self.mm=5\n",
    "11)\n",
    "self.yy=1947\n",
    "12)\n",
    "def display(self):\n",
    "13)\n",
    "print('Dob={}/{}/{}'.format(self.dd,self.mm,self.yy))\n",
    "14) p=Person()\n",
    "15) p.display()\n",
    "16) x=p.db\n",
    "17) x.display()\n",
    "\n",
    "####################################################\n",
    "Output\n",
    "Name: durga\n",
    "Dob=10/5/1947"
   ]
  },
  {
   "cell_type": "code",
   "execution_count": null,
   "metadata": {},
   "outputs": [],
   "source": [
    "Demo Program-3:\n",
    "Inside a class we can declare any number of inner classes.\n",
    "1) class Human:\n",
    "2)\n",
    "3)\n",
    "def __init__(self):\n",
    "4)\n",
    "self.name = 'Sunny'\n",
    "5)\n",
    "self.head = self.Head()\n",
    "6)\n",
    "self.brain = self.Brain()\n",
    "7)\n",
    "def display(self):\n",
    "8)\n",
    "print(\"Hello..\",self.name)\n",
    "9)\n",
    "10) class Head:\n",
    "11)\n",
    "def talk(self):\n",
    "12)\n",
    "print('Talking...')\n",
    "13)\n",
    "14) class Brain:\n",
    "15)\n",
    "def think(self):\n",
    "16)\n",
    "print('Thinking...')\n",
    "17)\n",
    "18) h=Human()\n",
    "19) h.display()\n",
    "20) h.head.talk()\n",
    "21) h.brain.think()\n",
    "Output\n",
    "Hello.. Sunny\n",
    "Talking...\n",
    "Thinking..."
   ]
  }
 ],
 "metadata": {
  "kernelspec": {
   "display_name": "Python 3",
   "language": "python",
   "name": "python3"
  },
  "language_info": {
   "codemirror_mode": {
    "name": "ipython",
    "version": 3
   },
   "file_extension": ".py",
   "mimetype": "text/x-python",
   "name": "python",
   "nbconvert_exporter": "python",
   "pygments_lexer": "ipython3",
   "version": "3.7.6"
  }
 },
 "nbformat": 4,
 "nbformat_minor": 4
}
