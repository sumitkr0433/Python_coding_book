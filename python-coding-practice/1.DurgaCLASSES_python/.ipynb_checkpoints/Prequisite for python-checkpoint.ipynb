{
 "cells": [
  {
   "cell_type": "code",
   "execution_count": null,
   "metadata": {},
   "outputs": [],
   "source": [
    "Prequisite for Python"
   ]
  },
  {
   "cell_type": "code",
   "execution_count": null,
   "metadata": {},
   "outputs": [],
   "source": [
    "Official Website:-https://www.python.org/"
   ]
  },
  {
   "cell_type": "code",
   "execution_count": null,
   "metadata": {},
   "outputs": [],
   "source": [
    "Downloads Button \n"
   ]
  },
  {
   "cell_type": "markdown",
   "metadata": {},
   "source": [
    "# /home/admin1/1.Code FIles/Anaconda Code Guide/1.DCLASSES/Screenshot from 2020-08-10 22-14-17.png"
   ]
  },
  {
   "cell_type": "code",
   "execution_count": null,
   "metadata": {},
   "outputs": [],
   "source": [
    "Important Point about Python Installation\n",
    "\n",
    "https://www.google.com/search?q=python+installing+pic&source=lnms&tbm=isch&sa=X&ved=2ahUKEwim3tXrj5HrAhU8IbcAHeXbDWEQ_AUoAnoECAwQBA&biw=1299&bih=669#imgrc=z7-sRwXH33O4TM"
   ]
  },
  {
   "cell_type": "code",
   "execution_count": null,
   "metadata": {},
   "outputs": [],
   "source": [
    "https://www.python.org/\n",
    "    \n",
    "https://www.python.org/downloads/windows/"
   ]
  },
  {
   "cell_type": "code",
   "execution_count": null,
   "metadata": {},
   "outputs": [],
   "source": [
    "Editior\n",
    "\n",
    "Sublime\n",
    "visual studio code"
   ]
  },
  {
   "cell_type": "code",
   "execution_count": null,
   "metadata": {},
   "outputs": [],
   "source": [
    "IDE\n",
    "\n",
    "Basic ide -------------Python idle\n",
    "web development -------pycharm(https://www.jetbrains.com/pycharm/)\n",
    "Links :-https://www.jetbrains.com/pycharm/download/#section=linux"
   ]
  },
  {
   "cell_type": "code",
   "execution_count": null,
   "metadata": {
    "collapsed": true
   },
   "outputs": [],
   "source": [
    "From cmd how can we run the python program\n",
    "\n",
    "open the command prompt run the command \n",
    "python\n",
    "\n",
    "exit()"
   ]
  },
  {
   "cell_type": "code",
   "execution_count": null,
   "metadata": {},
   "outputs": [],
   "source": [
    "idle has two windows \n",
    "1.interatctive shell\n",
    "2.Untitled"
   ]
  },
  {
   "cell_type": "code",
   "execution_count": null,
   "metadata": {},
   "outputs": [],
   "source": [
    "Python file extension\n",
    "\n",
    ".py"
   ]
  }
 ],
 "metadata": {
  "kernelspec": {
   "display_name": "Python 3",
   "language": "python",
   "name": "python3"
  },
  "language_info": {
   "codemirror_mode": {
    "name": "ipython",
    "version": 3
   },
   "file_extension": ".py",
   "mimetype": "text/x-python",
   "name": "python",
   "nbconvert_exporter": "python",
   "pygments_lexer": "ipython3",
   "version": "3.7.6"
  }
 },
 "nbformat": 4,
 "nbformat_minor": 4
}
