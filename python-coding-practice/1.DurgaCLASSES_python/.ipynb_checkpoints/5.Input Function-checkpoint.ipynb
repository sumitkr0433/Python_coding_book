{
 "cells": [
  {
   "cell_type": "markdown",
   "metadata": {},
   "source": [
    "# INPUT AND OUTPUT STATEMENTS"
   ]
  },
  {
   "cell_type": "code",
   "execution_count": null,
   "metadata": {},
   "outputs": [],
   "source": [
    "Reading Dynamic Input from the Keyboard:\n",
    "In Python 2 the following 2 functions are available to read dynamic input from the\n",
    "keyboard.\n",
    "1) raw_input()\n",
    "2) input()"
   ]
  },
  {
   "cell_type": "code",
   "execution_count": null,
   "metadata": {},
   "outputs": [],
   "source": [
    "1) raw_input():\n",
    "This function always reads the data from the keyboard in the form of String Format.\n",
    "We have to convert that string type to our required type by using the corresponding\n",
    "type casting methods.\n",
    "Eg: x = raw_input(\"Enter First Number:\")\n",
    "print(type(x))  It will always print str type only for any input type\n",
    "\n",
    "\n",
    "2) input():\n",
    "input() function can be used to read data directly in our required format.We are not\n",
    "required to perform type casting.\n",
    "x = input(\"Enter Value)\n",
    "type(x)\n",
    "10  int\n",
    "\"durga\" str\n",
    "10.5  float\n",
    "True  bool"
   ]
  },
  {
   "cell_type": "code",
   "execution_count": null,
   "metadata": {},
   "outputs": [],
   "source": [
    "x = input(\"Enter Value\")"
   ]
  },
  {
   "cell_type": "code",
   "execution_count": null,
   "metadata": {},
   "outputs": [],
   "source": [
    "*** Note:\n",
    " But in Python 3 we have only input() method and raw_input() method is not available.\n",
    " Python3 input() function behaviour exactly same as raw_input() method of Python2.\n",
    "i.e every input value is treated as str type only.\n",
    " raw_input() function of Python 2 is renamed as input() function in Python 3."
   ]
  },
  {
   "cell_type": "code",
   "execution_count": null,
   "metadata": {},
   "outputs": [],
   "source": [
    ">>> type(input(\"Enter value:\"))\n",
    "Enter value:10\n",
    "<class 'str'>\n",
    "Enter value:10.5\n",
    "<class 'str'>\n",
    "8) Enter value:True\n",
    "9) <class 'str'>"
   ]
  },
  {
   "cell_type": "code",
   "execution_count": null,
   "metadata": {},
   "outputs": [],
   "source": [
    "Q) Write a program to read 2 numbers from the keyboard and print sum\n",
    "x=input(\"Enter First Number:\")\n",
    "y=input(\"Enter Second Number:\")\n",
    "i = int(x)\n",
    "j = int(y)\n",
    "print(\"The Sum:\",i+j)\n",
    "Enter First Number: 100\n",
    "Enter Second Number: 200\n",
    "The Sum: 300"
   ]
  },
  {
   "cell_type": "code",
   "execution_count": null,
   "metadata": {},
   "outputs": [],
   "source": [
    "1) x=int(input(\"Enter First Number:\"))\n",
    "2) y=int(input(\"Enter Second Number:\"))\n",
    "3) print(\"The Sum:\",x+y)\n",
    "-----------------------------------------------------------\n",
    "print(\"The Sum:\",int(input(\"Enter First Number:\"))+int(input(\"Enter Second Number:\")))"
   ]
  },
  {
   "cell_type": "markdown",
   "metadata": {},
   "source": [
    "# Q) Write a Program to read Employee Data from the Keyboard and print that Data\n",
    "\n",
    "===================================================================\n",
    "1) eno=int(input(\"Enter Employee No:\"))\n",
    "2) ename=input(\"Enter Employee Name:\")\n",
    "3) esal=float(input(\"Enter Employee Salary:\"))\n",
    "4) eaddr=input(\"Enter Employee Address:\")\n",
    "5) married=bool(input(\"Employee Married ?[True|False]:\"))\n",
    "6) print(\"Please Confirm Information\")\n",
    "7) print(\"Employee No :\",eno)\n",
    "8) print(\"Employee Name :\",ename)\n",
    "9) print(\"Employee Salary :\",esal)\n",
    "10) print(\"Employee Address :\",eaddr)\n",
    "11) print(\"Employee Married ? :\",married)\n",
    "D:\\Python_classes>py test.py\n",
    "Enter Employee No:100\n",
    "Enter Employee Name:Sunny\n",
    "Enter Employee Salary:1000\n",
    "Enter Employee Address:Mumbai\n",
    "\n",
    "Employee Married ?[True|False]:True\n",
    "Please Confirm Information\n",
    "Employee No : 100\n",
    "Employee Name : Sunny\n",
    "Employee Salary : 1000.0\n",
    "Employee Address : Mumbai\n",
    "Employee Married ? : True"
   ]
  },
  {
   "cell_type": "markdown",
   "metadata": {},
   "source": [
    "# How to read multiple values from the keyboard in a single line:\n",
    "1) a,b= [int(x) for x in input(\"Enter 2 numbers :\").split()]\n",
    "2) print(\"Product is :\", a*b)\n",
    "D:\\Python_classes>py test.py\n",
    "Enter 2 numbers :10 20\n",
    "Product is : 200\n",
    "Note: split() function can take space as seperator by default.But we can pass anything as seperator."
   ]
  },
  {
   "cell_type": "code",
   "execution_count": null,
   "metadata": {},
   "outputs": [],
   "source": [
    "Q) Write a program to read 3 float numbers from the keyboard\n",
    "with, seperator and print their sum\n",
    "1) a,b,c= [float(x) for x in input(\"Enter 3 float numbers :\").split(',')]\n",
    "2) print(\"The Sum is :\", a+b+c)\n",
    "D:\\Python_classes>py test.py\n",
    "Enter 3 float numbers :10.5,20.6,20.1\n",
    "The Sum is : 51.2"
   ]
  },
  {
   "cell_type": "markdown",
   "metadata": {},
   "source": [
    "# eval():\n",
    "eval Function take a String and evaluate the Result.\n",
    "Eg: x = eval(“10+20+30”)\n",
    "print(x)\n",
    "Output: 60\n",
    "Eg: x = eval(input(“Enter Expression”))\n",
    "Enter Expression: 10+2*3/4\n",
    "Output: 11.5"
   ]
  },
  {
   "cell_type": "markdown",
   "metadata": {},
   "source": [
    "# eval() can evaluate the Input to list, tuple, set, etc based the provided Input.\n",
    "Eg: Write a Program to accept list from the keynboard on the display\n",
    "1) l = eval(input(“Enter List”))\n",
    "2) print (type(l))\n",
    "3) print(l)"
   ]
  },
  {
   "cell_type": "markdown",
   "metadata": {},
   "source": [
    "# COMMAND LINE ARGUMENTS\n",
    "argv is not Array it is a List. It is available sys Module.\n",
    "The Argument which are passing at the time of execution are called Command Line arguments"
   ]
  },
  {
   "cell_type": "code",
   "execution_count": null,
   "metadata": {},
   "outputs": [],
   "source": [
    "Eg: D:\\Python_classes py test.py 10 20 30\n",
    "Command Line Arguments\n",
    "Within the Python Program this Command Line Arguments are available in argv. Which is\n",
    "present in SYS Module.\n",
    "test.py\n",
    "                    10   20   30\n",
    "Note: argv[0] represents Name of Program. But not first Command Line Argument.\n",
    "argv[1] represent First Command Line Argument.\n",
    "Program: To check type of argv from sys"
   ]
  },
  {
   "cell_type": "markdown",
   "metadata": {},
   "source": [
    "# Program: To check type of argv from sys\n",
    "import argv\n",
    "print(type(argv))\n",
    "D:\\Python_classes\\py test.py\n",
    "Write a Program to display Command Line Arguments\n",
    "from sys import argv\n",
    "print(“The Number of Command Line Arguments:”, len(argv))\n",
    "print(“The List of Command Line Arguments:”, argv)\n",
    "print(“Command Line Arguments one by one:”)\n",
    "for x in argv:\n",
    "print(x)\n",
    "\n",
    "============================================================================================\n",
    "D:\\Python_classes>py test.py 10 20 30\n",
    "The Number of Command Line Arguments: 4\n",
    "The List of Command Line Arguments: [‘test.py’, ‘10’,’20’,’30’]\n",
    "Command Line Arguments one by one:\n",
    "test.py\n",
    "10\n",
    "20\n",
    "30"
   ]
  },
  {
   "cell_type": "code",
   "execution_count": null,
   "metadata": {},
   "outputs": [],
   "source": [
    "from sys import argv\n",
    "sum=0\n",
    "args=argv[1:]\n",
    "for x in args :\n",
    "n=int(x)\n",
    "sum=sum+n\n",
    "print(\"The Sum:\",sum)\n",
    "D:\\Python_classes>py test.py 10 20 30 40\n",
    "The Sum: 100\n",
    "    \n",
    "===============================================================================================================    \n",
    "Note 1: Usually space is seperator between command line arguments. If our command line argument itself contains \n",
    "space then we should enclose within double quotes(but not single quotes)\n",
    "================================================================================================================\n",
    "1) from sys import argv\n",
    "2) print(argv[1])\n",
    "D:\\Python_classes>py test.py Sunny Leone\n",
    "Sunny\n",
    "D:\\Python_classes>py test.py 'Sunny Leone'\n",
    "'Sunny\n",
    "D:\\Python_classes>py test.py \"Sunny Leone\"\n",
    "Sunny Leone\n",
    "\n",
    "=================================================================================================================\n",
    "Note 2: Within the Python program command line arguments are available in the String form. Based on our \n",
    "requirement, we can convert into corresponding type by using type\n",
    "casting methods."
   ]
  },
  {
   "cell_type": "code",
   "execution_count": null,
   "metadata": {},
   "outputs": [],
   "source": [
    "1) from sys import argv\n",
    "2) print(argv[1]+argv[2])\n",
    "3) print(int(argv[1])+int(argv[2]))\n",
    "\n",
    "\n",
    "D:\\Python_classes>py test.py 10 20\n",
    "1020\n",
    "30\n",
    "\n",
    "=====================================================================================================\n",
    "Note 3: If we are trying to access command line arguments with out of range index then\n",
    "we will get Error.\n",
    "1) from sys import argv\n",
    "2) print(argv[100])\n",
    "D:\\Python_classes>py test.py 10 20\n",
    "IndexError: list index out of range\n",
    "Note: In Python there is argparse module to parse command line arguments and display"
   ]
  },
  {
   "cell_type": "code",
   "execution_count": null,
   "metadata": {},
   "outputs": [],
   "source": [
    "Note: In Python there is argparse module to parse command line arguments and display some help messages whenever\n",
    "end user enters wrong input.\n",
    "input()\n",
    "raw_input()\n",
    "Command Line Arguments\n",
    "\n",
    "=================================================================================================================\n",
    "Output Statements:\n",
    "We can use print() function to display output.\n",
    "Form-1: print() without any argument Just it prints new line character\n",
    "    \n",
    "    \n",
    "===============================================================================================================    \n",
    "Form-2:\n",
    "\n",
    "print(String):\n",
    "print(\"Hello World\")\n",
    "We can use escape characters also\n",
    "print(\"Hello \\n World\")\n",
    "print(\"Hello\\tWorld\")\n",
    "We can use repetetion operator (*) in the string\n",
    "print(10*\"Hello\")\n",
    "print(\"Hello\"*10)\n",
    "We can use + operator also\n",
    "10) print(\"Hello\"+\"World\")"
   ]
  },
  {
   "cell_type": "code",
   "execution_count": null,
   "metadata": {},
   "outputs": [],
   "source": [
    "Note:\n",
    "֍ If both arguments are String type then + operator acts as concatenation operator.\n",
    "֍ If one argument is string type and second is any other type like int then we will get\n",
    "Error.\n",
    "֍ If both arguments are number type then + operator acts as arithmetic addition\n",
    "operator.\n",
    "Note:\n",
    "1) print(\"Hello\"+\"World\")\n",
    "2) print(\"Hello\",\"World\")\n",
    "HelloWorld\n",
    "Hello World\n",
    "\n",
    "\n",
    "================================================================================================================\n",
    "Form-3: print() with variable number of arguments\n",
    "1) a,b,c=10,20,30\n",
    "2) print(\"The Values are :\",a,b,c)\n",
    "Output: The Values are : 10 20 30\n",
    "By default output values are seperated by space.If we want we can specify seperator by\n",
    "using \"sep\" attribute\n",
    "1) a,b,c=10,20,30\n",
    "2) print(a,b,c,sep=',')\n",
    "3) print(a,b,c,sep=':')\n",
    "D:\\Python_classes>py test.py\n",
    "10,20,30\n",
    "10:20:30\n",
    "        \n",
    "========================================================================================        \n",
    "        Form-4: print() with end attribute\n",
    "1) print(\"Hello\")\n",
    "2) print(\"Durga\")\n",
    "3) print(\"Soft\")\n",
    "Output:\n",
    "Hello\n",
    "Durga\n",
    "Soft"
   ]
  },
  {
   "cell_type": "code",
   "execution_count": null,
   "metadata": {},
   "outputs": [],
   "source": [
    "If we want output in the same line with space\n",
    "1) print(\"Hello\",end=' ')\n",
    "2) print(\"Durga\",end=' ')\n",
    "3) print(\"Soft\")\n",
    "Output: Hello Durga Soft\n",
    "Note: The default value for end attribute is \\n, which is nothing but new line character."
   ]
  },
  {
   "cell_type": "code",
   "execution_count": null,
   "metadata": {},
   "outputs": [],
   "source": [
    "Form-5: print(object) statement\n",
    "We can pass any object (like list, tuple, set etc) as argument to the print() statement.\n",
    "\n",
    "==============================================================================================================\n",
    "l=[10,20,30,40]\n",
    "t=(10,20,30,40)\n",
    "print(l)\n",
    "print(t)\n",
    "Form-6: print(String, variable list)\n",
    "We can use print() statement with String and any number of arguments.\n",
    "==========================================================================================================\n",
    "s = \"Durga\"\n",
    "a = 48\n",
    "s1 =\"Java\"\n",
    "s2 =\"Python\"\n",
    "print(\"Hello\",s,\"Your Age is\",a)\n",
    "print(\"You are teaching\",s1,\"and\",s2)\n",
    "\n",
    "=========================================================================================================\n",
    "Output:\n",
    "Hello Durga Your Age is 48\n",
    "You are teaching java and Python\n",
    "=======================================================================================================\n",
    "Form-7: print (formatted string)\n",
    "%i-------------int \n",
    "%d-------------int\n",
    "%f-------------float\n",
    "%s--------------String\n",
    "===============================================================================================================\n",
    "Syntax: print(\"formatted string\" %(variable list))"
   ]
  },
  {
   "cell_type": "code",
   "execution_count": null,
   "metadata": {},
   "outputs": [],
   "source": [
    "Eg 1:\n",
    "a=10\n",
    "b=20\n",
    "c=30\n",
    "print(\"a value is %i\" %a)\n",
    "print(\"b value is %d and c value is %d\" %(b,c))\n",
    "Output\n",
    "a value is 10\n",
    "b value is 20 and c value is 30\n",
    "Eg 2:\n",
    "1) s=\"Durga\"\n",
    "2) list=[10,20,30,40]\n",
    "3) print(\"Hello %s ...The List of Items are %s\" %(s,list))\n",
    "\n",
    "\n",
    "==========================================================================\n",
    "Output: Hello Durga ...The List of Items are [10, 20, 30, 40]\n",
    "Form-8: print() with replacement operator {}\n",
    "Eg:\n",
    "name = \"Durga\"\n",
    "salary = 10000\n",
    "gf = \"Sunny\"\n",
    "print(\"Hello {0} your salary is {1} and Your Friend {2} is waiting\".\n",
    "format(name,salary,gf))\n",
    "5) print(\"Hello {x} your salary is {y} and Your Friend {z} is waiting\".\n",
    "format(x=name,y=salary,z=gf))\n",
    "Output\n",
    "Hello Durga your salary is 10000 and Your Friend Sunny is waiting\n",
    "Hello Durga your salary is 10000 and Your Friend Sunny is waiting"
   ]
  }
 ],
 "metadata": {
  "kernelspec": {
   "display_name": "Python 3",
   "language": "python",
   "name": "python3"
  },
  "language_info": {
   "codemirror_mode": {
    "name": "ipython",
    "version": 3
   },
   "file_extension": ".py",
   "mimetype": "text/x-python",
   "name": "python",
   "nbconvert_exporter": "python",
   "pygments_lexer": "ipython3",
   "version": "3.7.6"
  }
 },
 "nbformat": 4,
 "nbformat_minor": 4
}
