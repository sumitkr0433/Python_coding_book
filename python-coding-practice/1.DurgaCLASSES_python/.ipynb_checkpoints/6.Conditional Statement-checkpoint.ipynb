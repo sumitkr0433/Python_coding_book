{
 "cells": [
  {
   "cell_type": "markdown",
   "metadata": {},
   "source": [
    "# FLow Control"
   ]
  },
  {
   "cell_type": "code",
   "execution_count": null,
   "metadata": {},
   "outputs": [],
   "source": [
    "Flow control describes the order in which statements will be executed at runtime."
   ]
  },
  {
   "cell_type": "code",
   "execution_count": null,
   "metadata": {},
   "outputs": [],
   "source": [
    "Control Flow\n",
    "=======================================================\n",
    "Conditional Statement\n",
    "1) if\n",
    "2) if-elif\n",
    "3) if-elif-else \n",
    "\n",
    "Transfer Statment\n",
    "1) break\n",
    "2) continue\n",
    "3) pass \n",
    "Iterative Statement\n",
    "1) for\n",
    "2) while"
   ]
  },
  {
   "cell_type": "markdown",
   "metadata": {},
   "source": [
    "# I. Conditional Statements\n",
    "1) if\n",
    "if condition : statement\n",
    "OR\n",
    "if condition :\n",
    "    statement-1\n",
    "    statement-2\n",
    "    statement-3\n",
    "    \n",
    "If condition is true then statements will be executed.\n",
    "\n",
    "\n",
    "=================================================================================================================\n",
    "Eg:\n",
    "1) name=input(\"Enter Name:\")\n",
    "2) if name==\"durga\" :\n",
    "3)\n",
    "print(\"Hello Durga Good Morning\")\n",
    "4) print(\"How are you!!!\")\n",
    "D:\\Python_classes>py test.py\n",
    "Enter Name:durga\n",
    "Hello Durga Good Morning\n",
    "How are you!!!\n",
    "\n",
    "============================\n",
    "D:\\Python_classes>py test.py\n",
    "Enter Name: Ravi\n",
    "How are you!!!"
   ]
  },
  {
   "cell_type": "markdown",
   "metadata": {},
   "source": [
    "# 2) if-else:\n",
    "if condition:\n",
    "Action-1\n",
    "else:\n",
    "Action-2\n",
    "\n",
    "=======================================\n",
    "if condition is true then Action-1 will be executed otherwise Action-2 will be executed.\n",
    "name=input(\"Enter Name:\")\n",
    "if name==\"durga\" :\n",
    "print(\"Hello Durga Good Morning\")\n",
    "else:\n",
    "print(\"Hello Guest Good Moring\")\n",
    "print(\"How are you!!!\")"
   ]
  },
  {
   "cell_type": "markdown",
   "metadata": {},
   "source": [
    "# 3) if-elif-else:\n",
    "if condition1:\n",
    "Action-1\n",
    "elif condition2:\n",
    "Action-2\n",
    "elif condition3:\n",
    "Action-3\n",
    "elif condition4:\n",
    "Action-4\n",
    "...\n",
    "else:\n",
    "Default Action\n",
    "Based condition the corresponding action will be executed."
   ]
  },
  {
   "cell_type": "code",
   "execution_count": null,
   "metadata": {},
   "outputs": [],
   "source": [
    "brand=input(\"Enter Your Favourite Brand:\")\n",
    "if brand==\"RC\" :\n",
    "print(\"It is childrens brand\")\n",
    "elif brand==\"KF\":\n",
    "print(\"It is not that much kick\")\n",
    "elif brand==\"FO\":\n",
    "print(\"Buy one get Free One\")\n",
    "else :\n",
    "print(\"Other Brands are not recommended\")\n",
    "\n",
    "\n",
    "=====================================================================================\n",
    "D:\\Python_classes>py test.py\n",
    "Enter Your Favourite Brand:RC\n",
    "It is childrens brand\n",
    "D:\\Python_classes>py test.py\n",
    "Enter Your Favourite Brand:KF\n",
    "It is not that much kick\n",
    "\n",
    "\n",
    "D:\\Python_classes>py test.py\n",
    "Enter Your Favourite Brand: KALYANI\n",
    "Other Brands are not recommended\n"
   ]
  },
  {
   "cell_type": "code",
   "execution_count": null,
   "metadata": {},
   "outputs": [],
   "source": [
    "Note:\n",
    "1) else part is always optional. Hence the following are various possible syntaxes.\n",
    "1) If\n",
    "2) if – else\n",
    "3) if-elif-else\n",
    "4) if-elif\n",
    "2) There is no switch statement in Python"
   ]
  },
  {
   "cell_type": "code",
   "execution_count": null,
   "metadata": {},
   "outputs": [],
   "source": [
    "Q) Write a Program to find Biggest of given 2 Numbers from the Commad Prompt?\n",
    "n1=int(input(\"Enter First Number:\"))\n",
    "n2=int(input(\"Enter Second Number:\"))\n",
    "if n1>n2:\n",
    "print(\"Biggest Number is:\",n1)\n",
    "else :\n",
    "print(\"Biggest Number is:\",n2)\n",
    "D:\\Python_classes>py test.py\n",
    "Enter First Number:10\n",
    "Enter Second Number:20\n",
    "Biggest Number is: 20"
   ]
  },
  {
   "cell_type": "code",
   "execution_count": null,
   "metadata": {},
   "outputs": [],
   "source": [
    "Q) Write a Program to find Biggest of given 3 Numbers from the Commad Prompt?\n",
    "n1=int(input(\"Enter First Number:\"))\n",
    "n2=int(input(\"Enter Second Number:\"))\n",
    "n3=int(input(\"Enter Third Number:\"))\n",
    "if n1>n2 and n1>n3:\n",
    "print(\"Biggest Number is:\",n1)\n",
    "elif n2>n3:\n",
    "print(\"Biggest Number is:\",n2)\n",
    "else :\n",
    "print(\"Biggest Number is:\",n3)\n",
    "==========================================================================================================\n",
    "\n",
    "D:\\Python_classes>py test.py\n",
    "Enter First Number:10\n",
    "Enter Second Number:20\n",
    "Enter Third Number:30\n",
    "Biggest Number is: 30\n",
    "D:\\Python_classes>py test.py\n",
    "Enter First Number:10\n",
    "Enter Second Number:30\n",
    "Enter Third Number:20\n",
    "Biggest Number is: 30\n",
    "Q) Write a program to find smallest of given 2 numbers?\n",
    "Q) Write a program to find smallest of given 3 numbers?\n",
    "Q) Write a program to check whether the given number is even or odd?"
   ]
  },
  {
   "cell_type": "code",
   "execution_count": null,
   "metadata": {},
   "outputs": [],
   "source": [
    "Q) Write a Program to Check whether the given Number is in\n",
    "between 1 and 100?\n",
    "1) n=int(input(\"Enter Number:\"))\n",
    "2) if n>=1 and n<=10 :\n",
    "3)\n",
    "print(\"The number\",n,\"is in between 1 to 10\")\n",
    "4) else:\n",
    "5)\n",
    "print(\"The number\",n,\"is not in between 1 to 10\")"
   ]
  },
  {
   "cell_type": "code",
   "execution_count": null,
   "metadata": {},
   "outputs": [],
   "source": [
    "Q) Write a Program to take a Single Digit Number from the Key\n",
    "Board and Print is Value in English Word?\n",
    "1) 0  ZERO\n",
    "2) 1  ONE\n",
    "3)\n",
    "4) n=int(input(\"Enter a digit from o to 9:\"))\n",
    "5) if n==0 :\n",
    "6)\n",
    "print(\"ZERO\")\n",
    "7) elif n==1:\n",
    "8)\n",
    "print(\"ONE\")\n",
    "9) elif n==2:\n",
    "10) print(\"TWO\")\n",
    "11) elif n==3:\n",
    "12) print(\"THREE\")\n",
    "13) elif n==4:\n",
    "14) print(\"FOUR\")\n",
    "15) elif n==5:\n",
    "16) print(\"FIVE\")\n",
    "17) elif n==6:\n",
    "18) print(\"SIX\")\n",
    "19) elif n==7:\n",
    "20) print(\"SEVEN\")\n",
    "21) elif n==8:\n",
    "22) print(\"EIGHT\")\n",
    "23) elif n==9:\n",
    "24) print(\"NINE\")\n",
    "25) else:\n",
    "26) print(\"PLEASE ENTER A DIGIT FROM 0 TO 9\")"
   ]
  }
 ],
 "metadata": {
  "kernelspec": {
   "display_name": "Python 3",
   "language": "python",
   "name": "python3"
  },
  "language_info": {
   "codemirror_mode": {
    "name": "ipython",
    "version": 3
   },
   "file_extension": ".py",
   "mimetype": "text/x-python",
   "name": "python",
   "nbconvert_exporter": "python",
   "pygments_lexer": "ipython3",
   "version": "3.7.6"
  }
 },
 "nbformat": 4,
 "nbformat_minor": 4
}
