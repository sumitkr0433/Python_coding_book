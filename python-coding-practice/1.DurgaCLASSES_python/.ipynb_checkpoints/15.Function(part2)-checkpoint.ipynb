{
 "cells": [
  {
   "cell_type": "markdown",
   "metadata": {},
   "source": [
    "# Function (Part2)"
   ]
  },
  {
   "cell_type": "markdown",
   "metadata": {},
   "source": [
    "# Anonymous Functions:\n",
    "    \n",
    "==================================================================    \n",
    "Sometimes we can declare a function without any name,such type of nameless\n",
    "functions are called anonymous functions or lambda functions.\n",
    "\n",
    "The main purpose of anonymous function is just for instant use(i.e for one time usage)\n",
    "Normal Function:\n",
    "\n",
    "We can define by using def keyword.\n",
    "\n",
    "def squareIt(n):\n",
    "  return n*n\n",
    "\n",
    "======================================================================================\n"
   ]
  },
  {
   "cell_type": "markdown",
   "metadata": {},
   "source": [
    "# Lambda Function:\n",
    "    \n",
    "We can define by using lambda keyword\n",
    "\n",
    "===============================================================\n",
    "lambda n:n*n\n",
    "Syntax of lambda Function: lambda argument_list : expression\n",
    "\n",
    "======================================================================================\n",
    "Note: By using Lambda Functions we can write very concise code so that readability of\n",
    "the program will be improved."
   ]
  },
  {
   "cell_type": "markdown",
   "metadata": {},
   "source": [
    "# Q) Write a Program to create a Lambda Function to find Square of given Number?\n",
    "\n",
    "===========================================================================================\n",
    "1) s=lambda n:n*n\n",
    "2) print(\"The Square of 4 is :\",s(4))\n",
    "3) print(\"The Square of 5 is :\",s(5))\n",
    "\n",
    "=========================================================================================\n",
    "Output\n",
    "The Square of 4 is : 16\n",
    "The Square of 5 is : 25"
   ]
  },
  {
   "cell_type": "markdown",
   "metadata": {},
   "source": [
    "# Q) Lambda Function to find Sum of 2 given Numbers\n",
    "\n",
    "1) s=lambda a,b:a+b\n",
    "2) print(\"The Sum of 10,20 is:\",s(10,20))\n",
    "3) print(\"The Sum of 100,200 is:\",s(100,200))\n",
    "\n",
    "===========================================================================================\n",
    "Output\n",
    "The Sum of 10,20 is: 30\n",
    "The Sum of 100,200 is: 300"
   ]
  },
  {
   "cell_type": "markdown",
   "metadata": {},
   "source": [
    "# Q) Lambda Function to find biggest of given Values\n",
    "\n",
    "================================================================\n",
    "1) s=lambda a,b:a if a>b else b\n",
    "2) print(\"The Biggest of 10,20 is:\",s(10,20))\n",
    "3) print(\"The Biggest of 100,200 is:\",s(100,200))\n",
    "Output\n",
    "The Biggest of 10,20 is: 20\n",
    "The Biggest of 100,200 is: 200"
   ]
  },
  {
   "cell_type": "code",
   "execution_count": null,
   "metadata": {},
   "outputs": [],
   "source": [
    "Note: \n",
    "    \n",
    "Lambda Function internally returns expression value and we are not required to\n",
    "write return statement explicitly.\n",
    "\n",
    "Note: Sometimes we can pass function as argument to another function. In such cases\n",
    "lambda functions are best choice.\n",
    "\n",
    "We can use lambda functions very commonly with filter(), map() and reduce() functions,\n",
    "because these functions expect function as argument."
   ]
  },
  {
   "cell_type": "markdown",
   "metadata": {},
   "source": [
    "# filter() Function:\n",
    "\n",
    "========================================================================================\n",
    "We can use filter() function to filter values from the given sequence based on some\n",
    "condition.\n",
    "\n",
    "filter(function,sequence)\n",
    "\n",
    "Where Function Argument is responsible to perform conditional check Sequence can be\n",
    "List OR Tuple OR String."
   ]
  },
  {
   "cell_type": "code",
   "execution_count": null,
   "metadata": {},
   "outputs": [],
   "source": [
    "Q) Program to filter only Even Numbers from the List by using\n",
    "filter() Function?\n",
    "\n",
    "Without Lambda Function:\n",
    "====================================================================\n",
    "def isEven(x):\n",
    "  if x%2==0:\n",
    "     return True\n",
    "  else:\n",
    "    return False\n",
    "\n",
    "l=[0,5,10,15,20,25,30]\n",
    "l1=list(filter(isEven,l))\n",
    "print(l1) #[0,10,20,30]"
   ]
  },
  {
   "cell_type": "code",
   "execution_count": null,
   "metadata": {},
   "outputs": [],
   "source": [
    "With Lambda Function:\n",
    "\n",
    "==========================================================================================\n",
    "l=[0,5,10,15,20,25,30]\n",
    "l1=list(filter(lambda x:x%2==0,l))\n",
    "print(l1) #[0,10,20,30]\n",
    "l2=list(filter(lambda x:x%2!=0,l))\n",
    "print(l2) #[5,15,25]"
   ]
  },
  {
   "cell_type": "code",
   "execution_count": null,
   "metadata": {},
   "outputs": [],
   "source": [
    "map() Function:\n",
    " For every element present in the given sequence,apply some functionality and generate \n",
    "new element with the required modification. For this requirement we should go for map() \n",
    "function.\n",
    "\n",
    "===========================\n",
    " Eg: For every element present in the list perform double and generate new list of\n",
    "doubles.\n",
    "\n",
    " Syntax: map(function, sequence)\n",
    "The function can be applied on each element of sequence and generates new\n",
    "sequence."
   ]
  },
  {
   "cell_type": "code",
   "execution_count": null,
   "metadata": {},
   "outputs": [],
   "source": [
    "Without Lambda\n",
    "\n",
    "l=[1,2,3,4,5]\n",
    "def doubleIt(x):\n",
    "  return 2*x\n",
    "l1=list(map(doubleIt,l))\n",
    "print(l1) #[2, 4, 6, 8, 10]\n",
    "\n",
    "======================================================================================\n",
    "With Lambda\n",
    "1) l=[1,2,3,4,5]\n",
    "2) l1=list(map(lambda x:2*x,l))\n",
    "3) print(l1) #[2, 4, 6, 8, 10]\n",
    "-------------------------------------------------------------\n",
    "Eg 2: To find square of given numbers\n",
    "1) l=[1,2,3,4,5]\n",
    "2) l1=list(map(lambda x:x*x,l))\n",
    "3) print(l1)\n",
    "#[1, 4, 9, 16, 25]\n",
    "We can apply map() function on multiple lists also.But make sure all list should have same\n",
    "length."
   ]
  },
  {
   "cell_type": "code",
   "execution_count": null,
   "metadata": {},
   "outputs": [],
   "source": [
    "Syntax: map(lambda x,y:x*y,l1,l2))\n",
    "x is from l1 and y is from l2\n",
    "1)\n",
    "2)\n",
    "3)\n",
    "4)\n",
    "l1=[1,2,3,4]\n",
    "l2=[2,3,4,5]\n",
    "l3=list(map(lambda x,y:x*y,l1,l2))\n",
    "print(l3)\n",
    "#[2, 6, 12, 20]"
   ]
  },
  {
   "cell_type": "code",
   "execution_count": null,
   "metadata": {},
   "outputs": [],
   "source": [
    "reduce() Function:\n",
    "    \n",
    "========================================================================================    \n",
    "reduce() function reduces sequence of elements into a single element by applying the\n",
    "specified function.\n",
    "\n",
    "===========================================================================\n",
    "reduce(function,sequence)\n",
    "reduce() function present in functools module and hence we should write import\n",
    "statement.\n",
    "\n",
    "==================\n",
    "from functools import *\n",
    "l=[10,20,30,40,50]\n",
    "result=reduce(lambda x,y:x+y,l)\n",
    "print(result) # 150"
   ]
  },
  {
   "cell_type": "code",
   "execution_count": null,
   "metadata": {},
   "outputs": [],
   "source": []
  },
  {
   "cell_type": "code",
   "execution_count": null,
   "metadata": {},
   "outputs": [],
   "source": [
    "Note:\n",
    "\n",
    "=======================================================================================\n",
    "In the above example only one function is available but we can call that function by\n",
    "using either wish name or greeting name.\n",
    "If we delete one name still we can access that function by using alias name.\n",
    "\n",
    "======================================================================================\n",
    "1)def wish(name):\n",
    "2)   print(\"Good Morning:\",name)\n",
    "3)\n",
    "4)greeting=wish\n",
    "5)\n",
    "6)greeting('Durga')\n",
    "7)wish('Durga')\n",
    "8)\n",
    "===================================================================================\n",
    "9) del wish\n",
    "10) #wish('Durga')  NameError: name 'wish' is not defined\n",
    "11) greeting('Pavan')\n",
    "\n",
    "===============================================================================\n",
    "Output:\n",
    "Good Morning: Durga\n",
    "Good Morning: Durga\n",
    "Good Morning: Pavan"
   ]
  },
  {
   "cell_type": "markdown",
   "metadata": {},
   "source": [
    "# Nested Functions:\n",
    "\n",
    "==============================================================\n",
    "We can declare a function inside another function,such type of functions are called Nested\n",
    "functions.\n",
    "\n",
    "\n",
    "1)def outer():\n",
    "2)  print(\"outer function started\")\n",
    "3)  def inner():\n",
    "4)    print(\"inner function execution\")\n",
    "5)    print(\"outer function calling inner function\")\n",
    "\n",
    "6)inner()\n",
    "7)outer()\n",
    "8) #inner()  NameError: name 'inner' is not defined\n",
    "\n",
    "\n",
    "Output:\n",
    "outer function started\n",
    "outer function calling inner function\n",
    "inner function execution\n",
    "In the above example inner() function is local to outer() function and hence it is not\n",
    "possible to call directly from outside of outer() function."
   ]
  },
  {
   "cell_type": "code",
   "execution_count": null,
   "metadata": {},
   "outputs": [],
   "source": [
    "1)def outer():\n",
    "2)   print(\"outer function started\")\n",
    "3)   def inner():\n",
    "4)      print(\"inner function execution\")\n",
    "5)      print(\"outer function returning inner function\")\n",
    "6)      return inner\n",
    "\n",
    "7) f1=outer()\n",
    "8) f1()\n",
    "9) f1()\n",
    "10) f1()\n",
    "\n",
    "\n",
    "Output:\n",
    "outer function started\n",
    "outer function returning inner function\n",
    "inner function execution\n",
    "inner function execution\n",
    "inner function execution\n",
    "\n",
    "=====================================================================================\n",
    "Q) What is the differenece between the following lines?\n",
    "f1 = outer\n",
    "f1 = outer()\n",
    "\n",
    "\n",
    "In the first case for the outer() function we are providing another name f1\n",
    "(function aliasing).\n",
    "But in the second case we calling outer() function,which returns inner function.For\n",
    "that inner function() we are providing another name f1\n",
    "Note: We can pass function as argument to another function\n",
    "Eg: filter(function,sequence)\n",
    "map(function,sequence)\n",
    "reduce(function,sequence)"
   ]
  },
  {
   "cell_type": "code",
   "execution_count": null,
   "metadata": {},
   "outputs": [],
   "source": [
    "End"
   ]
  }
 ],
 "metadata": {
  "kernelspec": {
   "display_name": "Python 3",
   "language": "python",
   "name": "python3"
  },
  "language_info": {
   "codemirror_mode": {
    "name": "ipython",
    "version": 3
   },
   "file_extension": ".py",
   "mimetype": "text/x-python",
   "name": "python",
   "nbconvert_exporter": "python",
   "pygments_lexer": "ipython3",
   "version": "3.7.6"
  }
 },
 "nbformat": 4,
 "nbformat_minor": 4
}
