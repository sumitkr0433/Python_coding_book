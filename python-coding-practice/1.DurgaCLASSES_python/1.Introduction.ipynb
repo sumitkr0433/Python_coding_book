{
 "cells": [
  {
   "cell_type": "markdown",
   "metadata": {},
   "source": [
    "# 1. Introduction"
   ]
  },
  {
   "cell_type": "code",
   "execution_count": null,
   "metadata": {},
   "outputs": [],
   "source": [
    " Python is a general purpose high level programming language.\n",
    " Python was developed by Guido Van Rossam in 1989 while working at National Research Institute at Netherlands.\n",
    " But officially Python was made available to public in 1991. The official Date of Birth for Python is : Feb 20th \n",
    "1991.\n",
    " Python is recommended as first programming language for beginners."
   ]
  },
  {
   "cell_type": "code",
   "execution_count": null,
   "metadata": {},
   "outputs": [],
   "source": [
    "Eg1: To print Helloworld\n",
    "++++++++++++++++++++++++++++++++++++++++++++++++++++++++++++++++++++++++++++++++++++++++++++++++++++++++++++++++++\n",
    "==================================================================================================================\n",
    "Java: \n",
    "    1) public class HelloWorld \n",
    "    2) { \n",
    "    3)        p s v main(String[] args) \n",
    "    4) { \n",
    "    5)        SOP(\"Hello world\"); \n",
    "    6)   } \n",
    "    7) }\n",
    "+++++++++++++++++++++++++++++++++++++++++++++++++++++++++++++++++++++++++++++++++++++++++++++++++++++++++++++++++\n",
    "================================================================================================================\n",
    "C: \n",
    "    1) #include<stdio.h> \n",
    "    2) void main() \n",
    "    3) { \n",
    "    4)       print(\"Hello world\"); \n",
    "    5) }\n",
    "=================================================================================================================\n",
    "Python: \n",
    "    print(\"Hello World\")\n",
    "=================================================================================================================\n",
    "Eg2: To print the sum of 2 numbers\n",
    " \n",
    "Java: \n",
    "    1) public class Add \n",
    "    2) { \n",
    "    3)      public static void main(String[] args) \n",
    "    4) { \n",
    "    5)       int a,b;\n",
    "    6)       a =10; \n",
    "    7)       b=20; \n",
    "    8)       System.out.println(\"The Sum:\"+(a+b)); \n",
    "    9) }  \n",
    "    10) }\n",
    "==================================================================================================================    \n",
    "C: \n",
    "    1) #include <stdio.h> \n",
    "    2) \n",
    "    3) void main() \n",
    "    4) { \n",
    "    5)      int a,b; \n",
    "    6)      a =10; \n",
    "    7)      b=20; \n",
    "    8)      printf(\"The Sum:%d\",(a+b));\n",
    "    9)}\n",
    "    \n",
    "================================================================================================================\n",
    "Python\n",
    "1) a=10 \n",
    "2) b=20 \n",
    "3) print(\"The Sum:\",(a+b))"
   ]
  },
  {
   "cell_type": "code",
   "execution_count": 1,
   "metadata": {},
   "outputs": [
    {
     "name": "stdout",
     "output_type": "stream",
     "text": [
      "The Sum: 30\n"
     ]
    }
   ],
   "source": [
    "#Python\n",
    "a=10 \n",
    "b=20 \n",
    "print(\"The Sum:\",(a+b))"
   ]
  },
  {
   "cell_type": "code",
   "execution_count": 1,
   "metadata": {},
   "outputs": [
    {
     "name": "stdout",
     "output_type": "stream",
     "text": [
      "Hello World\n"
     ]
    }
   ],
   "source": [
    "print(\"Hello World\")\n"
   ]
  },
  {
   "cell_type": "code",
   "execution_count": 2,
   "metadata": {},
   "outputs": [
    {
     "name": "stdout",
     "output_type": "stream",
     "text": [
      "Hello World\n"
     ]
    }
   ],
   "source": [
    "#Python: \n",
    "print(\"Hello World\")"
   ]
  },
  {
   "cell_type": "markdown",
   "metadata": {},
   "source": [
    "# 2.Origin of Python\n",
    "The name Python was selected from the TV Show \n",
    "\"The Complete Monty Python's Circus\", which was broadcasted in BBC from 1969 to 1974.\n",
    "\n",
    "====================================================================================================================================================================================================================================\n",
    "1. Functional Programming Features from C \n",
    "2. Object Oriented Programming Features from C++ \n",
    "3. Scripting Language Features from Perl and Shell Script \n",
    "4. Modular Programming Features from Modula-3\n",
    "\n",
    "++++++++++++++++++++++++++++++++++++++++++++++++++++++++++++++++++++++++++++++++++++++++++++++++++++++++++++++\n",
    "Most of syntax in Python Derived from C and ABC languages."
   ]
  },
  {
   "cell_type": "markdown",
   "metadata": {},
   "source": [
    "# 3.Where we can use Python:\n",
    "We can use everywhere. The most common important application areas are\n",
    "1) For developing Desktop Applications \n",
    "2) For developing web Applications \n",
    "3) For developing database Applications \n",
    "4) For Network Programming\n",
    "5) For developing games \n",
    "6) For Data Analysis Applications \n",
    "7) For Machine Learning \n",
    "8) For developing Artificial Intelligence Applications \n",
    "9) For IoT ...\n",
    "\n",
    "Note: \n",
    " Internally Google and Youtube use Python coding. \n",
    " NASA and Nework Stock Exchange Applications developed by Python. \n",
    " Top Software companies like Google, Microsoft, IBM, Yahoo using Python."
   ]
  },
  {
   "cell_type": "markdown",
   "metadata": {},
   "source": [
    "# 4.Features of Python:\n",
    "1) Simple and easy to learn: \n",
    " Python is a simple programming language. When we read Python program,we can feel like reading english statements.\n",
    " The syntaxes are very simple and only 30+ kerywords are available.\n",
    " When compared with other languages, we can write programs with very less number of lines. Hence more readability and simplicity.\n",
    " We can reduce development and cost of the project.\n",
    "\n",
    "===============================================================================================================================\n",
    "2) Freeware and Open Source: \n",
    " We can use Python software without any licence and it is freeware. \n",
    " Its source code is open,so that we can we can customize based on our requirement. \n",
    " Eg: Jython is customized version of Python to work with Java Applications.\n",
    "\n",
    "===============================================================================================================================\n",
    "3) High Level Programming language: \n",
    " Python is high level programming language and hence it is programmer friendly language. \n",
    " Being a programmer we are not required to concentrate low level activities like memory management and security etc.\n",
    "\n",
    "===============================================================================================================================\n",
    "4) Platform Independent: \n",
    " Once we write a Python program,it can run on any platform without rewriting once again. \n",
    " Internally PVM is responsible to convert into machine understandable form.\n",
    "\n",
    "===============================================================================================================================\n",
    "5) Portability: \n",
    "Python programs are portable. ie we can migrate from one platform to another platform very easily. \n",
    "Python programs will provide same results on any paltform.\n",
    "\n",
    "===============================================================================================================================\n",
    "6) Dynamically Typed: \n",
    " In Python we are not required to declare type for variables. Whenever we are assigning the value, based on value, type will be allocated automatically.Hence Python is considered as dynamically typed language. \n",
    " But Java, C etc are Statically Typed Languages b'z we have to provide type at the beginning only. \n",
    " This dynamic typing nature will provide more flexibility to the programmer\n",
    "\n",
    "=============================================================================================================================\n",
    "7) Both Procedure Oriented and Object Oriented: \n",
    "Python language supports both Procedure oriented (like C, pascal etc) and object oriented (like C++, Java) features. Hence we can get benefits of both like security and reusability etc\n",
    "\n",
    "==============================================================================================================================\n",
    "8) Interpreted: \n",
    " We are not required to compile Python programs explcitly. Internally Python interpreter will take care that compilation. \n",
    " If compilation fails interpreter raised syntax errors. Once compilation success then PVM (Python Virtual Machine) is responsible to execute.\n",
    "\n",
    "===============================================================================================================================\n",
    "9) Extensible: \n",
    " We can use other language programs in Python. \n",
    " The main advantages of this approach are:\n",
    "         We can use already existing legacy non-Python code \n",
    "         We can improve performance of the application\n",
    "\n",
    "===============================================================================================================================\n",
    "10) Embedded: \n",
    "We can use Python programs in any other language programs. i.e we can embedd Python programs anywhere.\n",
    "\n",
    "=============================================================================================================================\n",
    "11) Extensive Library: \n",
    " Python has a rich inbuilt library. \n",
    " Being a programmer we can use this library directly and we are not responsible to implement the functionality. Etc."
   ]
  },
  {
   "cell_type": "markdown",
   "metadata": {},
   "source": [
    "# 5.Limitations of Python:\n",
    "1) Performance wise not up to the mark because it is interpreted language. \n",
    "2) Not using for mobile Applications."
   ]
  },
  {
   "cell_type": "markdown",
   "metadata": {},
   "source": [
    "# 6.Flavors of Python:\n",
    "1) CPython: It is the standard flavor of Python. It can be used to work with C lanugage Applications.\n",
    "2) Jython OR JPython: It is for Java Applications. It can run on JVM\n",
    "3) IronPython: It is for C#.Net platform\n",
    "4) PyPy: The main advantage of PyPy is performance will be improved because JIT compiler is available inside PVM.\n",
    "5) RubyPython For Ruby Platforms\n",
    "6) AnacondaPython It is specially designed for handling large volume of data processing."
   ]
  },
  {
   "cell_type": "markdown",
   "metadata": {},
   "source": [
    "# 7.Python Versions:\n",
    " Python 1.0V introduced in Jan 1994 \n",
    " Python 2.0V introduced in October 2000 \n",
    " Python 3.0V introduced in December 2008\n",
    "\n",
    "Note: Python 3 won't provide backward compatibility to Python2 i.e there is no guarantee that Python2 programs will run in Python3."
   ]
  },
  {
   "cell_type": "markdown",
   "metadata": {},
   "source": [
    "# 8.Current versions\n",
    "Python 3.6.1 Python 2.7.13"
   ]
  }
 ],
 "metadata": {
  "kernelspec": {
   "display_name": "Python 3",
   "language": "python",
   "name": "python3"
  },
  "language_info": {
   "codemirror_mode": {
    "name": "ipython",
    "version": 3
   },
   "file_extension": ".py",
   "mimetype": "text/x-python",
   "name": "python",
   "nbconvert_exporter": "python",
   "pygments_lexer": "ipython3",
   "version": "3.7.6"
  }
 },
 "nbformat": 4,
 "nbformat_minor": 4
}
