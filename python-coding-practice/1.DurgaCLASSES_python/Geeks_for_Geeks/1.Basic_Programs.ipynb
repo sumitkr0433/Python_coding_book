{
 "cells": [
  {
   "cell_type": "code",
   "execution_count": null,
   "metadata": {},
   "outputs": [],
   "source": [
    "1..Python program to add two numbers"
   ]
  },
  {
   "cell_type": "code",
   "execution_count": 3,
   "metadata": {},
   "outputs": [
    {
     "name": "stdout",
     "output_type": "stream",
     "text": [
      "Sum of 15 and 12 is 27\n"
     ]
    }
   ],
   "source": [
    "##First Method:----\n",
    "#################################\n",
    "# Python3 program to add two numbers \n",
    "  \n",
    "##Creating the two varibale \n",
    "num1 = 15\n",
    "num2 = 12\n",
    "  \n",
    "#then we adding the value which we store in the two varible and store in the ne varible having sum\n",
    "# Adding two nos \n",
    "sum = num1 + num2 \n",
    "\n",
    "  \n",
    "#Here we are using the formateed value\n",
    "# printing values (15,12,27)\n",
    "print(\"Sum of {0} and {1} is {2}\" .format(num1, num2, sum))  \n",
    "\n",
    "##{} {} {}.format()\n",
    "##{0}{2}{1}.format"
   ]
  },
  {
   "cell_type": "code",
   "execution_count": null,
   "metadata": {},
   "outputs": [],
   "source": [
    "Example 2: Adding two number provided by user input\n",
    "\n",
    "filter_none\n",
    "edit\n",
    "play_arrow\n",
    "\n",
    "brightness_4\n",
    "# Python3 program to add two numbers \n",
    "  \n",
    "number1 = input(\"First number: \") \n",
    "number2 = input(\"\\nSecond number: \") \n",
    "  \n",
    "# Adding two numbers \n",
    "# User might also enter float numbers \n",
    "sum = float(number1) + float(number2) \n",
    "  \n",
    "# Display the sum \n",
    "# will print value in float \n",
    "print(\"The sum of {0} and {1} is {2}\" .format(number1, number2, sum)) "
   ]
  },
  {
   "cell_type": "code",
   "execution_count": null,
   "metadata": {},
   "outputs": [],
   "source": []
  },
  {
   "cell_type": "code",
   "execution_count": null,
   "metadata": {},
   "outputs": [],
   "source": [
    "2...Maximum of two numbers in Python"
   ]
  },
  {
   "cell_type": "code",
   "execution_count": null,
   "metadata": {},
   "outputs": [],
   "source": [
    "Method #1: This is the naive approach where we will compare tow numbers using if-else statement and will print the \n",
    "output accordingly.\n",
    "###############################################################################################################\n",
    "######Example:\n",
    "# Python program to find the \n",
    "# maximum of two numbers \n",
    "  \n",
    "##Function Creation\n",
    "def maximum(a, b): \n",
    "      \n",
    "    if a >= b: \n",
    "        return a \n",
    "    else: \n",
    "        return b \n",
    "###########################################   \n",
    "# Driver code \n",
    "a = 2\n",
    "b = 4\n",
    "print(maximum(a, b)) "
   ]
  },
  {
   "cell_type": "code",
   "execution_count": 5,
   "metadata": {},
   "outputs": [
    {
     "name": "stdout",
     "output_type": "stream",
     "text": [
      "4\n"
     ]
    }
   ],
   "source": [
    "#Method #2: Using max() function\n",
    "##############################################################################################\n",
    "#This function is used to find the maximum of the values passed as its arguments.\n",
    "\n",
    "# Python program to find the \n",
    "# maximum of two numbers \n",
    "################################################### \n",
    "a = 2\n",
    "b = 4\n",
    "  \n",
    "maximum = max(a, b) \n",
    "print(maximum) "
   ]
  },
  {
   "cell_type": "code",
   "execution_count": null,
   "metadata": {},
   "outputs": [],
   "source": [
    "#################################################################################################################"
   ]
  },
  {
   "cell_type": "code",
   "execution_count": null,
   "metadata": {},
   "outputs": [],
   "source": [
    "3....Python Program for factorial of a number"
   ]
  },
  {
   "cell_type": "code",
   "execution_count": null,
   "metadata": {},
   "outputs": [],
   "source": [
    "# Python 3 program to find  \n",
    "# factorial of given number \n",
    "def factorial(n): \n",
    "      \n",
    "    # single line to find factorial \n",
    "    return 1 if (n==1 or n==0) else n * factorial(n - 1);  \n",
    "  \n",
    "# Driver Code \n",
    "num = 5; \n",
    "print(\"Factorial of\",num,\"is\", \n",
    "factorial(num)) \n",
    "  \n",
    "# This code is contributed by Smitha Dinesh Semwal "
   ]
  },
  {
   "cell_type": "code",
   "execution_count": null,
   "metadata": {},
   "outputs": [],
   "source": [
    "# Python 3 program to find   \n",
    "# factorial of given number \n",
    "def factorial(n): \n",
    "    if n < 0: \n",
    "        return 0\n",
    "    elif n == 0 or n == 1: \n",
    "        return 1\n",
    "    else: \n",
    "        fact = 1\n",
    "        while(n > 1):\n",
    "            #fact=fact*n\n",
    "            fact *= n \n",
    "            #n=n-1\n",
    "            n -= 1\n",
    "        return fact \n",
    "  \n",
    "# Driver Code \n",
    "num = 5; \n",
    "print(\"Factorial of\",num,\"is\", \n",
    "factorial(num))"
   ]
  },
  {
   "cell_type": "code",
   "execution_count": null,
   "metadata": {},
   "outputs": [],
   "source": [
    "# Python 3 program to find \n",
    "# factorial of given number \n",
    "  \n",
    "def factorial(n): \n",
    "  \n",
    "    # single line to find factorial \n",
    "    return 1 if (n==1 or n==0) else n * factorial(n - 1)  \n",
    "  \n",
    "  \n",
    "# Driver Code \n",
    "num = 5\n",
    "print (\"Factorial of\",num,\"is\", \n",
    "factorial(num)) "
   ]
  },
  {
   "cell_type": "code",
   "execution_count": null,
   "metadata": {},
   "outputs": [],
   "source": [
    "#############################################"
   ]
  },
  {
   "cell_type": "code",
   "execution_count": null,
   "metadata": {},
   "outputs": [],
   "source": [
    "5....Python Program for simple interest"
   ]
  },
  {
   "cell_type": "code",
   "execution_count": null,
   "metadata": {},
   "outputs": [],
   "source": [
    "# Python3 program to find simple interest \n",
    "# for given principal amount, time and \n",
    "# rate of interest. \n",
    "  \n",
    "#Defining Function to calculate of the simple interest  \n",
    "def simple_interest(p,t,r): \n",
    "    print('The principal is', p) \n",
    "    print('The time period is', t) \n",
    "    print('The rate of interest is',r) \n",
    "      \n",
    "    #Using the Formula to caluculat the si    \n",
    "    si = (p * t * r)/100\n",
    "      \n",
    "    print('The Simple Interest is', si) \n",
    "    #Here we are returing the simple interest\n",
    "    return si \n",
    "      \n",
    "# Driver code \n",
    "simple_interest(8, 6, 8) "
   ]
  },
  {
   "cell_type": "code",
   "execution_count": null,
   "metadata": {},
   "outputs": [],
   "source": [
    "#################################################################################################################"
   ]
  },
  {
   "cell_type": "code",
   "execution_count": null,
   "metadata": {},
   "outputs": [],
   "source": [
    "6....Python Program for compound interest"
   ]
  },
  {
   "cell_type": "code",
   "execution_count": null,
   "metadata": {},
   "outputs": [],
   "source": [
    "# Python3 program to find compound \n",
    "# interest for given values. \n",
    "  \n",
    "def compound_interest(principle, rate, time): \n",
    "  \n",
    "    # Calculates compound interest \n",
    "    formula for calucation of ci first we have to calculate the Amount by the formula p*(1+r/100)to the power of time \n",
    "    Amount = principle * (pow((1 + rate / 100), time)) \n",
    "    CI = Amount - principle \n",
    "    print(\"Compound interest is\", CI) \n",
    "  \n",
    "# Driver Code  \n",
    "compound_interest(10000, 10.25, 5) \n",
    "  "
   ]
  },
  {
   "cell_type": "code",
   "execution_count": null,
   "metadata": {},
   "outputs": [],
   "source": [
    "############################################################################################################3"
   ]
  },
  {
   "cell_type": "code",
   "execution_count": null,
   "metadata": {},
   "outputs": [],
   "source": [
    "7....Python Program to check Armstrong Number"
   ]
  },
  {
   "cell_type": "code",
   "execution_count": null,
   "metadata": {},
   "outputs": [],
   "source": [
    "##Given a number x, determine whether the given number is Armstrong number or not. A positive integer of n digits \n",
    "#is called an Armstrong number of order n (order is number of digits) if.\n",
    "\n",
    "#where n is the number of the digit of which number is composed of \n",
    "\n",
    "#pow(a,n)===  a= base n= numer of the digit of which \n",
    "#abcd... = pow(a,n) + pow(b,n) + pow(c,n) + pow(d,n) + ....\n",
    "\n",
    "#Armstrong is said to that number if by individual adding the number with multiply the digit with no of time \n",
    "#after doing this if we get the same number then we can say that it is armstrong number\n",
    "#############################################################################################################\n",
    "Input : 153\n",
    "Output : Yes\n",
    "153 is an Armstrong number.\n",
    "1*1*1 + 5*5*5 + 3*3*3 = 153\n",
    "\n",
    "Input : 120\n",
    "Output : No\n",
    "120 is not a Armstrong number.\n",
    "1*1*1 + 2*2*2 + 0*0*0 = 9\n",
    "\n",
    "Input : 1253\n",
    "Output : No\n",
    "1253 is not a Armstrong Number\n",
    "1*1*1*1 + 2*2*2*2 + 5*5*5*5 + 3*3*3*3 = 723\n",
    "\n",
    "Input : 1634\n",
    "Output : Yes\n",
    "1*1*1*1 + 6*6*6*6 + 3*3*3*3 + 4*4*4*4 = 1634\n"
   ]
  },
  {
   "cell_type": "code",
   "execution_count": 11,
   "metadata": {},
   "outputs": [
    {
     "name": "stdout",
     "output_type": "stream",
     "text": [
      "2\n"
     ]
    }
   ],
   "source": [
    "a=5\n",
    "b=2\n",
    "print(\"When we are using the 5//2)"
   ]
  },
  {
   "cell_type": "code",
   "execution_count": 10,
   "metadata": {},
   "outputs": [
    {
     "data": {
      "text/plain": [
       "243"
      ]
     },
     "execution_count": 10,
     "metadata": {},
     "output_type": "execute_result"
    }
   ],
   "source": [
    "# Python program to determine whether the number is Armstrong number or not \n",
    "# Function to calculate x raised to the power y \n",
    "##############################################################################################################\n",
    "def power(x, y): \n",
    "    \n",
    "    ##base case we are defining \n",
    "    if y == 0: \n",
    "        return 1\n",
    "    if y % 2 == 0:\n",
    "        \n",
    "        #Here we are doing the testing and one thing we are calling the same function inside the same function \n",
    "        a=power(x, y // 2)\n",
    "        b=power(x, y // 2) * power(x, y // 2)\n",
    "        \n",
    "        #print(\"this is the value while we calculating the\",a,\"the second is\",b)\n",
    "        \n",
    "        return power(x, y // 2) * power(x, y // 2) \n",
    "####################################################################################################     \n",
    "    #otherwise in the case if it is odd number then we use the formula\n",
    "    ##// this the operator in the python which give\n",
    "    #return 3 * power(3, 5//2)\n",
    "    #print(\"to check the 5//2)\n",
    "    power(3,5)==3*power(3,5//2)*power(3,5//2)\n",
    "              ==3*power(3,2)*power(3,2)\n",
    "        #in this case y%2==0(2%2==0)\n",
    "              ==3*power(3,1)*power(3,1)\n",
    "              ==3*3*power(3,1//2)*power(3,1//2)\n",
    "              ==3*3*power(3,0)*power(3,0)\n",
    "    return x * power(x, y // 2) * power(x, y // 2) \n",
    "\n",
    "#For the testing purpose we call the power function\n",
    "power(3,5)\n",
    "##in the case we are giving the even number\n",
    "#power(3,4)\n",
    "\n",
    "\n",
    "# ###\n",
    "# # Function to calculate order of the number \n",
    "# def order(x): \n",
    "  \n",
    "#     # Variable to store of the number \n",
    "#     n = 0\n",
    "#     while (x != 0): \n",
    "#         n = n + 1\n",
    "#         x = x // 10\n",
    "          \n",
    "#     return n "
   ]
  },
  {
   "cell_type": "code",
   "execution_count": 1,
   "metadata": {},
   "outputs": [
    {
     "name": "stdout",
     "output_type": "stream",
     "text": [
      "Area is 78.550000\n"
     ]
    }
   ],
   "source": [
    "#8...Python Program for Program to find area of a circle\n",
    "#######################################################################################3\n",
    "# Python program to find Area of a circle \n",
    "  \n",
    "def findArea(r): \n",
    "    PI = 3.142\n",
    "    return PI * (r*r); \n",
    "  \n",
    "# Driver method \n",
    "print(\"Area is %.6f\" % findArea(5)); \n",
    "  \n",
    "# This code is contributed by Chinmoy Lenka"
   ]
  },
  {
   "cell_type": "code",
   "execution_count": null,
   "metadata": {},
   "outputs": [],
   "source": [
    "##########################################################################################################"
   ]
  },
  {
   "cell_type": "code",
   "execution_count": null,
   "metadata": {},
   "outputs": [],
   "source": [
    "9...Python program to print all Prime numbers in an Interval\n",
    "################################################################################################################\n",
    "# Python program to print all  \n",
    "# prime number in an interval \n",
    "# number should be greater than 1 \n",
    "start = 11\n",
    "end = 25\n",
    "  \n",
    "for i in range(start, end+1): \n",
    "  if i>1: \n",
    "    for j in range(2,i): \n",
    "        if(i % j==0): \n",
    "            break\n",
    "    else: \n",
    "        print(i) "
   ]
  },
  {
   "cell_type": "code",
   "execution_count": null,
   "metadata": {},
   "outputs": [],
   "source": [
    "10...Python program to check whether a number is Prime or not\n",
    "Difficulty Level : Easy\n",
    "###############################################################################################################\n",
    "# Python program to check if\n",
    "# given number is prime or not\n",
    " \n",
    "num = 11\n",
    " \n",
    "# If given number is greater than 1\n",
    "if num > 1:\n",
    " \n",
    "    # Iterate from 2 to n / 2\n",
    "    for i in range(2, num):\n",
    " \n",
    "        # If num is divisible by any number between\n",
    "        # 2 and n / 2, it is not prime\n",
    "        if (num % i) == 0:\n",
    "            print(num, \"is not a prime number\")\n",
    "            break\n",
    "        else:\n",
    "            print(num, \"is a prime number\")\n",
    " \n",
    "else:\n",
    "    print(num, \"is not a prime number\")"
   ]
  },
  {
   "cell_type": "code",
   "execution_count": null,
   "metadata": {},
   "outputs": [],
   "source": [
    "################################################################################################################3"
   ]
  },
  {
   "cell_type": "code",
   "execution_count": null,
   "metadata": {},
   "outputs": [],
   "source": [
    "2nd Method\n",
    "#######################\n",
    "Optimized Method \n",
    "We can do the following optimizations: \n",
    "################################################################################################################\n",
    "Instead of checking till n, we can check till √n because a larger factor of n must be a multiple of a smaller \n",
    "factor that has been already checked.The algorithm can be improved further by observing that all primes are of the \n",
    "form 6k ± 1, with the exception of 2 and 3. This is because all integers can be expressed as (6k + i) for some \n",
    "integer k and for i = ?1, 0, 1, 2, 3, or 4; 2 divides (6k + 0), (6k + 2), (6k + 4); and 3 divides (6k + 3). \n",
    "So a more efficient method is to test if n is divisible by 2 or 3, then to check through all the numbers of form \n",
    "6k ± 1. "
   ]
  },
  {
   "cell_type": "code",
   "execution_count": null,
   "metadata": {},
   "outputs": [],
   "source": [
    "# A optimized school method based \n",
    "# Python3 program to check \n",
    "# if a number is prime \n",
    " \n",
    " \n",
    "def isPrime(n) : \n",
    " \n",
    "    # Corner cases \n",
    "    if (n <= 1) : \n",
    "        return False\n",
    "    if (n <= 3) : \n",
    "        return True\n",
    " \n",
    "    # This is checked so that we can skip \n",
    "    # middle five numbers in below loop \n",
    "    if (n % 2 == 0 or n % 3 == 0) : \n",
    "        return False\n",
    " \n",
    "    i = 5\n",
    "    while(i * i <= n) : \n",
    "        if (n % i == 0 or n % (i + 2) == 0) : \n",
    "            return False\n",
    "        i = i + 6\n",
    " \n",
    "    return True\n",
    " \n",
    " \n",
    "# Driver Program \n",
    "if (isPrime(11)) : \n",
    "    print(\" true\") \n",
    "else : \n",
    "    print(\" false\") \n",
    "     \n",
    "if(isPrime(15)) : \n",
    "    print(\" true\") \n",
    "else : \n",
    "    print(\" false\") \n",
    "     "
   ]
  },
  {
   "cell_type": "code",
   "execution_count": null,
   "metadata": {},
   "outputs": [],
   "source": [
    "11...\n",
    "Python Program for n-th Fibonacci number\n",
    "Difficulty Level : Easy\n",
    " Last Updated : 09 Nov, 2020\n",
    "In mathematical terms, the sequence Fn of Fibonacci numbers is defined by the recurrence relation \n",
    "\n",
    "Fn = Fn-1 + Fn-2\n",
    "With seed values \n",
    " \n",
    "\n",
    "F0 = 0 and F1 = 1.\n",
    "\n",
    "Method 1 ( Use recursion ) :\n",
    "###################################################################################\n",
    "[0, 1, 1, 2, 3, 5, 8, 13, 21, 34, 55, 89, 144]\n",
    "As we know that the Fibonacci series is the sum of the previous two terms, so if we enter 12 as the input in the program, so we should get 144 as the output. And that is what is the result. "
   ]
  },
  {
   "cell_type": "code",
   "execution_count": null,
   "metadata": {},
   "outputs": [],
   "source": []
  },
  {
   "cell_type": "code",
   "execution_count": 2,
   "metadata": {},
   "outputs": [
    {
     "name": "stdout",
     "output_type": "stream",
     "text": [
      "1\n"
     ]
    }
   ],
   "source": [
    "# Function for nth Fibonacci number \n",
    "  \n",
    "def Fibonacci(n): \n",
    "    if n<0: \n",
    "        print(\"Incorrect input\") \n",
    "    # First Fibonacci number is 0 \n",
    "    elif n==1: \n",
    "        return 0\n",
    "    # Second Fibonacci number is 1 \n",
    "    elif n==2: \n",
    "        return 1\n",
    "    else: \n",
    "        return Fibonacci(n-1)+Fibonacci(n-2) \n",
    "  \n",
    "# Driver Program \n",
    "  \n",
    "print(Fibonacci(2)) \n",
    "  \n",
    "#This code is contributed by Saket Modi "
   ]
  },
  {
   "cell_type": "code",
   "execution_count": null,
   "metadata": {},
   "outputs": [],
   "source": []
  },
  {
   "cell_type": "code",
   "execution_count": null,
   "metadata": {},
   "outputs": [],
   "source": [
    "# Function for nth fibonacci number - Dynamic Programing \n",
    "# Taking 1st two fibonacci nubers as 0 and 1 \n",
    "  \n",
    "FibArray = [0,1] \n",
    "  \n",
    "def fibonacci(n): \n",
    "    if n<0: \n",
    "        print(\"Incorrect input\") \n",
    "    elif n<=len(FibArray): \n",
    "        return FibArray[n-1] \n",
    "    else: \n",
    "        temp_fib = fibonacci(n-1)+fibonacci(n-2) \n",
    "        FibArray.append(temp_fib) \n",
    "        return temp_fib \n",
    "  \n",
    "# Driver Program \n",
    "  \n",
    "print(fibonacci(9)) \n",
    "  \n",
    "#This code is contributed by Saket Modi "
   ]
  },
  {
   "cell_type": "code",
   "execution_count": null,
   "metadata": {},
   "outputs": [],
   "source": [
    "###Method 3 ( Use Dynamic Programming with Space Optimization) : \n",
    "# Function for nth fibonacci number - Space Optimisataion \n",
    "# Taking 1st two fibonacci numbers as 0 and 1 \n",
    "  \n",
    "def fibonacci(n): \n",
    "    a = 0\n",
    "    b = 1\n",
    "    if n < 0: \n",
    "        print(\"Incorrect input\") \n",
    "    elif n == 0: \n",
    "        return a \n",
    "    elif n == 1: \n",
    "        return b \n",
    "    else: \n",
    "        for i in range(2,n): \n",
    "            c = a + b \n",
    "            a = b \n",
    "            b = c \n",
    "        return b \n",
    "  \n",
    "# Driver Program \n",
    "  \n",
    "print(fibonacci(9)) "
   ]
  },
  {
   "cell_type": "code",
   "execution_count": null,
   "metadata": {},
   "outputs": [],
   "source": []
  },
  {
   "cell_type": "code",
   "execution_count": null,
   "metadata": {},
   "outputs": [],
   "source": [
    "Method 4 ( Using Arrays ) : \n",
    "\n",
    "filter_none\n",
    "edit\n",
    "play_arrow\n",
    "\n",
    "brightness_4\n",
    "#creating an array in the function to find the nth number in fibonacci series. [0,1,1,...] \n",
    "  \n",
    "def fibonacci (n): \n",
    "  \n",
    "   arr = [0] * (n+1) \n",
    "  \n",
    "   arr[1] = 1\n",
    "  \n",
    "   for i in range (2,n+1): \n",
    "  \n",
    "       arr[i] = arr[i-1] + arr[i-2] \n",
    "  \n",
    "   return arr[n] \n",
    "  \n",
    "#Driver Program \n",
    "  \n",
    "if __name__ == \"__main__\": \n",
    "  \n",
    "   print(fibonacci (int (input (\"Enter the term :\" ) ) ) ) #lets assume the input as 12 \n",
    "  \n",
    "# This Code is contributed by Prasun Parate (prasun_parate)"
   ]
  },
  {
   "cell_type": "code",
   "execution_count": null,
   "metadata": {},
   "outputs": [],
   "source": [
    "Python Program for How to check if a given number is Fibonacci number?\n",
    "Difficulty Level : Easy\n",
    "Given a number \\’n\\’, how to check if n is a Fibonacci number. First few Fibonacci numbers are \n",
    "0, 1, 1, 2, 3, 5, 8, 13, 21, 34, 55, 89, 141, ..\n",
    "#################################################################################################################\n",
    "Examples :\n",
    "\n",
    "Input : 8\n",
    "Output : Yes\n",
    "\n",
    "Input : 34\n",
    "Output : Yes\n",
    "\n",
    "Input : 41\n",
    "Output : No\n",
    "Following is an interesting property about Fibonacci numbers that can also be used to check if a given number is \n",
    "Fibonacci or not.A number is Fibonacci if and only if one or both of (5*n2 + 4) or (5*n2 – 4) is a perfect square \n",
    "(Source: Wiki)."
   ]
  },
  {
   "cell_type": "code",
   "execution_count": null,
   "metadata": {},
   "outputs": [],
   "source": [
    "# python program to check if x is a perfect square \n",
    "import math \n",
    "  \n",
    "# A utility function that returns true if x is perfect square \n",
    "def isPerfectSquare(x): \n",
    "    s = int(math.sqrt(x)) \n",
    "    return s*s == x \n",
    "  \n",
    "# Returns true if n is a Fibinacci Number, else false \n",
    "def isFibonacci(n): \n",
    "  \n",
    "    # n is Fibinacci if one of 5*n*n + 4 or 5*n*n - 4 or both \n",
    "    # is a perferct square \n",
    "    return isPerfectSquare(5*n*n + 4) or isPerfectSquare(5*n*n - 4) \n",
    "     \n",
    "# A utility function to test above functions \n",
    "for i in range(1,11): \n",
    "     if (isFibonacci(i) == True): \n",
    "         print i,\"is a Fibonacci Number\"\n",
    "     else: \n",
    "         print i,\"is a not Fibonacci Number \""
   ]
  },
  {
   "cell_type": "code",
   "execution_count": null,
   "metadata": {},
   "outputs": [],
   "source": [
    "###\n",
    "Python Program for n\\’th multiple of a number in Fibonacci Series\n",
    "Difficulty Level : Easy\n",
    " Last Updated : 30 Nov, 2018\n",
    "Given two integers n and k. Find position the n\\’th multiple of K in the Fibonacci series.\n",
    "Examples:\n",
    "\n",
    "Input : k = 2, n = 3\n",
    "Output : 9\n",
    "3\\'rd multiple of 2 in Fibonacci Series is 34 \n",
    "which appears at position 9.\n",
    "\n",
    "Input  : k = 4, n = 5 \n",
    "Output : 30\n",
    "5\\'th multiple of 5 in Fibonacci Series is 832040 \n",
    "which appears at position 30.\n",
    "An Efficient Solution is based on below interesting property.\n",
    "Fibonacci series is always periodic under modular representation. Below are examples.\n",
    "\n",
    "F (mod 2) = 1,1,0,1,1,0,1,1,0,1,1,0,1,1,0,\n",
    "            1,1,0,1,1,0,1,1,0,1,1,0,1,1,0 \n",
    "Here 0 is repeating at every 3rd index and \n",
    "the cycle repeats at every 3rd index. \n",
    "\n",
    "F (mod 3) = 1,1,2,0,2,2,1,0,1,1,2,0,2,2,1,0\n",
    "            ,1,1,2,0,2,2,1,0,1,1,2,0,2,2\n",
    "Here 0 is repeating at every 4th index and \n",
    "the cycle repeats at every 8th index.\n",
    "\n",
    "F (mod 4) = 1,1,2,3,1,0,1,1,2,3,1,0,1,1,2,3,\n",
    "           1,0,1,1,2,3,1,0,1,1,2,3,1,0 \n",
    "Here 0 is repeating at every 6th index and \n",
    "the cycle repeats at every 6th index.\n",
    "\n",
    "F (mod 5) = 1,1,2,3,0,3,3,1,4,0,4,4,3,2,0,\n",
    "            2,2,4,1,0,1,1,2,3,0,3,3,1,4,0\n",
    "Here 0 is repeating at every 5th index and\n",
    "the cycle repeats at every 20th index.\n",
    "\n",
    "F (mod 6) = 1,1,2,3,5,2,1,3,4,1,5,0,5,5,4,\n",
    "            3,1,4,5,3,2,5,1,0,1,1,2,3,5,2\n",
    "Here 0 is repeating at every 12th index and \n",
    "the cycle repeats at every 24th index.\n",
    "\n",
    "F (mod 7) = 1,1,2,3,5,1,6,0,6,6,5,4,2,6,1,\n",
    "            0,1,1,2,3,5,1,6,0,6,6,5,4,2,6 \n",
    "Here 0 is repeating at every 8th index and \n",
    "the cycle repeats at every 16th index.\n",
    "\n",
    "F (mod 8) = 1,1,2,3,5,0,5,5,2,7,1,0,1,1,2,\n",
    "            3,5,0,5,5,2,7,1,0,1,1,2,3,5,0 \n",
    "Here 0 is repeating at every 6th index and \n",
    "the cycle repeats at every 12th index.\n",
    "\n",
    "F (mod 9) = 1,1,2,3,5,8,4,3,7,1,8,0,8,8,7,\n",
    "            6,4,1,5,6,2,8,1,0,1,1,2,3,5,8 \n",
    "Here 0 is repeating at every 12th index and \n",
    "the cycle repeats at every 24th index.\n",
    "\n",
    "F (mod 10) = 1,1,2,3,5,8,3,1,4,5,9,4,3,7,0,\n",
    "             7,7,4,1,5,6,1,7,8,5,3,8,1,9,0.\n",
    "Here 0 is repeating at every 15th index and\n",
    "the cycle repeats at every 60th index."
   ]
  },
  {
   "cell_type": "code",
   "execution_count": null,
   "metadata": {},
   "outputs": [],
   "source": [
    "# Python Program to find position of n\\'th multiple \n",
    "# of a mumber k in Fibonacci Series \n",
    "  \n",
    "def findPosition(k, n): \n",
    "    f1 = 0\n",
    "    f2 = 1\n",
    "    i =2;  \n",
    "    while i!=0: \n",
    "        f3 = f1 + f2; \n",
    "        f1 = f2; \n",
    "        f2 = f3; \n",
    "  \n",
    "        if f2%k == 0: \n",
    "            return n*i \n",
    "  \n",
    "        i+=1\n",
    "          \n",
    "    return \n",
    "  \n",
    "  \n",
    "# Multiple no. \n",
    "n = 5; \n",
    "# Number of whose multiple we are finding \n",
    "k = 4; \n",
    "  \n",
    "print(\"Position of n\\'th multiple of k in\"\n",
    "                \"Fibonacci Seires is\", findPosition(k,n)); \n",
    "  \n",
    "# Code contributed by Mohit Gupta_OMG \n",
    "Output:\n",
    "\n",
    "Position of n'th multiple of k inFibonacci Seires is 30"
   ]
  },
  {
   "cell_type": "code",
   "execution_count": null,
   "metadata": {},
   "outputs": [],
   "source": []
  },
  {
   "cell_type": "code",
   "execution_count": null,
   "metadata": {},
   "outputs": [],
   "source": [
    "Program to print ASCII Value of a character\n",
    "Given a character, we need to print its ASCII value in C/C++/Java/Python\n",
    "#####################################################################################\n",
    "Here are few methods in different programming languages to print ASCII value of a given character :\n",
    "\n",
    "Python code using ord function :\n",
    "ord() : It coverts the given string of length one, return an integer representing the unicode code point of the \n",
    "character. For example, ord(‘a’) returns the integer 97."
   ]
  },
  {
   "cell_type": "code",
   "execution_count": null,
   "metadata": {},
   "outputs": [],
   "source": [
    "# Python program to print  \n",
    "# ASCII Value of Character \n",
    "  \n",
    "# In c we can assign different \n",
    "# characters of which we want ASCII value  \n",
    "  \n",
    "c = 'g'\n",
    "# print the ASCII value of assigned character in c \n",
    "print(\"The ASCII value of '\" + c + \"' is\", ord(c)) "
   ]
  },
  {
   "cell_type": "code",
   "execution_count": null,
   "metadata": {},
   "outputs": [],
   "source": []
  },
  {
   "cell_type": "code",
   "execution_count": null,
   "metadata": {},
   "outputs": [],
   "source": [
    "###Python Program for Sum of squares of first n natural numbers\n",
    "\n",
    "Method 1: O(N) The idea is to run a loop from 1 to n and for each i, 1 <= i <= n, find i2 to sum.\n",
    "\n",
    "filter_none\n",
    "edit\n",
    "play_arrow\n",
    "# Python3 Program to \n",
    "# find sum of square \n",
    "# of first n natural  \n",
    "# numbers \n",
    "  \n",
    "  \n",
    "# Return the sum of \n",
    "# square of first n \n",
    "# natural numbers \n",
    "def squaresum(n) : \n",
    "  \n",
    "    # Iterate i from 1  \n",
    "    # and n finding  \n",
    "    # square of i and \n",
    "    # add to sum. \n",
    "    sm = 0\n",
    "    for i in range(1, n+1) : \n",
    "        sm = sm + (i * i) \n",
    "      \n",
    "    return sm \n",
    "  \n",
    "# Driven Program \n",
    "n = 4\n",
    "print(squaresum(n)) \n",
    "  \n",
    "# This code is contributed by Nikita Tiwari.*/ "
   ]
  },
  {
   "cell_type": "code",
   "execution_count": null,
   "metadata": {},
   "outputs": [],
   "source": [
    "# Python3 Program to \n",
    "# find sum of square  \n",
    "# of first n natural  \n",
    "# numbers \n",
    "  \n",
    "# Return the sum of  \n",
    "# square of first n \n",
    "# natural numbers \n",
    "def squaresum(n) : \n",
    "    return (n * (n + 1) * (2 * n + 1)) // 6\n",
    "  \n",
    "# Driven Program \n",
    "n = 4\n",
    "print(squaresum(n)) \n",
    "  \n",
    "#This code is contributed by Nikita Tiwari.   "
   ]
  },
  {
   "cell_type": "code",
   "execution_count": null,
   "metadata": {},
   "outputs": [],
   "source": [
    "Avoiding early overflow:\n",
    "For large n, the value of (n * (n + 1) * (2 * n + 1)) would overflow. We can avoid overflow up to some extent using the fact that n*(n+1) must be divisible by 2.\n",
    "\n",
    "filter_none\n",
    "edit\n",
    "play_arrow\n",
    "\n",
    "brightness_4\n",
    "# Python Program to find sum of square of first \n",
    "# n natural numbers. This program avoids \n",
    "# overflow upto some extent for large value \n",
    "# of n.y \n",
    "  \n",
    "def squaresum(n): \n",
    "    return (n * (n + 1) / 2) * (2 * n + 1) / 3\n",
    "  \n",
    "# main() \n",
    "n = 4\n",
    "print(squaresum(n)); \n",
    "  \n",
    "# Code Contributed by Mohit Gupta_OMG <(0_o)> "
   ]
  }
 ],
 "metadata": {
  "kernelspec": {
   "display_name": "Python 3",
   "language": "python",
   "name": "python3"
  },
  "language_info": {
   "codemirror_mode": {
    "name": "ipython",
    "version": 3
   },
   "file_extension": ".py",
   "mimetype": "text/x-python",
   "name": "python",
   "nbconvert_exporter": "python",
   "pygments_lexer": "ipython3",
   "version": "3.7.6"
  }
 },
 "nbformat": 4,
 "nbformat_minor": 4
}
