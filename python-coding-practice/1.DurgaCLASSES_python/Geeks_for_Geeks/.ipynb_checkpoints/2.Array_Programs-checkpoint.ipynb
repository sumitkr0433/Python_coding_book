{
 "cells": [
  {
   "cell_type": "code",
   "execution_count": null,
   "metadata": {},
   "outputs": [],
   "source": [
    "1...Python Program to find sum of array\n",
    "Difficulty Level : Basic\n",
    " Last Updated : 22 Oct, 2020\n",
    "Given an array of integers, find the sum of its elements.\n",
    "\n",
    "Examples :\n",
    "\n",
    "Input : arr[] = {1, 2, 3}\n",
    "Output : 6\n",
    "1 + 2 + 3 = 6\n",
    "\n",
    "Input : arr[] = {15, 12, 13, 10}\n",
    "Output : 50"
   ]
  },
  {
   "cell_type": "code",
   "execution_count": null,
   "metadata": {},
   "outputs": [],
   "source": [
    "1..Coding:---\n",
    "#########################################################################################\n",
    "# Python 3 code to find sum  \n",
    "# of elements in given array  \n",
    "def _sum(arr):  \n",
    "      \n",
    "    # initialize a variable \n",
    "    # to store the sum \n",
    "    # while iterating through \n",
    "    # the array later \n",
    "    sum=0\n",
    "      \n",
    "    # iterate through the array \n",
    "    # and add each element to the sum variable \n",
    "    # one at a time \n",
    "    for i in arr: \n",
    "        sum = sum + i \n",
    "          \n",
    "    return(sum)  \n",
    "  \n",
    "# driver function  \n",
    "arr=[]  \n",
    "# input values to list  \n",
    "arr = [12, 3, 4, 15]  \n",
    "  \n",
    "# calculating length of array  \n",
    "n = len(arr)  \n",
    "  \n",
    "ans = _sum(arr)  \n",
    "  \n",
    "# display sum  \n",
    "print ('Sum of the array is ', ans)  \n",
    "  \n",
    "# This code is contributed by Himanshu Ranjan  "
   ]
  },
  {
   "cell_type": "code",
   "execution_count": null,
   "metadata": {},
   "outputs": [],
   "source": [
    "##Second Method to slove this\n",
    "# Python 3 code to find sum  \n",
    "# of elements in given array \n",
    "# driver function \n",
    "arr = [] \n",
    "  \n",
    "# input values to list \n",
    "arr = [12, 3, 4, 15] \n",
    "  \n",
    "# sum() is an inbuilt function in python that adds  \n",
    "# all the elements in list,set and tuples and returns \n",
    "# the value  \n",
    "ans = sum(arr) \n",
    "  \n",
    "# display sum \n",
    "print ('Sum of the array is ',ans) \n",
    "  \n",
    "# This code is contributed by Dhananjay Patil  "
   ]
  },
  {
   "cell_type": "code",
   "execution_count": null,
   "metadata": {},
   "outputs": [],
   "source": [
    "################################################################################################################"
   ]
  },
  {
   "cell_type": "code",
   "execution_count": null,
   "metadata": {},
   "outputs": [],
   "source": [
    "2nd Program \n",
    "###########################################################################################################\n",
    "Python Program to find largest element in an array\n",
    "Difficulty Level : Basic\n",
    " Last Updated : 04 Jan, 2018\n",
    "Given an array, find the largest element in it.\n",
    "\n",
    "Input : arr[] = {10, 20, 4}\n",
    "Output : 20\n",
    "\n",
    "Input : arr[] = {20, 10, 20, 4, 100}\n",
    "Output : 100\n",
    "################################################################################################################"
   ]
  },
  {
   "cell_type": "code",
   "execution_count": null,
   "metadata": {},
   "outputs": [],
   "source": [
    "# Python3 program to find maximum \n",
    "# in arr[] of size n  \n",
    "  \n",
    "# python function to find maximum \n",
    "# in arr[] of size n \n",
    "def largest(arr,n): \n",
    "  \n",
    "    # Initialize maximum element \n",
    "    max = arr[0] \n",
    "  \n",
    "    # Traverse array elements from second \n",
    "    # and compare every element with  \n",
    "    # current max \n",
    "    for i in range(1, n): \n",
    "        if arr[i] > max: \n",
    "            max = arr[i] \n",
    "    return max\n",
    "  \n",
    "# Driver Code \n",
    "arr = [10, 324, 45, 90, 9808] \n",
    "n = len(arr) \n",
    "Ans = largest(arr,n) \n",
    "print (\"Largest in given array is\",Ans) "
   ]
  }
 ],
 "metadata": {
  "kernelspec": {
   "display_name": "Python 3",
   "language": "python",
   "name": "python3"
  },
  "language_info": {
   "codemirror_mode": {
    "name": "ipython",
    "version": 3
   },
   "file_extension": ".py",
   "mimetype": "text/x-python",
   "name": "python",
   "nbconvert_exporter": "python",
   "pygments_lexer": "ipython3",
   "version": "3.7.6"
  }
 },
 "nbformat": 4,
 "nbformat_minor": 4
}
