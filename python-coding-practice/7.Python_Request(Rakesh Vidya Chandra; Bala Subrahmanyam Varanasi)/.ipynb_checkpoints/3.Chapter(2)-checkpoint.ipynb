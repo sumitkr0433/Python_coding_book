{
 "cells": [
  {
   "cell_type": "code",
   "execution_count": null,
   "metadata": {},
   "outputs": [],
   "source": [
    "2..Chapter\n",
    "+++++++++++++++++++++++++++++++++++++++++++++++++++++++++++++++++++++++++++++++++++++++++++++++++++++++++++++++\n",
    "Chapter 2. Digging Deep into Requests\n",
    "In this chapter, we are going to deal with advanced topics in the Requests module. There are many more features in\n",
    "the Requests module that makes the interaction with the web a cakewalk. Let us get to know more about different \n",
    "ways to use Requests module which helps us to understand the ease of using it.\n",
    "+++++++++++++++++++++++++++++++++++++++++++++++++++++++++++++++++++++++++++++++++++++++++++++++++++++++++++++++++\n"
   ]
  },
  {
   "cell_type": "code",
   "execution_count": null,
   "metadata": {},
   "outputs": [],
   "source": [
    "In a nutshell, we will cover the following topics:\n",
    "++++++++++++++++++++++++++++++++++++++++++++++++++++++++++++++++++++++++++++++++++++++++++++++++++++++++++++++++\n",
    "1..Persisting parameters across requests using Session objects\n",
    "2..Revealing the structure of request and response\n",
    "3..Using prepared requests\n",
    "4..Verifying SSL certificate with Requests\n",
    "5..Body Content Workflow\n",
    "6..Using generator for sending chunk encoded requests\n",
    "7..Getting the request method arguments with event hooks\n",
    "8..Iterating over streaming API\n",
    "9..Self-describing the APIs with link headers\n",
    "10..Transport Adapter"
   ]
  },
  {
   "cell_type": "code",
   "execution_count": null,
   "metadata": {},
   "outputs": [],
   "source": [
    "Persisting parameters across Requests using Session objects\n",
    "The Requests module contains a session object, which has the capability to persist settings across the requests. Using this session object, we can persist cookies, we can create prepared requests, we can use the keep-alive feature and do many more things. The Session object contains all the methods of Requests API such as GET, POST, PUT, DELETE and so on. Before using all the capabilities of the Session object, let us get to know how to use sessions and persist cookies across requests.\n",
    "+++++++++++++++++++++++++++++++++++++\n",
    "Let us use the session method to get the resource.\n",
    "\n",
    ">>> import requests\n",
    ">>> session = requests.Session()\n",
    ">>> response = requests.get(\"https://google.co.in\", cookies={\"new-cookie-identifier\": \"1234abcd\"})"
   ]
  },
  {
   "cell_type": "code",
   "execution_count": null,
   "metadata": {},
   "outputs": [],
   "source": [
    "In the preceding example, we created a session object with requests and its get method is used to access a web \n",
    "resource.\n",
    "+++++++++++++++++++++++++++++++++++++++++++++++++++++++++++++++++++++++++++++++++++++++++++++++++++++++++++++++++\n",
    "The cookie value which we had set in the previous example will be accessible using response.request.headers.\n",
    "+++++++++++++++++++++++++++++++++++++++++++++++++++++++++++++++++++++++++++++++++++++++++++++++++++++++++++++++++\n",
    ">>> response.request.headers\n",
    "CaseInsensitiveDict({'Cookie': 'new-cookie-identifier=1234abcd', 'Accept-Encoding': 'gzip, deflate, compress',\n",
    "                     'Accept': '*/*', 'User-Agent': 'python-requests/2.2.1 CPython/2.7.5+ Linux/3.13.0-43-generic'})\n",
    ">>> response.request.headers['Cookie']\n",
    "'new-cookie-identifier=1234abcd'\n",
    "+++++++++++++++++++++++++++++++++++++++++++++++++++++++++++++++++++++++++++++++++++++++++++++++++++++++++++++++++"
   ]
  },
  {
   "cell_type": "code",
   "execution_count": null,
   "metadata": {},
   "outputs": [],
   "source": [
    "With session object, we can specify some default values of the properties, which needs to be sent to the server \n",
    "using GET, POST, PUT and so on. We can achieve this by specifying the values to the properties like headers, auth \n",
    "and so on, on a Session object.\n",
    "+++++++++++++++++++++++++++++++++++++++++++++++++++++++++++++++++++++++++++++++++++++++++++++++++++++++++++++++++\n",
    "=================================================================================================================\n",
    ">>> session.params = {\"key1\": \"value\", \"key2\": \"value2\"}\n",
    ">>> session.auth = ('username', 'password')\n",
    ">>> session.headers.update({'foo': 'bar'})\n",
    "In the preceding example, we have set some default values to the properties—params, auth, and headers using the \n",
    "session object. We can override them in the subsequent request, as shown in the following example, if we want to:\n",
    "+++++++++++++++++++++++++++++++++++++++++++++++++++++++++++++++++++++++++++++++++++++++++++++++++++++++++++++++++\n",
    ">>> session.get('http://mysite.com/new/url', headers={'foo': 'new-bar'})"
   ]
  },
  {
   "cell_type": "code",
   "execution_count": null,
   "metadata": {},
   "outputs": [],
   "source": [
    "Revealing the structure of a request and response\n",
    "+++++++++++++++++++++++++++++++++++++++++++++++++++++++++++++++++++++++++++++++++++++++++++++++++++++++++++++++++\n",
    "A Requests object is the one which is created by the user when he/she tries to interact with a web resource. It \n",
    "will be sent as a prepared request to the server and does contain some parameters which are optional. Let us have \n",
    "an eagle eye view on the parameters:\n",
    "++++++++++++++++++++++++++++++++++++++++++++++++++++++++++++++++++++++++++++++++++++++++++++++++++++++++++++++++\n",
    "================================================================================================================\n"
   ]
  },
  {
   "cell_type": "code",
   "execution_count": null,
   "metadata": {},
   "outputs": [],
   "source": [
    "Method: This is the HTTP method to be used to interact with the web service. For example: GET, POST, PUT.\n",
    "URL: The web address to which the request needs to be sent.\n",
    "+++++++++++++++++++++++++++++++++++++++++++++++++++++++++++++++++++++++++++++++++++++++++++++++++++++++++++++++++\n",
    "headers: A dictionary of headers to be sent in the request.\n",
    "files: This can be used while dealing with the multipart upload. It's the dictionary of files, with key as file \n",
    "name and value as file object.\n",
    "+++++++++++++++++++++++++++++++++++++++++++++++++++++++++++++++++++++++++++++++++++++++++++++++++++++++++++++++++\n",
    "data: This is the body to be attached to the request.json. There are two cases that come in to the picture here:\n",
    "If json is provided, content-type in the header is changed to application/json and at this point, json acts as a \n",
    "body to the request.\n",
    "+++++++++++++++++++++++++++++++++++++++++++++++++++++++++++++++++++++++++++++++++++++++++++++++++++++++++++++++++\n",
    "In the second case, if both json and data are provided together, data is silently ignored.\n",
    "params: A dictionary of URL parameters to append to the URL.\n",
    "+++++++++++++++++++++++++++++++++++++++++++++++++++++++++++++++++++++++++++++++++++++++++++++++++++++++++++++++++\n"
   ]
  },
  {
   "cell_type": "code",
   "execution_count": null,
   "metadata": {},
   "outputs": [],
   "source": [
    "1...auth: This is used when we need to specify the authentication to the request. It's a tuple containing username \n",
    "and password.\n",
    "2...cookies: A dictionary or a cookie jar of cookies which can be added to the request.\n",
    "3...hooks: A dictionary of callback hooks.\n",
    "+++++++++++++++++++++++++++++++++++++++++++++++++++++++++++++++++++++++++++++++++++++++++++++++++++++++++++++++++\n",
    "=================================================================================================================\n",
    "A Response object contains the response of the server to a HTTP request. It is generated once Requests gets a \n",
    "response back from the server. It contains all of the information returned by the server and also stores the \n",
    "Request object we created originally.\n",
    "++++++++++++++++++++++++++++++++++++++++++++++++++++++++++++++++++++++++++++++++++++++++++++++++++++++++++++++++++\n"
   ]
  },
  {
   "cell_type": "code",
   "execution_count": null,
   "metadata": {},
   "outputs": [],
   "source": [
    "Whenever we make a call to a server using the requests, two major transactions are taking place in this context \n",
    "which are listed as follows:\n",
    "++++++++++++++++++++++++++++++++++++++++++++++++++++++++++++++++++++++++++++++++++++++++++++++++++++++++++++++++\n",
    "We are constructing a Request object which will be sent out to the server to request a resource\n",
    "A Response object is generated by the requests module Now, let us look at an example of getting a resource from \n",
    "Python's official site.\n",
    "++++++++++++++++++++++++++++++++++++++++++++++++++++++++++++++++++++++++++++++++++++++++++++++++++++++++++++++++\n",
    ">>> response = requests.get('https://python.org')\n",
    "In the preceding line of code, a requests object gets constructed and will be sent to 'https://python.org'. Thus \n",
    "obtained Requests object will be stored in the response.request variable. We can access the headers of the Request \n",
    "object which was sent off to the server in the following way:\n",
    "+++++++++++++++++++++++++++++++++++++++++++++++++++++++++++++++++++++++++++++++++++++++++++++++++\n",
    ">>> response.request.headers\n",
    "CaseInsensitiveDict({'Accept-Encoding': 'gzip, deflate, compress', 'Accept': '*/*', \n",
    "                     'User-Agent''User-Agent': 'python-requests/2.2.1 CPython/2.7.5+ Linux/3.13.0-43-generic'})"
   ]
  },
  {
   "cell_type": "code",
   "execution_count": null,
   "metadata": {},
   "outputs": [],
   "source": [
    "The headers returned by the server can be accessed with its 'headers' attribute as shown in the following example:\n",
    "++++++++++++++++++++++++++++++++++++++++++++++++++++++++++++++++++++++++++++++++++++++++++++++++++++++++++++++++++\n",
    ">>> response.headers\n",
    "CaseInsensitiveDict({'content-length': '45950', 'via': '1.1 varnish', 'x-cache': 'HIT', 'accept-ranges': 'bytes',\n",
    "                     'strict-transport-security': 'max-age=63072000; includeSubDomains', \n",
    "                     'vary': 'Cookie', 'server': 'nginx', 'age': '557','content-type': 'text/html; charset=utf-8', 'public-key-pins': 'max-age=600; includeSubDomains; ..)\n",
    "++++++++++++++++++++++++++++++++++++++++++++++++++++++++++++++++++++++++++++++++++++++++++++++++++++++++++++++++++\n",
    "The response object contains different attributes like _content, status_code, headers, url, history, encoding, \n",
    "reason, cookies, elapsed, request.\n",
    "++++++++++++++++++++++++++++++++++++++++++++++++++++++++++++++++++++++++++++++++++++++++++++++++++++++++++++++++++\n",
    ">>> response.status_code\n",
    "200\n",
    ">>> response.url\n",
    "u'https://www.python.org/'\n",
    ">>> response.elapsed\n",
    "datetime.timedelta(0, 1, 904954)\n",
    ">>> response.reason\n",
    "'OK'"
   ]
  },
  {
   "cell_type": "code",
   "execution_count": null,
   "metadata": {},
   "outputs": [],
   "source": [
    "================================================================================================================="
   ]
  },
  {
   "cell_type": "code",
   "execution_count": null,
   "metadata": {},
   "outputs": [],
   "source": [
    "Using prepared Requests\n",
    "++++++++++++++++++++++++++++++++++++++++++++++++++++++++++++++++++++++++++++++++++++++++++++++++++++++++++++++++++\n",
    "==================================================================================================================\n",
    "Every request we send to the server turns to be a PreparedRequest by default. The request attribute of the \n",
    "Response object which is received from an API call or a session call is actually the PreparedRequest that was used.\n",
    "There might be cases in which we ought to send a request which would incur an extra step of adding a different \n",
    "parameter. Parameters can be cookies, files, auth, timeout and so on. We can handle this extra step efficiently by \n",
    "using the combination of sessions and prepared requests. Let us look at an example:\n",
    "+++++++++++++++++++++++++++++++++++++++++++++++++++++++++++++++++++++++++++++++++++++++++++++++++++++++++++++++++\n",
    ">>> from requests import Request, Session\n",
    ">>> header = {}\n",
    ">>> request = Request('get', 'some_url', headers=header)\n",
    "We are trying to send a get request with a header in the previous example. Now, take an instance where we are \n",
    "planning to send the request with the same method, URL, and headers, but we want to add some more parameters \n",
    "to it. In this condition, we can use the session method to receive complete session level state to access the \n",
    "parameters of the initial sent request. This can be done by using the session object.\n",
    "+++++++++++++++++++++++++++++++++++++++++++++++++++++++++++++++++++++++++++++++++++++++++++++++++++++++++++++++++\n"
   ]
  },
  {
   "cell_type": "code",
   "execution_count": null,
   "metadata": {},
   "outputs": [],
   "source": [
    ">>> from requests import Request, Session\n",
    ">>> session = Session()\n",
    ">>> request1 = Request('GET', 'some_url', headers=header)\n",
    "Now, let us prepare a request using the session object to get the values of the session level state:\n",
    "++++++++++++++++++++++++++++++++++++++++++++++++++++++++++++++++++++++++++++++++++++++++++++++++++++++++++++++++\n",
    ">>> prepare = session.prepare_request(request1)\n",
    "We can send the request object request with more parameters now, as follows:\n",
    "+++++++++++++++++++++++++++++++++++++++++++++++++++++++++++++++++++++++++++++++++++++++++++++++++++++++++++++++++\n",
    ">>> response = session.send(prepare, stream=True, verify=True)\n",
    "200\n",
    "Voila! Huge time saving!\n",
    "++++++++++++++++++++++++++++++++++++++++++++++++++++++++++++++++++++++++++++++++++++++++++++++++++++++++++++++++\n",
    "The prepare method prepares the complete request with the supplied parameters. In the previous example, the \n",
    "prepare_request method was used. There are also some other methods like prepare_auth, prepare_body, \n",
    "prepare_cookies, prepare_headers, prepare_hooks, prepare_method, prepare_url which are used to create individual \n",
    "properties."
   ]
  },
  {
   "cell_type": "code",
   "execution_count": null,
   "metadata": {},
   "outputs": [],
   "source": [
    "Verifying an SSL certificate with Requests\n",
    "+++++++++++++++++++++++++++++++++++++++++++++++++++++++++++++++++++++++++++++++++++++++++++++++++++++++++++++++++\n",
    "Requests provides the facility to verify an SSL certificate for HTTPS requests. We can use the verify argument to \n",
    "check whether the host's SSL certificate is verified or not.\n",
    "+++++++++++++++++++++++++++++++++++++++++++++++++++++++++++++++++++++++++++++++++++++++++++++++++++++++++++++++++\n",
    "Let us consider a website which has got no SSL certificate. We shall send a GET request with the argument verify \n",
    "to it.\n",
    "+++++++++++++++++++++++++++++++++++++++++++++++++++++++++++++++++++++++++++++++++++++++++++++++++++++++++++++++++\n",
    "The syntax to send the request is as follows:\n",
    "+++++++++++++++++++++++++++++++++++++++++++++++++++++++++++++++++++++++++++++++++++++++++++++++++++++++++++++++++\n",
    "requests.get('no ssl certificate site', verify=True)\n",
    "As the website doesn't have an SSL certificate, it will result an error similar to the following:\n",
    "+++++++++++++++++++++++++++++++++++++++++++++++++++++++++++++++++++++++++++++++++++++++++++++++++++++++++++++++++\n",
    "requests.exceptions.ConnectionError: ('Connection aborted.', error(111, 'Connection refused'))\n",
    "Let us verify the SSL certificate for a website which is certified. Consider the following example:\n",
    "++++++++++++++++++++++++++++++++++++++++++++++++++++++++++++++++++++++++++++++++++++++++++++++++++++++++++++++++++\n",
    ">>> requests.get('https://python.org', verify=True)\n",
    "<Response [200]>\n",
    "++++++++++++++++++++++++++++++++++++++++++++++++++++++++++++++++++++++++++++++++++++++++++++++++++++++++++++++++\n",
    "In the preceding example, the result was 200, as the mentioned website is SSL certified one.\n",
    "If we do not want to verify the SSL certificate with a request, then we can put the argument verify=False. By \n",
    "default, the value of verify will turn to True."
   ]
  },
  {
   "cell_type": "code",
   "execution_count": null,
   "metadata": {},
   "outputs": [],
   "source": [
    "Body Content Workflow\n",
    "++++++++++++++++++++++++++++++++++++++++++++++++++++++++++++++++++++++++++++++++++++++++++++++++++++++++++++++++++\n",
    "Take an instance where a continuous stream of data is being downloaded when we make a request. In this situation, \n",
    "the client has to listen to the server continuously until it receives the complete data. Consider the case of \n",
    "accessing the content from the response first and the worry about the body next. In the above two situations, we \n",
    "can use the parameter stream. Let us look at an example:\n",
    "+++++++++++++++++++++++++++++++++++++++++++++++++++++++++++++++++++++++++++++++++++++++++++++++++++++++++++++++++\n",
    ">>> requests.get(\"https://pypi.python.org/packages/source/F/Flask/Flask-0.10.1.tar.gz\", stream=True)"
   ]
  },
  {
   "cell_type": "code",
   "execution_count": null,
   "metadata": {},
   "outputs": [],
   "source": [
    "If we make a request with the parameter stream=True, the connection remains open and only the headers of the \n",
    "response will be downloaded. This gives us the capability to fetch the content whenever we need by specifying the \n",
    "conditions like the number of bytes of data.\n",
    "++++++++++++++++++++++++++++++++++++++++++++++++++++++++++++++++++++++++++++++++++++++++++++++++++++++++++++++++++\n",
    "=================================================================================================================\n",
    "The syntax is as follows:\n",
    "if int(request.headers['content_length']) < TOO_LONG:\n",
    "content = r.content\n",
    "++++++++++++++++++++++++++++++++++++++++++++++++++++++++++++++++++++++++++++++++++++++++++++++++++++++++++++++++\n",
    "By setting the parameter stream=True and by accessing the response as a file-like object that is response.raw, if \n",
    "we use the method iter_content, we can iterate over response.data. This will avoid reading of larger responses at \n",
    "once.\n"
   ]
  },
  {
   "cell_type": "code",
   "execution_count": null,
   "metadata": {},
   "outputs": [],
   "source": [
    "+++++++++++++++++++++++++++++++++++++++++++++++++++++++++++++++++++++++++++++++++++++++++++++++++++++++++++++++++\n",
    "The syntax is as follows:\n",
    "+++++++++++++++++++++++++++++++++++++++++++++++++++++++++++++++++++++++++++++++++++++++++++++++++++++++++++++++++\n",
    "iter_content(chunk_size=size in bytes, decode_unicode=False)\n",
    "In the same way, we can iterate through the content using iter_lines method which will iterate over the response \n",
    "data one line at a time.\n",
    "+++++++++++++++++++++++++++++++++++++++++++++++++++++++++++++++++++++++++++++++++++++++++++++++++++++++++++++++++\n",
    "The syntax is as follows:\n",
    "++++++++++++++++++++++++++++++++++++++++++++++++++++++++++++++++++++++++++++++++++++++++++++++++++++++++++++++++\n",
    "iter_lines(chunk_size = size in bytes, decode_unicode=None, delimitter=None)\n",
    "++++++++++++++++++++++++++++++++++++++++++++++++++++++++++++++++++++++++++++++++++++++++++++++++++++++++++++++++\n",
    "NOTE\n",
    "++++++++++++++++++++++++++++++++++++++++++++++++++++++++++++++++++++++++++++++++++++++++++++++++++++++++++++++++\n",
    "The important thing that should be noted while using the stream parameter is it doesn't release the connection \n",
    "when it is set as True, unless all the data is consumed or response.close is executed."
   ]
  },
  {
   "cell_type": "code",
   "execution_count": null,
   "metadata": {},
   "outputs": [],
   "source": [
    "The Keep-alive facility\n",
    "++++++++++++++++++++++++++++++++++++++++++++++++++++++++++++++++++++++++++++++++++++++++++++++++++++++++++++++++++\n",
    "As the urllib3 supports the reuse of the same socket connection for multiple requests, we can send many requests \n",
    "with one socket and receive the responses using the keep-alive feature in the Requests library.\n",
    "+++++++++++++++++++++++++++++++++++++++++++++++++++++++++++++++++++++++++++++++++++++++++++++++++++++++++++++++++\n",
    "Within a session, it turns to be automatic. Every request made within a session automatically uses the appropriate\n",
    "connection by default. The connection that is being used will be released after all the data from the body is read.\n",
    "+++++++++++++++++++++++++++++++++++++++++++++++++++++++++++++++++++++++++++++++++++++++++++++++++++++++++++++++++\n",
    "Streaming uploads\n",
    "A file-like object which is of massive size can be streamed and uploaded using the Requests library. All we need \n",
    "to do is to supply the contents of the stream as a value to the data attribute in the request call as shown in the \n",
    "following lines.\n",
    "++++++++++++++++++++++++++++++++++++++++++++++++++++++++++++++++++++++++++++++++++++++++++++++++++++++++++++++++++\n",
    "The syntax is as follows:\n",
    "++++++++++++++++++++++++++++++++++++++++++++++++++++++++++++++++++++++++++++++++++++++++++++++++++++++++++++++++++\n",
    "with open('massive-body', 'rb') as file:\n",
    "    requests.post('http://example.com/some/stream/url',\n",
    "                  data=file)"
   ]
  },
  {
   "cell_type": "code",
   "execution_count": null,
   "metadata": {},
   "outputs": [],
   "source": [
    "Using generator for sending chunk encoded Requests\n",
    "+++++++++++++++++++++++++++++++++++++++++++++++++++++++++++++++++++++++++++++++++++++++++++++++++++++++++++++++++\n",
    "Chunked transfer encoding is a mechanism for transferring data in an HTTP request. With this mechanism, the data \n",
    "is sent in a series of chunks. Requests supports chunked transfer encoding, for both outgoing and incoming \n",
    "requests. In order to send a chunk encoded request, we need to supply a generator for your body.\n",
    "+++++++++++++++++++++++++++++++++++++++++++++++++++++++++++++++++++++++++++++++++++++++++++++++++++++++++++++++++\n",
    "The usage is shown in the following example:\n",
    "\n",
    ">>> def generator():\n",
    "...     yield \"Hello \"\n",
    "...     yield \"World!\"\n",
    "...\n",
    ">>> requests.post('http://example.com/some/chunked/url/path',\n",
    "                  data=generator())"
   ]
  },
  {
   "cell_type": "code",
   "execution_count": null,
   "metadata": {},
   "outputs": [],
   "source": [
    "Getting the request method arguments with event hooks\n",
    "+++++++++++++++++++++++++++++++++++++++++++++++++++++++++++++++++++++++++++++++++++++++++++++++++++++++++++++++++\n",
    "We can alter the portions of the request process signal event handling using hooks. For example, there is hook \n",
    "named response which contains the response generated from a request. It is a dictionary which can be passed as a\n",
    "parameter to the request. The syntax is as follows:\n",
    "++++++++++++++++++++++++++++++++++++++++++++++++++++++++++++++++++++++++++++++++++++++++++++++++++++++++++++++++++\n",
    "hooks = {hook_name: callback_function, … }\n",
    "+++++++++++++++++++++++++++++++++++++++++++++++++++++++++++++++++++++++++++++++++++++++++++++++++++++++++++++++++\n",
    "The callback_function parameter may or may not return a value. When it returns a value, it is assumed that it is \n",
    "to replace the data that was passed in. If the callback function doesn't return any value, there won't be any \n",
    "effect on the data.\n",
    "+++++++++++++++++++++++++++++++++++++++++++++++++++++++++++++++++++++++++++++++++++++++++++++++++++++++++++++++++\n",
    "Here is an example of a callback function:\n",
    "+++++++++++++++++++++++++++++++++++++++++++++++++++++++++++++++++++++++++++++++++++++++++++++++++++++++++++++++++\n",
    ">>> def print_attributes(request, *args, **kwargs):\n",
    "...     print(request.url)\n",
    "...     print(request .status_code)\n",
    "...     print(request .headers)\n",
    "+++++++++++++++++++++++++++++++++++++++++++++++++++++++++++++++++++++++++++++++++++++++++++++++++++++++++++++++++\n",
    "If there is an error in the execution of callback_function, you'll receive a warning message in the standard \n",
    "output.\n",
    "++++++++++++++++++++++++++++++++++++++++++++++++++++++++++++++++++++++++++++++++++++++++++++++++++++++++++++++++++\n",
    "Now let us print some of the attributes of the request, using the preceding callback_function:\n",
    "++++++++++++++++++++++++++++++++++++++++++++++++++++++++++++++++++++++++++++++++++++++++++++++++++++++++++++++++\n",
    ">>> requests.get('https://www.python.org/',hooks=dict(response=print_attributes))\n",
    "https://www.python.org/\n",
    "200\n",
    "CaseInsensitiveDict({'content-type': 'text/html; ...})\n",
    "<Response [200]>"
   ]
  },
  {
   "cell_type": "code",
   "execution_count": null,
   "metadata": {},
   "outputs": [],
   "source": [
    "Iterating over streaming APIs\n",
    "++++++++++++++++++++++++++++++++++++++++++++++++++++++++++++++++++++++++++++++++++++++++++++++++++++++++++++++++++\n",
    "Streaming API tends to keep the request open allowing us to collect the stream data in real time. While dealing \n",
    "with a continuous stream of data, to ensure that none of the messages being missed from it we can take the help of\n",
    "iter_lines() in Requests. The iter_lines() iterates over the response data line by line. This can be achieved by \n",
    "setting the parameter stream as True while sending the request.\n",
    "++++++++++++++++++++++++++++++++++++++++++++++++++++++++++++++++++++++++++++++++++++++++++++++++++++++++++++++++++\n",
    "NOTE\n",
    "It's better to keep in mind that it's not always safe to call the iter_lines() function as it may result in loss \n",
    "of received data.\n",
    "++++++++++++++++++++++++++++++++++++++++++++++++++++++++++++++++++++++++++++++++++++++++++++++++++++++++++++++++++\n",
    "Consider the following example taken from \n",
    "http://docs.python-requests.org/en/latest/user/advanced/#streaming-requests:\n",
    "+++++++++++++++++++++++++++++++++++++++++++++++++++++++++++++++++++++++++++++++++++++++++++++++++++++++++++++++++\n",
    ">>> import json\n",
    ">>> import requests\n",
    ">>> r = requests.get('http://httpbin.org/stream/4', stream=True)\n",
    ">>> for line in r.iter_lines():\n",
    "...     if line:\n",
    "...         print(json.loads(line) )\n",
    "+++++++++++++++++++++++++++++++++++++++++++++++++++++++++++++++++++++++++++++++++++++++++++++++++++++++++++++++++\n",
    "In the preceding example, the response contains a stream of data. With the help of iter_lines(), we tried to print\n",
    "the data by iterating through every line.\n",
    "+++++++++++++++++++++++++++++++++++++++++++++++++++++++++++++++++++++++++++++++++++++++++++++++++++++++++++++++++\n",
    "Encodings\n",
    "As specified in the HTTP protocol (RFC 7230), applications can request the server to return the HTTP responses in\n",
    "an encoded format. The process of encoding turns the response content into an understandable format which makes \n",
    "it easy to access it. When the HTTP header fails to return the type of encoding, Requests will try to assume the \n",
    "encoding with the help of chardet.\n",
    "+++++++++++++++++++++++++++++++++++++++++++++++++++++++++++++++++++++++++++++++++++++++++++++++++++++++++++++++++\n"
   ]
  },
  {
   "cell_type": "code",
   "execution_count": null,
   "metadata": {},
   "outputs": [],
   "source": [
    "If we access the response headers of a request, it does contain the keys of content-type. Let us look at a \n",
    "response header's content-type:\n",
    "+++++++++++++++++++++++++++++++++++++++++++++++++++++++++++++++++++++++++++++++++++++++++++++++++++++++++++++++++\n",
    ">>> re = requests.get('http://google.com')\n",
    ">>> re.headers['content-type']\n",
    " 'text/html; charset=ISO-8859-1'\n",
    "+++++++++++++++++++++++++++++++++++++++++++++++++++++++++++++++++++++++++++++++++++++++++++++++++++++++++++++++++\n",
    "In the preceding example the content type contains 'text/html; charset=ISO-8859-1'. This happens when the Requests \n",
    "finds the charset value to be None and the 'content-type' value to be 'Text'.\n",
    "+++++++++++++++++++++++++++++++++++++++++++++++++++++++++++++++++++++++++++++++++++++++++++++++++++++++++++++++++\n",
    "It follows the protocol RFC 7230 to change the value of charset to ISO-8859-1 in this type of a situation. In case \n",
    "we are dealing with different types of encodings like 'utf-8', we can explicitly specify the encoding by setting \n",
    "the property to Response.encoding.\n",
    "+++++++++++++++++++++++++++++++++++++++++++++++++++++++++++++++++++++++++++++++++++++++++++++++++++++++++++++++++\n",
    "=================================================================================================================\n",
    "HTTP verbs\n",
    "\n",
    "Requests support the usage of the full range of HTTP verbs which are defined in the following table. To most of \n",
    "the supported verbs, 'url' is the only argument that must be passed while using them.\n",
    "++++++++++++++++++++++++++++++++++++++++++++++++++++++++++++++++++++++++++++++++++++++++++++++++++++++++++++++\n"
   ]
  },
  {
   "cell_type": "code",
   "execution_count": null,
   "metadata": {},
   "outputs": [],
   "source": [
    "Method                                                  Description\n",
    "++++++++++++++++++++++++++++++++++++++++++++++++++++++++++++++++++++++++++++++++++++++++++++++++++++++++++++++++++\n",
    "==================================================================================================================\n",
    "GET                                GET method requests a representation of the specified resource. Apart from \n",
    "                                   retrieving the data, there will be no other effect of using this method.\n",
    "                                   Definition is given as requests.get(url, **kwargs)\n",
    "+++++++++++++++++++++++++++++++++++++++++++++++++++++++++++++++++++++++++++++++++++++++++++++++++++++++++++++++++\n",
    "POST                               The POST verb is used for the creation of new resources. The submitted data \n",
    "                                   will be handled by the server to a specified resource.Definition is given as \n",
    "                                   requests.post(url,data=None, json=None, **kwargs)\n",
    "+++++++++++++++++++++++++++++++++++++++++++++++++++++++++++++++++++++++++++++++++++++++++++++++++++++++++++++++++\n",
    "PUT                                This method uploads a representation of the specified URI. If the URI is not \n",
    "                                   pointing to any resource, the server can create a new object with the given \n",
    "                                   data or it will modify the existing resource.\n",
    "                                   Definition is given as requests.put(url, data=None, **kwargs)\n",
    "+++++++++++++++++++++++++++++++++++++++++++++++++++++++++++++++++++++++++++++++++++++++++++++++++++++++++++++++++\n",
    "DELETE                             This is pretty easy to understand. It is used to delete the specified resource.\n",
    "                                   Definition is given as requests.delete(url, **kwargs)\n",
    "+++++++++++++++++++++++++++++++++++++++++++++++++++++++++++++++++++++++++++++++++++++++++++++++++++++++++++++++++\n",
    "HEAD                               This verb is useful for retrieving meta-information written in response headers \n",
    "                                   without having to fetch the response body.\n",
    "                                   Definition is given as requests.head(url, **kwargs)\n",
    "+++++++++++++++++++++++++++++++++++++++++++++++++++++++++++++++++++++++++++++++++++++++++++++++++++++++++++++++++\n",
    "OPTIONS                            OPTIONS is a HTTP method which returns the HTTP methods that the server supports for a specified URL.\n",
    "                                   Definition is given as requests.options(url, **kwargs)\n",
    "++++++++++++++++++++++++++++++++++++++++++++++++++++++++++++++++++++++++++++++++++++++++++++++++++++++++++++++=\n",
    "PATCH                              This method is used to apply partial modifications to a resource.\n",
    "                                   Definition is given as requests.patch(url, data=None, **kwargs)"
   ]
  },
  {
   "cell_type": "code",
   "execution_count": null,
   "metadata": {},
   "outputs": [],
   "source": []
  },
  {
   "cell_type": "code",
   "execution_count": null,
   "metadata": {},
   "outputs": [],
   "source": [
    "Self-describing the APIs with link headers\n",
    "Take a case of accessing a resource in which the information is accommodated in different pages. If we need to approach the next page of the resource, we can make use of the link headers. The link headers contain the meta data of the requested resource, that is the next page information in our case.\n",
    "\n",
    ">>> url = \"https://api.github.com/search/code?q=addClass+user:mozilla&page=1&per_page=4\"\n",
    ">>> response = requests.head(url=url)\n",
    ">>> response.headers['link']\n",
    "'<https://api.github.com/search/code?q=addClass+user%3Amozilla&page=2&per_page=4>; rel=\"next\", <https://api.githu"
   ]
  },
  {
   "cell_type": "code",
   "execution_count": null,
   "metadata": {},
   "outputs": [],
   "source": [
    "In the preceding example, we have specified in the URL that we want to access page number one and it should \n",
    "contain four records. The Requests automatically parses the link headers and updates the information about the \n",
    "next page. When we try to access the link header, it showed the output with the values of the page and the number \n",
    "of records per page."
   ]
  },
  {
   "cell_type": "code",
   "execution_count": null,
   "metadata": {},
   "outputs": [],
   "source": [
    "Transport Adapter\n",
    "It is used to provide an interface for Requests sessions to connect with HTTP and HTTPS. This will help us to mimic the web service to fit our needs. With the help of Transport Adapters, we can configure the request according to the HTTP service we opt to use. Requests contains a Transport Adapter called HTTPAdapter included in it.\n",
    "\n",
    "Consider the following example:\n",
    "\n",
    ">>> session = requests.Session()\n",
    ">>> adapter = requests.adapters.HTTPAdapter(max_retries=6)\n",
    ">>> session.mount(\"http://google.co.in\", adapter)\n",
    "In this example, we created a request session in which every request we make retries only six times, when the connection fails."
   ]
  },
  {
   "cell_type": "code",
   "execution_count": null,
   "metadata": {},
   "outputs": [],
   "source": [
    "Summary\n",
    "In this chapter, we learnt about creating sessions and using the session with different criteria. We also looked \n",
    "deeply into HTTP verbs and using proxies. We learnt about streaming requests, dealing with SSL certificate \n",
    "verifications and streaming responses. We also got to know how to use prepared requests, link headers and chunk \n",
    "encoded requests.\n",
    "+++++++++++++++++++++++++++++++++++++++++++++++++++++++++++++++++++++++++++++++++++++++++++++++++++++++++++++++\n",
    "In the next chapter, we will learn about various types of authentication and ways to use them with Requests."
   ]
  },
  {
   "cell_type": "code",
   "execution_count": null,
   "metadata": {},
   "outputs": [],
   "source": []
  }
 ],
 "metadata": {
  "kernelspec": {
   "display_name": "Python 3",
   "language": "python",
   "name": "python3"
  },
  "language_info": {
   "codemirror_mode": {
    "name": "ipython",
    "version": 3
   },
   "file_extension": ".py",
   "mimetype": "text/x-python",
   "name": "python",
   "nbconvert_exporter": "python",
   "pygments_lexer": "ipython3",
   "version": "3.7.6"
  }
 },
 "nbformat": 4,
 "nbformat_minor": 4
}
